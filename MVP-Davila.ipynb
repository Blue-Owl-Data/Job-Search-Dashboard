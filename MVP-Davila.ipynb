{
 "cells": [
  {
   "cell_type": "code",
   "execution_count": 32,
   "metadata": {},
   "outputs": [],
   "source": [
    "import pandas as pd\n",
    "import numpy as np\n",
    "\n",
    "import warnings\n",
    "warnings.filterwarnings(\"ignore\")\n",
    "\n",
    "import matplotlib.pyplot as plt\n",
    "import geopandas as gpd\n",
    "import descartes\n",
    "import seaborn as sns\n",
    "from shapely.geometry import Point, Polygon"
   ]
  },
  {
   "cell_type": "code",
   "execution_count": 26,
   "metadata": {},
   "outputs": [
    {
     "data": {
      "text/html": [
       "<div>\n",
       "<style scoped>\n",
       "    .dataframe tbody tr th:only-of-type {\n",
       "        vertical-align: middle;\n",
       "    }\n",
       "\n",
       "    .dataframe tbody tr th {\n",
       "        vertical-align: top;\n",
       "    }\n",
       "\n",
       "    .dataframe thead th {\n",
       "        text-align: right;\n",
       "    }\n",
       "</style>\n",
       "<table border=\"1\" class=\"dataframe\">\n",
       "  <thead>\n",
       "    <tr style=\"text-align: right;\">\n",
       "      <th></th>\n",
       "      <th>date</th>\n",
       "      <th>title</th>\n",
       "      <th>company</th>\n",
       "      <th>company_rating</th>\n",
       "      <th>job_link</th>\n",
       "      <th>job_description</th>\n",
       "      <th>city</th>\n",
       "      <th>state</th>\n",
       "      <th>zipcode</th>\n",
       "      <th>clean</th>\n",
       "      <th>tokenized</th>\n",
       "      <th>stemmed</th>\n",
       "      <th>lemmatized</th>\n",
       "    </tr>\n",
       "  </thead>\n",
       "  <tbody>\n",
       "    <tr>\n",
       "      <th>0</th>\n",
       "      <td>2021-02-03</td>\n",
       "      <td>Data Scientist Sr. Associate\\nnew</td>\n",
       "      <td>JPMorgan Chase Bank, N.A.</td>\n",
       "      <td>3.9</td>\n",
       "      <td>https://www.indeed.com/rc/clk?jk=dfd1ed6ece073...</td>\n",
       "      <td>The Data Scientist is an individual contributo...</td>\n",
       "      <td>Lewisville</td>\n",
       "      <td>TX</td>\n",
       "      <td>0</td>\n",
       "      <td>data scientist individual contributor able app...</td>\n",
       "      <td>the data scientist is an individual contributo...</td>\n",
       "      <td>the data scientist is an individu contributor ...</td>\n",
       "      <td>the data scientist is an individual contributo...</td>\n",
       "    </tr>\n",
       "    <tr>\n",
       "      <th>1</th>\n",
       "      <td>2021-02-03</td>\n",
       "      <td>Data Scientist\\nnew</td>\n",
       "      <td>Booz Allen Hamilton</td>\n",
       "      <td>3.9</td>\n",
       "      <td>https://www.indeed.com/rc/clk?jk=246ba9f708c3e...</td>\n",
       "      <td>The Challenge:\\nAre you excited at the prospec...</td>\n",
       "      <td>San Antonio</td>\n",
       "      <td>TX</td>\n",
       "      <td>0</td>\n",
       "      <td>challenge excited prospect unlocking secret he...</td>\n",
       "      <td>the challenge\\nare you excited at the prospect...</td>\n",
       "      <td>the challeng are you excit at the prospect of ...</td>\n",
       "      <td>the challenge are you excited at the prospect ...</td>\n",
       "    </tr>\n",
       "    <tr>\n",
       "      <th>2</th>\n",
       "      <td>2021-02-03</td>\n",
       "      <td>Human Performance Data Analyst Mid/Sr\\nnew</td>\n",
       "      <td>Booz Allen Hamilton</td>\n",
       "      <td>3.9</td>\n",
       "      <td>https://www.indeed.com/rc/clk?jk=2538d333374b7...</td>\n",
       "      <td>Key Role:\\nServe as a Human Performance Data A...</td>\n",
       "      <td>San Antonio</td>\n",
       "      <td>TX</td>\n",
       "      <td>0</td>\n",
       "      <td>key role serve human performance data analyst ...</td>\n",
       "      <td>key role\\nserve as a human performance data an...</td>\n",
       "      <td>key role serv as a human perform data analyst ...</td>\n",
       "      <td>key role serve a a human performance data anal...</td>\n",
       "    </tr>\n",
       "    <tr>\n",
       "      <th>3</th>\n",
       "      <td>2021-02-03</td>\n",
       "      <td>Professional-Data Scientist\\nnew</td>\n",
       "      <td>AT&amp;T</td>\n",
       "      <td>3.7</td>\n",
       "      <td>https://www.indeed.com/rc/clk?jk=c4841a42f1129...</td>\n",
       "      <td>Overall Purpose: THIS JOB REQUIRES SPECIAL APP...</td>\n",
       "      <td>Plano</td>\n",
       "      <td>TX</td>\n",
       "      <td>0</td>\n",
       "      <td>overall purpose job requires special approval ...</td>\n",
       "      <td>overall purpose this job requires special appr...</td>\n",
       "      <td>overal purpos thi job requir special approv fr...</td>\n",
       "      <td>overall purpose this job requires special appr...</td>\n",
       "    </tr>\n",
       "    <tr>\n",
       "      <th>4</th>\n",
       "      <td>2021-02-03</td>\n",
       "      <td>Sr. Data Scientist (Remote)\\nnew</td>\n",
       "      <td>Ayasdi</td>\n",
       "      <td>2.3</td>\n",
       "      <td>https://www.indeed.com/rc/clk?jk=57ec78190a3c2...</td>\n",
       "      <td>Ayasdi is breaking new ground in enterprise AI...</td>\n",
       "      <td>Austin</td>\n",
       "      <td>TX</td>\n",
       "      <td>78708</td>\n",
       "      <td>ayasdi breaking new ground enterprise ai looki...</td>\n",
       "      <td>ayasdi is breaking new ground in enterprise ai...</td>\n",
       "      <td>ayasdi is break new ground in enterpris ai and...</td>\n",
       "      <td>ayasdi is breaking new ground in enterprise ai...</td>\n",
       "    </tr>\n",
       "  </tbody>\n",
       "</table>\n",
       "</div>"
      ],
      "text/plain": [
       "        date                                       title  \\\n",
       "0 2021-02-03           Data Scientist Sr. Associate\\nnew   \n",
       "1 2021-02-03                         Data Scientist\\nnew   \n",
       "2 2021-02-03  Human Performance Data Analyst Mid/Sr\\nnew   \n",
       "3 2021-02-03            Professional-Data Scientist\\nnew   \n",
       "4 2021-02-03            Sr. Data Scientist (Remote)\\nnew   \n",
       "\n",
       "                     company  company_rating  \\\n",
       "0  JPMorgan Chase Bank, N.A.             3.9   \n",
       "1        Booz Allen Hamilton             3.9   \n",
       "2        Booz Allen Hamilton             3.9   \n",
       "3                       AT&T             3.7   \n",
       "4                     Ayasdi             2.3   \n",
       "\n",
       "                                            job_link  \\\n",
       "0  https://www.indeed.com/rc/clk?jk=dfd1ed6ece073...   \n",
       "1  https://www.indeed.com/rc/clk?jk=246ba9f708c3e...   \n",
       "2  https://www.indeed.com/rc/clk?jk=2538d333374b7...   \n",
       "3  https://www.indeed.com/rc/clk?jk=c4841a42f1129...   \n",
       "4  https://www.indeed.com/rc/clk?jk=57ec78190a3c2...   \n",
       "\n",
       "                                     job_description         city state  \\\n",
       "0  The Data Scientist is an individual contributo...   Lewisville    TX   \n",
       "1  The Challenge:\\nAre you excited at the prospec...  San Antonio    TX   \n",
       "2  Key Role:\\nServe as a Human Performance Data A...  San Antonio    TX   \n",
       "3  Overall Purpose: THIS JOB REQUIRES SPECIAL APP...        Plano    TX   \n",
       "4  Ayasdi is breaking new ground in enterprise AI...       Austin    TX   \n",
       "\n",
       "   zipcode                                              clean  \\\n",
       "0        0  data scientist individual contributor able app...   \n",
       "1        0  challenge excited prospect unlocking secret he...   \n",
       "2        0  key role serve human performance data analyst ...   \n",
       "3        0  overall purpose job requires special approval ...   \n",
       "4    78708  ayasdi breaking new ground enterprise ai looki...   \n",
       "\n",
       "                                           tokenized  \\\n",
       "0  the data scientist is an individual contributo...   \n",
       "1  the challenge\\nare you excited at the prospect...   \n",
       "2  key role\\nserve as a human performance data an...   \n",
       "3  overall purpose this job requires special appr...   \n",
       "4  ayasdi is breaking new ground in enterprise ai...   \n",
       "\n",
       "                                             stemmed  \\\n",
       "0  the data scientist is an individu contributor ...   \n",
       "1  the challeng are you excit at the prospect of ...   \n",
       "2  key role serv as a human perform data analyst ...   \n",
       "3  overal purpos thi job requir special approv fr...   \n",
       "4  ayasdi is break new ground in enterpris ai and...   \n",
       "\n",
       "                                          lemmatized  \n",
       "0  the data scientist is an individual contributo...  \n",
       "1  the challenge are you excited at the prospect ...  \n",
       "2  key role serve a a human performance data anal...  \n",
       "3  overall purpose this job requires special appr...  \n",
       "4  ayasdi is breaking new ground in enterprise ai...  "
      ]
     },
     "execution_count": 26,
     "metadata": {},
     "output_type": "execute_result"
    }
   ],
   "source": [
    "df = pd.read_json(\"df_ds_tx_prepared.json\")\n",
    "\n",
    "df.head()"
   ]
  },
  {
   "cell_type": "code",
   "execution_count": 27,
   "metadata": {},
   "outputs": [
    {
     "data": {
      "text/plain": [
       "Cognizant Technology Solutions    50\n",
       "Dell Technologies                 32\n",
       "Deloitte                          30\n",
       "USAA                              25\n",
       "Facebook                          20\n",
       "StataCorp                         17\n",
       "Apple                             17\n",
       "JPMorgan Chase Bank, N.A.         17\n",
       "KPMG                              16\n",
       "Indeed                            16\n",
       "Pearson                           15\n",
       "Whole Foods Market                14\n",
       "Wells Fargo                       14\n",
       "Advanced Micro Devices, Inc.      12\n",
       "Oportun Inc                       11\n",
       "Verizon                           11\n",
       "Herzog Technologies, Inc.         11\n",
       "O'Neil Digital Solutions          10\n",
       "Sam's Club                        10\n",
       "Alcon                             10\n",
       "Name: company, dtype: int64"
      ]
     },
     "execution_count": 27,
     "metadata": {},
     "output_type": "execute_result"
    }
   ],
   "source": [
    "df.company.value_counts().head(20)"
   ]
  },
  {
   "cell_type": "code",
   "execution_count": 28,
   "metadata": {},
   "outputs": [
    {
     "data": {
      "text/plain": [
       "Austin             369\n",
       "Dallas             202\n",
       "Houston            161\n",
       "San Antonio        102\n",
       "Plano               96\n",
       "0                   66\n",
       "Irving              62\n",
       "Fort Worth          31\n",
       "Round Rock          28\n",
       "Frisco              18\n",
       "Richardson          17\n",
       "College Station     17\n",
       "Addison             12\n",
       "Abilene              9\n",
       "Farmers Branch       9\n",
       "Spring               8\n",
       "Sugar Land           7\n",
       "Manor                6\n",
       "Denton               6\n",
       "The Woodlands        5\n",
       "Name: city, dtype: int64"
      ]
     },
     "execution_count": 28,
     "metadata": {},
     "output_type": "execute_result"
    }
   ],
   "source": [
    "df.city.value_counts().head(20)"
   ]
  },
  {
   "cell_type": "markdown",
   "metadata": {},
   "source": [
    "### Creating a geo map for top 3 most prevalent job cities"
   ]
  },
  {
   "cell_type": "code",
   "execution_count": 29,
   "metadata": {},
   "outputs": [],
   "source": [
    "# filtering df\n",
    "top3 = df[(df.city == 'Austin') | (df.city == 'Dallas') | (df.city == 'Houston')]"
   ]
  },
  {
   "cell_type": "code",
   "execution_count": 30,
   "metadata": {},
   "outputs": [],
   "source": [
    "top3['lat'] = np.where((top3['city'] == 'Austin'), 30.267153, None)\n",
    "top3['lon'] = np.where((top3['city'] == 'Austin'), -97.743057, None)\n",
    "\n",
    "top3['lat'] = np.where((top3['city'] == 'Dallas'), 32.776665, top3.lat)\n",
    "top3['lon'] = np.where((top3['city'] == 'Dallas'), -96.796989, top3.lon)\n",
    "\n",
    "top3['lat'] = np.where((top3['city'] == 'Houston'), 29.760427, top3.lat)\n",
    "top3['lon'] = np.where((top3['city'] == 'Houston'), -95.369804, top3.lon)"
   ]
  },
  {
   "cell_type": "code",
   "execution_count": 31,
   "metadata": {},
   "outputs": [
    {
     "data": {
      "text/html": [
       "<div>\n",
       "<style scoped>\n",
       "    .dataframe tbody tr th:only-of-type {\n",
       "        vertical-align: middle;\n",
       "    }\n",
       "\n",
       "    .dataframe tbody tr th {\n",
       "        vertical-align: top;\n",
       "    }\n",
       "\n",
       "    .dataframe thead th {\n",
       "        text-align: right;\n",
       "    }\n",
       "</style>\n",
       "<table border=\"1\" class=\"dataframe\">\n",
       "  <thead>\n",
       "    <tr style=\"text-align: right;\">\n",
       "      <th></th>\n",
       "      <th>date</th>\n",
       "      <th>title</th>\n",
       "      <th>company</th>\n",
       "      <th>company_rating</th>\n",
       "      <th>job_link</th>\n",
       "      <th>job_description</th>\n",
       "      <th>city</th>\n",
       "      <th>state</th>\n",
       "      <th>zipcode</th>\n",
       "      <th>clean</th>\n",
       "      <th>tokenized</th>\n",
       "      <th>stemmed</th>\n",
       "      <th>lemmatized</th>\n",
       "      <th>lat</th>\n",
       "      <th>lon</th>\n",
       "    </tr>\n",
       "  </thead>\n",
       "  <tbody>\n",
       "    <tr>\n",
       "      <th>4</th>\n",
       "      <td>2021-02-03</td>\n",
       "      <td>Sr. Data Scientist (Remote)\\nnew</td>\n",
       "      <td>Ayasdi</td>\n",
       "      <td>2.3</td>\n",
       "      <td>https://www.indeed.com/rc/clk?jk=57ec78190a3c2...</td>\n",
       "      <td>Ayasdi is breaking new ground in enterprise AI...</td>\n",
       "      <td>Austin</td>\n",
       "      <td>TX</td>\n",
       "      <td>78708</td>\n",
       "      <td>ayasdi breaking new ground enterprise ai looki...</td>\n",
       "      <td>ayasdi is breaking new ground in enterprise ai...</td>\n",
       "      <td>ayasdi is break new ground in enterpris ai and...</td>\n",
       "      <td>ayasdi is breaking new ground in enterprise ai...</td>\n",
       "      <td>30.2672</td>\n",
       "      <td>-97.7431</td>\n",
       "    </tr>\n",
       "    <tr>\n",
       "      <th>5</th>\n",
       "      <td>2021-02-03</td>\n",
       "      <td>Senior ML Engineer (NLP)\\nnew</td>\n",
       "      <td>SIS</td>\n",
       "      <td>3.5</td>\n",
       "      <td>https://www.indeed.com/rc/clk?jk=8e6753c332433...</td>\n",
       "      <td>Type: W2 Inc Description:\\nSenior NLP / ML Eng...</td>\n",
       "      <td>Austin</td>\n",
       "      <td>TX</td>\n",
       "      <td>0</td>\n",
       "      <td>type w2 inc description senior nlp ml engineer...</td>\n",
       "      <td>type w2 inc description\\nsenior nlp ml enginee...</td>\n",
       "      <td>type w2 inc descript senior nlp ml engin clien...</td>\n",
       "      <td>type w2 inc description senior nlp ml engineer...</td>\n",
       "      <td>30.2672</td>\n",
       "      <td>-97.7431</td>\n",
       "    </tr>\n",
       "  </tbody>\n",
       "</table>\n",
       "</div>"
      ],
      "text/plain": [
       "        date                             title company  company_rating  \\\n",
       "4 2021-02-03  Sr. Data Scientist (Remote)\\nnew  Ayasdi             2.3   \n",
       "5 2021-02-03     Senior ML Engineer (NLP)\\nnew     SIS             3.5   \n",
       "\n",
       "                                            job_link  \\\n",
       "4  https://www.indeed.com/rc/clk?jk=57ec78190a3c2...   \n",
       "5  https://www.indeed.com/rc/clk?jk=8e6753c332433...   \n",
       "\n",
       "                                     job_description    city state  zipcode  \\\n",
       "4  Ayasdi is breaking new ground in enterprise AI...  Austin    TX    78708   \n",
       "5  Type: W2 Inc Description:\\nSenior NLP / ML Eng...  Austin    TX        0   \n",
       "\n",
       "                                               clean  \\\n",
       "4  ayasdi breaking new ground enterprise ai looki...   \n",
       "5  type w2 inc description senior nlp ml engineer...   \n",
       "\n",
       "                                           tokenized  \\\n",
       "4  ayasdi is breaking new ground in enterprise ai...   \n",
       "5  type w2 inc description\\nsenior nlp ml enginee...   \n",
       "\n",
       "                                             stemmed  \\\n",
       "4  ayasdi is break new ground in enterpris ai and...   \n",
       "5  type w2 inc descript senior nlp ml engin clien...   \n",
       "\n",
       "                                          lemmatized      lat      lon  \n",
       "4  ayasdi is breaking new ground in enterprise ai...  30.2672 -97.7431  \n",
       "5  type w2 inc description senior nlp ml engineer...  30.2672 -97.7431  "
      ]
     },
     "execution_count": 31,
     "metadata": {},
     "output_type": "execute_result"
    }
   ],
   "source": [
    "top3.head(2)"
   ]
  },
  {
   "cell_type": "code",
   "execution_count": 35,
   "metadata": {},
   "outputs": [],
   "source": [
    "states = gpd.read_file('cb_2014_us_state_500k.shp')"
   ]
  },
  {
   "cell_type": "code",
   "execution_count": 38,
   "metadata": {},
   "outputs": [
    {
     "data": {
      "text/plain": [
       "<matplotlib.axes._subplots.AxesSubplot at 0x7fac9f18af10>"
      ]
     },
     "execution_count": 38,
     "metadata": {},
     "output_type": "execute_result"
    },
    {
     "data": {
      "image/png": "[encoded data removed]",
      "text/plain": [
       "<Figure size 432x288 with 1 Axes>"
      ]
     },
     "metadata": {
      "needs_background": "light"
     },
     "output_type": "display_data"
    }
   ],
   "source": [
    "states.plot()"
   ]
  },
  {
   "cell_type": "code",
   "execution_count": 41,
   "metadata": {},
   "outputs": [
    {
     "data": {
      "text/plain": [
       "<matplotlib.axes._subplots.AxesSubplot at 0x7fac9fc4c150>"
      ]
     },
     "execution_count": 41,
     "metadata": {},
     "output_type": "execute_result"
    },
    {
     "data": {
      "image/png": "[encoded data removed]",
      "text/plain": [
       "<Figure size 864x864 with 1 Axes>"
      ]
     },
     "metadata": {
      "needs_background": "light"
     },
     "output_type": "display_data"
    }
   ],
   "source": [
    "texas = states[states['NAME'] == 'Texas'].boundary.plot(figsize=(12, 12))\n",
    "\n",
    "texas"
   ]
  },
  {
   "cell_type": "code",
   "execution_count": null,
   "metadata": {},
   "outputs": [],
   "source": [
    "texas"
   ]
  }
 ],
 "metadata": {
  "kernelspec": {
   "display_name": "Python 3",
   "language": "python",
   "name": "python3"
  },
  "language_info": {
   "codemirror_mode": {
    "name": "ipython",
    "version": 3
   },
   "file_extension": ".py",
   "mimetype": "text/x-python",
   "name": "python",
   "nbconvert_exporter": "python",
   "pygments_lexer": "ipython3",
   "version": "3.7.6"
  }
 },
 "nbformat": 4,
 "nbformat_minor": 4
}
