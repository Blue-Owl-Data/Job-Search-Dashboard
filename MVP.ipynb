{
 "cells": [
  {
   "cell_type": "markdown",
   "metadata": {},
   "source": [
    "# MVP"
   ]
  },
  {
   "cell_type": "code",
   "execution_count": 1,
   "metadata": {},
   "outputs": [],
   "source": [
    "# General Libraries\n",
    "import numpy as np\n",
    "import pandas as pd\n",
    "import matplotlib.pyplot as plt\n",
    "import seaborn as sns\n",
    "\n",
    "# AWS Libraries\n",
    "import logging\n",
    "import boto3\n",
    "from botocore.exceptions import ClientError\n",
    "\n",
    "# NLP Libraries\n",
    "import unicodedata\n",
    "import nltk\n",
    "from nltk.tokenize.toktok import ToktokTokenizer\n",
    "from nltk.corpus import stopwords\n",
    "from wordcloud import WordCloud\n",
    "\n",
    "# Geo-mapping Libraries\n",
    "import geopandas\n",
    "import geopy\n",
    "import folium \n",
    "\n",
    "# Helper Functions\n",
    "import MVP_acquire_ds, MVP_explore\n",
    "\n",
    "import warnings\n",
    "warnings.filterwarnings(\"ignore\")"
   ]
  },
  {
   "cell_type": "markdown",
   "metadata": {},
   "source": [
    "## Data Acquisition"
   ]
  },
  {
   "cell_type": "markdown",
   "metadata": {},
   "source": [
    "### Download the JSON Files from AWS S3 Bucket"
   ]
  },
  {
   "cell_type": "code",
   "execution_count": 2,
   "metadata": {},
   "outputs": [],
   "source": [
    "# Create the s3 resource object\n",
    "s3 = boto3.resource('s3')\n",
    "\n",
    "# Download the json files from AWS\n",
    "\n",
    "s3.Bucket(\"dspreparedjobpostings\").download_file(\"df_ds_tx_prepared_backup.json\", \n",
    "                                                 \"df_ds_tx_prepared_backup.json\")\n",
    "s3.Bucket(\"wdpreparedjobpostings\").download_file(\"df_wd_tx_prepared_backup.json\", \n",
    "                                                 \"df_wd_tx_prepared_backup.json\")"
   ]
  },
  {
   "cell_type": "markdown",
   "metadata": {},
   "source": [
    "## Data Preparation"
   ]
  },
  {
   "cell_type": "markdown",
   "metadata": {},
   "source": [
    "### Load JSON Files into Dataframe and Set the Date as the Index"
   ]
  },
  {
   "cell_type": "code",
   "execution_count": 3,
   "metadata": {},
   "outputs": [
    {
     "name": "stdout",
     "output_type": "stream",
     "text": [
      "Number of data scientist job postings in TX:  1785\n",
      "Number of web developer job postings in TX:  3190\n"
     ]
    }
   ],
   "source": [
    "# Read the json file and convert it to pandas dataframe\n",
    "\n",
    "df_ds = pd.read_json('df_ds_tx_prepared_backup.json')\n",
    "df_wd = pd.read_json('df_wd_tx_prepared_backup.json')\n",
    "\n",
    "# Set the date column as the index and sort the index\n",
    "\n",
    "df_ds.date = pd.to_datetime(df_ds.date)\n",
    "df_ds = df_ds.set_index('date').sort_index(ascending=False)\n",
    "df_wd.date = pd.to_datetime(df_wd.date)\n",
    "df_wd = df_wd.set_index('date').sort_index(ascending=False)\n",
    "\n",
    "# Print the number of job postings in each dataframe\n",
    "\n",
    "print(\"Number of data scientist job postings in TX: \", df_ds.shape[0])\n",
    "print(\"Number of web developer job postings in TX: \", df_wd.shape[0])"
   ]
  },
  {
   "cell_type": "code",
   "execution_count": 4,
   "metadata": {},
   "outputs": [
    {
     "name": "stdout",
     "output_type": "stream",
     "text": [
      "<class 'pandas.core.frame.DataFrame'>\n",
      "DatetimeIndex: 1785 entries, 2021-02-12 to 2020-12-22\n",
      "Data columns (total 12 columns):\n",
      " #   Column           Non-Null Count  Dtype  \n",
      "---  ------           --------------  -----  \n",
      " 0   title            1785 non-null   object \n",
      " 1   company          1785 non-null   object \n",
      " 2   company_rating   1785 non-null   float64\n",
      " 3   job_link         1785 non-null   object \n",
      " 4   job_description  1785 non-null   object \n",
      " 5   city             1785 non-null   object \n",
      " 6   state            1785 non-null   object \n",
      " 7   zipcode          1785 non-null   int64  \n",
      " 8   clean            1785 non-null   object \n",
      " 9   tokenized        1785 non-null   object \n",
      " 10  stemmed          1785 non-null   object \n",
      " 11  lemmatized       1785 non-null   object \n",
      "dtypes: float64(1), int64(1), object(10)\n",
      "memory usage: 181.3+ KB\n"
     ]
    }
   ],
   "source": [
    "# Print the concise summary of the dataframe df_ds\n",
    "df_ds.info()"
   ]
  },
  {
   "cell_type": "code",
   "execution_count": 5,
   "metadata": {},
   "outputs": [
    {
     "name": "stdout",
     "output_type": "stream",
     "text": [
      "<class 'pandas.core.frame.DataFrame'>\n",
      "DatetimeIndex: 3190 entries, 2021-02-11 to 2021-01-04\n",
      "Data columns (total 12 columns):\n",
      " #   Column           Non-Null Count  Dtype  \n",
      "---  ------           --------------  -----  \n",
      " 0   title            3190 non-null   object \n",
      " 1   company          3190 non-null   object \n",
      " 2   company_rating   3190 non-null   float64\n",
      " 3   job_link         3190 non-null   object \n",
      " 4   job_description  3190 non-null   object \n",
      " 5   city             3190 non-null   object \n",
      " 6   state            3190 non-null   object \n",
      " 7   zipcode          3190 non-null   int64  \n",
      " 8   clean            3190 non-null   object \n",
      " 9   tokenized        3190 non-null   object \n",
      " 10  stemmed          3190 non-null   object \n",
      " 11  lemmatized       3190 non-null   object \n",
      "dtypes: float64(1), int64(1), object(10)\n",
      "memory usage: 324.0+ KB\n"
     ]
    }
   ],
   "source": [
    "# Print the concise summary of the dataframe df_wd\n",
    "df_wd.info()"
   ]
  },
  {
   "cell_type": "code",
   "execution_count": 6,
   "metadata": {},
   "outputs": [
    {
     "data": {
      "text/html": [
       "<div>\n",
       "<style scoped>\n",
       "    .dataframe tbody tr th:only-of-type {\n",
       "        vertical-align: middle;\n",
       "    }\n",
       "\n",
       "    .dataframe tbody tr th {\n",
       "        vertical-align: top;\n",
       "    }\n",
       "\n",
       "    .dataframe thead th {\n",
       "        text-align: right;\n",
       "    }\n",
       "</style>\n",
       "<table border=\"1\" class=\"dataframe\">\n",
       "  <thead>\n",
       "    <tr style=\"text-align: right;\">\n",
       "      <th></th>\n",
       "      <th>title</th>\n",
       "      <th>company</th>\n",
       "      <th>company_rating</th>\n",
       "      <th>job_link</th>\n",
       "      <th>job_description</th>\n",
       "      <th>city</th>\n",
       "      <th>state</th>\n",
       "      <th>zipcode</th>\n",
       "      <th>clean</th>\n",
       "      <th>tokenized</th>\n",
       "      <th>stemmed</th>\n",
       "      <th>lemmatized</th>\n",
       "    </tr>\n",
       "    <tr>\n",
       "      <th>date</th>\n",
       "      <th></th>\n",
       "      <th></th>\n",
       "      <th></th>\n",
       "      <th></th>\n",
       "      <th></th>\n",
       "      <th></th>\n",
       "      <th></th>\n",
       "      <th></th>\n",
       "      <th></th>\n",
       "      <th></th>\n",
       "      <th></th>\n",
       "      <th></th>\n",
       "    </tr>\n",
       "  </thead>\n",
       "  <tbody>\n",
       "    <tr>\n",
       "      <th>2021-02-12</th>\n",
       "      <td>Data Science Product Owner\\nnew</td>\n",
       "      <td>Verizon</td>\n",
       "      <td>3.9</td>\n",
       "      <td>https://www.indeed.com/rc/clk?jk=0f466d3515fc2...</td>\n",
       "      <td>When you join Verizon\\nVerizon is a leading pr...</td>\n",
       "      <td>Irving</td>\n",
       "      <td>TX</td>\n",
       "      <td>75038</td>\n",
       "      <td>join verizon verizon leading provider technolo...</td>\n",
       "      <td>when you join verizon\\nverizon is a leading pr...</td>\n",
       "      <td>when you join verizon verizon is a lead provid...</td>\n",
       "      <td>when you join verizon verizon is a leading pro...</td>\n",
       "    </tr>\n",
       "    <tr>\n",
       "      <th>2021-02-12</th>\n",
       "      <td>Data Scientist Sr. Associate\\nnew</td>\n",
       "      <td>JPMorgan Chase Bank, N.A.</td>\n",
       "      <td>3.9</td>\n",
       "      <td>https://www.indeed.com/rc/clk?jk=8c3aa56c31f7b...</td>\n",
       "      <td>The Data Scientist is an individual contributo...</td>\n",
       "      <td>Lewisville</td>\n",
       "      <td>TX</td>\n",
       "      <td>0</td>\n",
       "      <td>data scientist individual contributor able app...</td>\n",
       "      <td>the data scientist is an individual contributo...</td>\n",
       "      <td>the data scientist is an individu contributor ...</td>\n",
       "      <td>the data scientist is an individual contributo...</td>\n",
       "    </tr>\n",
       "    <tr>\n",
       "      <th>2021-02-12</th>\n",
       "      <td>Data Scientist- LCT Analytics (Product Develop...</td>\n",
       "      <td>Blue Yonder</td>\n",
       "      <td>4.4</td>\n",
       "      <td>https://www.indeed.com/rc/clk?jk=2d96d697ed4bc...</td>\n",
       "      <td>Role: Data Scientist\\nTeam : Product Developme...</td>\n",
       "      <td>Dallas</td>\n",
       "      <td>TX</td>\n",
       "      <td>0</td>\n",
       "      <td>role data scientist team product developmentlc...</td>\n",
       "      <td>role data scientist\\nteam product developmentl...</td>\n",
       "      <td>role data scientist team product developmentlc...</td>\n",
       "      <td>role data scientist team product developmentlc...</td>\n",
       "    </tr>\n",
       "    <tr>\n",
       "      <th>2021-02-12</th>\n",
       "      <td>Data Scientist\\nnew</td>\n",
       "      <td>Integrative Emergency Services</td>\n",
       "      <td>0.0</td>\n",
       "      <td>https://www.indeed.com/rc/clk?jk=842f40ce8bde2...</td>\n",
       "      <td>Mission\\nIntegrative Emergency Services, LLC (...</td>\n",
       "      <td>Fort Worth</td>\n",
       "      <td>TX</td>\n",
       "      <td>76104</td>\n",
       "      <td>mission integrative emergency service llc y de...</td>\n",
       "      <td>mission\\nintegrative emergency services llc ie...</td>\n",
       "      <td>mission integr emerg servic llc i is dedic to ...</td>\n",
       "      <td>mission integrative emergency service llc y is...</td>\n",
       "    </tr>\n",
       "    <tr>\n",
       "      <th>2021-02-12</th>\n",
       "      <td>Data Scientist\\nnew</td>\n",
       "      <td>CDK Global</td>\n",
       "      <td>3.2</td>\n",
       "      <td>https://www.indeed.com/rc/clk?jk=8c0b900116dec...</td>\n",
       "      <td>Accelerate Your Career\\nDrive global technolog...</td>\n",
       "      <td>Austin</td>\n",
       "      <td>TX</td>\n",
       "      <td>78730</td>\n",
       "      <td>accelerate career drive global technology 2 bi...</td>\n",
       "      <td>accelerate your career\\ndrive global technolog...</td>\n",
       "      <td>acceler your career drive global technolog wit...</td>\n",
       "      <td>accelerate your career drive global technology...</td>\n",
       "    </tr>\n",
       "  </tbody>\n",
       "</table>\n",
       "</div>"
      ],
      "text/plain": [
       "                                                        title  \\\n",
       "date                                                            \n",
       "2021-02-12                    Data Science Product Owner\\nnew   \n",
       "2021-02-12                  Data Scientist Sr. Associate\\nnew   \n",
       "2021-02-12  Data Scientist- LCT Analytics (Product Develop...   \n",
       "2021-02-12                                Data Scientist\\nnew   \n",
       "2021-02-12                                Data Scientist\\nnew   \n",
       "\n",
       "                                   company  company_rating  \\\n",
       "date                                                         \n",
       "2021-02-12                         Verizon             3.9   \n",
       "2021-02-12       JPMorgan Chase Bank, N.A.             3.9   \n",
       "2021-02-12                     Blue Yonder             4.4   \n",
       "2021-02-12  Integrative Emergency Services             0.0   \n",
       "2021-02-12                      CDK Global             3.2   \n",
       "\n",
       "                                                     job_link  \\\n",
       "date                                                            \n",
       "2021-02-12  https://www.indeed.com/rc/clk?jk=0f466d3515fc2...   \n",
       "2021-02-12  https://www.indeed.com/rc/clk?jk=8c3aa56c31f7b...   \n",
       "2021-02-12  https://www.indeed.com/rc/clk?jk=2d96d697ed4bc...   \n",
       "2021-02-12  https://www.indeed.com/rc/clk?jk=842f40ce8bde2...   \n",
       "2021-02-12  https://www.indeed.com/rc/clk?jk=8c0b900116dec...   \n",
       "\n",
       "                                              job_description        city  \\\n",
       "date                                                                        \n",
       "2021-02-12  When you join Verizon\\nVerizon is a leading pr...      Irving   \n",
       "2021-02-12  The Data Scientist is an individual contributo...  Lewisville   \n",
       "2021-02-12  Role: Data Scientist\\nTeam : Product Developme...      Dallas   \n",
       "2021-02-12  Mission\\nIntegrative Emergency Services, LLC (...  Fort Worth   \n",
       "2021-02-12  Accelerate Your Career\\nDrive global technolog...      Austin   \n",
       "\n",
       "           state  zipcode                                              clean  \\\n",
       "date                                                                           \n",
       "2021-02-12    TX    75038  join verizon verizon leading provider technolo...   \n",
       "2021-02-12    TX        0  data scientist individual contributor able app...   \n",
       "2021-02-12    TX        0  role data scientist team product developmentlc...   \n",
       "2021-02-12    TX    76104  mission integrative emergency service llc y de...   \n",
       "2021-02-12    TX    78730  accelerate career drive global technology 2 bi...   \n",
       "\n",
       "                                                    tokenized  \\\n",
       "date                                                            \n",
       "2021-02-12  when you join verizon\\nverizon is a leading pr...   \n",
       "2021-02-12  the data scientist is an individual contributo...   \n",
       "2021-02-12  role data scientist\\nteam product developmentl...   \n",
       "2021-02-12  mission\\nintegrative emergency services llc ie...   \n",
       "2021-02-12  accelerate your career\\ndrive global technolog...   \n",
       "\n",
       "                                                      stemmed  \\\n",
       "date                                                            \n",
       "2021-02-12  when you join verizon verizon is a lead provid...   \n",
       "2021-02-12  the data scientist is an individu contributor ...   \n",
       "2021-02-12  role data scientist team product developmentlc...   \n",
       "2021-02-12  mission integr emerg servic llc i is dedic to ...   \n",
       "2021-02-12  acceler your career drive global technolog wit...   \n",
       "\n",
       "                                                   lemmatized  \n",
       "date                                                           \n",
       "2021-02-12  when you join verizon verizon is a leading pro...  \n",
       "2021-02-12  the data scientist is an individual contributo...  \n",
       "2021-02-12  role data scientist team product developmentlc...  \n",
       "2021-02-12  mission integrative emergency service llc y is...  \n",
       "2021-02-12  accelerate your career drive global technology...  "
      ]
     },
     "execution_count": 6,
     "metadata": {},
     "output_type": "execute_result"
    }
   ],
   "source": [
    "# Print the first 5 rows of the dataframe df_ds\n",
    "df_ds.head()"
   ]
  },
  {
   "cell_type": "code",
   "execution_count": 7,
   "metadata": {},
   "outputs": [
    {
     "data": {
      "text/html": [
       "<div>\n",
       "<style scoped>\n",
       "    .dataframe tbody tr th:only-of-type {\n",
       "        vertical-align: middle;\n",
       "    }\n",
       "\n",
       "    .dataframe tbody tr th {\n",
       "        vertical-align: top;\n",
       "    }\n",
       "\n",
       "    .dataframe thead th {\n",
       "        text-align: right;\n",
       "    }\n",
       "</style>\n",
       "<table border=\"1\" class=\"dataframe\">\n",
       "  <thead>\n",
       "    <tr style=\"text-align: right;\">\n",
       "      <th></th>\n",
       "      <th>title</th>\n",
       "      <th>company</th>\n",
       "      <th>company_rating</th>\n",
       "      <th>job_link</th>\n",
       "      <th>job_description</th>\n",
       "      <th>city</th>\n",
       "      <th>state</th>\n",
       "      <th>zipcode</th>\n",
       "      <th>clean</th>\n",
       "      <th>tokenized</th>\n",
       "      <th>stemmed</th>\n",
       "      <th>lemmatized</th>\n",
       "    </tr>\n",
       "    <tr>\n",
       "      <th>date</th>\n",
       "      <th></th>\n",
       "      <th></th>\n",
       "      <th></th>\n",
       "      <th></th>\n",
       "      <th></th>\n",
       "      <th></th>\n",
       "      <th></th>\n",
       "      <th></th>\n",
       "      <th></th>\n",
       "      <th></th>\n",
       "      <th></th>\n",
       "      <th></th>\n",
       "    </tr>\n",
       "  </thead>\n",
       "  <tbody>\n",
       "    <tr>\n",
       "      <th>2021-02-11</th>\n",
       "      <td>Front-End Web Developer (Wordpress/Shopify)\\nnew</td>\n",
       "      <td>Explore Digital</td>\n",
       "      <td>0.0</td>\n",
       "      <td>https://www.indeed.com/pagead/clk?mo=r&amp;ad=-6NY...</td>\n",
       "      <td>Who We're Looking ForA highly skilled Full-Tim...</td>\n",
       "      <td>0</td>\n",
       "      <td>TX</td>\n",
       "      <td>0</td>\n",
       "      <td>looking forum highly skilled fulltime web deve...</td>\n",
       "      <td>who were looking fora highly skilled fulltime ...</td>\n",
       "      <td>who were look fora highli skill fulltim web de...</td>\n",
       "      <td>who were looking forum highly skilled fulltime...</td>\n",
       "    </tr>\n",
       "    <tr>\n",
       "      <th>2021-02-11</th>\n",
       "      <td>Web Application Developer\\nnew</td>\n",
       "      <td>Talenti Qo Workforce and RPO Services PVT LTD.</td>\n",
       "      <td>0.0</td>\n",
       "      <td>https://www.indeed.com/company/Talenti-Qo-Work...</td>\n",
       "      <td>US Citizen &amp; Green-card Holder onlyAbout This ...</td>\n",
       "      <td>Dallas-Fort Worth</td>\n",
       "      <td>TX</td>\n",
       "      <td>0</td>\n",
       "      <td>u citizen greencard holder onlyabout position ...</td>\n",
       "      <td>us citizen greencard holder onlyabout this pos...</td>\n",
       "      <td>us citizen greencard holder onlyabout thi posi...</td>\n",
       "      <td>u citizen greencard holder onlyabout this posi...</td>\n",
       "    </tr>\n",
       "    <tr>\n",
       "      <th>2021-02-11</th>\n",
       "      <td>UI Software Engineer (Web React &amp; Desktop Pyth...</td>\n",
       "      <td>JPMorgan Chase Bank, N.A.</td>\n",
       "      <td>3.9</td>\n",
       "      <td>https://www.indeed.com/rc/clk?jk=de2fe567a395e...</td>\n",
       "      <td>We are searching for highly motivated front-en...</td>\n",
       "      <td>Houston</td>\n",
       "      <td>TX</td>\n",
       "      <td>0</td>\n",
       "      <td>searching highly motivated frontend software e...</td>\n",
       "      <td>we are searching for highly motivated frontend...</td>\n",
       "      <td>we are search for highli motiv frontend softwa...</td>\n",
       "      <td>we are searching for highly motivated frontend...</td>\n",
       "    </tr>\n",
       "    <tr>\n",
       "      <th>2021-02-11</th>\n",
       "      <td>Sr File Maker developer\\nnew</td>\n",
       "      <td>Nava Software Solutions LLC</td>\n",
       "      <td>0.0</td>\n",
       "      <td>https://www.indeed.com/company/Nava-Software-S...</td>\n",
       "      <td>Sr File Maker developerLocation: Houston TX(On...</td>\n",
       "      <td>Houston</td>\n",
       "      <td>TX</td>\n",
       "      <td>0</td>\n",
       "      <td>sr file maker developerlocation houston txonly...</td>\n",
       "      <td>sr file maker developerlocation houston txonly...</td>\n",
       "      <td>sr file maker developerloc houston txonli loca...</td>\n",
       "      <td>sr file maker developerlocation houston txonly...</td>\n",
       "    </tr>\n",
       "    <tr>\n",
       "      <th>2021-02-11</th>\n",
       "      <td>Web Design Director\\nnew</td>\n",
       "      <td>National Instruments</td>\n",
       "      <td>3.7</td>\n",
       "      <td>https://www.indeed.com/rc/clk?jk=1243b577bcf6f...</td>\n",
       "      <td>Why NI?\\nThere are many reasons to consider jo...</td>\n",
       "      <td>Austin</td>\n",
       "      <td>TX</td>\n",
       "      <td>0</td>\n",
       "      <td>ni many reason consider joining company key am...</td>\n",
       "      <td>why ni\\nthere are many reasons to consider joi...</td>\n",
       "      <td>whi ni there are mani reason to consid join a ...</td>\n",
       "      <td>why ni there are many reason to consider joini...</td>\n",
       "    </tr>\n",
       "  </tbody>\n",
       "</table>\n",
       "</div>"
      ],
      "text/plain": [
       "                                                        title  \\\n",
       "date                                                            \n",
       "2021-02-11   Front-End Web Developer (Wordpress/Shopify)\\nnew   \n",
       "2021-02-11                     Web Application Developer\\nnew   \n",
       "2021-02-11  UI Software Engineer (Web React & Desktop Pyth...   \n",
       "2021-02-11                       Sr File Maker developer\\nnew   \n",
       "2021-02-11                           Web Design Director\\nnew   \n",
       "\n",
       "                                                   company  company_rating  \\\n",
       "date                                                                         \n",
       "2021-02-11                                 Explore Digital             0.0   \n",
       "2021-02-11  Talenti Qo Workforce and RPO Services PVT LTD.             0.0   \n",
       "2021-02-11                       JPMorgan Chase Bank, N.A.             3.9   \n",
       "2021-02-11                     Nava Software Solutions LLC             0.0   \n",
       "2021-02-11                            National Instruments             3.7   \n",
       "\n",
       "                                                     job_link  \\\n",
       "date                                                            \n",
       "2021-02-11  https://www.indeed.com/pagead/clk?mo=r&ad=-6NY...   \n",
       "2021-02-11  https://www.indeed.com/company/Talenti-Qo-Work...   \n",
       "2021-02-11  https://www.indeed.com/rc/clk?jk=de2fe567a395e...   \n",
       "2021-02-11  https://www.indeed.com/company/Nava-Software-S...   \n",
       "2021-02-11  https://www.indeed.com/rc/clk?jk=1243b577bcf6f...   \n",
       "\n",
       "                                              job_description  \\\n",
       "date                                                            \n",
       "2021-02-11  Who We're Looking ForA highly skilled Full-Tim...   \n",
       "2021-02-11  US Citizen & Green-card Holder onlyAbout This ...   \n",
       "2021-02-11  We are searching for highly motivated front-en...   \n",
       "2021-02-11  Sr File Maker developerLocation: Houston TX(On...   \n",
       "2021-02-11  Why NI?\\nThere are many reasons to consider jo...   \n",
       "\n",
       "                         city state  zipcode  \\\n",
       "date                                           \n",
       "2021-02-11                  0    TX        0   \n",
       "2021-02-11  Dallas-Fort Worth    TX        0   \n",
       "2021-02-11            Houston    TX        0   \n",
       "2021-02-11            Houston    TX        0   \n",
       "2021-02-11             Austin    TX        0   \n",
       "\n",
       "                                                        clean  \\\n",
       "date                                                            \n",
       "2021-02-11  looking forum highly skilled fulltime web deve...   \n",
       "2021-02-11  u citizen greencard holder onlyabout position ...   \n",
       "2021-02-11  searching highly motivated frontend software e...   \n",
       "2021-02-11  sr file maker developerlocation houston txonly...   \n",
       "2021-02-11  ni many reason consider joining company key am...   \n",
       "\n",
       "                                                    tokenized  \\\n",
       "date                                                            \n",
       "2021-02-11  who were looking fora highly skilled fulltime ...   \n",
       "2021-02-11  us citizen greencard holder onlyabout this pos...   \n",
       "2021-02-11  we are searching for highly motivated frontend...   \n",
       "2021-02-11  sr file maker developerlocation houston txonly...   \n",
       "2021-02-11  why ni\\nthere are many reasons to consider joi...   \n",
       "\n",
       "                                                      stemmed  \\\n",
       "date                                                            \n",
       "2021-02-11  who were look fora highli skill fulltim web de...   \n",
       "2021-02-11  us citizen greencard holder onlyabout thi posi...   \n",
       "2021-02-11  we are search for highli motiv frontend softwa...   \n",
       "2021-02-11  sr file maker developerloc houston txonli loca...   \n",
       "2021-02-11  whi ni there are mani reason to consid join a ...   \n",
       "\n",
       "                                                   lemmatized  \n",
       "date                                                           \n",
       "2021-02-11  who were looking forum highly skilled fulltime...  \n",
       "2021-02-11  u citizen greencard holder onlyabout this posi...  \n",
       "2021-02-11  we are searching for highly motivated frontend...  \n",
       "2021-02-11  sr file maker developerlocation houston txonly...  \n",
       "2021-02-11  why ni there are many reason to consider joini...  "
      ]
     },
     "execution_count": 7,
     "metadata": {},
     "output_type": "execute_result"
    }
   ],
   "source": [
    "# Print the first 5 rows of the dataframe df_wd\n",
    "df_wd.head()"
   ]
  },
  {
   "cell_type": "markdown",
   "metadata": {},
   "source": [
    "### Brief Summary of the Job Postings"
   ]
  },
  {
   "cell_type": "markdown",
   "metadata": {},
   "source": [
    "#### Data Scientist Position"
   ]
  },
  {
   "cell_type": "code",
   "execution_count": 8,
   "metadata": {},
   "outputs": [
    {
     "data": {
      "text/plain": [
       "Cognizant Technology Solutions    59\n",
       "Dell Technologies                 43\n",
       "Deloitte                          36\n",
       "Facebook                          35\n",
       "USAA                              34\n",
       "Name: company, dtype: int64"
      ]
     },
     "execution_count": 8,
     "metadata": {},
     "output_type": "execute_result"
    }
   ],
   "source": [
    "# Which companies hire the most data scientists in TX?\n",
    "df_ds.company.value_counts().head()"
   ]
  },
  {
   "cell_type": "code",
   "execution_count": 9,
   "metadata": {},
   "outputs": [
    {
     "data": {
      "text/plain": [
       "Austin         507\n",
       "Dallas         287\n",
       "Houston        228\n",
       "San Antonio    141\n",
       "Plano          133\n",
       "Name: city, dtype: int64"
      ]
     },
     "execution_count": 9,
     "metadata": {},
     "output_type": "execute_result"
    }
   ],
   "source": [
    "# Which cities have the most data scientists postions in TX?\n",
    "df_ds.city.value_counts().head()"
   ]
  },
  {
   "cell_type": "code",
   "execution_count": 10,
   "metadata": {},
   "outputs": [
    {
     "data": {
      "text/plain": [
       "date\n",
       "2020-12-27    392\n",
       "2021-01-03    136\n",
       "2021-01-10    212\n",
       "2021-01-17    174\n",
       "2021-01-24    312\n",
       "2021-01-31    274\n",
       "2021-02-07    194\n",
       "2021-02-14     91\n",
       "Freq: W-SUN, Name: title, dtype: int64"
      ]
     },
     "execution_count": 10,
     "metadata": {},
     "output_type": "execute_result"
    }
   ],
   "source": [
    "# How does the number of job postings change over time?\n",
    "df_ds.resample('W').title.count()"
   ]
  },
  {
   "cell_type": "code",
   "execution_count": 11,
   "metadata": {},
   "outputs": [
    {
     "data": {
      "text/plain": [
       "company\n",
       "Digital Pharmacist    5.0\n",
       "Rekruiters            5.0\n",
       "Levelset              4.7\n",
       "Harnham               4.6\n",
       "DRW Trading Group     4.6\n",
       "Name: company_rating, dtype: float64"
      ]
     },
     "execution_count": 11,
     "metadata": {},
     "output_type": "execute_result"
    }
   ],
   "source": [
    "# Which company has the best avereage rating? \n",
    "df_ds.groupby('company').company_rating.mean().sort_values(ascending=False).head()"
   ]
  },
  {
   "cell_type": "markdown",
   "metadata": {},
   "source": [
    "#### Web Developer Position"
   ]
  },
  {
   "cell_type": "code",
   "execution_count": 12,
   "metadata": {},
   "outputs": [
    {
     "data": {
      "text/plain": [
       "CyberCoders                            134\n",
       "Indeed                                 112\n",
       "JPMorgan Chase Bank, N.A.               91\n",
       "Infinity Consulting Solutions, Inc.     51\n",
       "Cognizant Technology Solutions          42\n",
       "Name: company, dtype: int64"
      ]
     },
     "execution_count": 12,
     "metadata": {},
     "output_type": "execute_result"
    }
   ],
   "source": [
    "# Which companies hire the most web developers in TX?\n",
    "df_wd.company.value_counts().head()"
   ]
  },
  {
   "cell_type": "code",
   "execution_count": 13,
   "metadata": {},
   "outputs": [
    {
     "data": {
      "text/plain": [
       "Austin     1029\n",
       "Dallas      431\n",
       "Houston     350\n",
       "Plano       255\n",
       "Name: city, dtype: int64"
      ]
     },
     "execution_count": 13,
     "metadata": {},
     "output_type": "execute_result"
    }
   ],
   "source": [
    "# Which cities have the most web developers postions in TX?\n",
    "df_wd.city.value_counts().head(4)"
   ]
  },
  {
   "cell_type": "code",
   "execution_count": 14,
   "metadata": {},
   "outputs": [
    {
     "data": {
      "text/plain": [
       "date\n",
       "2021-01-10      62\n",
       "2021-01-17     346\n",
       "2021-01-24     793\n",
       "2021-01-31    1050\n",
       "2021-02-07     695\n",
       "2021-02-14     244\n",
       "Freq: W-SUN, Name: title, dtype: int64"
      ]
     },
     "execution_count": 14,
     "metadata": {},
     "output_type": "execute_result"
    }
   ],
   "source": [
    "# How does the number of job postings change over time?\n",
    "df_wd.resample('W').title.count()"
   ]
  },
  {
   "cell_type": "code",
   "execution_count": 15,
   "metadata": {},
   "outputs": [
    {
     "data": {
      "text/plain": [
       "company\n",
       "MarketScale            5.0\n",
       "Box                    5.0\n",
       "RightNow Ministries    5.0\n",
       "Royal & Ross           5.0\n",
       "Rekruiters             5.0\n",
       "Name: company_rating, dtype: float64"
      ]
     },
     "execution_count": 15,
     "metadata": {},
     "output_type": "execute_result"
    }
   ],
   "source": [
    "# Which company has the best avereage rating? \n",
    "df_wd.groupby('company').company_rating.mean().sort_values(ascending=False).head()"
   ]
  },
  {
   "cell_type": "markdown",
   "metadata": {},
   "source": [
    "### Top k Needed Skills"
   ]
  },
  {
   "cell_type": "markdown",
   "metadata": {},
   "source": [
    "#### Data Scientist Position\n",
    "- Tech Skills\n",
    "- Soft Skills\n",
    "- General Skills (Combination of Tech+Soft)"
   ]
  },
  {
   "cell_type": "code",
   "execution_count": 16,
   "metadata": {},
   "outputs": [],
   "source": [
    "# Create a tech library\n",
    "ds_tech_library = ['python','sql','pandas','numpy','matplotlib','scikit learn','scikitlearn','spark','hadoop',\n",
    "                'aws','amazon web services','azure','microsoft word', 'microsoft excel','excel','tableau',\n",
    "                'tensor flow','pytorch','hive','impala','matlab','etl','statistics','exploration',\n",
    "                'extraction','data wrangling','math','machine learning','data visualization','java','js',\n",
    "                'javascript','scala','r','c','c++','power bi','dashboard','linear algebra','calculus',\n",
    "                'neural networks','eda','big data','frameworks','database management','testing hypotheses',\n",
    "                'probability','data mining','perl','nosql','saas','git','github','natural language processing',\n",
    "                'nlp', 'deep learning','agile','kanban','project management','julia','devops','google cloud',\n",
    "                'pytorch','computer vision', 'deep neural networks','neural networks','amazon web services',\n",
    "                'natural language processing','extract,transform,load','mysql','structured query language']"
   ]
  },
  {
   "cell_type": "code",
   "execution_count": 17,
   "metadata": {},
   "outputs": [
    {
     "name": "stdout",
     "output_type": "stream",
     "text": [
      "Number of data science skills in tech skill library:  71\n"
     ]
    },
    {
     "data": {
      "text/html": [
       "<div>\n",
       "<style scoped>\n",
       "    .dataframe tbody tr th:only-of-type {\n",
       "        vertical-align: middle;\n",
       "    }\n",
       "\n",
       "    .dataframe tbody tr th {\n",
       "        vertical-align: top;\n",
       "    }\n",
       "\n",
       "    .dataframe thead th {\n",
       "        text-align: right;\n",
       "    }\n",
       "</style>\n",
       "<table border=\"1\" class=\"dataframe\">\n",
       "  <thead>\n",
       "    <tr style=\"text-align: right;\">\n",
       "      <th></th>\n",
       "      <th>frequency</th>\n",
       "    </tr>\n",
       "  </thead>\n",
       "  <tbody>\n",
       "    <tr>\n",
       "      <th>machine learning</th>\n",
       "      <td>2820.0</td>\n",
       "    </tr>\n",
       "    <tr>\n",
       "      <th>python</th>\n",
       "      <td>1474.0</td>\n",
       "    </tr>\n",
       "    <tr>\n",
       "      <th>sql</th>\n",
       "      <td>1130.0</td>\n",
       "    </tr>\n",
       "    <tr>\n",
       "      <th>r</th>\n",
       "      <td>843.0</td>\n",
       "    </tr>\n",
       "    <tr>\n",
       "      <th>aws</th>\n",
       "      <td>795.0</td>\n",
       "    </tr>\n",
       "  </tbody>\n",
       "</table>\n",
       "</div>"
      ],
      "text/plain": [
       "                  frequency\n",
       "machine learning     2820.0\n",
       "python               1474.0\n",
       "sql                  1130.0\n",
       "r                     843.0\n",
       "aws                   795.0"
      ]
     },
     "execution_count": 17,
     "metadata": {},
     "output_type": "execute_result"
    }
   ],
   "source": [
    "# Print the number of skills in the library\n",
    "print(\"Number of data science skills in tech skill library: \", len(ds_tech_library))\n",
    "\n",
    "# Print the top 5 needed tech skills\n",
    "\n",
    "ds_top_tech = MVP_explore.top_skills(df_ds, 5, ds_tech_library)\n",
    "ds_top_tech"
   ]
  },
  {
   "cell_type": "code",
   "execution_count": 18,
   "metadata": {},
   "outputs": [],
   "source": [
    "# Create a soft skill library\n",
    "ds_soft_library = ['critical thinking','communication','problem solving','teamwork','ethics','business acumen',\n",
    "                'interpersonal skills','curiosity','storytelling','adaptability','team player','collaboration',\n",
    "                'time management','leadership','domain knowledge','creativity','decision making',\n",
    "                'verbal communication','written communication','teamwork'] "
   ]
  },
  {
   "cell_type": "code",
   "execution_count": 19,
   "metadata": {},
   "outputs": [
    {
     "name": "stdout",
     "output_type": "stream",
     "text": [
      "Number of data science skills in soft skill library:  20\n"
     ]
    },
    {
     "data": {
      "text/html": [
       "<div>\n",
       "<style scoped>\n",
       "    .dataframe tbody tr th:only-of-type {\n",
       "        vertical-align: middle;\n",
       "    }\n",
       "\n",
       "    .dataframe tbody tr th {\n",
       "        vertical-align: top;\n",
       "    }\n",
       "\n",
       "    .dataframe thead th {\n",
       "        text-align: right;\n",
       "    }\n",
       "</style>\n",
       "<table border=\"1\" class=\"dataframe\">\n",
       "  <thead>\n",
       "    <tr style=\"text-align: right;\">\n",
       "      <th></th>\n",
       "      <th>frequency</th>\n",
       "    </tr>\n",
       "  </thead>\n",
       "  <tbody>\n",
       "    <tr>\n",
       "      <th>communication</th>\n",
       "      <td>1256.0</td>\n",
       "    </tr>\n",
       "    <tr>\n",
       "      <th>leadership</th>\n",
       "      <td>776.0</td>\n",
       "    </tr>\n",
       "    <tr>\n",
       "      <th>collaboration</th>\n",
       "      <td>376.0</td>\n",
       "    </tr>\n",
       "    <tr>\n",
       "      <th>problem solving</th>\n",
       "      <td>275.0</td>\n",
       "    </tr>\n",
       "    <tr>\n",
       "      <th>written communication</th>\n",
       "      <td>221.0</td>\n",
       "    </tr>\n",
       "  </tbody>\n",
       "</table>\n",
       "</div>"
      ],
      "text/plain": [
       "                       frequency\n",
       "communication             1256.0\n",
       "leadership                 776.0\n",
       "collaboration              376.0\n",
       "problem solving            275.0\n",
       "written communication      221.0"
      ]
     },
     "execution_count": 19,
     "metadata": {},
     "output_type": "execute_result"
    }
   ],
   "source": [
    "# Print the number of skills in the library\n",
    "print(\"Number of data science skills in soft skill library: \", len(ds_soft_library))\n",
    "\n",
    "# Print the top 5 needed soft skills\n",
    "\n",
    "ds_top_soft = MVP_explore.top_skills(df_ds, 5, ds_soft_library)\n",
    "ds_top_soft"
   ]
  },
  {
   "cell_type": "code",
   "execution_count": 20,
   "metadata": {},
   "outputs": [],
   "source": [
    "# Create a general library\n",
    "ds_general_library = ['python','sql','pandas','numpy','matplotlib','scikit learn','scikitlearn','spark','hadoop',\n",
    "                'aws','amazon web services','azure','microsoft word', 'microsoft excel','excel','tableau',\n",
    "                'tensor flow','pytorch','hive','impala','matlab','etl','statistics','exploration',\n",
    "                'extraction','data wrangling','math','machine learning','data visualization','java','js',\n",
    "                'javascript','scala','r','c','c++','power bi','dashboard','linear algebra','calculus',\n",
    "                'neural networks','eda','big data','frameworks','database management','testing hypotheses',\n",
    "                'probability','data mining','perl','nosql','saas','git','github','natural language processing',\n",
    "                'nlp', 'deep learning','agile','kanban','project management','julia','devops','google cloud',\n",
    "                'pytorch','computer vision', 'deep neural networks','neural networks','amazon web services',\n",
    "                'natural language processing','extract,transform,load','mysql','structured query language'\n",
    "                'critical thinking','communication','problem solving','teamwork','ethics','business acumen',\n",
    "                'interpersonal skills','curiosity','storytelling','adaptability','team player','collaboration',\n",
    "                'time management','leadership','domain knowledge','creativity','decision making',\n",
    "                'verbal communication','written communication','teamwork']"
   ]
  },
  {
   "cell_type": "code",
   "execution_count": 21,
   "metadata": {},
   "outputs": [
    {
     "name": "stdout",
     "output_type": "stream",
     "text": [
      "Number of data science skills in general skills library:  90\n"
     ]
    },
    {
     "data": {
      "text/html": [
       "<div>\n",
       "<style scoped>\n",
       "    .dataframe tbody tr th:only-of-type {\n",
       "        vertical-align: middle;\n",
       "    }\n",
       "\n",
       "    .dataframe tbody tr th {\n",
       "        vertical-align: top;\n",
       "    }\n",
       "\n",
       "    .dataframe thead th {\n",
       "        text-align: right;\n",
       "    }\n",
       "</style>\n",
       "<table border=\"1\" class=\"dataframe\">\n",
       "  <thead>\n",
       "    <tr style=\"text-align: right;\">\n",
       "      <th></th>\n",
       "      <th>frequency</th>\n",
       "    </tr>\n",
       "  </thead>\n",
       "  <tbody>\n",
       "    <tr>\n",
       "      <th>machine learning</th>\n",
       "      <td>2820.0</td>\n",
       "    </tr>\n",
       "    <tr>\n",
       "      <th>python</th>\n",
       "      <td>1474.0</td>\n",
       "    </tr>\n",
       "    <tr>\n",
       "      <th>communication</th>\n",
       "      <td>1256.0</td>\n",
       "    </tr>\n",
       "    <tr>\n",
       "      <th>sql</th>\n",
       "      <td>1130.0</td>\n",
       "    </tr>\n",
       "    <tr>\n",
       "      <th>r</th>\n",
       "      <td>843.0</td>\n",
       "    </tr>\n",
       "  </tbody>\n",
       "</table>\n",
       "</div>"
      ],
      "text/plain": [
       "                  frequency\n",
       "machine learning     2820.0\n",
       "python               1474.0\n",
       "communication        1256.0\n",
       "sql                  1130.0\n",
       "r                     843.0"
      ]
     },
     "execution_count": 21,
     "metadata": {},
     "output_type": "execute_result"
    }
   ],
   "source": [
    "# Print the number of skills in the library\n",
    "print(\"Number of data science skills in general skills library: \", len(ds_general_library))\n",
    "\n",
    "# Print the top 5 needed general skills\n",
    "\n",
    "ds_top_general = MVP_explore.top_skills(df_ds, 5, ds_general_library)\n",
    "ds_top_general"
   ]
  },
  {
   "cell_type": "markdown",
   "metadata": {},
   "source": [
    "#### Web Developer Position\n",
    "- Tech skills\n",
    "- Soft skills\n",
    "- General Skills (Combination of Tech+Soft)"
   ]
  },
  {
   "cell_type": "code",
   "execution_count": 22,
   "metadata": {},
   "outputs": [],
   "source": [
    "# Create a tech library\n",
    "wd_tech_library = ['html','css','javascript','debugging','git','github','libraries','frameworks','publishing web site',\n",
    "'photoshop','bootstrap','jquery','search engine optimization','seo','basic graphic design','front end','back end',\n",
    "'visual studio code','visual studio','figma','zeplin','sketch','gatspy','strapi','paint','canva','aws','azure',\n",
    "'amazon web services','sql','mysql','nosql','node','node.js','js','json','api','google charts','d3','d3.js','react',\n",
    "'angular','ember','vue','python','c','c++','ruby','ruby on rails','git','github','php','net','.net','java','c#',\n",
    "'linux','go','gcp','troubleshooting','problem solving','ux','ui','ux/ui','cloud computing','netlify','net']  "
   ]
  },
  {
   "cell_type": "code",
   "execution_count": 23,
   "metadata": {},
   "outputs": [
    {
     "name": "stdout",
     "output_type": "stream",
     "text": [
      "Number of web dev skills in tech skill library:  67\n"
     ]
    },
    {
     "data": {
      "text/html": [
       "<div>\n",
       "<style scoped>\n",
       "    .dataframe tbody tr th:only-of-type {\n",
       "        vertical-align: middle;\n",
       "    }\n",
       "\n",
       "    .dataframe tbody tr th {\n",
       "        vertical-align: top;\n",
       "    }\n",
       "\n",
       "    .dataframe thead th {\n",
       "        text-align: right;\n",
       "    }\n",
       "</style>\n",
       "<table border=\"1\" class=\"dataframe\">\n",
       "  <thead>\n",
       "    <tr style=\"text-align: right;\">\n",
       "      <th></th>\n",
       "      <th>frequency</th>\n",
       "    </tr>\n",
       "  </thead>\n",
       "  <tbody>\n",
       "    <tr>\n",
       "      <th>javascript</th>\n",
       "      <td>2533.0</td>\n",
       "    </tr>\n",
       "    <tr>\n",
       "      <th>java</th>\n",
       "      <td>1657.0</td>\n",
       "    </tr>\n",
       "    <tr>\n",
       "      <th>sql</th>\n",
       "      <td>1572.0</td>\n",
       "    </tr>\n",
       "    <tr>\n",
       "      <th>react</th>\n",
       "      <td>1375.0</td>\n",
       "    </tr>\n",
       "    <tr>\n",
       "      <th>net</th>\n",
       "      <td>1260.0</td>\n",
       "    </tr>\n",
       "  </tbody>\n",
       "</table>\n",
       "</div>"
      ],
      "text/plain": [
       "            frequency\n",
       "javascript     2533.0\n",
       "java           1657.0\n",
       "sql            1572.0\n",
       "react          1375.0\n",
       "net            1260.0"
      ]
     },
     "execution_count": 23,
     "metadata": {},
     "output_type": "execute_result"
    }
   ],
   "source": [
    "# Print the number of skills in the library\n",
    "print(\"Number of web dev skills in tech skill library: \", len(wd_tech_library))\n",
    "\n",
    "# Print the top 5 needed tech skills\n",
    "\n",
    "wd_top_tech = MVP_explore.top_skills(df_wd, 5, wd_tech_library)\n",
    "wd_top_tech"
   ]
  },
  {
   "cell_type": "code",
   "execution_count": 24,
   "metadata": {},
   "outputs": [],
   "source": [
    "# Create a soft library\n",
    "wd_soft_library = ['critical thinking','communication','problem solving','teamwork','ethics','business acumen',\n",
    "                'interpersonal skills','curiosity','storytelling','adaptability','team player','collaboration',\n",
    "                'time management','leadership','domain knowledge','creativity','decision making',\n",
    "                'verbal communication','written communication','teamwork'] "
   ]
  },
  {
   "cell_type": "code",
   "execution_count": 25,
   "metadata": {},
   "outputs": [
    {
     "name": "stdout",
     "output_type": "stream",
     "text": [
      "Number of web dev skills in soft skill library:  20\n"
     ]
    },
    {
     "data": {
      "text/html": [
       "<div>\n",
       "<style scoped>\n",
       "    .dataframe tbody tr th:only-of-type {\n",
       "        vertical-align: middle;\n",
       "    }\n",
       "\n",
       "    .dataframe tbody tr th {\n",
       "        vertical-align: top;\n",
       "    }\n",
       "\n",
       "    .dataframe thead th {\n",
       "        text-align: right;\n",
       "    }\n",
       "</style>\n",
       "<table border=\"1\" class=\"dataframe\">\n",
       "  <thead>\n",
       "    <tr style=\"text-align: right;\">\n",
       "      <th></th>\n",
       "      <th>frequency</th>\n",
       "    </tr>\n",
       "  </thead>\n",
       "  <tbody>\n",
       "    <tr>\n",
       "      <th>communication</th>\n",
       "      <td>1823.0</td>\n",
       "    </tr>\n",
       "    <tr>\n",
       "      <th>leadership</th>\n",
       "      <td>655.0</td>\n",
       "    </tr>\n",
       "    <tr>\n",
       "      <th>collaboration</th>\n",
       "      <td>423.0</td>\n",
       "    </tr>\n",
       "    <tr>\n",
       "      <th>problem solving</th>\n",
       "      <td>387.0</td>\n",
       "    </tr>\n",
       "    <tr>\n",
       "      <th>written communication</th>\n",
       "      <td>288.0</td>\n",
       "    </tr>\n",
       "  </tbody>\n",
       "</table>\n",
       "</div>"
      ],
      "text/plain": [
       "                       frequency\n",
       "communication             1823.0\n",
       "leadership                 655.0\n",
       "collaboration              423.0\n",
       "problem solving            387.0\n",
       "written communication      288.0"
      ]
     },
     "execution_count": 25,
     "metadata": {},
     "output_type": "execute_result"
    }
   ],
   "source": [
    "# Print the number of skills in the library\n",
    "print(\"Number of web dev skills in soft skill library: \", len(wd_soft_library))\n",
    "\n",
    "# Print the top 5 needed soft skills\n",
    "\n",
    "wd_top_tech = MVP_explore.top_skills(df_wd, 5, wd_soft_library)\n",
    "wd_top_tech"
   ]
  },
  {
   "cell_type": "code",
   "execution_count": 26,
   "metadata": {},
   "outputs": [],
   "source": [
    "# Create a general library\n",
    "wd_general_library = ['html','css','javascript','debugging','git','github','libraries','frameworks','publishing web site',\n",
    "'photoshop','bootstrap','jquery','search engine optimization','seo','basic graphic design','front end','back end',\n",
    "'visual studio code','visual studio','figma','zeplin','sketch','gatspy','strapi','paint','canva','aws','azure',\n",
    "'amazon web services','sql','mysql','nosql','node','node.js','js','json','api','google charts','d3','d3.js','react',\n",
    "'angular','ember','vue','python','c','c++','ruby','ruby on rails','git','github','php','net','.net','java','c#',\n",
    "'linux','go','gcp','troubleshooting','problem solving','ux','ui','ux/ui','cloud computing','netlify','net''critical thinking',\n",
    "'communication','problem solving','teamwork','ethics','business acumen','interpersonal skills','curiosity',\n",
    "'storytelling','adaptability','team player','collaboration','time management','leadership','domain knowledge',\n",
    "'creativity','decision making','verbal communication','written communication','teamwork']"
   ]
  },
  {
   "cell_type": "code",
   "execution_count": 27,
   "metadata": {},
   "outputs": [
    {
     "name": "stdout",
     "output_type": "stream",
     "text": [
      "Number of web dev skills in general skill library:  86\n"
     ]
    },
    {
     "data": {
      "text/html": [
       "<div>\n",
       "<style scoped>\n",
       "    .dataframe tbody tr th:only-of-type {\n",
       "        vertical-align: middle;\n",
       "    }\n",
       "\n",
       "    .dataframe tbody tr th {\n",
       "        vertical-align: top;\n",
       "    }\n",
       "\n",
       "    .dataframe thead th {\n",
       "        text-align: right;\n",
       "    }\n",
       "</style>\n",
       "<table border=\"1\" class=\"dataframe\">\n",
       "  <thead>\n",
       "    <tr style=\"text-align: right;\">\n",
       "      <th></th>\n",
       "      <th>frequency</th>\n",
       "    </tr>\n",
       "  </thead>\n",
       "  <tbody>\n",
       "    <tr>\n",
       "      <th>javascript</th>\n",
       "      <td>2533.0</td>\n",
       "    </tr>\n",
       "    <tr>\n",
       "      <th>communication</th>\n",
       "      <td>1823.0</td>\n",
       "    </tr>\n",
       "    <tr>\n",
       "      <th>java</th>\n",
       "      <td>1657.0</td>\n",
       "    </tr>\n",
       "    <tr>\n",
       "      <th>sql</th>\n",
       "      <td>1572.0</td>\n",
       "    </tr>\n",
       "    <tr>\n",
       "      <th>react</th>\n",
       "      <td>1375.0</td>\n",
       "    </tr>\n",
       "  </tbody>\n",
       "</table>\n",
       "</div>"
      ],
      "text/plain": [
       "               frequency\n",
       "javascript        2533.0\n",
       "communication     1823.0\n",
       "java              1657.0\n",
       "sql               1572.0\n",
       "react             1375.0"
      ]
     },
     "execution_count": 27,
     "metadata": {},
     "output_type": "execute_result"
    }
   ],
   "source": [
    "# Print the number of skills in the library\n",
    "print(\"Number of web dev skills in general skill library: \", len(wd_general_library))\n",
    "\n",
    "# Print the top 5 needed general skills\n",
    "\n",
    "wd_top_tech = MVP_explore.top_skills(df_wd, 5, wd_general_library)\n",
    "wd_top_tech"
   ]
  },
  {
   "cell_type": "markdown",
   "metadata": {},
   "source": [
    "### Uploads"
   ]
  },
  {
   "cell_type": "code",
   "execution_count": 28,
   "metadata": {},
   "outputs": [],
   "source": [
    "def upload_to_S3_bucket(file_name, bucket='dspreparedjobpostings', object_name=None):\n",
    "    \"\"\"\n",
    "    Upload a file to an S3 bucket\n",
    "    \n",
    "    ***Prepared data files must be in JSON format***\n",
    "\n",
    "    Parameters\n",
    "    ----------\n",
    "    file_name: str\n",
    "        Name of the file to upload.\n",
    "    \n",
    "    bucket: str, default=\"dspreparedjobpostings\"\n",
    "        S3 Bucket the file will be uploaded to.\n",
    "    \n",
    "    object_name: str, default=None\n",
    "        The file name that will appear in AWS S3 bucket.\n",
    "        If an object_name is not specified, the file will\n",
    "        have the same name as the file_name\n",
    "    \n",
    "    Returns\n",
    "    -------\n",
    "    True or False: bool\n",
    "        True if file was uploaded, else False\n",
    "    \"\"\"\n",
    "\n",
    "    # If S3 object_name was not specified, use file_name\n",
    "    if object_name is None:\n",
    "        object_name = file_name\n",
    "\n",
    "    # Upload the file\n",
    "    s3_client = boto3.client('s3')\n",
    "    try:\n",
    "        response = s3_client.upload_file(file_name, bucket, object_name)\n",
    "    except ClientError as e:\n",
    "        logging.error(e)\n",
    "        return False\n",
    "    return True"
   ]
  },
  {
   "cell_type": "code",
   "execution_count": null,
   "metadata": {},
   "outputs": [],
   "source": [
    "upload_to_S3_bucket(\"df_ds_tx_prepared.json\")"
   ]
  }
 ],
 "metadata": {
  "kernelspec": {
   "display_name": "Python 3",
   "language": "python",
   "name": "python3"
  },
  "language_info": {
   "codemirror_mode": {
    "name": "ipython",
    "version": 3
   },
   "file_extension": ".py",
   "mimetype": "text/x-python",
   "name": "python",
   "nbconvert_exporter": "python",
   "pygments_lexer": "ipython3",
   "version": "3.8.5"
  }
 },
 "nbformat": 4,
 "nbformat_minor": 4
}
