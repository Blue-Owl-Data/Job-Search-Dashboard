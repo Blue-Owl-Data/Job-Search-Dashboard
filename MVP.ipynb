{
 "cells": [
  {
   "cell_type": "markdown",
   "metadata": {},
   "source": [
    "# MVP"
   ]
  },
  {
   "cell_type": "code",
   "execution_count": 1,
   "metadata": {},
   "outputs": [],
   "source": [
    "# General Libraries\n",
    "import numpy as np\n",
    "import pandas as pd\n",
    "import matplotlib.pyplot as plt\n",
    "import seaborn as sns\n",
    "\n",
    "# AWS Libraries\n",
    "import logging\n",
    "import boto3\n",
    "from botocore.exceptions import ClientError\n",
    "\n",
    "# NLP Libraries\n",
    "import unicodedata\n",
    "import nltk\n",
    "from nltk.tokenize.toktok import ToktokTokenizer\n",
    "from nltk.corpus import stopwords\n",
    "from wordcloud import WordCloud\n",
    "\n",
    "# Geo-mapping Libraries\n",
    "import geopandas\n",
    "import geopy\n",
    "import folium \n",
    "\n",
    "# Helper Functions\n",
    "import MVP_acquire_ds, MVP_explore\n",
    "\n",
    "import warnings\n",
    "warnings.filterwarnings(\"ignore\")"
   ]
  },
  {
   "cell_type": "markdown",
   "metadata": {},
   "source": [
    "## Data Acquisition"
   ]
  },
  {
   "cell_type": "markdown",
   "metadata": {},
   "source": [
    "### Download the JSON Files from AWS S3 Bucket"
   ]
  },
  {
   "cell_type": "code",
   "execution_count": 2,
   "metadata": {},
   "outputs": [
    {
     "name": "stdout",
     "output_type": "stream",
     "text": [
      "Last modified datetime for data scientist positions in TX:  2021-02-23 17:42:45+00:00\n",
      "Last modified datetime for web developer positions in TX:  2021-02-23 17:43:26+00:00\n"
     ]
    }
   ],
   "source": [
    "# Create the s3 resource object\n",
    "s3 = boto3.resource('s3')\n",
    "\n",
    "# Download the json files from AWS\n",
    "\n",
    "s3.Bucket(\"dspreparedjobpostings\").download_file(\"df_ds_tx_prepared_backup.json\", \n",
    "                                                 \"df_ds_tx_prepared_backup.json\")\n",
    "\n",
    "# Print the last modified datetime of the prepared file of data scientist positions in TX\n",
    "print(\"Last modified datetime for data scientist positions in TX: \", \n",
    "      s3.Object('dspreparedjobpostings', 'df_ds_tx_prepared_backup.json').last_modified)\n",
    "\n",
    "s3.Bucket(\"wdpreparedjobpostings\").download_file(\"df_wd_tx_prepared_backup.json\", \n",
    "                                                 \"df_wd_tx_prepared_backup.json\")\n",
    "\n",
    "# Print the last modified datetime of the prepared file of web developer positions in TX\n",
    "print(\"Last modified datetime for web developer positions in TX: \", \n",
    "      s3.Object('wdpreparedjobpostings', 'df_wd_tx_prepared_backup.json').last_modified)"
   ]
  },
  {
   "cell_type": "markdown",
   "metadata": {},
   "source": [
    "## Data Preparation"
   ]
  },
  {
   "cell_type": "markdown",
   "metadata": {},
   "source": [
    "### Load JSON Files into Dataframe and Set the Date as the Index"
   ]
  },
  {
   "cell_type": "code",
   "execution_count": 2,
   "metadata": {},
   "outputs": [
    {
     "name": "stdout",
     "output_type": "stream",
     "text": [
      "Number of data scientist job postings in TX:  2234\n",
      "Number of web developer job postings in TX:  4285\n"
     ]
    }
   ],
   "source": [
    "# Read the json file and convert it to pandas dataframe\n",
    "\n",
    "df_ds = pd.read_json('df_ds_tx_prepared_backup.json')\n",
    "df_wd = pd.read_json('df_wd_tx_prepared_backup.json')\n",
    "\n",
    "# Set the date column as the index and sort the index\n",
    "\n",
    "df_ds.date = pd.to_datetime(df_ds.date)\n",
    "df_ds = df_ds.set_index('date').sort_index(ascending=False)\n",
    "df_wd.date = pd.to_datetime(df_wd.date)\n",
    "df_wd = df_wd.set_index('date').sort_index(ascending=False)\n",
    "\n",
    "# Print the number of job postings in each dataframe\n",
    "\n",
    "print(\"Number of data scientist job postings in TX: \", df_ds.shape[0])\n",
    "print(\"Number of web developer job postings in TX: \", df_wd.shape[0])"
   ]
  },
  {
   "cell_type": "code",
   "execution_count": 3,
   "metadata": {},
   "outputs": [
    {
     "name": "stdout",
     "output_type": "stream",
     "text": [
      "<class 'pandas.core.frame.DataFrame'>\n",
      "DatetimeIndex: 2234 entries, 2021-02-23 to 2020-12-22\n",
      "Data columns (total 9 columns):\n",
      " #   Column           Non-Null Count  Dtype  \n",
      "---  ------           --------------  -----  \n",
      " 0   title            2234 non-null   object \n",
      " 1   company          2234 non-null   object \n",
      " 2   company_rating   2234 non-null   float64\n",
      " 3   job_link         2234 non-null   object \n",
      " 4   job_description  2234 non-null   object \n",
      " 5   city             2234 non-null   object \n",
      " 6   state            2234 non-null   object \n",
      " 7   zipcode          2234 non-null   int64  \n",
      " 8   clean            2234 non-null   object \n",
      "dtypes: float64(1), int64(1), object(7)\n",
      "memory usage: 174.5+ KB\n"
     ]
    }
   ],
   "source": [
    "# Print the concise summary of the dataframe df_ds\n",
    "df_ds.info()"
   ]
  },
  {
   "cell_type": "code",
   "execution_count": 4,
   "metadata": {},
   "outputs": [
    {
     "name": "stdout",
     "output_type": "stream",
     "text": [
      "<class 'pandas.core.frame.DataFrame'>\n",
      "DatetimeIndex: 4285 entries, 2021-02-23 to 2021-01-04\n",
      "Data columns (total 9 columns):\n",
      " #   Column           Non-Null Count  Dtype  \n",
      "---  ------           --------------  -----  \n",
      " 0   title            4285 non-null   object \n",
      " 1   company          4285 non-null   object \n",
      " 2   company_rating   4285 non-null   float64\n",
      " 3   job_link         4285 non-null   object \n",
      " 4   job_description  4285 non-null   object \n",
      " 5   city             4285 non-null   object \n",
      " 6   state            4285 non-null   object \n",
      " 7   zipcode          4285 non-null   int64  \n",
      " 8   clean            4285 non-null   object \n",
      "dtypes: float64(1), int64(1), object(7)\n",
      "memory usage: 334.8+ KB\n"
     ]
    }
   ],
   "source": [
    "# Print the concise summary of the dataframe df_wd\n",
    "df_wd.info()"
   ]
  },
  {
   "cell_type": "code",
   "execution_count": 6,
   "metadata": {},
   "outputs": [
    {
     "data": {
      "text/html": [
       "<div>\n",
       "<style scoped>\n",
       "    .dataframe tbody tr th:only-of-type {\n",
       "        vertical-align: middle;\n",
       "    }\n",
       "\n",
       "    .dataframe tbody tr th {\n",
       "        vertical-align: top;\n",
       "    }\n",
       "\n",
       "    .dataframe thead th {\n",
       "        text-align: right;\n",
       "    }\n",
       "</style>\n",
       "<table border=\"1\" class=\"dataframe\">\n",
       "  <thead>\n",
       "    <tr style=\"text-align: right;\">\n",
       "      <th></th>\n",
       "      <th>title</th>\n",
       "      <th>company</th>\n",
       "      <th>company_rating</th>\n",
       "      <th>job_link</th>\n",
       "      <th>job_description</th>\n",
       "      <th>city</th>\n",
       "      <th>state</th>\n",
       "      <th>zipcode</th>\n",
       "      <th>clean</th>\n",
       "    </tr>\n",
       "    <tr>\n",
       "      <th>date</th>\n",
       "      <th></th>\n",
       "      <th></th>\n",
       "      <th></th>\n",
       "      <th></th>\n",
       "      <th></th>\n",
       "      <th></th>\n",
       "      <th></th>\n",
       "      <th></th>\n",
       "      <th></th>\n",
       "    </tr>\n",
       "  </thead>\n",
       "  <tbody>\n",
       "    <tr>\n",
       "      <th>2021-02-23</th>\n",
       "      <td>Senior Data Scientist - ProServe</td>\n",
       "      <td>Amazon Web Services, Inc.</td>\n",
       "      <td>3.6</td>\n",
       "      <td>https://www.indeed.com/rc/clk?jk=244b52fdf1a25...</td>\n",
       "      <td>\\nBachelor’s degree in a highly quantitative f...</td>\n",
       "      <td>San Antonio</td>\n",
       "      <td>TX</td>\n",
       "      <td>0</td>\n",
       "      <td>bachelor degree highly quantitative field comp...</td>\n",
       "    </tr>\n",
       "    <tr>\n",
       "      <th>2021-02-23</th>\n",
       "      <td>Supply Chain Data Analyst</td>\n",
       "      <td>EthosEnergy Group</td>\n",
       "      <td>3.3</td>\n",
       "      <td>https://www.indeed.com/rc/clk?jk=83cbe651fdfb2...</td>\n",
       "      <td>Job Overview\\nThe Supply Chain Data Analyst se...</td>\n",
       "      <td>Houston</td>\n",
       "      <td>TX</td>\n",
       "      <td>77092</td>\n",
       "      <td>job overview supply chain data analyst seek co...</td>\n",
       "    </tr>\n",
       "    <tr>\n",
       "      <th>2021-02-23</th>\n",
       "      <td>Sr. Technical Product Manager, Digital Machine...</td>\n",
       "      <td>Apple</td>\n",
       "      <td>4.2</td>\n",
       "      <td>https://www.indeed.com/rc/clk?jk=c62329422529e...</td>\n",
       "      <td>Summary\\nPosted: Feb 22, 2021\\nWeekly Hours: 4...</td>\n",
       "      <td>Austin</td>\n",
       "      <td>TX</td>\n",
       "      <td>0</td>\n",
       "      <td>summary posted feb 22 2021 weekly hour 40 role...</td>\n",
       "    </tr>\n",
       "    <tr>\n",
       "      <th>2021-02-23</th>\n",
       "      <td>Associate Data Scientist</td>\n",
       "      <td>Southwest Airlines Co.</td>\n",
       "      <td>4.3</td>\n",
       "      <td>https://www.indeed.com/rc/clk?jk=ca6fb6db72448...</td>\n",
       "      <td>Overview:\\n\\nSouthwest will provide a stable w...</td>\n",
       "      <td>Dallas</td>\n",
       "      <td>TX</td>\n",
       "      <td>75235</td>\n",
       "      <td>overview southwest provide stable work environ...</td>\n",
       "    </tr>\n",
       "    <tr>\n",
       "      <th>2021-02-23</th>\n",
       "      <td>Senior Data Scientist</td>\n",
       "      <td>Hewlett Packard Enterprise</td>\n",
       "      <td>3.8</td>\n",
       "      <td>https://www.indeed.com/rc/clk?jk=6cfebd31701b4...</td>\n",
       "      <td>Hewlett Packard Enterprise (HPE) advances the ...</td>\n",
       "      <td>Austin</td>\n",
       "      <td>TX</td>\n",
       "      <td>78758</td>\n",
       "      <td>hewlett packard enterprise hpe advance way peo...</td>\n",
       "    </tr>\n",
       "  </tbody>\n",
       "</table>\n",
       "</div>"
      ],
      "text/plain": [
       "                                                        title  \\\n",
       "date                                                            \n",
       "2021-02-23                   Senior Data Scientist - ProServe   \n",
       "2021-02-23                          Supply Chain Data Analyst   \n",
       "2021-02-23  Sr. Technical Product Manager, Digital Machine...   \n",
       "2021-02-23                           Associate Data Scientist   \n",
       "2021-02-23                              Senior Data Scientist   \n",
       "\n",
       "                               company  company_rating  \\\n",
       "date                                                     \n",
       "2021-02-23   Amazon Web Services, Inc.             3.6   \n",
       "2021-02-23           EthosEnergy Group             3.3   \n",
       "2021-02-23                       Apple             4.2   \n",
       "2021-02-23      Southwest Airlines Co.             4.3   \n",
       "2021-02-23  Hewlett Packard Enterprise             3.8   \n",
       "\n",
       "                                                     job_link  \\\n",
       "date                                                            \n",
       "2021-02-23  https://www.indeed.com/rc/clk?jk=244b52fdf1a25...   \n",
       "2021-02-23  https://www.indeed.com/rc/clk?jk=83cbe651fdfb2...   \n",
       "2021-02-23  https://www.indeed.com/rc/clk?jk=c62329422529e...   \n",
       "2021-02-23  https://www.indeed.com/rc/clk?jk=ca6fb6db72448...   \n",
       "2021-02-23  https://www.indeed.com/rc/clk?jk=6cfebd31701b4...   \n",
       "\n",
       "                                              job_description         city  \\\n",
       "date                                                                         \n",
       "2021-02-23  \\nBachelor’s degree in a highly quantitative f...  San Antonio   \n",
       "2021-02-23  Job Overview\\nThe Supply Chain Data Analyst se...      Houston   \n",
       "2021-02-23  Summary\\nPosted: Feb 22, 2021\\nWeekly Hours: 4...       Austin   \n",
       "2021-02-23  Overview:\\n\\nSouthwest will provide a stable w...       Dallas   \n",
       "2021-02-23  Hewlett Packard Enterprise (HPE) advances the ...       Austin   \n",
       "\n",
       "           state  zipcode                                              clean  \n",
       "date                                                                          \n",
       "2021-02-23    TX        0  bachelor degree highly quantitative field comp...  \n",
       "2021-02-23    TX    77092  job overview supply chain data analyst seek co...  \n",
       "2021-02-23    TX        0  summary posted feb 22 2021 weekly hour 40 role...  \n",
       "2021-02-23    TX    75235  overview southwest provide stable work environ...  \n",
       "2021-02-23    TX    78758  hewlett packard enterprise hpe advance way peo...  "
      ]
     },
     "execution_count": 6,
     "metadata": {},
     "output_type": "execute_result"
    }
   ],
   "source": [
    "# Print the first 5 rows of the dataframe df_ds\n",
    "df_ds.head()"
   ]
  },
  {
   "cell_type": "code",
   "execution_count": 7,
   "metadata": {},
   "outputs": [
    {
     "data": {
      "text/html": [
       "<div>\n",
       "<style scoped>\n",
       "    .dataframe tbody tr th:only-of-type {\n",
       "        vertical-align: middle;\n",
       "    }\n",
       "\n",
       "    .dataframe tbody tr th {\n",
       "        vertical-align: top;\n",
       "    }\n",
       "\n",
       "    .dataframe thead th {\n",
       "        text-align: right;\n",
       "    }\n",
       "</style>\n",
       "<table border=\"1\" class=\"dataframe\">\n",
       "  <thead>\n",
       "    <tr style=\"text-align: right;\">\n",
       "      <th></th>\n",
       "      <th>title</th>\n",
       "      <th>company</th>\n",
       "      <th>company_rating</th>\n",
       "      <th>job_link</th>\n",
       "      <th>job_description</th>\n",
       "      <th>city</th>\n",
       "      <th>state</th>\n",
       "      <th>zipcode</th>\n",
       "      <th>clean</th>\n",
       "    </tr>\n",
       "    <tr>\n",
       "      <th>date</th>\n",
       "      <th></th>\n",
       "      <th></th>\n",
       "      <th></th>\n",
       "      <th></th>\n",
       "      <th></th>\n",
       "      <th></th>\n",
       "      <th></th>\n",
       "      <th></th>\n",
       "      <th></th>\n",
       "    </tr>\n",
       "  </thead>\n",
       "  <tbody>\n",
       "    <tr>\n",
       "      <th>2021-02-23</th>\n",
       "      <td>UI AngularJS Bootstrap Developer</td>\n",
       "      <td>iboss</td>\n",
       "      <td>3.2</td>\n",
       "      <td>https://www.indeed.com/rc/clk?jk=7b562f4350e26...</td>\n",
       "      <td>Company Overview\\niboss is a cloud security co...</td>\n",
       "      <td>Austin</td>\n",
       "      <td>TX</td>\n",
       "      <td>0</td>\n",
       "      <td>company overview iboss cloud security company ...</td>\n",
       "    </tr>\n",
       "    <tr>\n",
       "      <th>2021-02-23</th>\n",
       "      <td>Senior UI Developer – React</td>\n",
       "      <td>Cognizant Technology Solutions</td>\n",
       "      <td>0.0</td>\n",
       "      <td>https://www.indeed.com/pagead/clk?mo=r&amp;ad=-6NY...</td>\n",
       "      <td>Senior UI Developer – React Cognizant Interact...</td>\n",
       "      <td>Dallas-Fort Worth</td>\n",
       "      <td>TX</td>\n",
       "      <td>0</td>\n",
       "      <td>senior ui developer react cognizant interactiv...</td>\n",
       "    </tr>\n",
       "    <tr>\n",
       "      <th>2021-02-23</th>\n",
       "      <td>Security Engineer</td>\n",
       "      <td>Box</td>\n",
       "      <td>5.0</td>\n",
       "      <td>https://www.indeed.com/rc/clk?jk=de94237091d9c...</td>\n",
       "      <td>WHAT IS BOX?\\nBox is the market leader for Clo...</td>\n",
       "      <td>Austin</td>\n",
       "      <td>TX</td>\n",
       "      <td>0</td>\n",
       "      <td>box box market leader cloud content management...</td>\n",
       "    </tr>\n",
       "    <tr>\n",
       "      <th>2021-02-23</th>\n",
       "      <td>Behavioral Health Therapist PHP - Full Time Da...</td>\n",
       "      <td>Texas Health Resources</td>\n",
       "      <td>3.9</td>\n",
       "      <td>https://www.indeed.com/rc/clk?jk=f010cad109fdd...</td>\n",
       "      <td>Texas Health H-E-B seeks to hire a Behavioral ...</td>\n",
       "      <td>Bedford</td>\n",
       "      <td>TX</td>\n",
       "      <td>76022</td>\n",
       "      <td>texas health heb seek hire behavioral health t...</td>\n",
       "    </tr>\n",
       "    <tr>\n",
       "      <th>2021-02-23</th>\n",
       "      <td>Full Stack Java Software Engineer</td>\n",
       "      <td>JPMorgan Chase Bank, N.A.</td>\n",
       "      <td>3.9</td>\n",
       "      <td>https://www.indeed.com/rc/clk?jk=106f30609958b...</td>\n",
       "      <td>Commercial Banking serves global clients, incl...</td>\n",
       "      <td>Plano</td>\n",
       "      <td>TX</td>\n",
       "      <td>0</td>\n",
       "      <td>commercial banking serf global client includin...</td>\n",
       "    </tr>\n",
       "  </tbody>\n",
       "</table>\n",
       "</div>"
      ],
      "text/plain": [
       "                                                        title  \\\n",
       "date                                                            \n",
       "2021-02-23                   UI AngularJS Bootstrap Developer   \n",
       "2021-02-23                        Senior UI Developer – React   \n",
       "2021-02-23                                  Security Engineer   \n",
       "2021-02-23  Behavioral Health Therapist PHP - Full Time Da...   \n",
       "2021-02-23                  Full Stack Java Software Engineer   \n",
       "\n",
       "                                   company  company_rating  \\\n",
       "date                                                         \n",
       "2021-02-23                           iboss             3.2   \n",
       "2021-02-23  Cognizant Technology Solutions             0.0   \n",
       "2021-02-23                             Box             5.0   \n",
       "2021-02-23          Texas Health Resources             3.9   \n",
       "2021-02-23       JPMorgan Chase Bank, N.A.             3.9   \n",
       "\n",
       "                                                     job_link  \\\n",
       "date                                                            \n",
       "2021-02-23  https://www.indeed.com/rc/clk?jk=7b562f4350e26...   \n",
       "2021-02-23  https://www.indeed.com/pagead/clk?mo=r&ad=-6NY...   \n",
       "2021-02-23  https://www.indeed.com/rc/clk?jk=de94237091d9c...   \n",
       "2021-02-23  https://www.indeed.com/rc/clk?jk=f010cad109fdd...   \n",
       "2021-02-23  https://www.indeed.com/rc/clk?jk=106f30609958b...   \n",
       "\n",
       "                                              job_description  \\\n",
       "date                                                            \n",
       "2021-02-23  Company Overview\\niboss is a cloud security co...   \n",
       "2021-02-23  Senior UI Developer – React Cognizant Interact...   \n",
       "2021-02-23  WHAT IS BOX?\\nBox is the market leader for Clo...   \n",
       "2021-02-23  Texas Health H-E-B seeks to hire a Behavioral ...   \n",
       "2021-02-23  Commercial Banking serves global clients, incl...   \n",
       "\n",
       "                         city state  zipcode  \\\n",
       "date                                           \n",
       "2021-02-23             Austin    TX        0   \n",
       "2021-02-23  Dallas-Fort Worth    TX        0   \n",
       "2021-02-23             Austin    TX        0   \n",
       "2021-02-23            Bedford    TX    76022   \n",
       "2021-02-23              Plano    TX        0   \n",
       "\n",
       "                                                        clean  \n",
       "date                                                           \n",
       "2021-02-23  company overview iboss cloud security company ...  \n",
       "2021-02-23  senior ui developer react cognizant interactiv...  \n",
       "2021-02-23  box box market leader cloud content management...  \n",
       "2021-02-23  texas health heb seek hire behavioral health t...  \n",
       "2021-02-23  commercial banking serf global client includin...  "
      ]
     },
     "execution_count": 7,
     "metadata": {},
     "output_type": "execute_result"
    }
   ],
   "source": [
    "# Print the first 5 rows of the dataframe df_wd\n",
    "df_wd.head()"
   ]
  },
  {
   "cell_type": "markdown",
   "metadata": {},
   "source": [
    "### Brief Summary of the Job Postings"
   ]
  },
  {
   "cell_type": "markdown",
   "metadata": {},
   "source": [
    "#### Data Scientist Position"
   ]
  },
  {
   "cell_type": "code",
   "execution_count": 8,
   "metadata": {},
   "outputs": [
    {
     "data": {
      "text/plain": [
       "Cognizant Technology Solutions    63\n",
       "Facebook                          50\n",
       "USAA                              50\n",
       "Dell Technologies                 46\n",
       "Deloitte                          46\n",
       "Name: company, dtype: int64"
      ]
     },
     "execution_count": 8,
     "metadata": {},
     "output_type": "execute_result"
    }
   ],
   "source": [
    "# Which companies hire the most data scientists in TX?\n",
    "df_ds.company.value_counts().head()"
   ]
  },
  {
   "cell_type": "code",
   "execution_count": 9,
   "metadata": {},
   "outputs": [
    {
     "data": {
      "text/plain": [
       "Austin         653\n",
       "Dallas         367\n",
       "Houston        279\n",
       "Plano          180\n",
       "San Antonio    171\n",
       "Name: city, dtype: int64"
      ]
     },
     "execution_count": 9,
     "metadata": {},
     "output_type": "execute_result"
    }
   ],
   "source": [
    "# Which cities have the most data scientists postions in TX?\n",
    "df_ds.city.value_counts().head()"
   ]
  },
  {
   "cell_type": "code",
   "execution_count": 10,
   "metadata": {},
   "outputs": [
    {
     "data": {
      "text/plain": [
       "date\n",
       "2020-12-27    392\n",
       "2021-01-03    136\n",
       "2021-01-10    212\n",
       "2021-01-17    187\n",
       "2021-01-24    352\n",
       "2021-01-31    292\n",
       "2021-02-07    259\n",
       "2021-02-14    263\n",
       "2021-02-21    111\n",
       "2021-02-28     30\n",
       "Freq: W-SUN, Name: title, dtype: int64"
      ]
     },
     "execution_count": 10,
     "metadata": {},
     "output_type": "execute_result"
    }
   ],
   "source": [
    "# How does the number of job postings change over time?\n",
    "df_ds.resample('W').title.count()"
   ]
  },
  {
   "cell_type": "code",
   "execution_count": 11,
   "metadata": {},
   "outputs": [
    {
     "data": {
      "text/plain": [
       "company\n",
       "Rekruiters            5.0\n",
       "Digital Pharmacist    5.0\n",
       "Onit                  4.7\n",
       "Levelset              4.7\n",
       "Harnham               4.6\n",
       "Name: company_rating, dtype: float64"
      ]
     },
     "execution_count": 11,
     "metadata": {},
     "output_type": "execute_result"
    }
   ],
   "source": [
    "# Which company has the best avereage rating? \n",
    "df_ds.groupby('company').company_rating.mean().sort_values(ascending=False).head()"
   ]
  },
  {
   "cell_type": "code",
   "execution_count": 12,
   "metadata": {},
   "outputs": [
    {
     "data": {
      "text/plain": [
       "Data Scientist               231\n",
       "Senior Data Scientist         84\n",
       "Machine Learning Engineer     53\n",
       "Senior Data Analyst           52\n",
       "Sr. Data Scientist            38\n",
       "Name: title, dtype: int64"
      ]
     },
     "execution_count": 12,
     "metadata": {},
     "output_type": "execute_result"
    }
   ],
   "source": [
    "df_ds.title.value_counts().head()"
   ]
  },
  {
   "cell_type": "markdown",
   "metadata": {},
   "source": [
    "#### Web Developer Position"
   ]
  },
  {
   "cell_type": "code",
   "execution_count": 13,
   "metadata": {},
   "outputs": [
    {
     "data": {
      "text/plain": [
       "CyberCoders                            176\n",
       "Indeed                                 124\n",
       "JPMorgan Chase Bank, N.A.              121\n",
       "Infinity Consulting Solutions, Inc.     71\n",
       "Cognizant Technology Solutions          65\n",
       "Name: company, dtype: int64"
      ]
     },
     "execution_count": 13,
     "metadata": {},
     "output_type": "execute_result"
    }
   ],
   "source": [
    "# Which companies hire the most web developers in TX?\n",
    "df_wd.company.value_counts().head()"
   ]
  },
  {
   "cell_type": "code",
   "execution_count": 14,
   "metadata": {},
   "outputs": [
    {
     "data": {
      "text/plain": [
       "Austin     1331\n",
       "Dallas      599\n",
       "Houston     479\n",
       "Plano       346\n",
       "Name: city, dtype: int64"
      ]
     },
     "execution_count": 14,
     "metadata": {},
     "output_type": "execute_result"
    }
   ],
   "source": [
    "# Which cities have the most web developers postions in TX?\n",
    "df_wd.city.value_counts().head(4)"
   ]
  },
  {
   "cell_type": "code",
   "execution_count": 15,
   "metadata": {},
   "outputs": [
    {
     "data": {
      "text/plain": [
       "date\n",
       "2021-01-10      62\n",
       "2021-01-17     346\n",
       "2021-01-24     793\n",
       "2021-01-31    1054\n",
       "2021-02-07     825\n",
       "2021-02-14     772\n",
       "2021-02-21     347\n",
       "2021-02-28      86\n",
       "Freq: W-SUN, Name: title, dtype: int64"
      ]
     },
     "execution_count": 15,
     "metadata": {},
     "output_type": "execute_result"
    }
   ],
   "source": [
    "# How does the number of job postings change over time?\n",
    "df_wd.resample('W').title.count()"
   ]
  },
  {
   "cell_type": "code",
   "execution_count": 16,
   "metadata": {},
   "outputs": [
    {
     "data": {
      "text/plain": [
       "company\n",
       "The Evolvers Group     5.0\n",
       "Royal & Ross           5.0\n",
       "MarketScale            5.0\n",
       "RightNow Ministries    5.0\n",
       "PEAKE                  5.0\n",
       "Name: company_rating, dtype: float64"
      ]
     },
     "execution_count": 16,
     "metadata": {},
     "output_type": "execute_result"
    }
   ],
   "source": [
    "# Which company has the best avereage rating? \n",
    "df_wd.groupby('company').company_rating.mean().sort_values(ascending=False).head()"
   ]
  },
  {
   "cell_type": "code",
   "execution_count": 17,
   "metadata": {},
   "outputs": [
    {
     "data": {
      "text/plain": [
       "Software Engineer           92\n",
       "Web Developer               79\n",
       "Senior Software Engineer    75\n",
       "Software Developer          72\n",
       "Full Stack Developer        63\n",
       "Name: title, dtype: int64"
      ]
     },
     "execution_count": 17,
     "metadata": {},
     "output_type": "execute_result"
    }
   ],
   "source": [
    "df_wd.title.value_counts().head()"
   ]
  },
  {
   "cell_type": "markdown",
   "metadata": {},
   "source": [
    "### Top k Needed Skills"
   ]
  },
  {
   "cell_type": "markdown",
   "metadata": {},
   "source": [
    "#### Data Scientist Position\n",
    "- Tech Skills\n",
    "- Soft Skills\n",
    "- General Skills (Combination of Tech+Soft)"
   ]
  },
  {
   "cell_type": "code",
   "execution_count": 5,
   "metadata": {},
   "outputs": [],
   "source": [
    "# Create a tech library\n",
    "ds_tech_library = ['python','sql','pandas','numpy','matplotlib','scikit learn','scikitlearn','spark','hadoop',\n",
    "                'aws','amazon web services','azure','microsoft word', 'microsoft excel','excel','tableau',\n",
    "                'tensor flow','pytorch','hive','impala','matlab','etl','statistics','exploration',\n",
    "                'extraction','data wrangling','math','machine learning','data visualization','java','js',\n",
    "                'javascript','scala','r','c','c++','power bi','dashboard','linear algebra','calculus',\n",
    "                'neural networks','eda','big data','frameworks','database management','testing hypotheses',\n",
    "                'probability','data mining','perl','nosql','saas','git','github','natural language processing',\n",
    "                'nlp', 'deep learning','agile','kanban','project management','julia','devops','google cloud',\n",
    "                'pytorch','computer vision', 'deep neural networks','neural networks','amazon web services',\n",
    "                'natural language processing','extract,transform,load','mysql','structured query language']"
   ]
  },
  {
   "cell_type": "code",
   "execution_count": 6,
   "metadata": {},
   "outputs": [
    {
     "name": "stdout",
     "output_type": "stream",
     "text": [
      "Number of data science skills in tech skill library:  71\n",
      "Do you want to save the dataframe as JSON and upload to AWS? (Y/N)\n",
      "Y\n",
      "Enter the INITIALS of the job title:\n",
      "ds\n"
     ]
    },
    {
     "data": {
      "text/html": [
       "<div>\n",
       "<style scoped>\n",
       "    .dataframe tbody tr th:only-of-type {\n",
       "        vertical-align: middle;\n",
       "    }\n",
       "\n",
       "    .dataframe tbody tr th {\n",
       "        vertical-align: top;\n",
       "    }\n",
       "\n",
       "    .dataframe thead th {\n",
       "        text-align: right;\n",
       "    }\n",
       "</style>\n",
       "<table border=\"1\" class=\"dataframe\">\n",
       "  <thead>\n",
       "    <tr style=\"text-align: right;\">\n",
       "      <th></th>\n",
       "      <th>top5_tech_skills</th>\n",
       "      <th>frequency</th>\n",
       "    </tr>\n",
       "  </thead>\n",
       "  <tbody>\n",
       "    <tr>\n",
       "      <th>0</th>\n",
       "      <td>machine learning</td>\n",
       "      <td>3392.0</td>\n",
       "    </tr>\n",
       "    <tr>\n",
       "      <th>1</th>\n",
       "      <td>python</td>\n",
       "      <td>1798.0</td>\n",
       "    </tr>\n",
       "    <tr>\n",
       "      <th>2</th>\n",
       "      <td>sql</td>\n",
       "      <td>1379.0</td>\n",
       "    </tr>\n",
       "    <tr>\n",
       "      <th>3</th>\n",
       "      <td>aws</td>\n",
       "      <td>1040.0</td>\n",
       "    </tr>\n",
       "    <tr>\n",
       "      <th>4</th>\n",
       "      <td>r</td>\n",
       "      <td>1000.0</td>\n",
       "    </tr>\n",
       "  </tbody>\n",
       "</table>\n",
       "</div>"
      ],
      "text/plain": [
       "   top5_tech_skills  frequency\n",
       "0  machine learning     3392.0\n",
       "1            python     1798.0\n",
       "2               sql     1379.0\n",
       "3               aws     1040.0\n",
       "4                 r     1000.0"
      ]
     },
     "execution_count": 6,
     "metadata": {},
     "output_type": "execute_result"
    }
   ],
   "source": [
    "# Print the number of skills in the library\n",
    "print(\"Number of data science skills in tech skill library: \", len(ds_tech_library))\n",
    "\n",
    "# Print the top 5 needed tech skills\n",
    "\n",
    "ds_top_tech = MVP_explore.top_skills(df_ds, 5, ds_tech_library, 'tech')\n",
    "ds_top_tech"
   ]
  },
  {
   "cell_type": "code",
   "execution_count": 7,
   "metadata": {},
   "outputs": [],
   "source": [
    "# Create a soft skill library\n",
    "ds_soft_library = ['critical thinking','communication','problem solving','teamwork','ethics','business acumen',\n",
    "                'interpersonal skills','curiosity','storytelling','adaptability','team player','collaboration',\n",
    "                'time management','leadership','domain knowledge','creativity','decision making',\n",
    "                'verbal communication','written communication','teamwork']"
   ]
  },
  {
   "cell_type": "code",
   "execution_count": 8,
   "metadata": {},
   "outputs": [
    {
     "name": "stdout",
     "output_type": "stream",
     "text": [
      "Number of data science skills in soft skill library:  20\n",
      "Do you want to save the dataframe as JSON and upload to AWS? (Y/N)\n",
      "Y\n",
      "Enter the INITIALS of the job title:\n",
      "ds\n"
     ]
    },
    {
     "data": {
      "text/html": [
       "<div>\n",
       "<style scoped>\n",
       "    .dataframe tbody tr th:only-of-type {\n",
       "        vertical-align: middle;\n",
       "    }\n",
       "\n",
       "    .dataframe tbody tr th {\n",
       "        vertical-align: top;\n",
       "    }\n",
       "\n",
       "    .dataframe thead th {\n",
       "        text-align: right;\n",
       "    }\n",
       "</style>\n",
       "<table border=\"1\" class=\"dataframe\">\n",
       "  <thead>\n",
       "    <tr style=\"text-align: right;\">\n",
       "      <th></th>\n",
       "      <th>top5_soft_skills</th>\n",
       "      <th>frequency</th>\n",
       "    </tr>\n",
       "  </thead>\n",
       "  <tbody>\n",
       "    <tr>\n",
       "      <th>0</th>\n",
       "      <td>communication</td>\n",
       "      <td>1542.0</td>\n",
       "    </tr>\n",
       "    <tr>\n",
       "      <th>1</th>\n",
       "      <td>leadership</td>\n",
       "      <td>951.0</td>\n",
       "    </tr>\n",
       "    <tr>\n",
       "      <th>2</th>\n",
       "      <td>collaboration</td>\n",
       "      <td>455.0</td>\n",
       "    </tr>\n",
       "    <tr>\n",
       "      <th>3</th>\n",
       "      <td>problem solving</td>\n",
       "      <td>344.0</td>\n",
       "    </tr>\n",
       "    <tr>\n",
       "      <th>4</th>\n",
       "      <td>written communication</td>\n",
       "      <td>256.0</td>\n",
       "    </tr>\n",
       "  </tbody>\n",
       "</table>\n",
       "</div>"
      ],
      "text/plain": [
       "        top5_soft_skills  frequency\n",
       "0          communication     1542.0\n",
       "1             leadership      951.0\n",
       "2          collaboration      455.0\n",
       "3        problem solving      344.0\n",
       "4  written communication      256.0"
      ]
     },
     "execution_count": 8,
     "metadata": {},
     "output_type": "execute_result"
    }
   ],
   "source": [
    "# Print the number of skills in the library\n",
    "print(\"Number of data science skills in soft skill library: \", len(ds_soft_library))\n",
    "\n",
    "# Print the top 5 needed soft skills\n",
    "\n",
    "ds_top_soft = MVP_explore.top_skills(df_ds, 5, ds_soft_library, 'soft')\n",
    "ds_top_soft"
   ]
  },
  {
   "cell_type": "code",
   "execution_count": 9,
   "metadata": {},
   "outputs": [],
   "source": [
    "# Create a general library\n",
    "ds_general_library = ['python','sql','pandas','numpy','matplotlib','scikit learn','scikitlearn','spark','hadoop',\n",
    "                'aws','amazon web services','azure','microsoft word', 'microsoft excel','excel','tableau',\n",
    "                'tensor flow','pytorch','hive','impala','matlab','etl','statistics','exploration',\n",
    "                'extraction','data wrangling','math','machine learning','data visualization','java','js',\n",
    "                'javascript','scala','r','c','c++','power bi','dashboard','linear algebra','calculus',\n",
    "                'neural networks','eda','big data','frameworks','database management','testing hypotheses',\n",
    "                'probability','data mining','perl','nosql','saas','git','github','natural language processing',\n",
    "                'nlp', 'deep learning','agile','kanban','project management','julia','devops','google cloud',\n",
    "                'pytorch','computer vision', 'deep neural networks','neural networks','amazon web services',\n",
    "                'natural language processing','extract,transform,load','mysql','structured query language'\n",
    "                'critical thinking','communication','problem solving','teamwork','ethics','business acumen',\n",
    "                'interpersonal skills','curiosity','storytelling','adaptability','team player','collaboration',\n",
    "                'time management','leadership','domain knowledge','creativity','decision making',\n",
    "                'verbal communication','written communication','teamwork']"
   ]
  },
  {
   "cell_type": "code",
   "execution_count": 10,
   "metadata": {},
   "outputs": [
    {
     "name": "stdout",
     "output_type": "stream",
     "text": [
      "Number of data science skills in general skills library:  90\n",
      "Do you want to save the dataframe as JSON and upload to AWS? (Y/N)\n",
      "Y\n",
      "Enter the INITIALS of the job title:\n",
      "ds\n"
     ]
    },
    {
     "data": {
      "text/html": [
       "<div>\n",
       "<style scoped>\n",
       "    .dataframe tbody tr th:only-of-type {\n",
       "        vertical-align: middle;\n",
       "    }\n",
       "\n",
       "    .dataframe tbody tr th {\n",
       "        vertical-align: top;\n",
       "    }\n",
       "\n",
       "    .dataframe thead th {\n",
       "        text-align: right;\n",
       "    }\n",
       "</style>\n",
       "<table border=\"1\" class=\"dataframe\">\n",
       "  <thead>\n",
       "    <tr style=\"text-align: right;\">\n",
       "      <th></th>\n",
       "      <th>top5_general_skills</th>\n",
       "      <th>frequency</th>\n",
       "    </tr>\n",
       "  </thead>\n",
       "  <tbody>\n",
       "    <tr>\n",
       "      <th>0</th>\n",
       "      <td>machine learning</td>\n",
       "      <td>3392.0</td>\n",
       "    </tr>\n",
       "    <tr>\n",
       "      <th>1</th>\n",
       "      <td>python</td>\n",
       "      <td>1798.0</td>\n",
       "    </tr>\n",
       "    <tr>\n",
       "      <th>2</th>\n",
       "      <td>communication</td>\n",
       "      <td>1542.0</td>\n",
       "    </tr>\n",
       "    <tr>\n",
       "      <th>3</th>\n",
       "      <td>sql</td>\n",
       "      <td>1379.0</td>\n",
       "    </tr>\n",
       "    <tr>\n",
       "      <th>4</th>\n",
       "      <td>aws</td>\n",
       "      <td>1040.0</td>\n",
       "    </tr>\n",
       "  </tbody>\n",
       "</table>\n",
       "</div>"
      ],
      "text/plain": [
       "  top5_general_skills  frequency\n",
       "0    machine learning     3392.0\n",
       "1              python     1798.0\n",
       "2       communication     1542.0\n",
       "3                 sql     1379.0\n",
       "4                 aws     1040.0"
      ]
     },
     "execution_count": 10,
     "metadata": {},
     "output_type": "execute_result"
    }
   ],
   "source": [
    "# Print the number of skills in the library\n",
    "print(\"Number of data science skills in general skills library: \", len(ds_general_library))\n",
    "\n",
    "# Print the top 5 needed general skills\n",
    "\n",
    "ds_top_general = MVP_explore.top_skills(df_ds, 5, ds_general_library, 'general')\n",
    "ds_top_general"
   ]
  },
  {
   "cell_type": "markdown",
   "metadata": {},
   "source": [
    "#### Web Developer Position\n",
    "- Tech skills\n",
    "- Soft skills\n",
    "- General Skills (Combination of Tech+Soft)"
   ]
  },
  {
   "cell_type": "code",
   "execution_count": 11,
   "metadata": {},
   "outputs": [],
   "source": [
    "# Create a tech library\n",
    "wd_tech_library = ['html','css','javascript','debugging','git','github','libraries','frameworks','publishing web site',\n",
    "'photoshop','bootstrap','jquery','search engine optimization','seo','basic graphic design','front end','back end',\n",
    "'visual studio code','visual studio','figma','zeplin','sketch','gatspy','strapi','paint','canva','aws','azure',\n",
    "'amazon web services','sql','mysql','nosql','node','node.js','js','json','api','google charts','d3','d3.js','react',\n",
    "'angular','ember','vue','python','c','c++','ruby','ruby on rails','git','github','php','net','.net','java','c#',\n",
    "'linux','go','gcp','troubleshooting','problem solving','ux','ui','ux/ui','cloud computing','netlify','net']  "
   ]
  },
  {
   "cell_type": "code",
   "execution_count": 12,
   "metadata": {},
   "outputs": [
    {
     "name": "stdout",
     "output_type": "stream",
     "text": [
      "Number of web dev skills in tech skill library:  67\n",
      "Do you want to save the dataframe as JSON and upload to AWS? (Y/N)\n",
      "Y\n",
      "Enter the INITIALS of the job title:\n",
      "wd\n"
     ]
    },
    {
     "data": {
      "text/html": [
       "<div>\n",
       "<style scoped>\n",
       "    .dataframe tbody tr th:only-of-type {\n",
       "        vertical-align: middle;\n",
       "    }\n",
       "\n",
       "    .dataframe tbody tr th {\n",
       "        vertical-align: top;\n",
       "    }\n",
       "\n",
       "    .dataframe thead th {\n",
       "        text-align: right;\n",
       "    }\n",
       "</style>\n",
       "<table border=\"1\" class=\"dataframe\">\n",
       "  <thead>\n",
       "    <tr style=\"text-align: right;\">\n",
       "      <th></th>\n",
       "      <th>top5_tech_skills</th>\n",
       "      <th>frequency</th>\n",
       "    </tr>\n",
       "  </thead>\n",
       "  <tbody>\n",
       "    <tr>\n",
       "      <th>0</th>\n",
       "      <td>javascript</td>\n",
       "      <td>3438.0</td>\n",
       "    </tr>\n",
       "    <tr>\n",
       "      <th>1</th>\n",
       "      <td>java</td>\n",
       "      <td>2316.0</td>\n",
       "    </tr>\n",
       "    <tr>\n",
       "      <th>2</th>\n",
       "      <td>sql</td>\n",
       "      <td>2090.0</td>\n",
       "    </tr>\n",
       "    <tr>\n",
       "      <th>3</th>\n",
       "      <td>react</td>\n",
       "      <td>1849.0</td>\n",
       "    </tr>\n",
       "    <tr>\n",
       "      <th>4</th>\n",
       "      <td>net</td>\n",
       "      <td>1657.0</td>\n",
       "    </tr>\n",
       "  </tbody>\n",
       "</table>\n",
       "</div>"
      ],
      "text/plain": [
       "  top5_tech_skills  frequency\n",
       "0       javascript     3438.0\n",
       "1             java     2316.0\n",
       "2              sql     2090.0\n",
       "3            react     1849.0\n",
       "4              net     1657.0"
      ]
     },
     "execution_count": 12,
     "metadata": {},
     "output_type": "execute_result"
    }
   ],
   "source": [
    "# Print the number of skills in the library\n",
    "print(\"Number of web dev skills in tech skill library: \", len(wd_tech_library))\n",
    "\n",
    "# Print the top 5 needed tech skills\n",
    "\n",
    "wd_top_tech = MVP_explore.top_skills(df_wd, 5, wd_tech_library, 'tech')\n",
    "wd_top_tech"
   ]
  },
  {
   "cell_type": "code",
   "execution_count": 13,
   "metadata": {},
   "outputs": [],
   "source": [
    "# Create a soft library\n",
    "wd_soft_library = ['critical thinking','communication','problem solving','teamwork','ethics','business acumen',\n",
    "                'interpersonal skills','curiosity','storytelling','adaptability','team player','collaboration',\n",
    "                'time management','leadership','domain knowledge','creativity','decision making',\n",
    "                'verbal communication','written communication','teamwork'] "
   ]
  },
  {
   "cell_type": "code",
   "execution_count": 14,
   "metadata": {},
   "outputs": [
    {
     "name": "stdout",
     "output_type": "stream",
     "text": [
      "Number of web dev skills in soft skill library:  20\n",
      "Do you want to save the dataframe as JSON and upload to AWS? (Y/N)\n",
      "Y\n",
      "Enter the INITIALS of the job title:\n",
      "wd\n"
     ]
    },
    {
     "data": {
      "text/html": [
       "<div>\n",
       "<style scoped>\n",
       "    .dataframe tbody tr th:only-of-type {\n",
       "        vertical-align: middle;\n",
       "    }\n",
       "\n",
       "    .dataframe tbody tr th {\n",
       "        vertical-align: top;\n",
       "    }\n",
       "\n",
       "    .dataframe thead th {\n",
       "        text-align: right;\n",
       "    }\n",
       "</style>\n",
       "<table border=\"1\" class=\"dataframe\">\n",
       "  <thead>\n",
       "    <tr style=\"text-align: right;\">\n",
       "      <th></th>\n",
       "      <th>top5_soft_skills</th>\n",
       "      <th>frequency</th>\n",
       "    </tr>\n",
       "  </thead>\n",
       "  <tbody>\n",
       "    <tr>\n",
       "      <th>0</th>\n",
       "      <td>communication</td>\n",
       "      <td>2488.0</td>\n",
       "    </tr>\n",
       "    <tr>\n",
       "      <th>1</th>\n",
       "      <td>leadership</td>\n",
       "      <td>982.0</td>\n",
       "    </tr>\n",
       "    <tr>\n",
       "      <th>2</th>\n",
       "      <td>collaboration</td>\n",
       "      <td>623.0</td>\n",
       "    </tr>\n",
       "    <tr>\n",
       "      <th>3</th>\n",
       "      <td>problem solving</td>\n",
       "      <td>533.0</td>\n",
       "    </tr>\n",
       "    <tr>\n",
       "      <th>4</th>\n",
       "      <td>written communication</td>\n",
       "      <td>384.0</td>\n",
       "    </tr>\n",
       "  </tbody>\n",
       "</table>\n",
       "</div>"
      ],
      "text/plain": [
       "        top5_soft_skills  frequency\n",
       "0          communication     2488.0\n",
       "1             leadership      982.0\n",
       "2          collaboration      623.0\n",
       "3        problem solving      533.0\n",
       "4  written communication      384.0"
      ]
     },
     "execution_count": 14,
     "metadata": {},
     "output_type": "execute_result"
    }
   ],
   "source": [
    "# Print the number of skills in the library\n",
    "print(\"Number of web dev skills in soft skill library: \", len(wd_soft_library))\n",
    "\n",
    "# Print the top 5 needed soft skills\n",
    "\n",
    "wd_top_tech = MVP_explore.top_skills(df_wd, 5, wd_soft_library, 'soft')\n",
    "wd_top_tech"
   ]
  },
  {
   "cell_type": "code",
   "execution_count": 15,
   "metadata": {},
   "outputs": [],
   "source": [
    "# Create a general library\n",
    "wd_general_library = ['html','css','javascript','debugging','git','github','libraries','frameworks','publishing web site',\n",
    "'photoshop','bootstrap','jquery','search engine optimization','seo','basic graphic design','front end','back end',\n",
    "'visual studio code','visual studio','figma','zeplin','sketch','gatspy','strapi','paint','canva','aws','azure',\n",
    "'amazon web services','sql','mysql','nosql','node','node.js','js','json','api','google charts','d3','d3.js','react',\n",
    "'angular','ember','vue','python','c','c++','ruby','ruby on rails','git','github','php','net','.net','java','c#',\n",
    "'linux','go','gcp','troubleshooting','problem solving','ux','ui','ux/ui','cloud computing','netlify','net''critical thinking',\n",
    "'communication','problem solving','teamwork','ethics','business acumen','interpersonal skills','curiosity',\n",
    "'storytelling','adaptability','team player','collaboration','time management','leadership','domain knowledge',\n",
    "'creativity','decision making','verbal communication','written communication','teamwork']"
   ]
  },
  {
   "cell_type": "code",
   "execution_count": 16,
   "metadata": {},
   "outputs": [
    {
     "name": "stdout",
     "output_type": "stream",
     "text": [
      "Number of web dev skills in general skill library:  86\n",
      "Do you want to save the dataframe as JSON and upload to AWS? (Y/N)\n",
      "Y\n",
      "Enter the INITIALS of the job title:\n",
      "wd\n"
     ]
    },
    {
     "data": {
      "text/html": [
       "<div>\n",
       "<style scoped>\n",
       "    .dataframe tbody tr th:only-of-type {\n",
       "        vertical-align: middle;\n",
       "    }\n",
       "\n",
       "    .dataframe tbody tr th {\n",
       "        vertical-align: top;\n",
       "    }\n",
       "\n",
       "    .dataframe thead th {\n",
       "        text-align: right;\n",
       "    }\n",
       "</style>\n",
       "<table border=\"1\" class=\"dataframe\">\n",
       "  <thead>\n",
       "    <tr style=\"text-align: right;\">\n",
       "      <th></th>\n",
       "      <th>top5_general_skills</th>\n",
       "      <th>frequency</th>\n",
       "    </tr>\n",
       "  </thead>\n",
       "  <tbody>\n",
       "    <tr>\n",
       "      <th>0</th>\n",
       "      <td>javascript</td>\n",
       "      <td>3438.0</td>\n",
       "    </tr>\n",
       "    <tr>\n",
       "      <th>1</th>\n",
       "      <td>communication</td>\n",
       "      <td>2488.0</td>\n",
       "    </tr>\n",
       "    <tr>\n",
       "      <th>2</th>\n",
       "      <td>java</td>\n",
       "      <td>2316.0</td>\n",
       "    </tr>\n",
       "    <tr>\n",
       "      <th>3</th>\n",
       "      <td>sql</td>\n",
       "      <td>2090.0</td>\n",
       "    </tr>\n",
       "    <tr>\n",
       "      <th>4</th>\n",
       "      <td>react</td>\n",
       "      <td>1849.0</td>\n",
       "    </tr>\n",
       "  </tbody>\n",
       "</table>\n",
       "</div>"
      ],
      "text/plain": [
       "  top5_general_skills  frequency\n",
       "0          javascript     3438.0\n",
       "1       communication     2488.0\n",
       "2                java     2316.0\n",
       "3                 sql     2090.0\n",
       "4               react     1849.0"
      ]
     },
     "execution_count": 16,
     "metadata": {},
     "output_type": "execute_result"
    }
   ],
   "source": [
    "# Print the number of skills in the library\n",
    "print(\"Number of web dev skills in general skill library: \", len(wd_general_library))\n",
    "\n",
    "# Print the top 5 needed general skills\n",
    "\n",
    "wd_top_tech = MVP_explore.top_skills(df_wd, 5, wd_general_library, 'general')\n",
    "wd_top_tech"
   ]
  }
 ],
 "metadata": {
  "kernelspec": {
   "display_name": "Python 3",
   "language": "python",
   "name": "python3"
  },
  "language_info": {
   "codemirror_mode": {
    "name": "ipython",
    "version": 3
   },
   "file_extension": ".py",
   "mimetype": "text/x-python",
   "name": "python",
   "nbconvert_exporter": "python",
   "pygments_lexer": "ipython3",
   "version": "3.7.6"
  }
 },
 "nbformat": 4,
 "nbformat_minor": 4
}
