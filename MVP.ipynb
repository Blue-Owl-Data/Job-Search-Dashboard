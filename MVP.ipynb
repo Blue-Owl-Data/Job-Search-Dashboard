{
 "cells": [
  {
   "cell_type": "markdown",
   "metadata": {},
   "source": [
    "# MVP"
   ]
  },
  {
   "cell_type": "code",
   "execution_count": 1,
   "metadata": {},
   "outputs": [],
   "source": [
    "# General Libraries\n",
    "import numpy as np\n",
    "import pandas as pd\n",
    "import matplotlib.pyplot as plt\n",
    "import seaborn as sns\n",
    "\n",
    "# AWS Libraries\n",
    "import logging\n",
    "import boto3\n",
    "from botocore.exceptions import ClientError\n",
    "\n",
    "# NLP Libraries\n",
    "import unicodedata\n",
    "import nltk\n",
    "from nltk.tokenize.toktok import ToktokTokenizer\n",
    "from nltk.corpus import stopwords\n",
    "from wordcloud import WordCloud\n",
    "\n",
    "# Geo-mapping Libraries\n",
    "import geopandas\n",
    "import geopy\n",
    "import folium \n",
    "\n",
    "# Helper Functions\n",
    "import MVP_acquire_ds, MVP_explore\n",
    "\n",
    "import warnings\n",
    "warnings.filterwarnings(\"ignore\")"
   ]
  },
  {
   "cell_type": "markdown",
   "metadata": {},
   "source": [
    "## Data Acquisition"
   ]
  },
  {
   "cell_type": "markdown",
   "metadata": {},
   "source": [
    "### Download the JSON Files from AWS S3 Bucket"
   ]
  },
  {
   "cell_type": "code",
   "execution_count": 2,
   "metadata": {},
   "outputs": [
    {
     "name": "stdout",
     "output_type": "stream",
     "text": [
      "Last modified datetime for data scientist positions in TX:  2021-02-24 20:46:12+00:00\n",
      "Last modified datetime for web developer positions in TX:  2021-02-24 20:49:56+00:00\n"
     ]
    }
   ],
   "source": [
    "# Create the s3 resource object\n",
    "s3 = boto3.resource('s3')\n",
    "\n",
    "# Download the json files from AWS\n",
    "\n",
    "s3.Bucket(\"dspreparedjobpostings\").download_file(\"df_ds_tx_prepared_backup.json\", \n",
    "                                                 \"df_ds_tx_prepared_backup.json\")\n",
    "\n",
    "# Print the last modified datetime of the prepared file of data scientist positions in TX\n",
    "print(\"Last modified datetime for data scientist positions in TX: \", \n",
    "      s3.Object('dspreparedjobpostings', 'df_ds_tx_prepared_backup.json').last_modified)\n",
    "\n",
    "s3.Bucket(\"wdpreparedjobpostings\").download_file(\"df_wd_tx_prepared_backup.json\", \n",
    "                                                 \"df_wd_tx_prepared_backup.json\")\n",
    "\n",
    "# Print the last modified datetime of the prepared file of web developer positions in TX\n",
    "print(\"Last modified datetime for web developer positions in TX: \", \n",
    "      s3.Object('wdpreparedjobpostings', 'df_wd_tx_prepared_backup.json').last_modified)"
   ]
  },
  {
   "cell_type": "markdown",
   "metadata": {},
   "source": [
    "## Data Preparation"
   ]
  },
  {
   "cell_type": "markdown",
   "metadata": {},
   "source": [
    "### Load JSON Files into Dataframe and Set the Date as the Index"
   ]
  },
  {
   "cell_type": "code",
   "execution_count": 3,
   "metadata": {},
   "outputs": [
    {
     "name": "stdout",
     "output_type": "stream",
     "text": [
      "Number of data scientist job postings in TX:  2265\n",
      "Number of web developer job postings in TX:  4385\n"
     ]
    }
   ],
   "source": [
    "# Read the json file and convert it to pandas dataframe\n",
    "\n",
    "df_ds = pd.read_json('df_ds_tx_prepared_backup.json')\n",
    "df_wd = pd.read_json('df_wd_tx_prepared_backup.json')\n",
    "\n",
    "# Set the date column as the index and sort the index\n",
    "\n",
    "df_ds.date = pd.to_datetime(df_ds.date)\n",
    "df_ds = df_ds.set_index('date').sort_index(ascending=False)\n",
    "df_wd.date = pd.to_datetime(df_wd.date)\n",
    "df_wd = df_wd.set_index('date').sort_index(ascending=False)\n",
    "\n",
    "# Print the number of job postings in each dataframe\n",
    "\n",
    "print(\"Number of data scientist job postings in TX: \", df_ds.shape[0])\n",
    "print(\"Number of web developer job postings in TX: \", df_wd.shape[0])"
   ]
  },
  {
   "cell_type": "code",
   "execution_count": 4,
   "metadata": {},
   "outputs": [
    {
     "name": "stdout",
     "output_type": "stream",
     "text": [
      "<class 'pandas.core.frame.DataFrame'>\n",
      "DatetimeIndex: 2265 entries, 2021-02-24 to 2020-12-22\n",
      "Data columns (total 9 columns):\n",
      " #   Column           Non-Null Count  Dtype  \n",
      "---  ------           --------------  -----  \n",
      " 0   title            2265 non-null   object \n",
      " 1   company          2265 non-null   object \n",
      " 2   company_rating   2265 non-null   float64\n",
      " 3   job_link         2265 non-null   object \n",
      " 4   job_description  2265 non-null   object \n",
      " 5   city             2265 non-null   object \n",
      " 6   state            2265 non-null   object \n",
      " 7   zipcode          2265 non-null   int64  \n",
      " 8   clean            2265 non-null   object \n",
      "dtypes: float64(1), int64(1), object(7)\n",
      "memory usage: 177.0+ KB\n"
     ]
    }
   ],
   "source": [
    "# Print the concise summary of the dataframe df_ds\n",
    "df_ds.info()"
   ]
  },
  {
   "cell_type": "code",
   "execution_count": 5,
   "metadata": {},
   "outputs": [
    {
     "name": "stdout",
     "output_type": "stream",
     "text": [
      "<class 'pandas.core.frame.DataFrame'>\n",
      "DatetimeIndex: 4385 entries, 2021-02-24 to 2021-01-04\n",
      "Data columns (total 9 columns):\n",
      " #   Column           Non-Null Count  Dtype  \n",
      "---  ------           --------------  -----  \n",
      " 0   title            4385 non-null   object \n",
      " 1   company          4385 non-null   object \n",
      " 2   company_rating   4385 non-null   float64\n",
      " 3   job_link         4385 non-null   object \n",
      " 4   job_description  4385 non-null   object \n",
      " 5   city             4385 non-null   object \n",
      " 6   state            4385 non-null   object \n",
      " 7   zipcode          4385 non-null   int64  \n",
      " 8   clean            4385 non-null   object \n",
      "dtypes: float64(1), int64(1), object(7)\n",
      "memory usage: 342.6+ KB\n"
     ]
    }
   ],
   "source": [
    "# Print the concise summary of the dataframe df_wd\n",
    "df_wd.info()"
   ]
  },
  {
   "cell_type": "code",
   "execution_count": 6,
   "metadata": {},
   "outputs": [
    {
     "data": {
      "text/html": [
       "<div>\n",
       "<style scoped>\n",
       "    .dataframe tbody tr th:only-of-type {\n",
       "        vertical-align: middle;\n",
       "    }\n",
       "\n",
       "    .dataframe tbody tr th {\n",
       "        vertical-align: top;\n",
       "    }\n",
       "\n",
       "    .dataframe thead th {\n",
       "        text-align: right;\n",
       "    }\n",
       "</style>\n",
       "<table border=\"1\" class=\"dataframe\">\n",
       "  <thead>\n",
       "    <tr style=\"text-align: right;\">\n",
       "      <th></th>\n",
       "      <th>title</th>\n",
       "      <th>company</th>\n",
       "      <th>company_rating</th>\n",
       "      <th>job_link</th>\n",
       "      <th>job_description</th>\n",
       "      <th>city</th>\n",
       "      <th>state</th>\n",
       "      <th>zipcode</th>\n",
       "      <th>clean</th>\n",
       "    </tr>\n",
       "    <tr>\n",
       "      <th>date</th>\n",
       "      <th></th>\n",
       "      <th></th>\n",
       "      <th></th>\n",
       "      <th></th>\n",
       "      <th></th>\n",
       "      <th></th>\n",
       "      <th></th>\n",
       "      <th></th>\n",
       "      <th></th>\n",
       "    </tr>\n",
       "  </thead>\n",
       "  <tbody>\n",
       "    <tr>\n",
       "      <th>2021-02-24</th>\n",
       "      <td>Senior Data Analyst - Global Product Group</td>\n",
       "      <td>General Motors</td>\n",
       "      <td>4.1</td>\n",
       "      <td>https://www.indeed.com/rc/clk?jk=e807f01914e80...</td>\n",
       "      <td>About GM\\nThere’s never been a more exciting t...</td>\n",
       "      <td>Austin</td>\n",
       "      <td>TX</td>\n",
       "      <td>0</td>\n",
       "      <td>gm there never exciting time work general moto...</td>\n",
       "    </tr>\n",
       "    <tr>\n",
       "      <th>2021-02-24</th>\n",
       "      <td>Info Security Sr Engineer - IAM Data Analytics...</td>\n",
       "      <td>Wells Fargo</td>\n",
       "      <td>3.7</td>\n",
       "      <td>https://www.indeed.com/rc/clk?jk=b630f2ae5bc39...</td>\n",
       "      <td>Job Description\\nImportant Note: During the ap...</td>\n",
       "      <td>Dallas</td>\n",
       "      <td>TX</td>\n",
       "      <td>0</td>\n",
       "      <td>job description important note application pro...</td>\n",
       "    </tr>\n",
       "    <tr>\n",
       "      <th>2021-02-24</th>\n",
       "      <td>Data Solution Architect</td>\n",
       "      <td>Accenture</td>\n",
       "      <td>4.0</td>\n",
       "      <td>https://www.indeed.com/rc/clk?jk=410be44890eef...</td>\n",
       "      <td>FOR NOW, all Accenture business travel, intern...</td>\n",
       "      <td>Dallas</td>\n",
       "      <td>TX</td>\n",
       "      <td>0</td>\n",
       "      <td>accenture business travel international domest...</td>\n",
       "    </tr>\n",
       "    <tr>\n",
       "      <th>2021-02-24</th>\n",
       "      <td>Data Science Intern</td>\n",
       "      <td>Omnitracs LLC</td>\n",
       "      <td>3.4</td>\n",
       "      <td>https://www.indeed.com/rc/clk?jk=926bd9bf7014c...</td>\n",
       "      <td>Overview:\\nOmnitracs, LLC is the source for pr...</td>\n",
       "      <td>Dallas</td>\n",
       "      <td>TX</td>\n",
       "      <td>75201</td>\n",
       "      <td>overview omnitracs llc source private forhire ...</td>\n",
       "    </tr>\n",
       "    <tr>\n",
       "      <th>2021-02-24</th>\n",
       "      <td>Business Data Analyst Senior (Remote Work Loca...</td>\n",
       "      <td>USAA</td>\n",
       "      <td>3.9</td>\n",
       "      <td>https://www.indeed.com/rc/clk?jk=46d7c0fe52e9d...</td>\n",
       "      <td>Purpose of Job\\nWe are currently seeking a tal...</td>\n",
       "      <td>San Antonio</td>\n",
       "      <td>TX</td>\n",
       "      <td>78288</td>\n",
       "      <td>purpose job currently seeking talented busines...</td>\n",
       "    </tr>\n",
       "  </tbody>\n",
       "</table>\n",
       "</div>"
      ],
      "text/plain": [
       "                                                        title         company  \\\n",
       "date                                                                            \n",
       "2021-02-24         Senior Data Analyst - Global Product Group  General Motors   \n",
       "2021-02-24  Info Security Sr Engineer - IAM Data Analytics...     Wells Fargo   \n",
       "2021-02-24                            Data Solution Architect       Accenture   \n",
       "2021-02-24                                Data Science Intern   Omnitracs LLC   \n",
       "2021-02-24  Business Data Analyst Senior (Remote Work Loca...            USAA   \n",
       "\n",
       "            company_rating                                           job_link  \\\n",
       "date                                                                            \n",
       "2021-02-24             4.1  https://www.indeed.com/rc/clk?jk=e807f01914e80...   \n",
       "2021-02-24             3.7  https://www.indeed.com/rc/clk?jk=b630f2ae5bc39...   \n",
       "2021-02-24             4.0  https://www.indeed.com/rc/clk?jk=410be44890eef...   \n",
       "2021-02-24             3.4  https://www.indeed.com/rc/clk?jk=926bd9bf7014c...   \n",
       "2021-02-24             3.9  https://www.indeed.com/rc/clk?jk=46d7c0fe52e9d...   \n",
       "\n",
       "                                              job_description         city  \\\n",
       "date                                                                         \n",
       "2021-02-24  About GM\\nThere’s never been a more exciting t...       Austin   \n",
       "2021-02-24  Job Description\\nImportant Note: During the ap...       Dallas   \n",
       "2021-02-24  FOR NOW, all Accenture business travel, intern...       Dallas   \n",
       "2021-02-24  Overview:\\nOmnitracs, LLC is the source for pr...       Dallas   \n",
       "2021-02-24  Purpose of Job\\nWe are currently seeking a tal...  San Antonio   \n",
       "\n",
       "           state  zipcode                                              clean  \n",
       "date                                                                          \n",
       "2021-02-24    TX        0  gm there never exciting time work general moto...  \n",
       "2021-02-24    TX        0  job description important note application pro...  \n",
       "2021-02-24    TX        0  accenture business travel international domest...  \n",
       "2021-02-24    TX    75201  overview omnitracs llc source private forhire ...  \n",
       "2021-02-24    TX    78288  purpose job currently seeking talented busines...  "
      ]
     },
     "execution_count": 6,
     "metadata": {},
     "output_type": "execute_result"
    }
   ],
   "source": [
    "# Print the first 5 rows of the dataframe df_ds\n",
    "df_ds.head()"
   ]
  },
  {
   "cell_type": "code",
   "execution_count": 7,
   "metadata": {},
   "outputs": [
    {
     "data": {
      "text/html": [
       "<div>\n",
       "<style scoped>\n",
       "    .dataframe tbody tr th:only-of-type {\n",
       "        vertical-align: middle;\n",
       "    }\n",
       "\n",
       "    .dataframe tbody tr th {\n",
       "        vertical-align: top;\n",
       "    }\n",
       "\n",
       "    .dataframe thead th {\n",
       "        text-align: right;\n",
       "    }\n",
       "</style>\n",
       "<table border=\"1\" class=\"dataframe\">\n",
       "  <thead>\n",
       "    <tr style=\"text-align: right;\">\n",
       "      <th></th>\n",
       "      <th>title</th>\n",
       "      <th>company</th>\n",
       "      <th>company_rating</th>\n",
       "      <th>job_link</th>\n",
       "      <th>job_description</th>\n",
       "      <th>city</th>\n",
       "      <th>state</th>\n",
       "      <th>zipcode</th>\n",
       "      <th>clean</th>\n",
       "    </tr>\n",
       "    <tr>\n",
       "      <th>date</th>\n",
       "      <th></th>\n",
       "      <th></th>\n",
       "      <th></th>\n",
       "      <th></th>\n",
       "      <th></th>\n",
       "      <th></th>\n",
       "      <th></th>\n",
       "      <th></th>\n",
       "      <th></th>\n",
       "    </tr>\n",
       "  </thead>\n",
       "  <tbody>\n",
       "    <tr>\n",
       "      <th>2021-02-24</th>\n",
       "      <td>Web Application Developer</td>\n",
       "      <td>ClearCorrect</td>\n",
       "      <td>3.1</td>\n",
       "      <td>https://www.indeed.com/rc/clk?jk=0bdcb1b34c57e...</td>\n",
       "      <td>Summary of Position\\nThis position will assist...</td>\n",
       "      <td>Round Rock</td>\n",
       "      <td>TX</td>\n",
       "      <td>78665</td>\n",
       "      <td>summary position position assist developing ma...</td>\n",
       "    </tr>\n",
       "    <tr>\n",
       "      <th>2021-02-24</th>\n",
       "      <td>Senior Front-End Developer</td>\n",
       "      <td>JPMorgan Chase Bank, N.A.</td>\n",
       "      <td>3.9</td>\n",
       "      <td>https://www.indeed.com/rc/clk?jk=16b49f3b45eb9...</td>\n",
       "      <td>Senior Front-End Developer\\nAs a Software Engi...</td>\n",
       "      <td>Plano</td>\n",
       "      <td>TX</td>\n",
       "      <td>0</td>\n",
       "      <td>senior frontend developer software engineer be...</td>\n",
       "    </tr>\n",
       "    <tr>\n",
       "      <th>2021-02-24</th>\n",
       "      <td>Junior Developers</td>\n",
       "      <td>Omega Project Solutions</td>\n",
       "      <td>0.0</td>\n",
       "      <td>https://www.indeed.com/pagead/clk?mo=r&amp;ad=-6NY...</td>\n",
       "      <td>We are looking for entry-level developers skil...</td>\n",
       "      <td>Houston</td>\n",
       "      <td>TX</td>\n",
       "      <td>77024</td>\n",
       "      <td>looking entrylevel developer skilled microsoft...</td>\n",
       "    </tr>\n",
       "    <tr>\n",
       "      <th>2021-02-24</th>\n",
       "      <td>Front-End Engineer</td>\n",
       "      <td>FlexIT Inc</td>\n",
       "      <td>0.0</td>\n",
       "      <td>https://www.indeed.com/rc/clk?jk=eceabd6e7eab7...</td>\n",
       "      <td>Develop Single Page Applications architecture ...</td>\n",
       "      <td>Dallas</td>\n",
       "      <td>TX</td>\n",
       "      <td>75240</td>\n",
       "      <td>develop single page application architecture d...</td>\n",
       "    </tr>\n",
       "    <tr>\n",
       "      <th>2021-02-24</th>\n",
       "      <td>CI/CD Engineer</td>\n",
       "      <td>IBM</td>\n",
       "      <td>3.9</td>\n",
       "      <td>https://www.indeed.com/rc/clk?jk=b27d606451ab4...</td>\n",
       "      <td>Introduction\\nSoftware Developers at IBM are t...</td>\n",
       "      <td>Dallas</td>\n",
       "      <td>TX</td>\n",
       "      <td>75202</td>\n",
       "      <td>introduction software developer ibm backbone s...</td>\n",
       "    </tr>\n",
       "  </tbody>\n",
       "</table>\n",
       "</div>"
      ],
      "text/plain": [
       "                                 title                    company  \\\n",
       "date                                                                \n",
       "2021-02-24   Web Application Developer               ClearCorrect   \n",
       "2021-02-24  Senior Front-End Developer  JPMorgan Chase Bank, N.A.   \n",
       "2021-02-24           Junior Developers    Omega Project Solutions   \n",
       "2021-02-24          Front-End Engineer                 FlexIT Inc   \n",
       "2021-02-24              CI/CD Engineer                        IBM   \n",
       "\n",
       "            company_rating                                           job_link  \\\n",
       "date                                                                            \n",
       "2021-02-24             3.1  https://www.indeed.com/rc/clk?jk=0bdcb1b34c57e...   \n",
       "2021-02-24             3.9  https://www.indeed.com/rc/clk?jk=16b49f3b45eb9...   \n",
       "2021-02-24             0.0  https://www.indeed.com/pagead/clk?mo=r&ad=-6NY...   \n",
       "2021-02-24             0.0  https://www.indeed.com/rc/clk?jk=eceabd6e7eab7...   \n",
       "2021-02-24             3.9  https://www.indeed.com/rc/clk?jk=b27d606451ab4...   \n",
       "\n",
       "                                              job_description        city  \\\n",
       "date                                                                        \n",
       "2021-02-24  Summary of Position\\nThis position will assist...  Round Rock   \n",
       "2021-02-24  Senior Front-End Developer\\nAs a Software Engi...       Plano   \n",
       "2021-02-24  We are looking for entry-level developers skil...     Houston   \n",
       "2021-02-24  Develop Single Page Applications architecture ...      Dallas   \n",
       "2021-02-24  Introduction\\nSoftware Developers at IBM are t...      Dallas   \n",
       "\n",
       "           state  zipcode                                              clean  \n",
       "date                                                                          \n",
       "2021-02-24    TX    78665  summary position position assist developing ma...  \n",
       "2021-02-24    TX        0  senior frontend developer software engineer be...  \n",
       "2021-02-24    TX    77024  looking entrylevel developer skilled microsoft...  \n",
       "2021-02-24    TX    75240  develop single page application architecture d...  \n",
       "2021-02-24    TX    75202  introduction software developer ibm backbone s...  "
      ]
     },
     "execution_count": 7,
     "metadata": {},
     "output_type": "execute_result"
    }
   ],
   "source": [
    "# Print the first 5 rows of the dataframe df_wd\n",
    "df_wd.head()"
   ]
  },
  {
   "cell_type": "markdown",
   "metadata": {},
   "source": [
    "### Brief Summary of the Job Postings"
   ]
  },
  {
   "cell_type": "markdown",
   "metadata": {},
   "source": [
    "#### Data Scientist Position"
   ]
  },
  {
   "cell_type": "code",
   "execution_count": 8,
   "metadata": {},
   "outputs": [
    {
     "data": {
      "text/plain": [
       "Cognizant Technology Solutions    63\n",
       "USAA                              53\n",
       "Facebook                          51\n",
       "Deloitte                          47\n",
       "Dell Technologies                 46\n",
       "Name: company, dtype: int64"
      ]
     },
     "execution_count": 8,
     "metadata": {},
     "output_type": "execute_result"
    }
   ],
   "source": [
    "# Which companies hire the most data scientists in TX?\n",
    "df_ds.company.value_counts().head()"
   ]
  },
  {
   "cell_type": "code",
   "execution_count": 9,
   "metadata": {},
   "outputs": [
    {
     "data": {
      "text/plain": [
       "Austin         667\n",
       "Dallas         372\n",
       "Houston        283\n",
       "Plano          182\n",
       "San Antonio    174\n",
       "Name: city, dtype: int64"
      ]
     },
     "execution_count": 9,
     "metadata": {},
     "output_type": "execute_result"
    }
   ],
   "source": [
    "# Which cities have the most data scientists postions in TX?\n",
    "df_ds.city.value_counts().head()"
   ]
  },
  {
   "cell_type": "code",
   "execution_count": 10,
   "metadata": {},
   "outputs": [
    {
     "data": {
      "text/plain": [
       "date\n",
       "2020-12-27    392\n",
       "2021-01-03    136\n",
       "2021-01-10    212\n",
       "2021-01-17    187\n",
       "2021-01-24    352\n",
       "2021-01-31    294\n",
       "2021-02-07    259\n",
       "2021-02-14    268\n",
       "2021-02-21    118\n",
       "2021-02-28     47\n",
       "Freq: W-SUN, Name: title, dtype: int64"
      ]
     },
     "execution_count": 10,
     "metadata": {},
     "output_type": "execute_result"
    }
   ],
   "source": [
    "# How does the number of job postings change over time?\n",
    "df_ds.resample('W').title.count()"
   ]
  },
  {
   "cell_type": "code",
   "execution_count": 11,
   "metadata": {},
   "outputs": [
    {
     "data": {
      "text/plain": [
       "company\n",
       "Digital Pharmacist    5.0\n",
       "Rekruiters            5.0\n",
       "Levelset              4.7\n",
       "Onit                  4.7\n",
       "Harnham               4.6\n",
       "Name: company_rating, dtype: float64"
      ]
     },
     "execution_count": 11,
     "metadata": {},
     "output_type": "execute_result"
    }
   ],
   "source": [
    "# Which company has the best avereage rating? \n",
    "df_ds.groupby('company').company_rating.mean().sort_values(ascending=False).head()"
   ]
  },
  {
   "cell_type": "code",
   "execution_count": 12,
   "metadata": {},
   "outputs": [
    {
     "data": {
      "text/plain": [
       "Data Scientist               234\n",
       "Senior Data Scientist         84\n",
       "Machine Learning Engineer     53\n",
       "Senior Data Analyst           52\n",
       "Sr. Data Scientist            38\n",
       "Name: title, dtype: int64"
      ]
     },
     "execution_count": 12,
     "metadata": {},
     "output_type": "execute_result"
    }
   ],
   "source": [
    "df_ds.title.value_counts().head()"
   ]
  },
  {
   "cell_type": "markdown",
   "metadata": {},
   "source": [
    "#### Web Developer Position"
   ]
  },
  {
   "cell_type": "code",
   "execution_count": 13,
   "metadata": {},
   "outputs": [
    {
     "data": {
      "text/plain": [
       "CyberCoders                            176\n",
       "Indeed                                 125\n",
       "JPMorgan Chase Bank, N.A.              125\n",
       "Infinity Consulting Solutions, Inc.     71\n",
       "Cognizant Technology Solutions          68\n",
       "Name: company, dtype: int64"
      ]
     },
     "execution_count": 13,
     "metadata": {},
     "output_type": "execute_result"
    }
   ],
   "source": [
    "# Which companies hire the most web developers in TX?\n",
    "df_wd.company.value_counts().head()"
   ]
  },
  {
   "cell_type": "code",
   "execution_count": 14,
   "metadata": {},
   "outputs": [
    {
     "data": {
      "text/plain": [
       "Austin     1358\n",
       "Dallas      611\n",
       "Houston     491\n",
       "Plano       349\n",
       "Name: city, dtype: int64"
      ]
     },
     "execution_count": 14,
     "metadata": {},
     "output_type": "execute_result"
    }
   ],
   "source": [
    "# Which cities have the most web developers postions in TX?\n",
    "df_wd.city.value_counts().head(4)"
   ]
  },
  {
   "cell_type": "code",
   "execution_count": 15,
   "metadata": {},
   "outputs": [
    {
     "data": {
      "text/plain": [
       "date\n",
       "2021-01-10      62\n",
       "2021-01-17     346\n",
       "2021-01-24     793\n",
       "2021-01-31    1054\n",
       "2021-02-07     825\n",
       "2021-02-14     779\n",
       "2021-02-21     364\n",
       "2021-02-28     162\n",
       "Freq: W-SUN, Name: title, dtype: int64"
      ]
     },
     "execution_count": 15,
     "metadata": {},
     "output_type": "execute_result"
    }
   ],
   "source": [
    "# How does the number of job postings change over time?\n",
    "df_wd.resample('W').title.count()"
   ]
  },
  {
   "cell_type": "code",
   "execution_count": 16,
   "metadata": {},
   "outputs": [
    {
     "data": {
      "text/plain": [
       "company\n",
       "Box                    5.0\n",
       "The Evolvers Group     5.0\n",
       "RightNow Ministries    5.0\n",
       "ALAANT                 5.0\n",
       "MarketScale            5.0\n",
       "Name: company_rating, dtype: float64"
      ]
     },
     "execution_count": 16,
     "metadata": {},
     "output_type": "execute_result"
    }
   ],
   "source": [
    "# Which company has the best avereage rating? \n",
    "df_wd.groupby('company').company_rating.mean().sort_values(ascending=False).head()"
   ]
  },
  {
   "cell_type": "code",
   "execution_count": 17,
   "metadata": {},
   "outputs": [
    {
     "data": {
      "text/plain": [
       "Software Engineer           95\n",
       "Web Developer               84\n",
       "Senior Software Engineer    76\n",
       "Software Developer          73\n",
       "Full Stack Developer        63\n",
       "Name: title, dtype: int64"
      ]
     },
     "execution_count": 17,
     "metadata": {},
     "output_type": "execute_result"
    }
   ],
   "source": [
    "df_wd.title.value_counts().head()"
   ]
  },
  {
   "cell_type": "markdown",
   "metadata": {},
   "source": [
    "### Top k Needed Skills"
   ]
  },
  {
   "cell_type": "markdown",
   "metadata": {},
   "source": [
    "#### Data Scientist Position\n",
    "- Tech Skills\n",
    "- Soft Skills\n",
    "- General Skills (Combination of Tech+Soft)"
   ]
  },
  {
   "cell_type": "code",
   "execution_count": 18,
   "metadata": {},
   "outputs": [],
   "source": [
    "# Create a tech library\n",
    "ds_tech_library = ['python','sql','pandas','numpy','matplotlib','scikit learn','scikitlearn','spark','hadoop',\n",
    "                'aws','amazon web services','azure','microsoft word', 'microsoft excel','excel','tableau',\n",
    "                'tensor flow','pytorch','hive','impala','matlab','etl','statistics','exploration',\n",
    "                'extraction','data wrangling','math','machine learning','data visualization','java','js',\n",
    "                'javascript','scala','r','c','c++','power bi','dashboard','linear algebra','calculus',\n",
    "                'neural networks','eda','big data','frameworks','database management','testing hypotheses',\n",
    "                'probability','data mining','perl','nosql','saas','git','github','natural language processing',\n",
    "                'nlp', 'deep learning','agile','kanban','project management','julia','devops','google cloud',\n",
    "                'pytorch','computer vision', 'deep neural networks','neural networks','amazon web services',\n",
    "                'natural language processing','extract,transform,load','mysql','structured query language']"
   ]
  },
  {
   "cell_type": "code",
   "execution_count": 19,
   "metadata": {},
   "outputs": [
    {
     "name": "stdout",
     "output_type": "stream",
     "text": [
      "Number of data science skills in tech skill library:  71\n",
      "Do you want to save the dataframe as JSON and upload to AWS? (Y/N)\n",
      "Y\n",
      "Enter the INITIALS of the job title:\n",
      "ds\n"
     ]
    },
    {
     "data": {
      "text/html": [
       "<div>\n",
       "<style scoped>\n",
       "    .dataframe tbody tr th:only-of-type {\n",
       "        vertical-align: middle;\n",
       "    }\n",
       "\n",
       "    .dataframe tbody tr th {\n",
       "        vertical-align: top;\n",
       "    }\n",
       "\n",
       "    .dataframe thead th {\n",
       "        text-align: right;\n",
       "    }\n",
       "</style>\n",
       "<table border=\"1\" class=\"dataframe\">\n",
       "  <thead>\n",
       "    <tr style=\"text-align: right;\">\n",
       "      <th></th>\n",
       "      <th>top5_tech_skills</th>\n",
       "      <th>frequency</th>\n",
       "    </tr>\n",
       "  </thead>\n",
       "  <tbody>\n",
       "    <tr>\n",
       "      <th>0</th>\n",
       "      <td>machine learning</td>\n",
       "      <td>3445.0</td>\n",
       "    </tr>\n",
       "    <tr>\n",
       "      <th>1</th>\n",
       "      <td>python</td>\n",
       "      <td>1819.0</td>\n",
       "    </tr>\n",
       "    <tr>\n",
       "      <th>2</th>\n",
       "      <td>sql</td>\n",
       "      <td>1396.0</td>\n",
       "    </tr>\n",
       "    <tr>\n",
       "      <th>3</th>\n",
       "      <td>aws</td>\n",
       "      <td>1050.0</td>\n",
       "    </tr>\n",
       "    <tr>\n",
       "      <th>4</th>\n",
       "      <td>r</td>\n",
       "      <td>1007.0</td>\n",
       "    </tr>\n",
       "  </tbody>\n",
       "</table>\n",
       "</div>"
      ],
      "text/plain": [
       "   top5_tech_skills  frequency\n",
       "0  machine learning     3445.0\n",
       "1            python     1819.0\n",
       "2               sql     1396.0\n",
       "3               aws     1050.0\n",
       "4                 r     1007.0"
      ]
     },
     "execution_count": 19,
     "metadata": {},
     "output_type": "execute_result"
    }
   ],
   "source": [
    "# Print the number of skills in the library\n",
    "print(\"Number of data science skills in tech skill library: \", len(ds_tech_library))\n",
    "\n",
    "# Print the top 5 needed tech skills\n",
    "\n",
    "ds_top_tech = MVP_explore.top_skills(df_ds, 5, ds_tech_library, 'tech')\n",
    "ds_top_tech"
   ]
  },
  {
   "cell_type": "code",
   "execution_count": 20,
   "metadata": {},
   "outputs": [],
   "source": [
    "# Create a soft skill library\n",
    "ds_soft_library = ['critical thinking','communication','problem solving','teamwork','ethics','business acumen',\n",
    "                'interpersonal skills','curiosity','storytelling','adaptability','team player','collaboration',\n",
    "                'time management','leadership','domain knowledge','creativity','decision making',\n",
    "                'verbal communication','written communication','teamwork']"
   ]
  },
  {
   "cell_type": "code",
   "execution_count": 21,
   "metadata": {},
   "outputs": [
    {
     "name": "stdout",
     "output_type": "stream",
     "text": [
      "Number of data science skills in soft skill library:  20\n",
      "Do you want to save the dataframe as JSON and upload to AWS? (Y/N)\n",
      "Y\n",
      "Enter the INITIALS of the job title:\n",
      "ds\n"
     ]
    },
    {
     "data": {
      "text/html": [
       "<div>\n",
       "<style scoped>\n",
       "    .dataframe tbody tr th:only-of-type {\n",
       "        vertical-align: middle;\n",
       "    }\n",
       "\n",
       "    .dataframe tbody tr th {\n",
       "        vertical-align: top;\n",
       "    }\n",
       "\n",
       "    .dataframe thead th {\n",
       "        text-align: right;\n",
       "    }\n",
       "</style>\n",
       "<table border=\"1\" class=\"dataframe\">\n",
       "  <thead>\n",
       "    <tr style=\"text-align: right;\">\n",
       "      <th></th>\n",
       "      <th>top5_soft_skills</th>\n",
       "      <th>frequency</th>\n",
       "    </tr>\n",
       "  </thead>\n",
       "  <tbody>\n",
       "    <tr>\n",
       "      <th>0</th>\n",
       "      <td>communication</td>\n",
       "      <td>1560.0</td>\n",
       "    </tr>\n",
       "    <tr>\n",
       "      <th>1</th>\n",
       "      <td>leadership</td>\n",
       "      <td>964.0</td>\n",
       "    </tr>\n",
       "    <tr>\n",
       "      <th>2</th>\n",
       "      <td>collaboration</td>\n",
       "      <td>464.0</td>\n",
       "    </tr>\n",
       "    <tr>\n",
       "      <th>3</th>\n",
       "      <td>problem solving</td>\n",
       "      <td>346.0</td>\n",
       "    </tr>\n",
       "    <tr>\n",
       "      <th>4</th>\n",
       "      <td>written communication</td>\n",
       "      <td>257.0</td>\n",
       "    </tr>\n",
       "  </tbody>\n",
       "</table>\n",
       "</div>"
      ],
      "text/plain": [
       "        top5_soft_skills  frequency\n",
       "0          communication     1560.0\n",
       "1             leadership      964.0\n",
       "2          collaboration      464.0\n",
       "3        problem solving      346.0\n",
       "4  written communication      257.0"
      ]
     },
     "execution_count": 21,
     "metadata": {},
     "output_type": "execute_result"
    }
   ],
   "source": [
    "# Print the number of skills in the library\n",
    "print(\"Number of data science skills in soft skill library: \", len(ds_soft_library))\n",
    "\n",
    "# Print the top 5 needed soft skills\n",
    "\n",
    "ds_top_soft = MVP_explore.top_skills(df_ds, 5, ds_soft_library, 'soft')\n",
    "ds_top_soft"
   ]
  },
  {
   "cell_type": "code",
   "execution_count": 22,
   "metadata": {},
   "outputs": [],
   "source": [
    "# Create a general library\n",
    "ds_general_library = ['python','sql','pandas','numpy','matplotlib','scikit learn','scikitlearn','spark','hadoop',\n",
    "                'aws','amazon web services','azure','microsoft word', 'microsoft excel','excel','tableau',\n",
    "                'tensor flow','pytorch','hive','impala','matlab','etl','statistics','exploration',\n",
    "                'extraction','data wrangling','math','machine learning','data visualization','java','js',\n",
    "                'javascript','scala','r','c','c++','power bi','dashboard','linear algebra','calculus',\n",
    "                'neural networks','eda','big data','frameworks','database management','testing hypotheses',\n",
    "                'probability','data mining','perl','nosql','saas','git','github','natural language processing',\n",
    "                'nlp', 'deep learning','agile','kanban','project management','julia','devops','google cloud',\n",
    "                'pytorch','computer vision', 'deep neural networks','neural networks','amazon web services',\n",
    "                'natural language processing','extract,transform,load','mysql','structured query language'\n",
    "                'critical thinking','communication','problem solving','teamwork','ethics','business acumen',\n",
    "                'interpersonal skills','curiosity','storytelling','adaptability','team player','collaboration',\n",
    "                'time management','leadership','domain knowledge','creativity','decision making',\n",
    "                'verbal communication','written communication','teamwork']"
   ]
  },
  {
   "cell_type": "code",
   "execution_count": 23,
   "metadata": {},
   "outputs": [
    {
     "name": "stdout",
     "output_type": "stream",
     "text": [
      "Number of data science skills in general skills library:  90\n",
      "Do you want to save the dataframe as JSON and upload to AWS? (Y/N)\n",
      "Y\n",
      "Enter the INITIALS of the job title:\n",
      "ds\n"
     ]
    },
    {
     "data": {
      "text/html": [
       "<div>\n",
       "<style scoped>\n",
       "    .dataframe tbody tr th:only-of-type {\n",
       "        vertical-align: middle;\n",
       "    }\n",
       "\n",
       "    .dataframe tbody tr th {\n",
       "        vertical-align: top;\n",
       "    }\n",
       "\n",
       "    .dataframe thead th {\n",
       "        text-align: right;\n",
       "    }\n",
       "</style>\n",
       "<table border=\"1\" class=\"dataframe\">\n",
       "  <thead>\n",
       "    <tr style=\"text-align: right;\">\n",
       "      <th></th>\n",
       "      <th>top5_general_skills</th>\n",
       "      <th>frequency</th>\n",
       "    </tr>\n",
       "  </thead>\n",
       "  <tbody>\n",
       "    <tr>\n",
       "      <th>0</th>\n",
       "      <td>machine learning</td>\n",
       "      <td>3445.0</td>\n",
       "    </tr>\n",
       "    <tr>\n",
       "      <th>1</th>\n",
       "      <td>python</td>\n",
       "      <td>1819.0</td>\n",
       "    </tr>\n",
       "    <tr>\n",
       "      <th>2</th>\n",
       "      <td>communication</td>\n",
       "      <td>1560.0</td>\n",
       "    </tr>\n",
       "    <tr>\n",
       "      <th>3</th>\n",
       "      <td>sql</td>\n",
       "      <td>1396.0</td>\n",
       "    </tr>\n",
       "    <tr>\n",
       "      <th>4</th>\n",
       "      <td>aws</td>\n",
       "      <td>1050.0</td>\n",
       "    </tr>\n",
       "  </tbody>\n",
       "</table>\n",
       "</div>"
      ],
      "text/plain": [
       "  top5_general_skills  frequency\n",
       "0    machine learning     3445.0\n",
       "1              python     1819.0\n",
       "2       communication     1560.0\n",
       "3                 sql     1396.0\n",
       "4                 aws     1050.0"
      ]
     },
     "execution_count": 23,
     "metadata": {},
     "output_type": "execute_result"
    }
   ],
   "source": [
    "# Print the number of skills in the library\n",
    "print(\"Number of data science skills in general skills library: \", len(ds_general_library))\n",
    "\n",
    "# Print the top 5 needed general skills\n",
    "\n",
    "ds_top_general = MVP_explore.top_skills(df_ds, 5, ds_general_library, 'general')\n",
    "ds_top_general"
   ]
  },
  {
   "cell_type": "markdown",
   "metadata": {},
   "source": [
    "#### Web Developer Position\n",
    "- Tech skills\n",
    "- Soft skills\n",
    "- General Skills (Combination of Tech+Soft)"
   ]
  },
  {
   "cell_type": "code",
   "execution_count": 24,
   "metadata": {},
   "outputs": [],
   "source": [
    "# Create a tech library\n",
    "wd_tech_library = ['html','css','javascript','debugging','git','github','libraries','frameworks','publishing web site',\n",
    "'photoshop','bootstrap','jquery','search engine optimization','seo','basic graphic design','front end','back end',\n",
    "'visual studio code','visual studio','figma','zeplin','sketch','gatspy','strapi','paint','canva','aws','azure',\n",
    "'amazon web services','sql','mysql','nosql','node','node.js','js','json','api','google charts','d3','d3.js','react',\n",
    "'angular','ember','vue','python','c','c++','ruby','ruby on rails','git','github','php','net','.net','java','c#',\n",
    "'linux','go','gcp','troubleshooting','problem solving','ux','ui','ux/ui','cloud computing','netlify','net']  "
   ]
  },
  {
   "cell_type": "code",
   "execution_count": 25,
   "metadata": {},
   "outputs": [
    {
     "name": "stdout",
     "output_type": "stream",
     "text": [
      "Number of web dev skills in tech skill library:  67\n",
      "Do you want to save the dataframe as JSON and upload to AWS? (Y/N)\n",
      "Y\n",
      "Enter the INITIALS of the job title:\n",
      "wd\n"
     ]
    },
    {
     "data": {
      "text/html": [
       "<div>\n",
       "<style scoped>\n",
       "    .dataframe tbody tr th:only-of-type {\n",
       "        vertical-align: middle;\n",
       "    }\n",
       "\n",
       "    .dataframe tbody tr th {\n",
       "        vertical-align: top;\n",
       "    }\n",
       "\n",
       "    .dataframe thead th {\n",
       "        text-align: right;\n",
       "    }\n",
       "</style>\n",
       "<table border=\"1\" class=\"dataframe\">\n",
       "  <thead>\n",
       "    <tr style=\"text-align: right;\">\n",
       "      <th></th>\n",
       "      <th>top5_tech_skills</th>\n",
       "      <th>frequency</th>\n",
       "    </tr>\n",
       "  </thead>\n",
       "  <tbody>\n",
       "    <tr>\n",
       "      <th>0</th>\n",
       "      <td>javascript</td>\n",
       "      <td>3503.0</td>\n",
       "    </tr>\n",
       "    <tr>\n",
       "      <th>1</th>\n",
       "      <td>java</td>\n",
       "      <td>2352.0</td>\n",
       "    </tr>\n",
       "    <tr>\n",
       "      <th>2</th>\n",
       "      <td>sql</td>\n",
       "      <td>2123.0</td>\n",
       "    </tr>\n",
       "    <tr>\n",
       "      <th>3</th>\n",
       "      <td>react</td>\n",
       "      <td>1891.0</td>\n",
       "    </tr>\n",
       "    <tr>\n",
       "      <th>4</th>\n",
       "      <td>net</td>\n",
       "      <td>1696.0</td>\n",
       "    </tr>\n",
       "  </tbody>\n",
       "</table>\n",
       "</div>"
      ],
      "text/plain": [
       "  top5_tech_skills  frequency\n",
       "0       javascript     3503.0\n",
       "1             java     2352.0\n",
       "2              sql     2123.0\n",
       "3            react     1891.0\n",
       "4              net     1696.0"
      ]
     },
     "execution_count": 25,
     "metadata": {},
     "output_type": "execute_result"
    }
   ],
   "source": [
    "# Print the number of skills in the library\n",
    "print(\"Number of web dev skills in tech skill library: \", len(wd_tech_library))\n",
    "\n",
    "# Print the top 5 needed tech skills\n",
    "\n",
    "wd_top_tech = MVP_explore.top_skills(df_wd, 5, wd_tech_library, 'tech')\n",
    "wd_top_tech"
   ]
  },
  {
   "cell_type": "code",
   "execution_count": 26,
   "metadata": {},
   "outputs": [],
   "source": [
    "# Create a soft library\n",
    "wd_soft_library = ['critical thinking','communication','problem solving','teamwork','ethics','business acumen',\n",
    "                'interpersonal skills','curiosity','storytelling','adaptability','team player','collaboration',\n",
    "                'time management','leadership','domain knowledge','creativity','decision making',\n",
    "                'verbal communication','written communication','teamwork'] "
   ]
  },
  {
   "cell_type": "code",
   "execution_count": 27,
   "metadata": {},
   "outputs": [
    {
     "name": "stdout",
     "output_type": "stream",
     "text": [
      "Number of web dev skills in soft skill library:  20\n",
      "Do you want to save the dataframe as JSON and upload to AWS? (Y/N)\n",
      "n\n"
     ]
    },
    {
     "data": {
      "text/html": [
       "<div>\n",
       "<style scoped>\n",
       "    .dataframe tbody tr th:only-of-type {\n",
       "        vertical-align: middle;\n",
       "    }\n",
       "\n",
       "    .dataframe tbody tr th {\n",
       "        vertical-align: top;\n",
       "    }\n",
       "\n",
       "    .dataframe thead th {\n",
       "        text-align: right;\n",
       "    }\n",
       "</style>\n",
       "<table border=\"1\" class=\"dataframe\">\n",
       "  <thead>\n",
       "    <tr style=\"text-align: right;\">\n",
       "      <th></th>\n",
       "      <th>top5_soft_skills</th>\n",
       "      <th>frequency</th>\n",
       "    </tr>\n",
       "  </thead>\n",
       "  <tbody>\n",
       "    <tr>\n",
       "      <th>0</th>\n",
       "      <td>communication</td>\n",
       "      <td>2542.0</td>\n",
       "    </tr>\n",
       "    <tr>\n",
       "      <th>1</th>\n",
       "      <td>leadership</td>\n",
       "      <td>1010.0</td>\n",
       "    </tr>\n",
       "    <tr>\n",
       "      <th>2</th>\n",
       "      <td>collaboration</td>\n",
       "      <td>655.0</td>\n",
       "    </tr>\n",
       "    <tr>\n",
       "      <th>3</th>\n",
       "      <td>problem solving</td>\n",
       "      <td>542.0</td>\n",
       "    </tr>\n",
       "    <tr>\n",
       "      <th>4</th>\n",
       "      <td>written communication</td>\n",
       "      <td>394.0</td>\n",
       "    </tr>\n",
       "  </tbody>\n",
       "</table>\n",
       "</div>"
      ],
      "text/plain": [
       "        top5_soft_skills  frequency\n",
       "0          communication     2542.0\n",
       "1             leadership     1010.0\n",
       "2          collaboration      655.0\n",
       "3        problem solving      542.0\n",
       "4  written communication      394.0"
      ]
     },
     "execution_count": 27,
     "metadata": {},
     "output_type": "execute_result"
    }
   ],
   "source": [
    "# Print the number of skills in the library\n",
    "print(\"Number of web dev skills in soft skill library: \", len(wd_soft_library))\n",
    "\n",
    "# Print the top 5 needed soft skills\n",
    "\n",
    "wd_top_tech = MVP_explore.top_skills(df_wd, 5, wd_soft_library, 'soft')\n",
    "wd_top_tech"
   ]
  },
  {
   "cell_type": "code",
   "execution_count": 28,
   "metadata": {},
   "outputs": [],
   "source": [
    "# Create a general library\n",
    "wd_general_library = ['html','css','javascript','debugging','git','github','libraries','frameworks','publishing web site',\n",
    "'photoshop','bootstrap','jquery','search engine optimization','seo','basic graphic design','front end','back end',\n",
    "'visual studio code','visual studio','figma','zeplin','sketch','gatspy','strapi','paint','canva','aws','azure',\n",
    "'amazon web services','sql','mysql','nosql','node','node.js','js','json','api','google charts','d3','d3.js','react',\n",
    "'angular','ember','vue','python','c','c++','ruby','ruby on rails','git','github','php','net','.net','java','c#',\n",
    "'linux','go','gcp','troubleshooting','problem solving','ux','ui','ux/ui','cloud computing','netlify','net''critical thinking',\n",
    "'communication','problem solving','teamwork','ethics','business acumen','interpersonal skills','curiosity',\n",
    "'storytelling','adaptability','team player','collaboration','time management','leadership','domain knowledge',\n",
    "'creativity','decision making','verbal communication','written communication','teamwork']"
   ]
  },
  {
   "cell_type": "code",
   "execution_count": 29,
   "metadata": {},
   "outputs": [
    {
     "name": "stdout",
     "output_type": "stream",
     "text": [
      "Number of web dev skills in general skill library:  86\n",
      "Do you want to save the dataframe as JSON and upload to AWS? (Y/N)\n",
      "N\n",
      "The dataframe has NOT been saved.\n"
     ]
    },
    {
     "data": {
      "text/html": [
       "<div>\n",
       "<style scoped>\n",
       "    .dataframe tbody tr th:only-of-type {\n",
       "        vertical-align: middle;\n",
       "    }\n",
       "\n",
       "    .dataframe tbody tr th {\n",
       "        vertical-align: top;\n",
       "    }\n",
       "\n",
       "    .dataframe thead th {\n",
       "        text-align: right;\n",
       "    }\n",
       "</style>\n",
       "<table border=\"1\" class=\"dataframe\">\n",
       "  <thead>\n",
       "    <tr style=\"text-align: right;\">\n",
       "      <th></th>\n",
       "      <th>top5_general_skills</th>\n",
       "      <th>frequency</th>\n",
       "    </tr>\n",
       "  </thead>\n",
       "  <tbody>\n",
       "    <tr>\n",
       "      <th>0</th>\n",
       "      <td>javascript</td>\n",
       "      <td>3503.0</td>\n",
       "    </tr>\n",
       "    <tr>\n",
       "      <th>1</th>\n",
       "      <td>communication</td>\n",
       "      <td>2542.0</td>\n",
       "    </tr>\n",
       "    <tr>\n",
       "      <th>2</th>\n",
       "      <td>java</td>\n",
       "      <td>2352.0</td>\n",
       "    </tr>\n",
       "    <tr>\n",
       "      <th>3</th>\n",
       "      <td>sql</td>\n",
       "      <td>2123.0</td>\n",
       "    </tr>\n",
       "    <tr>\n",
       "      <th>4</th>\n",
       "      <td>react</td>\n",
       "      <td>1891.0</td>\n",
       "    </tr>\n",
       "  </tbody>\n",
       "</table>\n",
       "</div>"
      ],
      "text/plain": [
       "  top5_general_skills  frequency\n",
       "0          javascript     3503.0\n",
       "1       communication     2542.0\n",
       "2                java     2352.0\n",
       "3                 sql     2123.0\n",
       "4               react     1891.0"
      ]
     },
     "execution_count": 29,
     "metadata": {},
     "output_type": "execute_result"
    }
   ],
   "source": [
    "# Print the number of skills in the library\n",
    "print(\"Number of web dev skills in general skill library: \", len(wd_general_library))\n",
    "\n",
    "# Print the top 5 needed general skills\n",
    "\n",
    "wd_top_tech = MVP_explore.top_skills(df_wd, 5, wd_general_library, 'general')\n",
    "wd_top_tech"
   ]
  },
  {
   "cell_type": "code",
   "execution_count": null,
   "metadata": {},
   "outputs": [],
   "source": []
  },
  {
   "cell_type": "code",
   "execution_count": null,
   "metadata": {},
   "outputs": [],
   "source": []
  },
  {
   "cell_type": "markdown",
   "metadata": {},
   "source": [
    "### Top 5 Skills Function"
   ]
  },
  {
   "cell_type": "code",
   "execution_count": null,
   "metadata": {},
   "outputs": [],
   "source": []
  },
  {
   "cell_type": "code",
   "execution_count": null,
   "metadata": {},
   "outputs": [],
   "source": []
  },
  {
   "cell_type": "code",
   "execution_count": null,
   "metadata": {},
   "outputs": [],
   "source": []
  }
 ],
 "metadata": {
  "kernelspec": {
   "display_name": "Python 3",
   "language": "python",
   "name": "python3"
  },
  "language_info": {
   "codemirror_mode": {
    "name": "ipython",
    "version": 3
   },
   "file_extension": ".py",
   "mimetype": "text/x-python",
   "name": "python",
   "nbconvert_exporter": "python",
   "pygments_lexer": "ipython3",
   "version": "3.8.5"
  }
 },
 "nbformat": 4,
 "nbformat_minor": 4
}
