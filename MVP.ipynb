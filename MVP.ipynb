{
 "cells": [
  {
   "cell_type": "markdown",
   "metadata": {},
   "source": [
    "# MVP"
   ]
  },
  {
   "cell_type": "code",
   "execution_count": 1,
   "metadata": {},
   "outputs": [],
   "source": [
    "# General Libraries\n",
    "import numpy as np\n",
    "import pandas as pd\n",
    "import matplotlib.pyplot as plt\n",
    "import seaborn as sns\n",
    "\n",
    "# AWS Libraries\n",
    "import logging\n",
    "import boto3\n",
    "from botocore.exceptions import ClientError\n",
    "\n",
    "# NLP Libraries\n",
    "import unicodedata\n",
    "import nltk\n",
    "from nltk.tokenize.toktok import ToktokTokenizer\n",
    "from nltk.corpus import stopwords\n",
    "from wordcloud import WordCloud\n",
    "\n",
    "# Geo-mapping Libraries\n",
    "import geopandas\n",
    "import geopy\n",
    "import folium \n",
    "\n",
    "# Helper Functions\n",
    "import MVP_acquire_ds, MVP_explore\n",
    "\n",
    "import warnings\n",
    "warnings.filterwarnings(\"ignore\")"
   ]
  },
  {
   "cell_type": "markdown",
   "metadata": {},
   "source": [
    "## Data Acquisition"
   ]
  },
  {
   "cell_type": "markdown",
   "metadata": {},
   "source": [
    "### Download the JSON Files from AWS S3 Bucket"
   ]
  },
  {
   "cell_type": "code",
   "execution_count": 2,
   "metadata": {},
   "outputs": [
    {
     "name": "stdout",
     "output_type": "stream",
     "text": [
      "Last modified datetime for data scientist positions in TX:  2021-02-25 20:31:40+00:00\n",
      "Last modified datetime for web developer positions in TX:  2021-02-25 20:34:53+00:00\n"
     ]
    }
   ],
   "source": [
    "# Create the s3 resource object\n",
    "s3 = boto3.resource('s3')\n",
    "\n",
    "# Download the json files from AWS\n",
    "\n",
    "s3.Bucket(\"dspreparedjobpostings\").download_file(\"df_ds_tx_prepared_backup.json\", \n",
    "                                                 \"df_ds_tx_prepared_backup.json\")\n",
    "\n",
    "# Print the last modified datetime of the prepared file of data scientist positions in TX\n",
    "print(\"Last modified datetime for data scientist positions in TX: \", \n",
    "      s3.Object('dspreparedjobpostings', 'df_ds_tx_prepared_backup.json').last_modified)\n",
    "\n",
    "s3.Bucket(\"wdpreparedjobpostings\").download_file(\"df_wd_tx_prepared_backup.json\", \n",
    "                                                 \"df_wd_tx_prepared_backup.json\")\n",
    "\n",
    "# Print the last modified datetime of the prepared file of web developer positions in TX\n",
    "print(\"Last modified datetime for web developer positions in TX: \", \n",
    "      s3.Object('wdpreparedjobpostings', 'df_wd_tx_prepared_backup.json').last_modified)"
   ]
  },
  {
   "cell_type": "markdown",
   "metadata": {},
   "source": [
    "## Data Preparation"
   ]
  },
  {
   "cell_type": "markdown",
   "metadata": {},
   "source": [
    "### Load JSON Files into Dataframe and Set the Date as the Index"
   ]
  },
  {
   "cell_type": "code",
   "execution_count": 3,
   "metadata": {},
   "outputs": [
    {
     "name": "stdout",
     "output_type": "stream",
     "text": [
      "Number of data scientist job postings in TX:  2297\n",
      "Number of web developer job postings in TX:  4470\n"
     ]
    }
   ],
   "source": [
    "# Read the json file and convert it to pandas dataframe\n",
    "\n",
    "df_ds = pd.read_json('df_ds_tx_prepared_backup.json')\n",
    "df_wd = pd.read_json('df_wd_tx_prepared_backup.json')\n",
    "\n",
    "# Set the date column as the index and sort the index\n",
    "\n",
    "df_ds.date = pd.to_datetime(df_ds.date)\n",
    "df_ds = df_ds.set_index('date').sort_index(ascending=False)\n",
    "df_wd.date = pd.to_datetime(df_wd.date)\n",
    "df_wd = df_wd.set_index('date').sort_index(ascending=False)\n",
    "\n",
    "# Print the number of job postings in each dataframe\n",
    "\n",
    "print(\"Number of data scientist job postings in TX: \", df_ds.shape[0])\n",
    "print(\"Number of web developer job postings in TX: \", df_wd.shape[0])"
   ]
  },
  {
   "cell_type": "code",
   "execution_count": 4,
   "metadata": {},
   "outputs": [
    {
     "name": "stdout",
     "output_type": "stream",
     "text": [
      "<class 'pandas.core.frame.DataFrame'>\n",
      "DatetimeIndex: 2297 entries, 2021-02-25 to 2020-12-22\n",
      "Data columns (total 9 columns):\n",
      " #   Column           Non-Null Count  Dtype  \n",
      "---  ------           --------------  -----  \n",
      " 0   title            2297 non-null   object \n",
      " 1   company          2297 non-null   object \n",
      " 2   company_rating   2297 non-null   float64\n",
      " 3   job_link         2297 non-null   object \n",
      " 4   job_description  2297 non-null   object \n",
      " 5   city             2297 non-null   object \n",
      " 6   state            2297 non-null   object \n",
      " 7   zipcode          2297 non-null   int64  \n",
      " 8   clean            2297 non-null   object \n",
      "dtypes: float64(1), int64(1), object(7)\n",
      "memory usage: 179.5+ KB\n"
     ]
    }
   ],
   "source": [
    "# Print the concise summary of the dataframe df_ds\n",
    "df_ds.info()"
   ]
  },
  {
   "cell_type": "code",
   "execution_count": 5,
   "metadata": {},
   "outputs": [
    {
     "name": "stdout",
     "output_type": "stream",
     "text": [
      "<class 'pandas.core.frame.DataFrame'>\n",
      "DatetimeIndex: 4470 entries, 2021-02-25 to 2021-01-04\n",
      "Data columns (total 9 columns):\n",
      " #   Column           Non-Null Count  Dtype  \n",
      "---  ------           --------------  -----  \n",
      " 0   title            4470 non-null   object \n",
      " 1   company          4470 non-null   object \n",
      " 2   company_rating   4470 non-null   float64\n",
      " 3   job_link         4470 non-null   object \n",
      " 4   job_description  4470 non-null   object \n",
      " 5   city             4470 non-null   object \n",
      " 6   state            4470 non-null   object \n",
      " 7   zipcode          4470 non-null   int64  \n",
      " 8   clean            4470 non-null   object \n",
      "dtypes: float64(1), int64(1), object(7)\n",
      "memory usage: 349.2+ KB\n"
     ]
    }
   ],
   "source": [
    "# Print the concise summary of the dataframe df_wd\n",
    "df_wd.info()"
   ]
  },
  {
   "cell_type": "code",
   "execution_count": 6,
   "metadata": {},
   "outputs": [
    {
     "data": {
      "text/html": [
       "<div>\n",
       "<style scoped>\n",
       "    .dataframe tbody tr th:only-of-type {\n",
       "        vertical-align: middle;\n",
       "    }\n",
       "\n",
       "    .dataframe tbody tr th {\n",
       "        vertical-align: top;\n",
       "    }\n",
       "\n",
       "    .dataframe thead th {\n",
       "        text-align: right;\n",
       "    }\n",
       "</style>\n",
       "<table border=\"1\" class=\"dataframe\">\n",
       "  <thead>\n",
       "    <tr style=\"text-align: right;\">\n",
       "      <th></th>\n",
       "      <th>title</th>\n",
       "      <th>company</th>\n",
       "      <th>company_rating</th>\n",
       "      <th>job_link</th>\n",
       "      <th>job_description</th>\n",
       "      <th>city</th>\n",
       "      <th>state</th>\n",
       "      <th>zipcode</th>\n",
       "      <th>clean</th>\n",
       "    </tr>\n",
       "    <tr>\n",
       "      <th>date</th>\n",
       "      <th></th>\n",
       "      <th></th>\n",
       "      <th></th>\n",
       "      <th></th>\n",
       "      <th></th>\n",
       "      <th></th>\n",
       "      <th></th>\n",
       "      <th></th>\n",
       "      <th></th>\n",
       "    </tr>\n",
       "  </thead>\n",
       "  <tbody>\n",
       "    <tr>\n",
       "      <th>2021-02-25</th>\n",
       "      <td>Applied Scientist</td>\n",
       "      <td>Amazon.com Services LLC</td>\n",
       "      <td>3.6</td>\n",
       "      <td>https://www.indeed.com/rc/clk?jk=a9dbd4e1ed934...</td>\n",
       "      <td>\\nM.S. in Computer Science, Machine Learning, ...</td>\n",
       "      <td>Austin</td>\n",
       "      <td>TX</td>\n",
       "      <td>0</td>\n",
       "      <td>m computer science machine learning operationa...</td>\n",
       "    </tr>\n",
       "    <tr>\n",
       "      <th>2021-02-25</th>\n",
       "      <td>Applied Data Science Manager</td>\n",
       "      <td>dunnhumby</td>\n",
       "      <td>3.8</td>\n",
       "      <td>https://www.indeed.com/rc/clk?jk=2323bfe22c6e5...</td>\n",
       "      <td>Austin\\n\\nMost companies try to meet expectati...</td>\n",
       "      <td>Austin</td>\n",
       "      <td>TX</td>\n",
       "      <td>0</td>\n",
       "      <td>austin company try meet expectation dunnhumby ...</td>\n",
       "    </tr>\n",
       "    <tr>\n",
       "      <th>2021-02-25</th>\n",
       "      <td>Distinguished Data Scientist</td>\n",
       "      <td>Verizon</td>\n",
       "      <td>3.9</td>\n",
       "      <td>https://www.indeed.com/rc/clk?jk=c1a0bcd827fc1...</td>\n",
       "      <td>When you join Verizon\\nVerizon is a leading pr...</td>\n",
       "      <td>Irving</td>\n",
       "      <td>TX</td>\n",
       "      <td>75038</td>\n",
       "      <td>join verizon verizon leading provider technolo...</td>\n",
       "    </tr>\n",
       "    <tr>\n",
       "      <th>2021-02-25</th>\n",
       "      <td>Data Engineer</td>\n",
       "      <td>Verizon</td>\n",
       "      <td>3.9</td>\n",
       "      <td>https://www.indeed.com/rc/clk?jk=18f2be848788e...</td>\n",
       "      <td>When you join Verizon\\nYou’ll have the power t...</td>\n",
       "      <td>Irving</td>\n",
       "      <td>TX</td>\n",
       "      <td>75038</td>\n",
       "      <td>join verizon youll power go beyond work thats ...</td>\n",
       "    </tr>\n",
       "    <tr>\n",
       "      <th>2021-02-25</th>\n",
       "      <td>Developer - Mathematical Optimization</td>\n",
       "      <td>Six Flags Entertainment</td>\n",
       "      <td>3.7</td>\n",
       "      <td>https://www.indeed.com/rc/clk?jk=0d70e0a00cd3a...</td>\n",
       "      <td>Job Duties:\\nGather business requirements and ...</td>\n",
       "      <td>Arlington</td>\n",
       "      <td>TX</td>\n",
       "      <td>0</td>\n",
       "      <td>job duty gather business requirement translate...</td>\n",
       "    </tr>\n",
       "  </tbody>\n",
       "</table>\n",
       "</div>"
      ],
      "text/plain": [
       "                                            title                  company  \\\n",
       "date                                                                         \n",
       "2021-02-25                      Applied Scientist  Amazon.com Services LLC   \n",
       "2021-02-25           Applied Data Science Manager                dunnhumby   \n",
       "2021-02-25           Distinguished Data Scientist                  Verizon   \n",
       "2021-02-25                          Data Engineer                  Verizon   \n",
       "2021-02-25  Developer - Mathematical Optimization  Six Flags Entertainment   \n",
       "\n",
       "            company_rating                                           job_link  \\\n",
       "date                                                                            \n",
       "2021-02-25             3.6  https://www.indeed.com/rc/clk?jk=a9dbd4e1ed934...   \n",
       "2021-02-25             3.8  https://www.indeed.com/rc/clk?jk=2323bfe22c6e5...   \n",
       "2021-02-25             3.9  https://www.indeed.com/rc/clk?jk=c1a0bcd827fc1...   \n",
       "2021-02-25             3.9  https://www.indeed.com/rc/clk?jk=18f2be848788e...   \n",
       "2021-02-25             3.7  https://www.indeed.com/rc/clk?jk=0d70e0a00cd3a...   \n",
       "\n",
       "                                              job_description       city  \\\n",
       "date                                                                       \n",
       "2021-02-25  \\nM.S. in Computer Science, Machine Learning, ...     Austin   \n",
       "2021-02-25  Austin\\n\\nMost companies try to meet expectati...     Austin   \n",
       "2021-02-25  When you join Verizon\\nVerizon is a leading pr...     Irving   \n",
       "2021-02-25  When you join Verizon\\nYou’ll have the power t...     Irving   \n",
       "2021-02-25  Job Duties:\\nGather business requirements and ...  Arlington   \n",
       "\n",
       "           state  zipcode                                              clean  \n",
       "date                                                                          \n",
       "2021-02-25    TX        0  m computer science machine learning operationa...  \n",
       "2021-02-25    TX        0  austin company try meet expectation dunnhumby ...  \n",
       "2021-02-25    TX    75038  join verizon verizon leading provider technolo...  \n",
       "2021-02-25    TX    75038  join verizon youll power go beyond work thats ...  \n",
       "2021-02-25    TX        0  job duty gather business requirement translate...  "
      ]
     },
     "execution_count": 6,
     "metadata": {},
     "output_type": "execute_result"
    }
   ],
   "source": [
    "# Print the first 5 rows of the dataframe df_ds\n",
    "df_ds.head()"
   ]
  },
  {
   "cell_type": "code",
   "execution_count": 7,
   "metadata": {},
   "outputs": [
    {
     "data": {
      "text/html": [
       "<div>\n",
       "<style scoped>\n",
       "    .dataframe tbody tr th:only-of-type {\n",
       "        vertical-align: middle;\n",
       "    }\n",
       "\n",
       "    .dataframe tbody tr th {\n",
       "        vertical-align: top;\n",
       "    }\n",
       "\n",
       "    .dataframe thead th {\n",
       "        text-align: right;\n",
       "    }\n",
       "</style>\n",
       "<table border=\"1\" class=\"dataframe\">\n",
       "  <thead>\n",
       "    <tr style=\"text-align: right;\">\n",
       "      <th></th>\n",
       "      <th>title</th>\n",
       "      <th>company</th>\n",
       "      <th>company_rating</th>\n",
       "      <th>job_link</th>\n",
       "      <th>job_description</th>\n",
       "      <th>city</th>\n",
       "      <th>state</th>\n",
       "      <th>zipcode</th>\n",
       "      <th>clean</th>\n",
       "    </tr>\n",
       "    <tr>\n",
       "      <th>date</th>\n",
       "      <th></th>\n",
       "      <th></th>\n",
       "      <th></th>\n",
       "      <th></th>\n",
       "      <th></th>\n",
       "      <th></th>\n",
       "      <th></th>\n",
       "      <th></th>\n",
       "      <th></th>\n",
       "    </tr>\n",
       "  </thead>\n",
       "  <tbody>\n",
       "    <tr>\n",
       "      <th>2021-02-25</th>\n",
       "      <td>WEB DEVELOPER INTERN</td>\n",
       "      <td>Blanks Financial Solutions</td>\n",
       "      <td>0.0</td>\n",
       "      <td>https://www.indeed.com/rc/clk?jk=9a84b22936691...</td>\n",
       "      <td>The position\\n\\n\\nWe are looking for a Full St...</td>\n",
       "      <td>Dallas</td>\n",
       "      <td>TX</td>\n",
       "      <td>75238</td>\n",
       "      <td>position looking full stack developer intern e...</td>\n",
       "    </tr>\n",
       "    <tr>\n",
       "      <th>2021-02-25</th>\n",
       "      <td>Software Engineer (Full Stack)</td>\n",
       "      <td>Lightspeed Systems</td>\n",
       "      <td>3.9</td>\n",
       "      <td>https://www.indeed.com/company/Lightspeed-Syst...</td>\n",
       "      <td>Are you a highly experienced Full-stack JavaSc...</td>\n",
       "      <td>Austin</td>\n",
       "      <td>TX</td>\n",
       "      <td>0</td>\n",
       "      <td>highly experienced fullstack javascript softwa...</td>\n",
       "    </tr>\n",
       "    <tr>\n",
       "      <th>2021-02-25</th>\n",
       "      <td>Product Security Engineer II</td>\n",
       "      <td>Box</td>\n",
       "      <td>5.0</td>\n",
       "      <td>https://www.indeed.com/rc/clk?jk=b6f14ed796fe6...</td>\n",
       "      <td>WHAT IS BOX?\\nBox is the market leader for Clo...</td>\n",
       "      <td>0</td>\n",
       "      <td>TX</td>\n",
       "      <td>0</td>\n",
       "      <td>box box market leader cloud content management...</td>\n",
       "    </tr>\n",
       "    <tr>\n",
       "      <th>2021-02-25</th>\n",
       "      <td>Full Stack Software Engineer</td>\n",
       "      <td>Onit</td>\n",
       "      <td>4.7</td>\n",
       "      <td>https://www.indeed.com/rc/clk?jk=0e035ff4a68a0...</td>\n",
       "      <td>As a Full Stack Developer at Onit, you will he...</td>\n",
       "      <td>Houston</td>\n",
       "      <td>TX</td>\n",
       "      <td>77056</td>\n",
       "      <td>full stack developer onit help design develop ...</td>\n",
       "    </tr>\n",
       "    <tr>\n",
       "      <th>2021-02-25</th>\n",
       "      <td>Software Engineer</td>\n",
       "      <td>Abrigo</td>\n",
       "      <td>3.0</td>\n",
       "      <td>https://www.indeed.com/rc/clk?jk=5d90dda1355d0...</td>\n",
       "      <td>We provide technology that community financial...</td>\n",
       "      <td>Austin</td>\n",
       "      <td>TX</td>\n",
       "      <td>78727</td>\n",
       "      <td>provide technology community financial institu...</td>\n",
       "    </tr>\n",
       "  </tbody>\n",
       "</table>\n",
       "</div>"
      ],
      "text/plain": [
       "                                     title                     company  \\\n",
       "date                                                                     \n",
       "2021-02-25            WEB DEVELOPER INTERN  Blanks Financial Solutions   \n",
       "2021-02-25  Software Engineer (Full Stack)          Lightspeed Systems   \n",
       "2021-02-25    Product Security Engineer II                         Box   \n",
       "2021-02-25    Full Stack Software Engineer                        Onit   \n",
       "2021-02-25               Software Engineer                      Abrigo   \n",
       "\n",
       "            company_rating                                           job_link  \\\n",
       "date                                                                            \n",
       "2021-02-25             0.0  https://www.indeed.com/rc/clk?jk=9a84b22936691...   \n",
       "2021-02-25             3.9  https://www.indeed.com/company/Lightspeed-Syst...   \n",
       "2021-02-25             5.0  https://www.indeed.com/rc/clk?jk=b6f14ed796fe6...   \n",
       "2021-02-25             4.7  https://www.indeed.com/rc/clk?jk=0e035ff4a68a0...   \n",
       "2021-02-25             3.0  https://www.indeed.com/rc/clk?jk=5d90dda1355d0...   \n",
       "\n",
       "                                              job_description     city state  \\\n",
       "date                                                                           \n",
       "2021-02-25  The position\\n\\n\\nWe are looking for a Full St...   Dallas    TX   \n",
       "2021-02-25  Are you a highly experienced Full-stack JavaSc...   Austin    TX   \n",
       "2021-02-25  WHAT IS BOX?\\nBox is the market leader for Clo...        0    TX   \n",
       "2021-02-25  As a Full Stack Developer at Onit, you will he...  Houston    TX   \n",
       "2021-02-25  We provide technology that community financial...   Austin    TX   \n",
       "\n",
       "            zipcode                                              clean  \n",
       "date                                                                    \n",
       "2021-02-25    75238  position looking full stack developer intern e...  \n",
       "2021-02-25        0  highly experienced fullstack javascript softwa...  \n",
       "2021-02-25        0  box box market leader cloud content management...  \n",
       "2021-02-25    77056  full stack developer onit help design develop ...  \n",
       "2021-02-25    78727  provide technology community financial institu...  "
      ]
     },
     "execution_count": 7,
     "metadata": {},
     "output_type": "execute_result"
    }
   ],
   "source": [
    "# Print the first 5 rows of the dataframe df_wd\n",
    "df_wd.head()"
   ]
  },
  {
   "cell_type": "markdown",
   "metadata": {},
   "source": [
    "### Brief Summary of the Job Postings"
   ]
  },
  {
   "cell_type": "markdown",
   "metadata": {},
   "source": [
    "#### Data Scientist Position"
   ]
  },
  {
   "cell_type": "code",
   "execution_count": 8,
   "metadata": {},
   "outputs": [
    {
     "data": {
      "text/plain": [
       "Cognizant Technology Solutions    63\n",
       "USAA                              55\n",
       "Facebook                          51\n",
       "Deloitte                          48\n",
       "Dell Technologies                 46\n",
       "Name: company, dtype: int64"
      ]
     },
     "execution_count": 8,
     "metadata": {},
     "output_type": "execute_result"
    }
   ],
   "source": [
    "# Which companies hire the most data scientists in TX?\n",
    "df_ds.company.value_counts().head()"
   ]
  },
  {
   "cell_type": "code",
   "execution_count": 9,
   "metadata": {},
   "outputs": [
    {
     "data": {
      "text/plain": [
       "Austin         674\n",
       "Dallas         377\n",
       "Houston        284\n",
       "Plano          183\n",
       "San Antonio    178\n",
       "Name: city, dtype: int64"
      ]
     },
     "execution_count": 9,
     "metadata": {},
     "output_type": "execute_result"
    }
   ],
   "source": [
    "# Which cities have the most data scientists postions in TX?\n",
    "df_ds.city.value_counts().head()"
   ]
  },
  {
   "cell_type": "code",
   "execution_count": 10,
   "metadata": {},
   "outputs": [
    {
     "data": {
      "text/plain": [
       "date\n",
       "2020-12-27    392\n",
       "2021-01-03    136\n",
       "2021-01-10    212\n",
       "2021-01-17    187\n",
       "2021-01-24    352\n",
       "2021-01-31    294\n",
       "2021-02-07    262\n",
       "2021-02-14    274\n",
       "2021-02-21    123\n",
       "2021-02-28     65\n",
       "Freq: W-SUN, Name: title, dtype: int64"
      ]
     },
     "execution_count": 10,
     "metadata": {},
     "output_type": "execute_result"
    }
   ],
   "source": [
    "# How does the number of job postings change over time?\n",
    "df_ds.resample('W').title.count()"
   ]
  },
  {
   "cell_type": "code",
   "execution_count": 11,
   "metadata": {},
   "outputs": [
    {
     "data": {
      "text/plain": [
       "company\n",
       "Rekruiters            5.0\n",
       "Digital Pharmacist    5.0\n",
       "Onit                  4.7\n",
       "Levelset              4.7\n",
       "Harnham               4.6\n",
       "Name: company_rating, dtype: float64"
      ]
     },
     "execution_count": 11,
     "metadata": {},
     "output_type": "execute_result"
    }
   ],
   "source": [
    "# Which company has the best avereage rating? \n",
    "df_ds.groupby('company').company_rating.mean().sort_values(ascending=False).head()"
   ]
  },
  {
   "cell_type": "code",
   "execution_count": 12,
   "metadata": {},
   "outputs": [
    {
     "data": {
      "text/plain": [
       "Data Scientist               236\n",
       "Senior Data Scientist         84\n",
       "Machine Learning Engineer     53\n",
       "Senior Data Analyst           52\n",
       "Sr. Data Scientist            39\n",
       "Name: title, dtype: int64"
      ]
     },
     "execution_count": 12,
     "metadata": {},
     "output_type": "execute_result"
    }
   ],
   "source": [
    "df_ds.title.value_counts().head()"
   ]
  },
  {
   "cell_type": "markdown",
   "metadata": {},
   "source": [
    "#### Web Developer Position"
   ]
  },
  {
   "cell_type": "code",
   "execution_count": 13,
   "metadata": {},
   "outputs": [
    {
     "data": {
      "text/plain": [
       "CyberCoders                            176\n",
       "JPMorgan Chase Bank, N.A.              129\n",
       "Indeed                                 125\n",
       "Infinity Consulting Solutions, Inc.     72\n",
       "Cognizant Technology Solutions          70\n",
       "Name: company, dtype: int64"
      ]
     },
     "execution_count": 13,
     "metadata": {},
     "output_type": "execute_result"
    }
   ],
   "source": [
    "# Which companies hire the most web developers in TX?\n",
    "df_wd.company.value_counts().head()"
   ]
  },
  {
   "cell_type": "code",
   "execution_count": 14,
   "metadata": {},
   "outputs": [
    {
     "data": {
      "text/plain": [
       "Austin     1381\n",
       "Dallas      623\n",
       "Houston     502\n",
       "Plano       356\n",
       "Name: city, dtype: int64"
      ]
     },
     "execution_count": 14,
     "metadata": {},
     "output_type": "execute_result"
    }
   ],
   "source": [
    "# Which cities have the most web developers postions in TX?\n",
    "df_wd.city.value_counts().head(4)"
   ]
  },
  {
   "cell_type": "code",
   "execution_count": 15,
   "metadata": {},
   "outputs": [
    {
     "data": {
      "text/plain": [
       "date\n",
       "2021-01-10      62\n",
       "2021-01-17     346\n",
       "2021-01-24     793\n",
       "2021-01-31    1054\n",
       "2021-02-07     825\n",
       "2021-02-14     785\n",
       "2021-02-21     377\n",
       "2021-02-28     228\n",
       "Freq: W-SUN, Name: title, dtype: int64"
      ]
     },
     "execution_count": 15,
     "metadata": {},
     "output_type": "execute_result"
    }
   ],
   "source": [
    "# How does the number of job postings change over time?\n",
    "df_wd.resample('W').title.count()"
   ]
  },
  {
   "cell_type": "code",
   "execution_count": 16,
   "metadata": {},
   "outputs": [
    {
     "data": {
      "text/plain": [
       "company\n",
       "Box                    5.0\n",
       "Givelify               5.0\n",
       "RightNow Ministries    5.0\n",
       "The Evolvers Group     5.0\n",
       "MarketScale            5.0\n",
       "Name: company_rating, dtype: float64"
      ]
     },
     "execution_count": 16,
     "metadata": {},
     "output_type": "execute_result"
    }
   ],
   "source": [
    "# Which company has the best avereage rating? \n",
    "df_wd.groupby('company').company_rating.mean().sort_values(ascending=False).head()"
   ]
  },
  {
   "cell_type": "code",
   "execution_count": 17,
   "metadata": {},
   "outputs": [
    {
     "data": {
      "text/plain": [
       "Software Engineer           98\n",
       "Web Developer               90\n",
       "Senior Software Engineer    77\n",
       "Software Developer          76\n",
       "Full Stack Developer        63\n",
       "Name: title, dtype: int64"
      ]
     },
     "execution_count": 17,
     "metadata": {},
     "output_type": "execute_result"
    }
   ],
   "source": [
    "df_wd.title.value_counts().head()"
   ]
  },
  {
   "cell_type": "markdown",
   "metadata": {},
   "source": [
    "### Top k Needed Skills"
   ]
  },
  {
   "cell_type": "markdown",
   "metadata": {},
   "source": [
    "#### Data Scientist Position\n",
    "- Tech Skills\n",
    "- Soft Skills\n",
    "- General Skills (Combination of Tech+Soft)"
   ]
  },
  {
   "cell_type": "code",
   "execution_count": 18,
   "metadata": {},
   "outputs": [],
   "source": [
    "# Create a tech library\n",
    "ds_tech_library = ['python','sql','pandas','numpy','matplotlib','scikit learn','scikitlearn','spark','hadoop',\n",
    "                'aws','amazon web services','azure','microsoft word', 'microsoft excel','excel','tableau',\n",
    "                'tensor flow','pytorch','hive','impala','matlab','etl','statistics','exploration',\n",
    "                'extraction','data wrangling','math','machine learning','data visualization','java','js',\n",
    "                'javascript','scala','r','c','c++','power bi','dashboard','linear algebra','calculus',\n",
    "                'neural networks','eda','big data','frameworks','database management','testing hypotheses',\n",
    "                'probability','data mining','perl','nosql','saas','git','github','natural language processing',\n",
    "                'nlp', 'deep learning','agile','kanban','project management','julia','devops','google cloud',\n",
    "                'pytorch','computer vision', 'deep neural networks','neural networks','amazon web services',\n",
    "                'natural language processing','extract,transform,load','mysql','structured query language']"
   ]
  },
  {
   "cell_type": "code",
   "execution_count": 19,
   "metadata": {},
   "outputs": [
    {
     "name": "stdout",
     "output_type": "stream",
     "text": [
      "Number of data science skills in tech skill library:  71\n",
      "Do you want to save the dataframe as JSON and upload to AWS? (Y/N)\n",
      "Y\n",
      "Enter the INITIALS of the job title:\n",
      "ds\n"
     ]
    },
    {
     "data": {
      "text/html": [
       "<div>\n",
       "<style scoped>\n",
       "    .dataframe tbody tr th:only-of-type {\n",
       "        vertical-align: middle;\n",
       "    }\n",
       "\n",
       "    .dataframe tbody tr th {\n",
       "        vertical-align: top;\n",
       "    }\n",
       "\n",
       "    .dataframe thead th {\n",
       "        text-align: right;\n",
       "    }\n",
       "</style>\n",
       "<table border=\"1\" class=\"dataframe\">\n",
       "  <thead>\n",
       "    <tr style=\"text-align: right;\">\n",
       "      <th></th>\n",
       "      <th>top5_tech_skills</th>\n",
       "      <th>frequency</th>\n",
       "    </tr>\n",
       "  </thead>\n",
       "  <tbody>\n",
       "    <tr>\n",
       "      <th>0</th>\n",
       "      <td>machine learning</td>\n",
       "      <td>3501.0</td>\n",
       "    </tr>\n",
       "    <tr>\n",
       "      <th>1</th>\n",
       "      <td>python</td>\n",
       "      <td>1844.0</td>\n",
       "    </tr>\n",
       "    <tr>\n",
       "      <th>2</th>\n",
       "      <td>sql</td>\n",
       "      <td>1412.0</td>\n",
       "    </tr>\n",
       "    <tr>\n",
       "      <th>3</th>\n",
       "      <td>aws</td>\n",
       "      <td>1074.0</td>\n",
       "    </tr>\n",
       "    <tr>\n",
       "      <th>4</th>\n",
       "      <td>r</td>\n",
       "      <td>1019.0</td>\n",
       "    </tr>\n",
       "  </tbody>\n",
       "</table>\n",
       "</div>"
      ],
      "text/plain": [
       "   top5_tech_skills  frequency\n",
       "0  machine learning     3501.0\n",
       "1            python     1844.0\n",
       "2               sql     1412.0\n",
       "3               aws     1074.0\n",
       "4                 r     1019.0"
      ]
     },
     "execution_count": 19,
     "metadata": {},
     "output_type": "execute_result"
    }
   ],
   "source": [
    "# Print the number of skills in the library\n",
    "print(\"Number of data science skills in tech skill library: \", len(ds_tech_library))\n",
    "\n",
    "# Print the top 5 needed tech skills\n",
    "\n",
    "ds_top_tech = MVP_explore.top_skills(df_ds, 5, ds_tech_library, 'tech')\n",
    "ds_top_tech"
   ]
  },
  {
   "cell_type": "code",
   "execution_count": 20,
   "metadata": {},
   "outputs": [],
   "source": [
    "# Create a soft skill library\n",
    "ds_soft_library = ['critical thinking','communication','problem solving','teamwork','ethics','business acumen',\n",
    "                'interpersonal skills','curiosity','storytelling','adaptability','team player','collaboration',\n",
    "                'time management','leadership','domain knowledge','creativity','decision making',\n",
    "                'verbal communication','written communication','teamwork']"
   ]
  },
  {
   "cell_type": "code",
   "execution_count": 21,
   "metadata": {},
   "outputs": [
    {
     "name": "stdout",
     "output_type": "stream",
     "text": [
      "Number of data science skills in soft skill library:  20\n",
      "Do you want to save the dataframe as JSON and upload to AWS? (Y/N)\n",
      "Y\n",
      "Enter the INITIALS of the job title:\n",
      "ds\n"
     ]
    },
    {
     "data": {
      "text/html": [
       "<div>\n",
       "<style scoped>\n",
       "    .dataframe tbody tr th:only-of-type {\n",
       "        vertical-align: middle;\n",
       "    }\n",
       "\n",
       "    .dataframe tbody tr th {\n",
       "        vertical-align: top;\n",
       "    }\n",
       "\n",
       "    .dataframe thead th {\n",
       "        text-align: right;\n",
       "    }\n",
       "</style>\n",
       "<table border=\"1\" class=\"dataframe\">\n",
       "  <thead>\n",
       "    <tr style=\"text-align: right;\">\n",
       "      <th></th>\n",
       "      <th>top5_soft_skills</th>\n",
       "      <th>frequency</th>\n",
       "    </tr>\n",
       "  </thead>\n",
       "  <tbody>\n",
       "    <tr>\n",
       "      <th>0</th>\n",
       "      <td>communication</td>\n",
       "      <td>1579.0</td>\n",
       "    </tr>\n",
       "    <tr>\n",
       "      <th>1</th>\n",
       "      <td>leadership</td>\n",
       "      <td>975.0</td>\n",
       "    </tr>\n",
       "    <tr>\n",
       "      <th>2</th>\n",
       "      <td>collaboration</td>\n",
       "      <td>475.0</td>\n",
       "    </tr>\n",
       "    <tr>\n",
       "      <th>3</th>\n",
       "      <td>problem solving</td>\n",
       "      <td>351.0</td>\n",
       "    </tr>\n",
       "    <tr>\n",
       "      <th>4</th>\n",
       "      <td>written communication</td>\n",
       "      <td>262.0</td>\n",
       "    </tr>\n",
       "  </tbody>\n",
       "</table>\n",
       "</div>"
      ],
      "text/plain": [
       "        top5_soft_skills  frequency\n",
       "0          communication     1579.0\n",
       "1             leadership      975.0\n",
       "2          collaboration      475.0\n",
       "3        problem solving      351.0\n",
       "4  written communication      262.0"
      ]
     },
     "execution_count": 21,
     "metadata": {},
     "output_type": "execute_result"
    }
   ],
   "source": [
    "# Print the number of skills in the library\n",
    "print(\"Number of data science skills in soft skill library: \", len(ds_soft_library))\n",
    "\n",
    "# Print the top 5 needed soft skills\n",
    "\n",
    "ds_top_soft = MVP_explore.top_skills(df_ds, 5, ds_soft_library, 'soft')\n",
    "ds_top_soft"
   ]
  },
  {
   "cell_type": "code",
   "execution_count": 22,
   "metadata": {},
   "outputs": [],
   "source": [
    "# Create a general library\n",
    "ds_general_library = ['python','sql','pandas','numpy','matplotlib','scikit learn','scikitlearn','spark','hadoop',\n",
    "                'aws','amazon web services','azure','microsoft word', 'microsoft excel','excel','tableau',\n",
    "                'tensor flow','pytorch','hive','impala','matlab','etl','statistics','exploration',\n",
    "                'extraction','data wrangling','math','machine learning','data visualization','java','js',\n",
    "                'javascript','scala','r','c','c++','power bi','dashboard','linear algebra','calculus',\n",
    "                'neural networks','eda','big data','frameworks','database management','testing hypotheses',\n",
    "                'probability','data mining','perl','nosql','saas','git','github','natural language processing',\n",
    "                'nlp', 'deep learning','agile','kanban','project management','julia','devops','google cloud',\n",
    "                'pytorch','computer vision', 'deep neural networks','neural networks','amazon web services',\n",
    "                'natural language processing','extract,transform,load','mysql','structured query language'\n",
    "                'critical thinking','communication','problem solving','teamwork','ethics','business acumen',\n",
    "                'interpersonal skills','curiosity','storytelling','adaptability','team player','collaboration',\n",
    "                'time management','leadership','domain knowledge','creativity','decision making',\n",
    "                'verbal communication','written communication','teamwork']"
   ]
  },
  {
   "cell_type": "code",
   "execution_count": 23,
   "metadata": {},
   "outputs": [
    {
     "name": "stdout",
     "output_type": "stream",
     "text": [
      "Number of data science skills in general skills library:  90\n",
      "Do you want to save the dataframe as JSON and upload to AWS? (Y/N)\n",
      "Y\n",
      "Enter the INITIALS of the job title:\n",
      "ds\n"
     ]
    },
    {
     "data": {
      "text/html": [
       "<div>\n",
       "<style scoped>\n",
       "    .dataframe tbody tr th:only-of-type {\n",
       "        vertical-align: middle;\n",
       "    }\n",
       "\n",
       "    .dataframe tbody tr th {\n",
       "        vertical-align: top;\n",
       "    }\n",
       "\n",
       "    .dataframe thead th {\n",
       "        text-align: right;\n",
       "    }\n",
       "</style>\n",
       "<table border=\"1\" class=\"dataframe\">\n",
       "  <thead>\n",
       "    <tr style=\"text-align: right;\">\n",
       "      <th></th>\n",
       "      <th>top5_general_skills</th>\n",
       "      <th>frequency</th>\n",
       "    </tr>\n",
       "  </thead>\n",
       "  <tbody>\n",
       "    <tr>\n",
       "      <th>0</th>\n",
       "      <td>machine learning</td>\n",
       "      <td>3501.0</td>\n",
       "    </tr>\n",
       "    <tr>\n",
       "      <th>1</th>\n",
       "      <td>python</td>\n",
       "      <td>1844.0</td>\n",
       "    </tr>\n",
       "    <tr>\n",
       "      <th>2</th>\n",
       "      <td>communication</td>\n",
       "      <td>1579.0</td>\n",
       "    </tr>\n",
       "    <tr>\n",
       "      <th>3</th>\n",
       "      <td>sql</td>\n",
       "      <td>1412.0</td>\n",
       "    </tr>\n",
       "    <tr>\n",
       "      <th>4</th>\n",
       "      <td>aws</td>\n",
       "      <td>1074.0</td>\n",
       "    </tr>\n",
       "  </tbody>\n",
       "</table>\n",
       "</div>"
      ],
      "text/plain": [
       "  top5_general_skills  frequency\n",
       "0    machine learning     3501.0\n",
       "1              python     1844.0\n",
       "2       communication     1579.0\n",
       "3                 sql     1412.0\n",
       "4                 aws     1074.0"
      ]
     },
     "execution_count": 23,
     "metadata": {},
     "output_type": "execute_result"
    }
   ],
   "source": [
    "# Print the number of skills in the library\n",
    "print(\"Number of data science skills in general skills library: \", len(ds_general_library))\n",
    "\n",
    "# Print the top 5 needed general skills\n",
    "\n",
    "ds_top_general = MVP_explore.top_skills(df_ds, 5, ds_general_library, 'general')\n",
    "ds_top_general"
   ]
  },
  {
   "cell_type": "markdown",
   "metadata": {},
   "source": [
    "#### Web Developer Position\n",
    "- Tech skills\n",
    "- Soft skills\n",
    "- General Skills (Combination of Tech+Soft)"
   ]
  },
  {
   "cell_type": "code",
   "execution_count": 24,
   "metadata": {},
   "outputs": [],
   "source": [
    "# Create a tech library\n",
    "wd_tech_library = ['html','css','javascript','debugging','git','github','libraries','frameworks','publishing web site',\n",
    "'photoshop','bootstrap','jquery','search engine optimization','seo','basic graphic design','front end','back end',\n",
    "'visual studio code','visual studio','figma','zeplin','sketch','gatspy','strapi','paint','canva','aws','azure',\n",
    "'amazon web services','sql','mysql','nosql','node','node.js','js','json','api','google charts','d3','d3.js','react',\n",
    "'angular','ember','vue','python','c','c++','ruby','ruby on rails','git','github','php','net','.net','java','c#',\n",
    "'linux','go','gcp','troubleshooting','problem solving','ux','ui','ux/ui','cloud computing','netlify','net']  "
   ]
  },
  {
   "cell_type": "code",
   "execution_count": 25,
   "metadata": {},
   "outputs": [
    {
     "name": "stdout",
     "output_type": "stream",
     "text": [
      "Number of web dev skills in tech skill library:  67\n",
      "Do you want to save the dataframe as JSON and upload to AWS? (Y/N)\n",
      "Y\n",
      "Enter the INITIALS of the job title:\n",
      "wd\n"
     ]
    },
    {
     "data": {
      "text/html": [
       "<div>\n",
       "<style scoped>\n",
       "    .dataframe tbody tr th:only-of-type {\n",
       "        vertical-align: middle;\n",
       "    }\n",
       "\n",
       "    .dataframe tbody tr th {\n",
       "        vertical-align: top;\n",
       "    }\n",
       "\n",
       "    .dataframe thead th {\n",
       "        text-align: right;\n",
       "    }\n",
       "</style>\n",
       "<table border=\"1\" class=\"dataframe\">\n",
       "  <thead>\n",
       "    <tr style=\"text-align: right;\">\n",
       "      <th></th>\n",
       "      <th>top5_tech_skills</th>\n",
       "      <th>frequency</th>\n",
       "    </tr>\n",
       "  </thead>\n",
       "  <tbody>\n",
       "    <tr>\n",
       "      <th>0</th>\n",
       "      <td>javascript</td>\n",
       "      <td>3577.0</td>\n",
       "    </tr>\n",
       "    <tr>\n",
       "      <th>1</th>\n",
       "      <td>java</td>\n",
       "      <td>2394.0</td>\n",
       "    </tr>\n",
       "    <tr>\n",
       "      <th>2</th>\n",
       "      <td>sql</td>\n",
       "      <td>2148.0</td>\n",
       "    </tr>\n",
       "    <tr>\n",
       "      <th>3</th>\n",
       "      <td>react</td>\n",
       "      <td>1928.0</td>\n",
       "    </tr>\n",
       "    <tr>\n",
       "      <th>4</th>\n",
       "      <td>c</td>\n",
       "      <td>1729.0</td>\n",
       "    </tr>\n",
       "  </tbody>\n",
       "</table>\n",
       "</div>"
      ],
      "text/plain": [
       "  top5_tech_skills  frequency\n",
       "0       javascript     3577.0\n",
       "1             java     2394.0\n",
       "2              sql     2148.0\n",
       "3            react     1928.0\n",
       "4                c     1729.0"
      ]
     },
     "execution_count": 25,
     "metadata": {},
     "output_type": "execute_result"
    }
   ],
   "source": [
    "# Print the number of skills in the library\n",
    "print(\"Number of web dev skills in tech skill library: \", len(wd_tech_library))\n",
    "\n",
    "# Print the top 5 needed tech skills\n",
    "\n",
    "wd_top_tech = MVP_explore.top_skills(df_wd, 5, wd_tech_library, 'tech')\n",
    "wd_top_tech"
   ]
  },
  {
   "cell_type": "code",
   "execution_count": 26,
   "metadata": {},
   "outputs": [],
   "source": [
    "# Create a soft library\n",
    "wd_soft_library = ['critical thinking','communication','problem solving','teamwork','ethics','business acumen',\n",
    "                'interpersonal skills','curiosity','storytelling','adaptability','team player','collaboration',\n",
    "                'time management','leadership','domain knowledge','creativity','decision making',\n",
    "                'verbal communication','written communication','teamwork'] "
   ]
  },
  {
   "cell_type": "code",
   "execution_count": 27,
   "metadata": {},
   "outputs": [
    {
     "name": "stdout",
     "output_type": "stream",
     "text": [
      "Number of web dev skills in soft skill library:  20\n",
      "Do you want to save the dataframe as JSON and upload to AWS? (Y/N)\n",
      "Y\n",
      "Enter the INITIALS of the job title:\n",
      "wd\n"
     ]
    },
    {
     "data": {
      "text/html": [
       "<div>\n",
       "<style scoped>\n",
       "    .dataframe tbody tr th:only-of-type {\n",
       "        vertical-align: middle;\n",
       "    }\n",
       "\n",
       "    .dataframe tbody tr th {\n",
       "        vertical-align: top;\n",
       "    }\n",
       "\n",
       "    .dataframe thead th {\n",
       "        text-align: right;\n",
       "    }\n",
       "</style>\n",
       "<table border=\"1\" class=\"dataframe\">\n",
       "  <thead>\n",
       "    <tr style=\"text-align: right;\">\n",
       "      <th></th>\n",
       "      <th>top5_soft_skills</th>\n",
       "      <th>frequency</th>\n",
       "    </tr>\n",
       "  </thead>\n",
       "  <tbody>\n",
       "    <tr>\n",
       "      <th>0</th>\n",
       "      <td>communication</td>\n",
       "      <td>2602.0</td>\n",
       "    </tr>\n",
       "    <tr>\n",
       "      <th>1</th>\n",
       "      <td>leadership</td>\n",
       "      <td>1020.0</td>\n",
       "    </tr>\n",
       "    <tr>\n",
       "      <th>2</th>\n",
       "      <td>collaboration</td>\n",
       "      <td>669.0</td>\n",
       "    </tr>\n",
       "    <tr>\n",
       "      <th>3</th>\n",
       "      <td>problem solving</td>\n",
       "      <td>548.0</td>\n",
       "    </tr>\n",
       "    <tr>\n",
       "      <th>4</th>\n",
       "      <td>written communication</td>\n",
       "      <td>405.0</td>\n",
       "    </tr>\n",
       "  </tbody>\n",
       "</table>\n",
       "</div>"
      ],
      "text/plain": [
       "        top5_soft_skills  frequency\n",
       "0          communication     2602.0\n",
       "1             leadership     1020.0\n",
       "2          collaboration      669.0\n",
       "3        problem solving      548.0\n",
       "4  written communication      405.0"
      ]
     },
     "execution_count": 27,
     "metadata": {},
     "output_type": "execute_result"
    }
   ],
   "source": [
    "# Print the number of skills in the library\n",
    "print(\"Number of web dev skills in soft skill library: \", len(wd_soft_library))\n",
    "\n",
    "# Print the top 5 needed soft skills\n",
    "\n",
    "wd_top_tech = MVP_explore.top_skills(df_wd, 5, wd_soft_library, 'soft')\n",
    "wd_top_tech"
   ]
  },
  {
   "cell_type": "code",
   "execution_count": 28,
   "metadata": {},
   "outputs": [],
   "source": [
    "# Create a general library\n",
    "wd_general_library = ['html','css','javascript','debugging','git','github','libraries','frameworks','publishing web site',\n",
    "'photoshop','bootstrap','jquery','search engine optimization','seo','basic graphic design','front end','back end',\n",
    "'visual studio code','visual studio','figma','zeplin','sketch','gatspy','strapi','paint','canva','aws','azure',\n",
    "'amazon web services','sql','mysql','nosql','node','node.js','js','json','api','google charts','d3','d3.js','react',\n",
    "'angular','ember','vue','python','c','c++','ruby','ruby on rails','git','github','php','net','.net','java','c#',\n",
    "'linux','go','gcp','troubleshooting','problem solving','ux','ui','ux/ui','cloud computing','netlify','net''critical thinking',\n",
    "'communication','problem solving','teamwork','ethics','business acumen','interpersonal skills','curiosity',\n",
    "'storytelling','adaptability','team player','collaboration','time management','leadership','domain knowledge',\n",
    "'creativity','decision making','verbal communication','written communication','teamwork']"
   ]
  },
  {
   "cell_type": "code",
   "execution_count": 29,
   "metadata": {},
   "outputs": [
    {
     "name": "stdout",
     "output_type": "stream",
     "text": [
      "Number of web dev skills in general skill library:  86\n",
      "Do you want to save the dataframe as JSON and upload to AWS? (Y/N)\n",
      "Y\n",
      "Enter the INITIALS of the job title:\n",
      "wd\n"
     ]
    },
    {
     "data": {
      "text/html": [
       "<div>\n",
       "<style scoped>\n",
       "    .dataframe tbody tr th:only-of-type {\n",
       "        vertical-align: middle;\n",
       "    }\n",
       "\n",
       "    .dataframe tbody tr th {\n",
       "        vertical-align: top;\n",
       "    }\n",
       "\n",
       "    .dataframe thead th {\n",
       "        text-align: right;\n",
       "    }\n",
       "</style>\n",
       "<table border=\"1\" class=\"dataframe\">\n",
       "  <thead>\n",
       "    <tr style=\"text-align: right;\">\n",
       "      <th></th>\n",
       "      <th>top5_general_skills</th>\n",
       "      <th>frequency</th>\n",
       "    </tr>\n",
       "  </thead>\n",
       "  <tbody>\n",
       "    <tr>\n",
       "      <th>0</th>\n",
       "      <td>javascript</td>\n",
       "      <td>3577.0</td>\n",
       "    </tr>\n",
       "    <tr>\n",
       "      <th>1</th>\n",
       "      <td>communication</td>\n",
       "      <td>2602.0</td>\n",
       "    </tr>\n",
       "    <tr>\n",
       "      <th>2</th>\n",
       "      <td>java</td>\n",
       "      <td>2394.0</td>\n",
       "    </tr>\n",
       "    <tr>\n",
       "      <th>3</th>\n",
       "      <td>sql</td>\n",
       "      <td>2148.0</td>\n",
       "    </tr>\n",
       "    <tr>\n",
       "      <th>4</th>\n",
       "      <td>react</td>\n",
       "      <td>1928.0</td>\n",
       "    </tr>\n",
       "  </tbody>\n",
       "</table>\n",
       "</div>"
      ],
      "text/plain": [
       "  top5_general_skills  frequency\n",
       "0          javascript     3577.0\n",
       "1       communication     2602.0\n",
       "2                java     2394.0\n",
       "3                 sql     2148.0\n",
       "4               react     1928.0"
      ]
     },
     "execution_count": 29,
     "metadata": {},
     "output_type": "execute_result"
    }
   ],
   "source": [
    "# Print the number of skills in the library\n",
    "print(\"Number of web dev skills in general skill library: \", len(wd_general_library))\n",
    "\n",
    "# Print the top 5 needed general skills\n",
    "\n",
    "wd_top_tech = MVP_explore.top_skills(df_wd, 5, wd_general_library, 'general')\n",
    "wd_top_tech"
   ]
  },
  {
   "cell_type": "markdown",
   "metadata": {},
   "source": [
    "### Top 5 Skills Function"
   ]
  }
 ],
 "metadata": {
  "kernelspec": {
   "display_name": "Python 3",
   "language": "python",
   "name": "python3"
  },
  "language_info": {
   "codemirror_mode": {
    "name": "ipython",
    "version": 3
   },
   "file_extension": ".py",
   "mimetype": "text/x-python",
   "name": "python",
   "nbconvert_exporter": "python",
   "pygments_lexer": "ipython3",
   "version": "3.7.6"
  }
 },
 "nbformat": 4,
 "nbformat_minor": 4
}
