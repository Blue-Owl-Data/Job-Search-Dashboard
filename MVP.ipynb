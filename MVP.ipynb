{
 "cells": [
  {
   "cell_type": "markdown",
   "metadata": {},
   "source": [
    "# MVP"
   ]
  },
  {
   "cell_type": "code",
   "execution_count": 1,
   "metadata": {},
   "outputs": [],
   "source": [
    "# General Libraries\n",
    "import numpy as np\n",
    "import pandas as pd\n",
    "import matplotlib.pyplot as plt\n",
    "import seaborn as sns\n",
    "\n",
    "# AWS Libraries\n",
    "import logging\n",
    "import boto3\n",
    "from botocore.exceptions import ClientError\n",
    "\n",
    "# NLP Libraries\n",
    "import unicodedata\n",
    "import nltk\n",
    "from nltk.tokenize.toktok import ToktokTokenizer\n",
    "from nltk.corpus import stopwords\n",
    "from wordcloud import WordCloud\n",
    "\n",
    "# Geo-mapping Libraries\n",
    "import geopandas\n",
    "import geopy\n",
    "import folium \n",
    "\n",
    "# Helper Functions\n",
    "import MVP_acquire_ds, MVP_explore\n",
    "\n",
    "import warnings\n",
    "warnings.filterwarnings(\"ignore\")"
   ]
  },
  {
   "cell_type": "markdown",
   "metadata": {},
   "source": [
    "## Data Acquisition"
   ]
  },
  {
   "cell_type": "markdown",
   "metadata": {},
   "source": [
    "### Download the JSON Files from AWS S3 Bucket"
   ]
  },
  {
   "cell_type": "code",
   "execution_count": 2,
   "metadata": {},
   "outputs": [],
   "source": [
    "# Create the s3 resource object\n",
    "s3 = boto3.resource('s3')\n",
    "\n",
    "# Download the json files from AWS\n",
    "\n",
    "s3.Bucket(\"dspreparedjobpostings\").download_file(\"df_ds_tx_prepared_backup.json\", \n",
    "                                                 \"df_ds_tx_prepared_backup.json\")\n",
    "s3.Bucket(\"wdpreparedjobpostings\").download_file(\"df_wd_tx_prepared_backup.json\", \n",
    "                                                 \"df_wd_tx_prepared_backup.json\")"
   ]
  },
  {
   "cell_type": "markdown",
   "metadata": {},
   "source": [
    "## Data Preparation"
   ]
  },
  {
   "cell_type": "markdown",
   "metadata": {},
   "source": [
    "### Load JSON Files into Dataframe and Set the Date as the Index"
   ]
  },
  {
   "cell_type": "code",
   "execution_count": 3,
   "metadata": {},
   "outputs": [
    {
     "name": "stdout",
     "output_type": "stream",
     "text": [
      "Number of data scientist job postings in TX:  2188\n",
      "Number of web developer job postings in TX:  4114\n"
     ]
    }
   ],
   "source": [
    "# Read the json file and convert it to pandas dataframe\n",
    "\n",
    "df_ds = pd.read_json('df_ds_tx_prepared_backup.json')\n",
    "df_wd = pd.read_json('df_wd_tx_prepared_backup.json')\n",
    "\n",
    "# Set the date column as the index and sort the index\n",
    "\n",
    "df_ds.date = pd.to_datetime(df_ds.date)\n",
    "df_ds = df_ds.set_index('date').sort_index(ascending=False)\n",
    "df_wd.date = pd.to_datetime(df_wd.date)\n",
    "df_wd = df_wd.set_index('date').sort_index(ascending=False)\n",
    "\n",
    "# Print the number of job postings in each dataframe\n",
    "\n",
    "print(\"Number of data scientist job postings in TX: \", df_ds.shape[0])\n",
    "print(\"Number of web developer job postings in TX: \", df_wd.shape[0])"
   ]
  },
  {
   "cell_type": "code",
   "execution_count": 4,
   "metadata": {},
   "outputs": [
    {
     "name": "stdout",
     "output_type": "stream",
     "text": [
      "<class 'pandas.core.frame.DataFrame'>\n",
      "DatetimeIndex: 2188 entries, 2021-02-22 to 2020-12-22\n",
      "Data columns (total 9 columns):\n",
      " #   Column           Non-Null Count  Dtype  \n",
      "---  ------           --------------  -----  \n",
      " 0   title            2188 non-null   object \n",
      " 1   company          2188 non-null   object \n",
      " 2   company_rating   2188 non-null   float64\n",
      " 3   job_link         2188 non-null   object \n",
      " 4   job_description  2188 non-null   object \n",
      " 5   city             2188 non-null   object \n",
      " 6   state            2188 non-null   object \n",
      " 7   zipcode          2188 non-null   int64  \n",
      " 8   clean            2188 non-null   object \n",
      "dtypes: float64(1), int64(1), object(7)\n",
      "memory usage: 170.9+ KB\n"
     ]
    }
   ],
   "source": [
    "# Print the concise summary of the dataframe df_ds\n",
    "df_ds.info()"
   ]
  },
  {
   "cell_type": "code",
   "execution_count": 5,
   "metadata": {},
   "outputs": [
    {
     "name": "stdout",
     "output_type": "stream",
     "text": [
      "<class 'pandas.core.frame.DataFrame'>\n",
      "DatetimeIndex: 4114 entries, 2021-02-21 to 2021-01-04\n",
      "Data columns (total 9 columns):\n",
      " #   Column           Non-Null Count  Dtype  \n",
      "---  ------           --------------  -----  \n",
      " 0   title            4114 non-null   object \n",
      " 1   company          4114 non-null   object \n",
      " 2   company_rating   4114 non-null   float64\n",
      " 3   job_link         4114 non-null   object \n",
      " 4   job_description  4114 non-null   object \n",
      " 5   city             4114 non-null   object \n",
      " 6   state            4114 non-null   object \n",
      " 7   zipcode          4114 non-null   int64  \n",
      " 8   clean            4114 non-null   object \n",
      "dtypes: float64(1), int64(1), object(7)\n",
      "memory usage: 321.4+ KB\n"
     ]
    }
   ],
   "source": [
    "# Print the concise summary of the dataframe df_wd\n",
    "df_wd.info()"
   ]
  },
  {
   "cell_type": "code",
   "execution_count": 6,
   "metadata": {},
   "outputs": [
    {
     "data": {
      "text/html": [
       "<div>\n",
       "<style scoped>\n",
       "    .dataframe tbody tr th:only-of-type {\n",
       "        vertical-align: middle;\n",
       "    }\n",
       "\n",
       "    .dataframe tbody tr th {\n",
       "        vertical-align: top;\n",
       "    }\n",
       "\n",
       "    .dataframe thead th {\n",
       "        text-align: right;\n",
       "    }\n",
       "</style>\n",
       "<table border=\"1\" class=\"dataframe\">\n",
       "  <thead>\n",
       "    <tr style=\"text-align: right;\">\n",
       "      <th></th>\n",
       "      <th>title</th>\n",
       "      <th>company</th>\n",
       "      <th>company_rating</th>\n",
       "      <th>job_link</th>\n",
       "      <th>job_description</th>\n",
       "      <th>city</th>\n",
       "      <th>state</th>\n",
       "      <th>zipcode</th>\n",
       "      <th>clean</th>\n",
       "    </tr>\n",
       "    <tr>\n",
       "      <th>date</th>\n",
       "      <th></th>\n",
       "      <th></th>\n",
       "      <th></th>\n",
       "      <th></th>\n",
       "      <th></th>\n",
       "      <th></th>\n",
       "      <th></th>\n",
       "      <th></th>\n",
       "      <th></th>\n",
       "    </tr>\n",
       "  </thead>\n",
       "  <tbody>\n",
       "    <tr>\n",
       "      <th>2021-02-22</th>\n",
       "      <td>Machine Learning &amp; Data Engineer</td>\n",
       "      <td>JPMorgan Chase Bank, N.A.</td>\n",
       "      <td>3.9</td>\n",
       "      <td>https://www.indeed.com/rc/clk?jk=b3b1aca86cce5...</td>\n",
       "      <td>Corporate Banking Technology is hiring a multi...</td>\n",
       "      <td>Plano</td>\n",
       "      <td>TX</td>\n",
       "      <td>0</td>\n",
       "      <td>corporate banking technology hiring multiskill...</td>\n",
       "    </tr>\n",
       "    <tr>\n",
       "      <th>2021-02-22</th>\n",
       "      <td>Data Scientist Senior - Computer Vision/Deep L...</td>\n",
       "      <td>USAA</td>\n",
       "      <td>3.9</td>\n",
       "      <td>https://www.indeed.com/pagead/clk?mo=r&amp;ad=-6NY...</td>\n",
       "      <td>Purpose of Job We are currently seeking a tale...</td>\n",
       "      <td>Leming</td>\n",
       "      <td>TX</td>\n",
       "      <td>78050</td>\n",
       "      <td>purpose job currently seeking talented data sc...</td>\n",
       "    </tr>\n",
       "    <tr>\n",
       "      <th>2021-02-22</th>\n",
       "      <td>Director, Decision Science Analytics - Propert...</td>\n",
       "      <td>USAA</td>\n",
       "      <td>3.9</td>\n",
       "      <td>https://www.indeed.com/pagead/clk?mo=r&amp;ad=-6NY...</td>\n",
       "      <td>Purpose of Job USAA is looking for an experien...</td>\n",
       "      <td>Rio Medina</td>\n",
       "      <td>TX</td>\n",
       "      <td>78066</td>\n",
       "      <td>purpose job usaa looking experienced decision ...</td>\n",
       "    </tr>\n",
       "    <tr>\n",
       "      <th>2021-02-22</th>\n",
       "      <td>Senior Catastrophe Modeling Analyst</td>\n",
       "      <td>USAA</td>\n",
       "      <td>3.9</td>\n",
       "      <td>https://www.indeed.com/pagead/clk?mo=r&amp;ad=-6NY...</td>\n",
       "      <td>Purpose of Job We are currently seeking a Seni...</td>\n",
       "      <td>Helotes</td>\n",
       "      <td>TX</td>\n",
       "      <td>78023</td>\n",
       "      <td>purpose job currently seeking senior catastrop...</td>\n",
       "    </tr>\n",
       "    <tr>\n",
       "      <th>2021-02-22</th>\n",
       "      <td>Lead Decision Science Analyst – AML (Remote Wo...</td>\n",
       "      <td>USAA</td>\n",
       "      <td>3.9</td>\n",
       "      <td>https://www.indeed.com/pagead/clk?mo=r&amp;ad=-6NY...</td>\n",
       "      <td>Purpose of Job We are currently seeking a tale...</td>\n",
       "      <td>San Antonio</td>\n",
       "      <td>TX</td>\n",
       "      <td>78206</td>\n",
       "      <td>purpose job currently seeking talented decisio...</td>\n",
       "    </tr>\n",
       "  </tbody>\n",
       "</table>\n",
       "</div>"
      ],
      "text/plain": [
       "                                                        title  \\\n",
       "date                                                            \n",
       "2021-02-22                   Machine Learning & Data Engineer   \n",
       "2021-02-22  Data Scientist Senior - Computer Vision/Deep L...   \n",
       "2021-02-22  Director, Decision Science Analytics - Propert...   \n",
       "2021-02-22                Senior Catastrophe Modeling Analyst   \n",
       "2021-02-22  Lead Decision Science Analyst – AML (Remote Wo...   \n",
       "\n",
       "                              company  company_rating  \\\n",
       "date                                                    \n",
       "2021-02-22  JPMorgan Chase Bank, N.A.             3.9   \n",
       "2021-02-22                       USAA             3.9   \n",
       "2021-02-22                       USAA             3.9   \n",
       "2021-02-22                       USAA             3.9   \n",
       "2021-02-22                       USAA             3.9   \n",
       "\n",
       "                                                     job_link  \\\n",
       "date                                                            \n",
       "2021-02-22  https://www.indeed.com/rc/clk?jk=b3b1aca86cce5...   \n",
       "2021-02-22  https://www.indeed.com/pagead/clk?mo=r&ad=-6NY...   \n",
       "2021-02-22  https://www.indeed.com/pagead/clk?mo=r&ad=-6NY...   \n",
       "2021-02-22  https://www.indeed.com/pagead/clk?mo=r&ad=-6NY...   \n",
       "2021-02-22  https://www.indeed.com/pagead/clk?mo=r&ad=-6NY...   \n",
       "\n",
       "                                              job_description         city  \\\n",
       "date                                                                         \n",
       "2021-02-22  Corporate Banking Technology is hiring a multi...        Plano   \n",
       "2021-02-22  Purpose of Job We are currently seeking a tale...       Leming   \n",
       "2021-02-22  Purpose of Job USAA is looking for an experien...   Rio Medina   \n",
       "2021-02-22  Purpose of Job We are currently seeking a Seni...      Helotes   \n",
       "2021-02-22  Purpose of Job We are currently seeking a tale...  San Antonio   \n",
       "\n",
       "           state  zipcode                                              clean  \n",
       "date                                                                          \n",
       "2021-02-22    TX        0  corporate banking technology hiring multiskill...  \n",
       "2021-02-22    TX    78050  purpose job currently seeking talented data sc...  \n",
       "2021-02-22    TX    78066  purpose job usaa looking experienced decision ...  \n",
       "2021-02-22    TX    78023  purpose job currently seeking senior catastrop...  \n",
       "2021-02-22    TX    78206  purpose job currently seeking talented decisio...  "
      ]
     },
     "execution_count": 6,
     "metadata": {},
     "output_type": "execute_result"
    }
   ],
   "source": [
    "# Print the first 5 rows of the dataframe df_ds\n",
    "df_ds.head()"
   ]
  },
  {
   "cell_type": "code",
   "execution_count": 7,
   "metadata": {},
   "outputs": [
    {
     "data": {
      "text/html": [
       "<div>\n",
       "<style scoped>\n",
       "    .dataframe tbody tr th:only-of-type {\n",
       "        vertical-align: middle;\n",
       "    }\n",
       "\n",
       "    .dataframe tbody tr th {\n",
       "        vertical-align: top;\n",
       "    }\n",
       "\n",
       "    .dataframe thead th {\n",
       "        text-align: right;\n",
       "    }\n",
       "</style>\n",
       "<table border=\"1\" class=\"dataframe\">\n",
       "  <thead>\n",
       "    <tr style=\"text-align: right;\">\n",
       "      <th></th>\n",
       "      <th>title</th>\n",
       "      <th>company</th>\n",
       "      <th>company_rating</th>\n",
       "      <th>job_link</th>\n",
       "      <th>job_description</th>\n",
       "      <th>city</th>\n",
       "      <th>state</th>\n",
       "      <th>zipcode</th>\n",
       "      <th>clean</th>\n",
       "    </tr>\n",
       "    <tr>\n",
       "      <th>date</th>\n",
       "      <th></th>\n",
       "      <th></th>\n",
       "      <th></th>\n",
       "      <th></th>\n",
       "      <th></th>\n",
       "      <th></th>\n",
       "      <th></th>\n",
       "      <th></th>\n",
       "      <th></th>\n",
       "    </tr>\n",
       "  </thead>\n",
       "  <tbody>\n",
       "    <tr>\n",
       "      <th>2021-02-21</th>\n",
       "      <td>GIS Developer</td>\n",
       "      <td>Cognizant Technology Solutions</td>\n",
       "      <td>3.9</td>\n",
       "      <td>https://www.indeed.com/rc/clk?jk=65af6c566fe44...</td>\n",
       "      <td>Cognizant is seeking skilled, self-starting GI...</td>\n",
       "      <td>Dallas</td>\n",
       "      <td>TX</td>\n",
       "      <td>0</td>\n",
       "      <td>cognizant seeking skilled selfstarting gi deve...</td>\n",
       "    </tr>\n",
       "    <tr>\n",
       "      <th>2021-02-21</th>\n",
       "      <td>QA Engineer</td>\n",
       "      <td>Decent</td>\n",
       "      <td>0.0</td>\n",
       "      <td>https://www.indeed.com/rc/clk?jk=fcda13401908b...</td>\n",
       "      <td>Job Summary\\nDecent is looking for a QA Engine...</td>\n",
       "      <td>Austin</td>\n",
       "      <td>TX</td>\n",
       "      <td>0</td>\n",
       "      <td>job summary decent looking qa engineer lead te...</td>\n",
       "    </tr>\n",
       "    <tr>\n",
       "      <th>2021-02-21</th>\n",
       "      <td>Experienced QNXT Developer</td>\n",
       "      <td>Gainwell Technologies</td>\n",
       "      <td>0.0</td>\n",
       "      <td>https://www.indeed.com/rc/clk?jk=74519ec914d0f...</td>\n",
       "      <td>Job Description:\\nEssential Job Functions\\nDes...</td>\n",
       "      <td>0</td>\n",
       "      <td>TX</td>\n",
       "      <td>0</td>\n",
       "      <td>job description essential job function design ...</td>\n",
       "    </tr>\n",
       "    <tr>\n",
       "      <th>2021-02-21</th>\n",
       "      <td>Sr. Software Engineer - API</td>\n",
       "      <td>Exelon Corporation</td>\n",
       "      <td>4.0</td>\n",
       "      <td>https://www.indeed.com/pagead/clk?mo=r&amp;ad=-6NY...</td>\n",
       "      <td>Description\\nAt Exelon, we've got a place for ...</td>\n",
       "      <td>Houston</td>\n",
       "      <td>TX</td>\n",
       "      <td>0</td>\n",
       "      <td>description exelon weve got place join nation ...</td>\n",
       "    </tr>\n",
       "    <tr>\n",
       "      <th>2021-02-21</th>\n",
       "      <td>Front End Developer - MEAN Stack</td>\n",
       "      <td>Cytracom</td>\n",
       "      <td>3.6</td>\n",
       "      <td>https://www.indeed.com/rc/clk?jk=32aa501a072b1...</td>\n",
       "      <td>About Us:\\nLocated in Allen TX Cytracom is the...</td>\n",
       "      <td>Allen</td>\n",
       "      <td>TX</td>\n",
       "      <td>0</td>\n",
       "      <td>u located allen tx cytracom leading saas provi...</td>\n",
       "    </tr>\n",
       "  </tbody>\n",
       "</table>\n",
       "</div>"
      ],
      "text/plain": [
       "                                       title                         company  \\\n",
       "date                                                                           \n",
       "2021-02-21                     GIS Developer  Cognizant Technology Solutions   \n",
       "2021-02-21                       QA Engineer                          Decent   \n",
       "2021-02-21        Experienced QNXT Developer           Gainwell Technologies   \n",
       "2021-02-21       Sr. Software Engineer - API              Exelon Corporation   \n",
       "2021-02-21  Front End Developer - MEAN Stack                        Cytracom   \n",
       "\n",
       "            company_rating                                           job_link  \\\n",
       "date                                                                            \n",
       "2021-02-21             3.9  https://www.indeed.com/rc/clk?jk=65af6c566fe44...   \n",
       "2021-02-21             0.0  https://www.indeed.com/rc/clk?jk=fcda13401908b...   \n",
       "2021-02-21             0.0  https://www.indeed.com/rc/clk?jk=74519ec914d0f...   \n",
       "2021-02-21             4.0  https://www.indeed.com/pagead/clk?mo=r&ad=-6NY...   \n",
       "2021-02-21             3.6  https://www.indeed.com/rc/clk?jk=32aa501a072b1...   \n",
       "\n",
       "                                              job_description     city state  \\\n",
       "date                                                                           \n",
       "2021-02-21  Cognizant is seeking skilled, self-starting GI...   Dallas    TX   \n",
       "2021-02-21  Job Summary\\nDecent is looking for a QA Engine...   Austin    TX   \n",
       "2021-02-21  Job Description:\\nEssential Job Functions\\nDes...        0    TX   \n",
       "2021-02-21  Description\\nAt Exelon, we've got a place for ...  Houston    TX   \n",
       "2021-02-21  About Us:\\nLocated in Allen TX Cytracom is the...    Allen    TX   \n",
       "\n",
       "            zipcode                                              clean  \n",
       "date                                                                    \n",
       "2021-02-21        0  cognizant seeking skilled selfstarting gi deve...  \n",
       "2021-02-21        0  job summary decent looking qa engineer lead te...  \n",
       "2021-02-21        0  job description essential job function design ...  \n",
       "2021-02-21        0  description exelon weve got place join nation ...  \n",
       "2021-02-21        0  u located allen tx cytracom leading saas provi...  "
      ]
     },
     "execution_count": 7,
     "metadata": {},
     "output_type": "execute_result"
    }
   ],
   "source": [
    "# Print the first 5 rows of the dataframe df_wd\n",
    "df_wd.head()"
   ]
  },
  {
   "cell_type": "markdown",
   "metadata": {},
   "source": [
    "### Brief Summary of the Job Postings"
   ]
  },
  {
   "cell_type": "markdown",
   "metadata": {},
   "source": [
    "#### Data Scientist Position"
   ]
  },
  {
   "cell_type": "code",
   "execution_count": 8,
   "metadata": {},
   "outputs": [
    {
     "data": {
      "text/plain": [
       "Cognizant Technology Solutions    63\n",
       "Facebook                          49\n",
       "Dell Technologies                 46\n",
       "USAA                              46\n",
       "Deloitte                          45\n",
       "Name: company, dtype: int64"
      ]
     },
     "execution_count": 8,
     "metadata": {},
     "output_type": "execute_result"
    }
   ],
   "source": [
    "# Which companies hire the most data scientists in TX?\n",
    "df_ds.company.value_counts().head()"
   ]
  },
  {
   "cell_type": "code",
   "execution_count": 9,
   "metadata": {},
   "outputs": [
    {
     "data": {
      "text/plain": [
       "Austin         635\n",
       "Dallas         361\n",
       "Houston        275\n",
       "Plano          175\n",
       "San Antonio    169\n",
       "Name: city, dtype: int64"
      ]
     },
     "execution_count": 9,
     "metadata": {},
     "output_type": "execute_result"
    }
   ],
   "source": [
    "# Which cities have the most data scientists postions in TX?\n",
    "df_ds.city.value_counts().head()"
   ]
  },
  {
   "cell_type": "code",
   "execution_count": 10,
   "metadata": {},
   "outputs": [
    {
     "data": {
      "text/plain": [
       "date\n",
       "2020-12-27    392\n",
       "2021-01-03    136\n",
       "2021-01-10    212\n",
       "2021-01-17    187\n",
       "2021-01-24    352\n",
       "2021-01-31    292\n",
       "2021-02-07    255\n",
       "2021-02-14    254\n",
       "2021-02-21    101\n",
       "2021-02-28      7\n",
       "Freq: W-SUN, Name: title, dtype: int64"
      ]
     },
     "execution_count": 10,
     "metadata": {},
     "output_type": "execute_result"
    }
   ],
   "source": [
    "# How does the number of job postings change over time?\n",
    "df_ds.resample('W').title.count()"
   ]
  },
  {
   "cell_type": "code",
   "execution_count": 11,
   "metadata": {},
   "outputs": [
    {
     "data": {
      "text/plain": [
       "company\n",
       "Digital Pharmacist    5.0\n",
       "Rekruiters            5.0\n",
       "Levelset              4.7\n",
       "Onit                  4.7\n",
       "Harnham               4.6\n",
       "Name: company_rating, dtype: float64"
      ]
     },
     "execution_count": 11,
     "metadata": {},
     "output_type": "execute_result"
    }
   ],
   "source": [
    "# Which company has the best avereage rating? \n",
    "df_ds.groupby('company').company_rating.mean().sort_values(ascending=False).head()"
   ]
  },
  {
   "cell_type": "code",
   "execution_count": 12,
   "metadata": {},
   "outputs": [
    {
     "data": {
      "text/plain": [
       "Data Scientist               230\n",
       "Senior Data Scientist         83\n",
       "Machine Learning Engineer     52\n",
       "Senior Data Analyst           51\n",
       "Sr. Data Scientist            38\n",
       "Name: title, dtype: int64"
      ]
     },
     "execution_count": 12,
     "metadata": {},
     "output_type": "execute_result"
    }
   ],
   "source": [
    "df_ds.title.value_counts().head()"
   ]
  },
  {
   "cell_type": "markdown",
   "metadata": {},
   "source": [
    "#### Web Developer Position"
   ]
  },
  {
   "cell_type": "code",
   "execution_count": 13,
   "metadata": {},
   "outputs": [
    {
     "data": {
      "text/plain": [
       "CyberCoders                            163\n",
       "Indeed                                 123\n",
       "JPMorgan Chase Bank, N.A.              114\n",
       "Infinity Consulting Solutions, Inc.     60\n",
       "Cognizant Technology Solutions          60\n",
       "Name: company, dtype: int64"
      ]
     },
     "execution_count": 13,
     "metadata": {},
     "output_type": "execute_result"
    }
   ],
   "source": [
    "# Which companies hire the most web developers in TX?\n",
    "df_wd.company.value_counts().head()"
   ]
  },
  {
   "cell_type": "code",
   "execution_count": 14,
   "metadata": {},
   "outputs": [
    {
     "data": {
      "text/plain": [
       "Austin     1285\n",
       "Dallas      563\n",
       "Houston     465\n",
       "Plano       330\n",
       "Name: city, dtype: int64"
      ]
     },
     "execution_count": 14,
     "metadata": {},
     "output_type": "execute_result"
    }
   ],
   "source": [
    "# Which cities have the most web developers postions in TX?\n",
    "df_wd.city.value_counts().head(4)"
   ]
  },
  {
   "cell_type": "code",
   "execution_count": 15,
   "metadata": {},
   "outputs": [
    {
     "data": {
      "text/plain": [
       "date\n",
       "2021-01-10      62\n",
       "2021-01-17     346\n",
       "2021-01-24     793\n",
       "2021-01-31    1054\n",
       "2021-02-07     825\n",
       "2021-02-14     745\n",
       "2021-02-21     289\n",
       "Freq: W-SUN, Name: title, dtype: int64"
      ]
     },
     "execution_count": 15,
     "metadata": {},
     "output_type": "execute_result"
    }
   ],
   "source": [
    "# How does the number of job postings change over time?\n",
    "df_wd.resample('W').title.count()"
   ]
  },
  {
   "cell_type": "code",
   "execution_count": 16,
   "metadata": {},
   "outputs": [
    {
     "data": {
      "text/plain": [
       "company\n",
       "Royal & Ross          5.0\n",
       "Box                   5.0\n",
       "The Evolvers Group    5.0\n",
       "Givelify              5.0\n",
       "PEAKE                 5.0\n",
       "Name: company_rating, dtype: float64"
      ]
     },
     "execution_count": 16,
     "metadata": {},
     "output_type": "execute_result"
    }
   ],
   "source": [
    "# Which company has the best avereage rating? \n",
    "df_wd.groupby('company').company_rating.mean().sort_values(ascending=False).head()"
   ]
  },
  {
   "cell_type": "code",
   "execution_count": 17,
   "metadata": {},
   "outputs": [
    {
     "data": {
      "text/plain": [
       "Software Engineer           89\n",
       "Web Developer               76\n",
       "Senior Software Engineer    72\n",
       "Software Developer          70\n",
       "Full Stack Developer        63\n",
       "Name: title, dtype: int64"
      ]
     },
     "execution_count": 17,
     "metadata": {},
     "output_type": "execute_result"
    }
   ],
   "source": [
    "df_wd.title.value_counts().head()"
   ]
  },
  {
   "cell_type": "markdown",
   "metadata": {},
   "source": [
    "### Top k Needed Skills"
   ]
  },
  {
   "cell_type": "markdown",
   "metadata": {},
   "source": [
    "#### Data Scientist Position\n",
    "- Tech Skills\n",
    "- Soft Skills\n",
    "- General Skills (Combination of Tech+Soft)"
   ]
  },
  {
   "cell_type": "code",
   "execution_count": 18,
   "metadata": {},
   "outputs": [],
   "source": [
    "# Create a tech library\n",
    "ds_tech_library = ['python','sql','pandas','numpy','matplotlib','scikit learn','scikitlearn','spark','hadoop',\n",
    "                'aws','amazon web services','azure','microsoft word', 'microsoft excel','excel','tableau',\n",
    "                'tensor flow','pytorch','hive','impala','matlab','etl','statistics','exploration',\n",
    "                'extraction','data wrangling','math','machine learning','data visualization','java','js',\n",
    "                'javascript','scala','r','c','c++','power bi','dashboard','linear algebra','calculus',\n",
    "                'neural networks','eda','big data','frameworks','database management','testing hypotheses',\n",
    "                'probability','data mining','perl','nosql','saas','git','github','natural language processing',\n",
    "                'nlp', 'deep learning','agile','kanban','project management','julia','devops','google cloud',\n",
    "                'pytorch','computer vision', 'deep neural networks','neural networks','amazon web services',\n",
    "                'natural language processing','extract,transform,load','mysql','structured query language']"
   ]
  },
  {
   "cell_type": "code",
   "execution_count": 19,
   "metadata": {},
   "outputs": [
    {
     "name": "stdout",
     "output_type": "stream",
     "text": [
      "Number of data science skills in tech skill library:  71\n"
     ]
    },
    {
     "data": {
      "text/html": [
       "<div>\n",
       "<style scoped>\n",
       "    .dataframe tbody tr th:only-of-type {\n",
       "        vertical-align: middle;\n",
       "    }\n",
       "\n",
       "    .dataframe tbody tr th {\n",
       "        vertical-align: top;\n",
       "    }\n",
       "\n",
       "    .dataframe thead th {\n",
       "        text-align: right;\n",
       "    }\n",
       "</style>\n",
       "<table border=\"1\" class=\"dataframe\">\n",
       "  <thead>\n",
       "    <tr style=\"text-align: right;\">\n",
       "      <th></th>\n",
       "      <th>frequency</th>\n",
       "    </tr>\n",
       "  </thead>\n",
       "  <tbody>\n",
       "    <tr>\n",
       "      <th>machine learning</th>\n",
       "      <td>3326.0</td>\n",
       "    </tr>\n",
       "    <tr>\n",
       "      <th>python</th>\n",
       "      <td>1759.0</td>\n",
       "    </tr>\n",
       "    <tr>\n",
       "      <th>sql</th>\n",
       "      <td>1352.0</td>\n",
       "    </tr>\n",
       "    <tr>\n",
       "      <th>aws</th>\n",
       "      <td>1019.0</td>\n",
       "    </tr>\n",
       "    <tr>\n",
       "      <th>r</th>\n",
       "      <td>979.0</td>\n",
       "    </tr>\n",
       "  </tbody>\n",
       "</table>\n",
       "</div>"
      ],
      "text/plain": [
       "                  frequency\n",
       "machine learning     3326.0\n",
       "python               1759.0\n",
       "sql                  1352.0\n",
       "aws                  1019.0\n",
       "r                     979.0"
      ]
     },
     "execution_count": 19,
     "metadata": {},
     "output_type": "execute_result"
    }
   ],
   "source": [
    "# Print the number of skills in the library\n",
    "print(\"Number of data science skills in tech skill library: \", len(ds_tech_library))\n",
    "\n",
    "# Print the top 5 needed tech skills\n",
    "\n",
    "ds_top_tech = MVP_explore.top_skills(df_ds, 5, ds_tech_library)\n",
    "ds_top_tech"
   ]
  },
  {
   "cell_type": "code",
   "execution_count": 20,
   "metadata": {},
   "outputs": [],
   "source": [
    "# Create a soft skill library\n",
    "ds_soft_library = ['critical thinking','communication','problem solving','teamwork','ethics','business acumen',\n",
    "                'interpersonal skills','curiosity','storytelling','adaptability','team player','collaboration',\n",
    "                'time management','leadership','domain knowledge','creativity','decision making',\n",
    "                'verbal communication','written communication','teamwork'] "
   ]
  },
  {
   "cell_type": "code",
   "execution_count": 22,
   "metadata": {},
   "outputs": [
    {
     "name": "stdout",
     "output_type": "stream",
     "text": [
      "Number of data science skills in soft skill library:  20\n"
     ]
    },
    {
     "data": {
      "text/html": [
       "<div>\n",
       "<style scoped>\n",
       "    .dataframe tbody tr th:only-of-type {\n",
       "        vertical-align: middle;\n",
       "    }\n",
       "\n",
       "    .dataframe tbody tr th {\n",
       "        vertical-align: top;\n",
       "    }\n",
       "\n",
       "    .dataframe thead th {\n",
       "        text-align: right;\n",
       "    }\n",
       "</style>\n",
       "<table border=\"1\" class=\"dataframe\">\n",
       "  <thead>\n",
       "    <tr style=\"text-align: right;\">\n",
       "      <th></th>\n",
       "      <th>frequency</th>\n",
       "    </tr>\n",
       "  </thead>\n",
       "  <tbody>\n",
       "    <tr>\n",
       "      <th>communication</th>\n",
       "      <td>1510.0</td>\n",
       "    </tr>\n",
       "    <tr>\n",
       "      <th>leadership</th>\n",
       "      <td>940.0</td>\n",
       "    </tr>\n",
       "    <tr>\n",
       "      <th>collaboration</th>\n",
       "      <td>450.0</td>\n",
       "    </tr>\n",
       "    <tr>\n",
       "      <th>problem solving</th>\n",
       "      <td>335.0</td>\n",
       "    </tr>\n",
       "    <tr>\n",
       "      <th>written communication</th>\n",
       "      <td>253.0</td>\n",
       "    </tr>\n",
       "  </tbody>\n",
       "</table>\n",
       "</div>"
      ],
      "text/plain": [
       "                       frequency\n",
       "communication             1510.0\n",
       "leadership                 940.0\n",
       "collaboration              450.0\n",
       "problem solving            335.0\n",
       "written communication      253.0"
      ]
     },
     "execution_count": 22,
     "metadata": {},
     "output_type": "execute_result"
    }
   ],
   "source": [
    "# Print the number of skills in the library\n",
    "print(\"Number of data science skills in soft skill library: \", len(ds_soft_library))\n",
    "\n",
    "# Print the top 5 needed soft skills\n",
    "\n",
    "ds_top_soft = MVP_explore.top_skills(df_ds, 5, ds_soft_library)\n",
    "ds_top_soft"
   ]
  },
  {
   "cell_type": "code",
   "execution_count": 23,
   "metadata": {},
   "outputs": [],
   "source": [
    "# Create a general library\n",
    "ds_general_library = ['python','sql','pandas','numpy','matplotlib','scikit learn','scikitlearn','spark','hadoop',\n",
    "                'aws','amazon web services','azure','microsoft word', 'microsoft excel','excel','tableau',\n",
    "                'tensor flow','pytorch','hive','impala','matlab','etl','statistics','exploration',\n",
    "                'extraction','data wrangling','math','machine learning','data visualization','java','js',\n",
    "                'javascript','scala','r','c','c++','power bi','dashboard','linear algebra','calculus',\n",
    "                'neural networks','eda','big data','frameworks','database management','testing hypotheses',\n",
    "                'probability','data mining','perl','nosql','saas','git','github','natural language processing',\n",
    "                'nlp', 'deep learning','agile','kanban','project management','julia','devops','google cloud',\n",
    "                'pytorch','computer vision', 'deep neural networks','neural networks','amazon web services',\n",
    "                'natural language processing','extract,transform,load','mysql','structured query language'\n",
    "                'critical thinking','communication','problem solving','teamwork','ethics','business acumen',\n",
    "                'interpersonal skills','curiosity','storytelling','adaptability','team player','collaboration',\n",
    "                'time management','leadership','domain knowledge','creativity','decision making',\n",
    "                'verbal communication','written communication','teamwork']"
   ]
  },
  {
   "cell_type": "code",
   "execution_count": 24,
   "metadata": {},
   "outputs": [
    {
     "name": "stdout",
     "output_type": "stream",
     "text": [
      "Number of data science skills in general skills library:  90\n"
     ]
    },
    {
     "data": {
      "text/html": [
       "<div>\n",
       "<style scoped>\n",
       "    .dataframe tbody tr th:only-of-type {\n",
       "        vertical-align: middle;\n",
       "    }\n",
       "\n",
       "    .dataframe tbody tr th {\n",
       "        vertical-align: top;\n",
       "    }\n",
       "\n",
       "    .dataframe thead th {\n",
       "        text-align: right;\n",
       "    }\n",
       "</style>\n",
       "<table border=\"1\" class=\"dataframe\">\n",
       "  <thead>\n",
       "    <tr style=\"text-align: right;\">\n",
       "      <th></th>\n",
       "      <th>frequency</th>\n",
       "    </tr>\n",
       "  </thead>\n",
       "  <tbody>\n",
       "    <tr>\n",
       "      <th>machine learning</th>\n",
       "      <td>3326.0</td>\n",
       "    </tr>\n",
       "    <tr>\n",
       "      <th>python</th>\n",
       "      <td>1759.0</td>\n",
       "    </tr>\n",
       "    <tr>\n",
       "      <th>communication</th>\n",
       "      <td>1510.0</td>\n",
       "    </tr>\n",
       "    <tr>\n",
       "      <th>sql</th>\n",
       "      <td>1352.0</td>\n",
       "    </tr>\n",
       "    <tr>\n",
       "      <th>aws</th>\n",
       "      <td>1019.0</td>\n",
       "    </tr>\n",
       "  </tbody>\n",
       "</table>\n",
       "</div>"
      ],
      "text/plain": [
       "                  frequency\n",
       "machine learning     3326.0\n",
       "python               1759.0\n",
       "communication        1510.0\n",
       "sql                  1352.0\n",
       "aws                  1019.0"
      ]
     },
     "execution_count": 24,
     "metadata": {},
     "output_type": "execute_result"
    }
   ],
   "source": [
    "# Print the number of skills in the library\n",
    "print(\"Number of data science skills in general skills library: \", len(ds_general_library))\n",
    "\n",
    "# Print the top 5 needed general skills\n",
    "\n",
    "ds_top_general = MVP_explore.top_skills(df_ds, 5, ds_general_library)\n",
    "ds_top_general"
   ]
  },
  {
   "cell_type": "markdown",
   "metadata": {},
   "source": [
    "#### Web Developer Position\n",
    "- Tech skills\n",
    "- Soft skills\n",
    "- General Skills (Combination of Tech+Soft)"
   ]
  },
  {
   "cell_type": "code",
   "execution_count": 25,
   "metadata": {},
   "outputs": [],
   "source": [
    "# Create a tech library\n",
    "wd_tech_library = ['html','css','javascript','debugging','git','github','libraries','frameworks','publishing web site',\n",
    "'photoshop','bootstrap','jquery','search engine optimization','seo','basic graphic design','front end','back end',\n",
    "'visual studio code','visual studio','figma','zeplin','sketch','gatspy','strapi','paint','canva','aws','azure',\n",
    "'amazon web services','sql','mysql','nosql','node','node.js','js','json','api','google charts','d3','d3.js','react',\n",
    "'angular','ember','vue','python','c','c++','ruby','ruby on rails','git','github','php','net','.net','java','c#',\n",
    "'linux','go','gcp','troubleshooting','problem solving','ux','ui','ux/ui','cloud computing','netlify','net']  "
   ]
  },
  {
   "cell_type": "code",
   "execution_count": 26,
   "metadata": {},
   "outputs": [
    {
     "name": "stdout",
     "output_type": "stream",
     "text": [
      "Number of web dev skills in tech skill library:  67\n"
     ]
    },
    {
     "data": {
      "text/html": [
       "<div>\n",
       "<style scoped>\n",
       "    .dataframe tbody tr th:only-of-type {\n",
       "        vertical-align: middle;\n",
       "    }\n",
       "\n",
       "    .dataframe tbody tr th {\n",
       "        vertical-align: top;\n",
       "    }\n",
       "\n",
       "    .dataframe thead th {\n",
       "        text-align: right;\n",
       "    }\n",
       "</style>\n",
       "<table border=\"1\" class=\"dataframe\">\n",
       "  <thead>\n",
       "    <tr style=\"text-align: right;\">\n",
       "      <th></th>\n",
       "      <th>frequency</th>\n",
       "    </tr>\n",
       "  </thead>\n",
       "  <tbody>\n",
       "    <tr>\n",
       "      <th>javascript</th>\n",
       "      <td>3320.0</td>\n",
       "    </tr>\n",
       "    <tr>\n",
       "      <th>java</th>\n",
       "      <td>2243.0</td>\n",
       "    </tr>\n",
       "    <tr>\n",
       "      <th>sql</th>\n",
       "      <td>2018.0</td>\n",
       "    </tr>\n",
       "    <tr>\n",
       "      <th>react</th>\n",
       "      <td>1782.0</td>\n",
       "    </tr>\n",
       "    <tr>\n",
       "      <th>net</th>\n",
       "      <td>1591.0</td>\n",
       "    </tr>\n",
       "  </tbody>\n",
       "</table>\n",
       "</div>"
      ],
      "text/plain": [
       "            frequency\n",
       "javascript     3320.0\n",
       "java           2243.0\n",
       "sql            2018.0\n",
       "react          1782.0\n",
       "net            1591.0"
      ]
     },
     "execution_count": 26,
     "metadata": {},
     "output_type": "execute_result"
    }
   ],
   "source": [
    "# Print the number of skills in the library\n",
    "print(\"Number of web dev skills in tech skill library: \", len(wd_tech_library))\n",
    "\n",
    "# Print the top 5 needed tech skills\n",
    "\n",
    "wd_top_tech = MVP_explore.top_skills(df_wd, 5, wd_tech_library)\n",
    "wd_top_tech"
   ]
  },
  {
   "cell_type": "code",
   "execution_count": 27,
   "metadata": {},
   "outputs": [],
   "source": [
    "# Create a soft library\n",
    "wd_soft_library = ['critical thinking','communication','problem solving','teamwork','ethics','business acumen',\n",
    "                'interpersonal skills','curiosity','storytelling','adaptability','team player','collaboration',\n",
    "                'time management','leadership','domain knowledge','creativity','decision making',\n",
    "                'verbal communication','written communication','teamwork'] "
   ]
  },
  {
   "cell_type": "code",
   "execution_count": 28,
   "metadata": {},
   "outputs": [
    {
     "name": "stdout",
     "output_type": "stream",
     "text": [
      "Number of web dev skills in soft skill library:  20\n"
     ]
    },
    {
     "data": {
      "text/html": [
       "<div>\n",
       "<style scoped>\n",
       "    .dataframe tbody tr th:only-of-type {\n",
       "        vertical-align: middle;\n",
       "    }\n",
       "\n",
       "    .dataframe tbody tr th {\n",
       "        vertical-align: top;\n",
       "    }\n",
       "\n",
       "    .dataframe thead th {\n",
       "        text-align: right;\n",
       "    }\n",
       "</style>\n",
       "<table border=\"1\" class=\"dataframe\">\n",
       "  <thead>\n",
       "    <tr style=\"text-align: right;\">\n",
       "      <th></th>\n",
       "      <th>frequency</th>\n",
       "    </tr>\n",
       "  </thead>\n",
       "  <tbody>\n",
       "    <tr>\n",
       "      <th>communication</th>\n",
       "      <td>2384.0</td>\n",
       "    </tr>\n",
       "    <tr>\n",
       "      <th>leadership</th>\n",
       "      <td>920.0</td>\n",
       "    </tr>\n",
       "    <tr>\n",
       "      <th>collaboration</th>\n",
       "      <td>600.0</td>\n",
       "    </tr>\n",
       "    <tr>\n",
       "      <th>problem solving</th>\n",
       "      <td>501.0</td>\n",
       "    </tr>\n",
       "    <tr>\n",
       "      <th>written communication</th>\n",
       "      <td>366.0</td>\n",
       "    </tr>\n",
       "  </tbody>\n",
       "</table>\n",
       "</div>"
      ],
      "text/plain": [
       "                       frequency\n",
       "communication             2384.0\n",
       "leadership                 920.0\n",
       "collaboration              600.0\n",
       "problem solving            501.0\n",
       "written communication      366.0"
      ]
     },
     "execution_count": 28,
     "metadata": {},
     "output_type": "execute_result"
    }
   ],
   "source": [
    "# Print the number of skills in the library\n",
    "print(\"Number of web dev skills in soft skill library: \", len(wd_soft_library))\n",
    "\n",
    "# Print the top 5 needed soft skills\n",
    "\n",
    "wd_top_tech = MVP_explore.top_skills(df_wd, 5, wd_soft_library)\n",
    "wd_top_tech"
   ]
  },
  {
   "cell_type": "code",
   "execution_count": 29,
   "metadata": {},
   "outputs": [],
   "source": [
    "# Create a general library\n",
    "wd_general_library = ['html','css','javascript','debugging','git','github','libraries','frameworks','publishing web site',\n",
    "'photoshop','bootstrap','jquery','search engine optimization','seo','basic graphic design','front end','back end',\n",
    "'visual studio code','visual studio','figma','zeplin','sketch','gatspy','strapi','paint','canva','aws','azure',\n",
    "'amazon web services','sql','mysql','nosql','node','node.js','js','json','api','google charts','d3','d3.js','react',\n",
    "'angular','ember','vue','python','c','c++','ruby','ruby on rails','git','github','php','net','.net','java','c#',\n",
    "'linux','go','gcp','troubleshooting','problem solving','ux','ui','ux/ui','cloud computing','netlify','net''critical thinking',\n",
    "'communication','problem solving','teamwork','ethics','business acumen','interpersonal skills','curiosity',\n",
    "'storytelling','adaptability','team player','collaboration','time management','leadership','domain knowledge',\n",
    "'creativity','decision making','verbal communication','written communication','teamwork']"
   ]
  },
  {
   "cell_type": "code",
   "execution_count": 30,
   "metadata": {},
   "outputs": [
    {
     "name": "stdout",
     "output_type": "stream",
     "text": [
      "Number of web dev skills in general skill library:  86\n"
     ]
    },
    {
     "data": {
      "text/html": [
       "<div>\n",
       "<style scoped>\n",
       "    .dataframe tbody tr th:only-of-type {\n",
       "        vertical-align: middle;\n",
       "    }\n",
       "\n",
       "    .dataframe tbody tr th {\n",
       "        vertical-align: top;\n",
       "    }\n",
       "\n",
       "    .dataframe thead th {\n",
       "        text-align: right;\n",
       "    }\n",
       "</style>\n",
       "<table border=\"1\" class=\"dataframe\">\n",
       "  <thead>\n",
       "    <tr style=\"text-align: right;\">\n",
       "      <th></th>\n",
       "      <th>frequency</th>\n",
       "    </tr>\n",
       "  </thead>\n",
       "  <tbody>\n",
       "    <tr>\n",
       "      <th>javascript</th>\n",
       "      <td>3320.0</td>\n",
       "    </tr>\n",
       "    <tr>\n",
       "      <th>communication</th>\n",
       "      <td>2384.0</td>\n",
       "    </tr>\n",
       "    <tr>\n",
       "      <th>java</th>\n",
       "      <td>2243.0</td>\n",
       "    </tr>\n",
       "    <tr>\n",
       "      <th>sql</th>\n",
       "      <td>2018.0</td>\n",
       "    </tr>\n",
       "    <tr>\n",
       "      <th>react</th>\n",
       "      <td>1782.0</td>\n",
       "    </tr>\n",
       "  </tbody>\n",
       "</table>\n",
       "</div>"
      ],
      "text/plain": [
       "               frequency\n",
       "javascript        3320.0\n",
       "communication     2384.0\n",
       "java              2243.0\n",
       "sql               2018.0\n",
       "react             1782.0"
      ]
     },
     "execution_count": 30,
     "metadata": {},
     "output_type": "execute_result"
    }
   ],
   "source": [
    "# Print the number of skills in the library\n",
    "print(\"Number of web dev skills in general skill library: \", len(wd_general_library))\n",
    "\n",
    "# Print the top 5 needed general skills\n",
    "\n",
    "wd_top_tech = MVP_explore.top_skills(df_wd, 5, wd_general_library)\n",
    "wd_top_tech"
   ]
  }
 ],
 "metadata": {
  "kernelspec": {
   "display_name": "Python 3",
   "language": "python",
   "name": "python3"
  },
  "language_info": {
   "codemirror_mode": {
    "name": "ipython",
    "version": 3
   },
   "file_extension": ".py",
   "mimetype": "text/x-python",
   "name": "python",
   "nbconvert_exporter": "python",
   "pygments_lexer": "ipython3",
   "version": "3.7.6"
  }
 },
 "nbformat": 4,
 "nbformat_minor": 4
}
