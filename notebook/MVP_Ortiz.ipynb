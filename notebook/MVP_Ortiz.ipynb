{
 "cells": [
  {
   "cell_type": "markdown",
   "metadata": {},
   "source": [
    "# Acquire"
   ]
  },
  {
   "cell_type": "code",
   "execution_count": 1,
   "metadata": {},
   "outputs": [],
   "source": [
    "import requests\n",
    "import numpy as np\n",
    "import pandas as pd\n",
    "from bs4 import BeautifulSoup\n",
    "from requests import get"
   ]
  },
  {
   "cell_type": "code",
   "execution_count": 2,
   "metadata": {},
   "outputs": [],
   "source": [
    "response = get('https://www.linkedin.com/jobs/search/?keywords=data%20science')"
   ]
  },
  {
   "cell_type": "code",
   "execution_count": 3,
   "metadata": {},
   "outputs": [],
   "source": [
    "soup = BeautifulSoup(response.text, 'html.parser')"
   ]
  },
  {
   "cell_type": "code",
   "execution_count": 53,
   "metadata": {
    "scrolled": false
   },
   "outputs": [
    {
     "name": "stdout",
     "output_type": "stream",
     "text": [
      "Junior Analyst\n",
      "Data Analyst\n",
      "Data Scientist\n",
      "Data Scientist\n",
      "Data Scientist\n",
      "Intern – Data Scientist\n",
      "Marketing Analytics Data Scientist\n",
      "Intern - Data Scientist\n",
      "Data Scientist - Intern\n",
      "Junior Data Scientist (Portland or NY based)\n",
      "Data Scientist\n",
      "Analyst I, Data Science\n",
      "Data Science Intern\n",
      "Data Scientist\n",
      "Data Scientist Intern\n",
      "Data Scientist\n",
      "Data Scientist\n",
      "Data Analyst\n",
      "Data Scientist\n",
      "Data Scientist\n",
      "Analyst- Analytics & Data I\n",
      "INTERN - Data Science (VIRTUAL)\n",
      "Data Scientist\n",
      "Data Scientist\n",
      "Data Scientist Intern (Remote)\n"
     ]
    }
   ],
   "source": [
    "for job in soup.find_all('h3', class_=\"result-card__title job-result-card__title\"):\n",
    "    print(job.text)"
   ]
  },
  {
   "cell_type": "code",
   "execution_count": 54,
   "metadata": {},
   "outputs": [
    {
     "data": {
      "text/plain": [
       "25"
      ]
     },
     "execution_count": 54,
     "metadata": {},
     "output_type": "execute_result"
    }
   ],
   "source": [
    "len(soup.find_all('h3', class_=\"result-card__title job-result-card__title\"))"
   ]
  },
  {
   "cell_type": "code",
   "execution_count": 72,
   "metadata": {
    "scrolled": false
   },
   "outputs": [
    {
     "name": "stdout",
     "output_type": "stream",
     "text": [
      "Data Science\n"
     ]
    }
   ],
   "source": [
    "for i in soup.strong.descendants:\n",
    "    print(i)"
   ]
  },
  {
   "cell_type": "code",
   "execution_count": null,
   "metadata": {},
   "outputs": [],
   "source": []
  }
 ],
 "metadata": {
  "kernelspec": {
   "display_name": "Python 3",
   "language": "python",
   "name": "python3"
  },
  "language_info": {
   "codemirror_mode": {
    "name": "ipython",
    "version": 3
   },
   "file_extension": ".py",
   "mimetype": "text/x-python",
   "name": "python",
   "nbconvert_exporter": "python",
   "pygments_lexer": "ipython3",
   "version": "3.7.6"
  }
 },
 "nbformat": 4,
 "nbformat_minor": 4
}
