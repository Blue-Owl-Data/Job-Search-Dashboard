{
 "cells": [
  {
   "cell_type": "code",
   "execution_count": 1,
   "metadata": {},
   "outputs": [],
   "source": [
    "import numpy as np\n",
    "import pandas as pd\n",
    "\n",
    "import urllib\n",
    "import requests\n",
    "from bs4 import BeautifulSoup"
   ]
  },
  {
   "cell_type": "markdown",
   "metadata": {},
   "source": [
    "### URL Format of Indeed.com\n",
    "1. Search chemist in TX<br>\n",
    "https://www.indeed.com/jobs?q=chemist&l=TX\n",
    "2. Search chemist in San Antonio, TX<br>\n",
    "https://www.indeed.com/jobs?q=chemist&l=San+Antonio%2C+TX\n",
    "3. Search data scientist in San Antonio, TX<br>\n",
    "https://www.indeed.com/jobs?q=data+scientist&l=San+Antonio%2C+TX\n",
    "4. Search data scientist intern in San Anotnio, TX<br>\n",
    "https://www.indeed.com/jobs?q=data+scientist+intern&l=San+Antonio%2C+TX\n",
    "5. Sort the data scientist jobs posting by date<br>\n",
    "https://www.indeed.com/jobs?q=data+scientist&l=San+Antonio%2C+TX&sort=date"
   ]
  },
  {
   "cell_type": "markdown",
   "metadata": {},
   "source": [
    "### URL Format of Monster.com\n",
    "https://www.monster.com/jobs/search/?q=data-scientist&where=San-Antonio__2C-TX"
   ]
  },
  {
   "cell_type": "markdown",
   "metadata": {},
   "source": [
    "**Takeaways**\n",
    "1. q = job title\n",
    "2. l = location"
   ]
  },
  {
   "cell_type": "code",
   "execution_count": 2,
   "metadata": {},
   "outputs": [],
   "source": [
    "# Create the base url\n",
    "base_url = 'https://www.indeed.com/jobs?'"
   ]
  },
  {
   "cell_type": "code",
   "execution_count": 3,
   "metadata": {},
   "outputs": [
    {
     "data": {
      "text/plain": [
       "'q=data+scientist&l=San+Antonio%2C+TX'"
      ]
     },
     "execution_count": 3,
     "metadata": {},
     "output_type": "execute_result"
    }
   ],
   "source": [
    "# Create the relative url for searching the data scientist jobs in San Antonio, TX\n",
    "\n",
    "ds = {'q': 'data scientist', 'l': 'San Antonio, TX'}\n",
    "ds = urllib.parse.urlencode(ds)\n",
    "ds"
   ]
  },
  {
   "cell_type": "code",
   "execution_count": 4,
   "metadata": {},
   "outputs": [
    {
     "data": {
      "text/plain": [
       "'https://www.indeed.com/jobs?q=data+scientist&l=San+Antonio%2C+TX'"
      ]
     },
     "execution_count": 4,
     "metadata": {},
     "output_type": "execute_result"
    }
   ],
   "source": [
    "# Create the full url for searching the data scientist jobs in San Antonio, TX\n",
    "url = base_url + ds\n",
    "\n",
    "# Sanity check\n",
    "url"
   ]
  },
  {
   "cell_type": "code",
   "execution_count": 13,
   "metadata": {},
   "outputs": [
    {
     "data": {
      "text/plain": [
       "'<!DOCTYPE html>\\n<html lang=\"en\" dir=\"ltr\">\\n<head>\\n<meta http-equiv=\"content-type\" content=\"text/html;charset=UTF-8\">\\n<script type=\"text/javascript\" src=\"//d3fw5vlhllyvee.cloudfront.net/s/ee8d2b7/en_US.js\"></script>\\n<link href=\"//d3fw5vlhllyvee.cloudfront.net/s/64feb87/jobsearch_all.css\" rel=\"stylesheet\" type=\"text/css\">\\n<link rel=\"alternate\" type=\"application/rss+xml\" title=\"Data Scientist Jobs, E'"
      ]
     },
     "execution_count": 13,
     "metadata": {},
     "output_type": "execute_result"
    }
   ],
   "source": [
    "# Make the request\n",
    "page = requests.get(url)\n",
    "\n",
    "# Sanity check: to make sure what we are looking at is indeed HTML data\n",
    "page.text[:400]"
   ]
  },
  {
   "cell_type": "code",
   "execution_count": 14,
   "metadata": {
    "scrolled": false
   },
   "outputs": [],
   "source": [
    "# Make a soup variable holding the response content\n",
    "soup = BeautifulSoup(page.content, \"html.parser\")"
   ]
  },
  {
   "cell_type": "code",
   "execution_count": 15,
   "metadata": {},
   "outputs": [
    {
     "data": {
      "text/plain": [
       "'Data Scientist Jobs, Employment in San Antonio, TX | Indeed.com'"
      ]
     },
     "execution_count": 15,
     "metadata": {},
     "output_type": "execute_result"
    }
   ],
   "source": [
    "# Get the page's title\n",
    "soup.title.string"
   ]
  },
  {
   "cell_type": "code",
   "execution_count": 16,
   "metadata": {
    "scrolled": false
   },
   "outputs": [
    {
     "data": {
      "text/plain": [
       "bs4.element.Tag"
      ]
     },
     "execution_count": 16,
     "metadata": {},
     "output_type": "execute_result"
    }
   ],
   "source": [
    "# Find the appropriate <div> that contains all of the job listings in the 1st page\n",
    "soup_jobs = soup.find(id=\"resultsCol\")\n",
    "\n",
    "# Print the data type of soup_jobs\n",
    "type(soup_jobs)"
   ]
  },
  {
   "cell_type": "code",
   "execution_count": 17,
   "metadata": {
    "scrolled": false
   },
   "outputs": [
    {
     "data": {
      "text/plain": [
       "bs4.element.ResultSet"
      ]
     },
     "execution_count": 17,
     "metadata": {},
     "output_type": "execute_result"
    }
   ],
   "source": [
    "# Find all job listing\n",
    "job_cards = soup_jobs.find_all('div', class_='jobsearch-SerpJobCard')\n",
    "\n",
    "# Print the data type of job_cards\n",
    "type(job_cards)"
   ]
  },
  {
   "cell_type": "markdown",
   "metadata": {},
   "source": [
    "**Quick Note**: job_cards is an iterator"
   ]
  },
  {
   "cell_type": "code",
   "execution_count": 18,
   "metadata": {},
   "outputs": [
    {
     "data": {
      "text/plain": [
       "13"
      ]
     },
     "execution_count": 18,
     "metadata": {},
     "output_type": "execute_result"
    }
   ],
   "source": [
    "# How many jobs listed in the 1st page? \n",
    "len(job_cards)"
   ]
  },
  {
   "cell_type": "code",
   "execution_count": 19,
   "metadata": {},
   "outputs": [
    {
     "data": {
      "text/plain": [
       "['Data Scientist',\n",
       " 'Data Scientist',\n",
       " 'Senior Statistical Programmer',\n",
       " 'Data Scientist\\nnew',\n",
       " 'Sports Statistician\\nnew',\n",
       " 'Data Scientist\\nnew',\n",
       " 'Data Scientist - 100% Remote Available\\nnew',\n",
       " 'Sr Data Scientist (Big Data)\\nnew',\n",
       " 'Data Scientist',\n",
       " 'Data Scientist - Nationwide Opportunities',\n",
       " 'Decision Science Analyst I\\nnew',\n",
       " 'Data Scientist',\n",
       " 'Senior Data Analyst']"
      ]
     },
     "execution_count": 19,
     "metadata": {},
     "output_type": "execute_result"
    }
   ],
   "source": [
    "# Print the job titles\n",
    "\n",
    "titles = []\n",
    "\n",
    "for job in job_cards:\n",
    "    title = job.find('h2', class_='title')\n",
    "    title = title.text.strip()\n",
    "    titles.append(title)\n",
    "\n",
    "titles"
   ]
  },
  {
   "cell_type": "code",
   "execution_count": 20,
   "metadata": {},
   "outputs": [
    {
     "data": {
      "text/plain": [
       "['Sourceability',\n",
       " 'Alaka`ina Foundation Family of Companies',\n",
       " 'Translational Drug Development (TD2)',\n",
       " 'Pinnacle Inc',\n",
       " 'Life Time',\n",
       " 'Teledyne Brown Engineering',\n",
       " 'USAA',\n",
       " 'Deloitte',\n",
       " 'iHeartMedia, Inc.',\n",
       " 'Amazon Web Services, Inc.',\n",
       " 'USAA',\n",
       " 'Huntington Ingalls Industries Inc.',\n",
       " 'Insight Global']"
      ]
     },
     "execution_count": 20,
     "metadata": {},
     "output_type": "execute_result"
    }
   ],
   "source": [
    "# Print companies that post the jobs\n",
    "\n",
    "companies = []\n",
    "\n",
    "for job in job_cards:\n",
    "    company = job.find('span', class_='company')\n",
    "    company = company.text.strip()\n",
    "    companies.append(company)\n",
    "\n",
    "companies"
   ]
  },
  {
   "cell_type": "code",
   "execution_count": 21,
   "metadata": {
    "scrolled": true
   },
   "outputs": [
    {
     "data": {
      "text/plain": [
       "['30+ days ago',\n",
       " '30+ days ago',\n",
       " '30+ days ago',\n",
       " 'Today',\n",
       " 'Today',\n",
       " '3 days ago',\n",
       " '1 day ago',\n",
       " '3 days ago',\n",
       " '30+ days ago',\n",
       " '30+ days ago',\n",
       " '1 day ago',\n",
       " '30+ days ago',\n",
       " '30+ days ago']"
      ]
     },
     "execution_count": 21,
     "metadata": {},
     "output_type": "execute_result"
    }
   ],
   "source": [
    "# Print out the dates for each job post\n",
    "\n",
    "dates = []\n",
    "\n",
    "for job in job_cards:\n",
    "    date = job.find('span', class_='date')\n",
    "    date = date.text.strip()\n",
    "    dates.append(date)\n",
    "\n",
    "dates"
   ]
  },
  {
   "cell_type": "code",
   "execution_count": 36,
   "metadata": {
    "scrolled": false
   },
   "outputs": [
    {
     "data": {
      "text/plain": [
       "['https://www.indeed.com/pagead/clk?mo=r&ad=-6NYlbfkN0ADvRi4Fhzo6Lhixq24Efpt7RwpjKDyUQihLKB9436vvhUCqFEm-nkW0la8YnoGNEFh8i3JW6ZTXhE4DkVrso5T3Vz8yXJdq2dJLsgTANS_yKbR-JYOMuO2e5aBVxks2k6rMMP9qB20LAKyRlZvk7-84WO46AyQ2moZGjxCJmldcEsitmXLLHDrDCiKyI_Um6C17Av3wxj40vj0_JVHEhvHuJp0dbnwSNg__29E9tPghf-Y_5IW9e9AJd0-mhzFvPzcDkeMl3ZM9Ja9xyEFsihlpjS3wDqtCEECp334F-mXB43RLl86zjD3QAQWOi3CJYz3noGbL3ru8v75zxKElhvk7N8U46U5eVFd6A7sC9Eod2K-_28f9C3En0J83SiY-b16xrQf1gTQaeq8ket5b_DIWDvbp3M1F3gvWslN509rFgJzpWNkOwoygydZt5s4T6ElCnHtCsoX9ZA-DE0Z9Ue1RBprcyjr2nQ=&p=0&fvj=1&vjs=3',\n",
       " 'https://www.indeed.com/pagead/clk?mo=r&ad=-6NYlbfkN0ChVmeEeaXfnw-D8ZhSBdgPTvIDVQB7yRHpNgp4If4E6BPeUXihMwd6UnesnvFhRawTBE6lMAHmma4yWjnBU0_rsltaaHuLFeKWQ_Pt3WebnFJnjdnPIvTKvYOZRuHGkGRcT9n4y2Vywlao5_EUq4WuPRcpiP881XlBl2gEZX2clHScriIuHec2fGorjjYUT5-hhf4060StLbFG1OmWmVNtUz2MnNaJynUlAwjDvqScYjDCq_wnkWpM6VBKKLwKATo5SVvy7xScrUSKTjmyzg_uz0SUA3bR24iwro_z3wDKQ0JhOroTeB8RIajzH__V1vh1pM5gjRhxlbx6SDe0CNwrea8AFEoco1JbxsHdiBDaWBC14BA7mCDCclPU3V6UeJ6YRncCaSe5OyGN0N8VVkgfhd7uXI-Et3N2EzkCugicCuG-dPZFJoig1VydgDVtB1inqj2W2vXRtCdO7ic9QFLZ&p=1&fvj=1&vjs=3',\n",
       " 'https://www.indeed.com/pagead/clk?mo=r&ad=-6NYlbfkN0DVsnpbmbPWUZNiYhtAWYz_xeqmG4awNNH52XW5baI6saz2OvDw8IcAKXuAw_PFWbZoVpg0yxDBLyKTKNh2xaImnrEXeG2jt7hted70_zz_sVS2YwJa1akOILc1pSMTOYs1XYsZFdH310ROoiAc2hOG9syf8KQLju6LUCT2Z9JkmIoX2vEYf9ZWK1yJmQxqmsofVSsMLXtS7xXuRPm9HgMZ83frNIX5wrCoVTadgYdsuz0b4Calqol6x8vK8JDQ7GJbBJUWu4s4wDb_USGThjdis1E10TzfncfkYRqlnHg5BjFJS79jA2HqxQThf1fGJrcTlKPSZDZ5H9ZJlblYS_ofhxvhV5IWyXPeTwl_Cf5nXb6SaLJNTPkMqrxCxTAkzggGXLTgEKumoj7x9lVKY8XGpFiw06lvvKkFNfyakIxJKjnEz9Ej890-MpQgoqa5uIE1YekS9AgiYjorXtXI2bGO&p=2&fvj=1&vjs=3',\n",
       " 'https://www.indeed.com/company/PINNACLE-INC/jobs/Data-Scientist-bebdc92b14d2a19a?fccid=8619c9c3e5c7c61f&vjs=3',\n",
       " 'https://www.indeed.com/rc/clk?jk=3a224d3d3228b96b&fccid=60eb11476904a56f&vjs=3',\n",
       " 'https://www.indeed.com/rc/clk?jk=343ae61243772c0e&fccid=56fc1ffc1942e614&vjs=3',\n",
       " 'https://www.indeed.com/rc/clk?jk=48c1334e45d90aa6&fccid=3a1edc2d763c4288&vjs=3',\n",
       " 'https://www.indeed.com/rc/clk?jk=c0242b7eb4e12b4d&fccid=9e215d88a6b33622&vjs=3',\n",
       " 'https://www.indeed.com/rc/clk?jk=01fe0b6d933f3c5f&fccid=5b2f9eaa91cb3370&vjs=3',\n",
       " 'https://www.indeed.com/rc/clk?jk=80461afcbb190ed3&fccid=fe2d21eef233e94a&vjs=3',\n",
       " 'https://www.indeed.com/rc/clk?jk=f5777dc3d48996c3&fccid=3a1edc2d763c4288&vjs=3',\n",
       " 'https://www.indeed.com/rc/clk?jk=93efc3d26f4f9a0a&fccid=9f2bb83bd9bfe2fc&vjs=3',\n",
       " 'https://www.indeed.com/cmp/Insight-Global']"
      ]
     },
     "execution_count": 36,
     "metadata": {},
     "output_type": "execute_result"
    }
   ],
   "source": [
    "# Print out the relative links for each job post\n",
    "\n",
    "links = []\n",
    "\n",
    "for job in job_cards:\n",
    "    link = job.find('a')['href']\n",
    "    link = 'https://www.indeed.com' + link\n",
    "    link = link.replace(';', '&')\n",
    "    links.append(link)\n",
    "\n",
    "links"
   ]
  }
 ],
 "metadata": {
  "kernelspec": {
   "display_name": "Python 3",
   "language": "python",
   "name": "python3"
  },
  "language_info": {
   "codemirror_mode": {
    "name": "ipython",
    "version": 3
   },
   "file_extension": ".py",
   "mimetype": "text/x-python",
   "name": "python",
   "nbconvert_exporter": "python",
   "pygments_lexer": "ipython3",
   "version": "3.7.6"
  }
 },
 "nbformat": 4,
 "nbformat_minor": 4
}
