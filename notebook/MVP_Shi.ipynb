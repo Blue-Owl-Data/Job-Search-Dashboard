{
 "cells": [
  {
   "cell_type": "code",
   "execution_count": 1,
   "metadata": {},
   "outputs": [],
   "source": [
    "# General Libraries\n",
    "import numpy as np\n",
    "import pandas as pd\n",
    "\n",
    "# Web Scraping Libraries\n",
    "import urllib\n",
    "import requests\n",
    "from bs4 import BeautifulSoup\n",
    "\n",
    "# Regex Library\n",
    "import re\n",
    "\n",
    "# Time-related library\n",
    "import time"
   ]
  },
  {
   "cell_type": "markdown",
   "metadata": {},
   "source": [
    "### URL Format of Indeed.com\n",
    "1. Search chemist in TX<br>\n",
    "https://www.indeed.com/jobs?q=chemist&l=TX\n",
    "2. Search chemist in San Antonio, TX<br>\n",
    "https://www.indeed.com/jobs?q=chemist&l=San+Antonio%2C+TX\n",
    "3. Search data scientist in San Antonio, TX<br>\n",
    "https://www.indeed.com/jobs?q=data+scientist&l=San+Antonio%2C+TX\n",
    "4. Search data scientist intern in San Anotnio, TX<br>\n",
    "https://www.indeed.com/jobs?q=data+scientist+intern&l=San+Antonio%2C+TX\n",
    "5. Sort the data scientist jobs posting by date<br>\n",
    "https://www.indeed.com/jobs?q=data+scientist&l=San+Antonio%2C+TX&sort=date"
   ]
  },
  {
   "cell_type": "markdown",
   "metadata": {},
   "source": [
    "**Takeaways**\n",
    "1. q = job title\n",
    "2. l = location"
   ]
  },
  {
   "cell_type": "markdown",
   "metadata": {},
   "source": [
    "### URL Format of Monster.com\n",
    "https://www.monster.com/jobs/search/?q=data-scientist&where=San-Antonio__2C-TX"
   ]
  },
  {
   "cell_type": "markdown",
   "metadata": {},
   "source": [
    "### Generate the URL of a Job Search at Indeed.com"
   ]
  },
  {
   "cell_type": "code",
   "execution_count": 2,
   "metadata": {},
   "outputs": [],
   "source": [
    "def first_page_url_indeed(job_title, location):\n",
    "    '''\n",
    "    This function returns a URL of the 1st page of a job search at Indeed.com \n",
    "    based on the job title and the location.\n",
    "    '''\n",
    "    # Create the base URL for a job serch at Indeed.com\n",
    "    base_url = 'https://www.indeed.com/jobs?'\n",
    "    # Create a dictionary to map the keys to the input parameters\n",
    "    dic = {'q': job_title, 'l': location, 'sort': 'date'}\n",
    "    # Convert the dictionary to a query string\n",
    "    relative_url = urllib.parse.urlencode(dic)\n",
    "    # Generate the full URL of the first page\n",
    "    url = base_url + relative_url\n",
    "    return url"
   ]
  },
  {
   "cell_type": "code",
   "execution_count": 42,
   "metadata": {},
   "outputs": [
    {
     "data": {
      "text/plain": [
       "'https://www.indeed.com/jobs?q=data+scientist&l=al&sort=date'"
      ]
     },
     "execution_count": 42,
     "metadata": {},
     "output_type": "execute_result"
    }
   ],
   "source": [
    "# Test the function\n",
    "url = first_page_url_indeed('data scientist', 'al')\n",
    "url"
   ]
  },
  {
   "cell_type": "code",
   "execution_count": 97,
   "metadata": {},
   "outputs": [],
   "source": [
    "def urls_indeed(job_title, location):\n",
    "    '''\n",
    "    This function returns all the URLs in a job searching result.\n",
    "    '''\n",
    "    # Create a variable urls to hold the URLs of all pages\n",
    "    urls = []\n",
    "    # Generate the URL of the first page\n",
    "    first_page_url = first_page_url_indeed(job_title, location)\n",
    "    # Append the URL of the first page\n",
    "    urls.append(first_page_url)\n",
    "    # Generate the Soup object of the first page\n",
    "    first_page_soup = first_page_soup_indeed(job_title, location)\n",
    "    # Compute the total number of jobs based on the search\n",
    "    num_jobs = num_jobs_indeed(first_page_soup) \n",
    "    # Estimate the total number of pages based on 15 job cards each page\n",
    "    num_page = round(int(num_jobs)/15)\n",
    "    # For Loop through all the pages to generate their URLs\n",
    "    for i in range(1, num_page):\n",
    "        dic = {'start': i*10}\n",
    "        relative_url = urllib.parse.urlencode(dic)\n",
    "        url = first_page_url + '&' + relative_url\n",
    "        urls.append(url)\n",
    "    return urls"
   ]
  },
  {
   "cell_type": "code",
   "execution_count": 120,
   "metadata": {},
   "outputs": [
    {
     "name": "stdout",
     "output_type": "stream",
     "text": [
      "Status code of the request:  200\n",
      "Document type:  <!DOCTYPE html>\n",
      "Title of the response:  Data Scientist Jobs, Employment in Maryland | Indeed.com\n"
     ]
    },
    {
     "data": {
      "text/plain": [
       "['https://www.indeed.com/jobs?q=data+scientist&l=md&sort=date',\n",
       " 'https://www.indeed.com/jobs?q=data+scientist&l=md&sort=date&start=10',\n",
       " 'https://www.indeed.com/jobs?q=data+scientist&l=md&sort=date&start=20',\n",
       " 'https://www.indeed.com/jobs?q=data+scientist&l=md&sort=date&start=30',\n",
       " 'https://www.indeed.com/jobs?q=data+scientist&l=md&sort=date&start=40',\n",
       " 'https://www.indeed.com/jobs?q=data+scientist&l=md&sort=date&start=50',\n",
       " 'https://www.indeed.com/jobs?q=data+scientist&l=md&sort=date&start=60',\n",
       " 'https://www.indeed.com/jobs?q=data+scientist&l=md&sort=date&start=70',\n",
       " 'https://www.indeed.com/jobs?q=data+scientist&l=md&sort=date&start=80',\n",
       " 'https://www.indeed.com/jobs?q=data+scientist&l=md&sort=date&start=90',\n",
       " 'https://www.indeed.com/jobs?q=data+scientist&l=md&sort=date&start=100',\n",
       " 'https://www.indeed.com/jobs?q=data+scientist&l=md&sort=date&start=110',\n",
       " 'https://www.indeed.com/jobs?q=data+scientist&l=md&sort=date&start=120',\n",
       " 'https://www.indeed.com/jobs?q=data+scientist&l=md&sort=date&start=130',\n",
       " 'https://www.indeed.com/jobs?q=data+scientist&l=md&sort=date&start=140',\n",
       " 'https://www.indeed.com/jobs?q=data+scientist&l=md&sort=date&start=150',\n",
       " 'https://www.indeed.com/jobs?q=data+scientist&l=md&sort=date&start=160',\n",
       " 'https://www.indeed.com/jobs?q=data+scientist&l=md&sort=date&start=170',\n",
       " 'https://www.indeed.com/jobs?q=data+scientist&l=md&sort=date&start=180',\n",
       " 'https://www.indeed.com/jobs?q=data+scientist&l=md&sort=date&start=190',\n",
       " 'https://www.indeed.com/jobs?q=data+scientist&l=md&sort=date&start=200']"
      ]
     },
     "execution_count": 120,
     "metadata": {},
     "output_type": "execute_result"
    }
   ],
   "source": [
    "urls_indeed('data scientist', 'md')"
   ]
  },
  {
   "cell_type": "markdown",
   "metadata": {},
   "source": [
    "### Make the HTTP Request"
   ]
  },
  {
   "cell_type": "code",
   "execution_count": 49,
   "metadata": {},
   "outputs": [],
   "source": [
    "def first_page_soup_indeed(job_title, location):\n",
    "    '''\n",
    "    This function returns a BeautifulSoup object to hold the content \n",
    "    of the first page of a request for job searching at Indeed.com\n",
    "    '''\n",
    "    # Generate the URL of the job search based on title and location\n",
    "    url = first_page_url_indeed(job_title, location)\n",
    "    # Make the HTTP request\n",
    "    response = requests.get(url)\n",
    "    # Print the status code of the request\n",
    "    print(\"Status code of the request: \", response.status_code)\n",
    "    # Sanity check to make sure the document type is HTML\n",
    "    print(\"Document type: \", response.text[:15])\n",
    "    # Take a break\n",
    "    time.sleep(5)\n",
    "    # Make a soup to hold the response content\n",
    "    soup = BeautifulSoup(response.content, \"html.parser\")\n",
    "    # Print out the title of the content\n",
    "    print(\"Title of the response: \", soup.title.string)\n",
    "    return soup"
   ]
  },
  {
   "cell_type": "code",
   "execution_count": 52,
   "metadata": {},
   "outputs": [
    {
     "name": "stdout",
     "output_type": "stream",
     "text": [
      "Status code of the request:  200\n",
      "Document type:  <!DOCTYPE html>\n",
      "Title of the response:  Data Scientist Jobs, Employment in Alabama | Indeed.com\n"
     ]
    },
    {
     "data": {
      "text/plain": [
       "bs4.BeautifulSoup"
      ]
     },
     "execution_count": 52,
     "metadata": {},
     "output_type": "execute_result"
    }
   ],
   "source": [
    "first_page_soup = first_page_soup_indeed(\"data scientist\", 'al')\n",
    "type(first_page_soup)"
   ]
  },
  {
   "cell_type": "code",
   "execution_count": 12,
   "metadata": {},
   "outputs": [
    {
     "name": "stdout",
     "output_type": "stream",
     "text": [
      "Data Type:  <class 'bs4.element.Tag'>\n",
      "Name of the Tag:  div\n",
      "Attributes of the Tag:  {'id': 'searchCountPages'}\n",
      "Text within the Tag: \n"
     ]
    },
    {
     "data": {
      "text/plain": [
       "'\\n                    Page 1 of 560 jobs'"
      ]
     },
     "execution_count": 12,
     "metadata": {},
     "output_type": "execute_result"
    }
   ],
   "source": [
    "# Find out the tag that contains the number of the jobs by seaching\n",
    "\n",
    "num_jobs = first_page_soup.find('div', id='searchCountPages')\n",
    "print(\"Data Type: \", type(num_jobs))\n",
    "print(\"Name of the Tag: \", num_jobs.name)\n",
    "print(\"Attributes of the Tag: \", num_jobs.attrs)\n",
    "print(\"Text within the Tag: \")\n",
    "num_jobs.text"
   ]
  },
  {
   "cell_type": "code",
   "execution_count": 13,
   "metadata": {},
   "outputs": [
    {
     "data": {
      "text/plain": [
       "'560'"
      ]
     },
     "execution_count": 13,
     "metadata": {},
     "output_type": "execute_result"
    }
   ],
   "source": [
    "# Find the number of the jobs in the text\n",
    "match = re.findall(r'(\\d+)', num_jobs.text)\n",
    "match[1]"
   ]
  },
  {
   "cell_type": "code",
   "execution_count": 9,
   "metadata": {},
   "outputs": [],
   "source": [
    "def num_jobs_indeed(first_page_soup):\n",
    "    '''\n",
    "    This function returns the total number of the jobs in the searching result.\n",
    "    '''\n",
    "    # Find out the section contains total number of jobs  \n",
    "    div = first_page_soup.find('div', id='searchCountPages')\n",
    "    # Extract the number\n",
    "    num_jobs = re.findall(r'(\\d+)', div.text)[1]\n",
    "    return num_jobs"
   ]
  },
  {
   "cell_type": "code",
   "execution_count": 53,
   "metadata": {},
   "outputs": [
    {
     "data": {
      "text/plain": [
       "'40'"
      ]
     },
     "execution_count": 53,
     "metadata": {},
     "output_type": "execute_result"
    }
   ],
   "source": [
    "# Test the function num_jobs_indeed\n",
    "num_jobs_indeed(first_page_soup)"
   ]
  },
  {
   "cell_type": "code",
   "execution_count": 12,
   "metadata": {},
   "outputs": [],
   "source": [
    "def page_num_indeed(soup):\n",
    "    '''\n",
    "    This function returns the page number of job searching results. \n",
    "    '''\n",
    "    # Find out the section contains total number of jobs  \n",
    "    div = soup.find('div', id='searchCountPages')\n",
    "    # Extract the number\n",
    "    page_num = re.findall(r'(\\d+)', div.text)[0]\n",
    "    return page_num"
   ]
  },
  {
   "cell_type": "code",
   "execution_count": 54,
   "metadata": {},
   "outputs": [
    {
     "data": {
      "text/plain": [
       "'1'"
      ]
     },
     "execution_count": 54,
     "metadata": {},
     "output_type": "execute_result"
    }
   ],
   "source": [
    "# Test the function num_jobs_indeed\n",
    "page_num_indeed(first_page_soup)"
   ]
  },
  {
   "cell_type": "code",
   "execution_count": 14,
   "metadata": {},
   "outputs": [],
   "source": [
    "# Define a function to extract all job cards in a Indeed page\n",
    "\n",
    "def job_cards_indeed(soup):\n",
    "    '''\n",
    "    This function accepts the Soup object of a Indeed page \n",
    "    return an iterator containing the all the job cards in this page.\n",
    "    '''\n",
    "    # Find the appropriate tag that contains all of the job listings in this page\n",
    "    tag = soup.find('td', id=\"resultsCol\")\n",
    "    # Extract all job cards\n",
    "    job_cards = tag.find_all('div', class_='jobsearch-SerpJobCard')\n",
    "    return job_cards"
   ]
  },
  {
   "cell_type": "code",
   "execution_count": 55,
   "metadata": {},
   "outputs": [
    {
     "data": {
      "text/plain": [
       "bs4.element.ResultSet"
      ]
     },
     "execution_count": 55,
     "metadata": {},
     "output_type": "execute_result"
    }
   ],
   "source": [
    "job_cards = job_cards_indeed(first_page_soup)\n",
    "# Print the data type of job_cards\n",
    "type(job_cards)"
   ]
  },
  {
   "cell_type": "markdown",
   "metadata": {},
   "source": [
    "**Quick Note**: job_cards is an iterator"
   ]
  },
  {
   "cell_type": "code",
   "execution_count": 56,
   "metadata": {},
   "outputs": [
    {
     "data": {
      "text/plain": [
       "15"
      ]
     },
     "execution_count": 56,
     "metadata": {},
     "output_type": "execute_result"
    }
   ],
   "source": [
    "# How many jobs listed in the 1st page? \n",
    "len(job_cards)"
   ]
  },
  {
   "cell_type": "code",
   "execution_count": 17,
   "metadata": {},
   "outputs": [],
   "source": [
    "def job_titles_indeed(job_cards):\n",
    "    '''\n",
    "    This function extract the job titles from a job_cards set. \n",
    "    '''\n",
    "    # Create a list to hold the job titles\n",
    "    titles = []\n",
    "    # For Loop throught the job cards to extract the titles\n",
    "    for job in job_cards:\n",
    "        title = job.find('h2', class_='title')\n",
    "        title = title.text.strip()\n",
    "        titles.append(title)\n",
    "    return titles"
   ]
  },
  {
   "cell_type": "code",
   "execution_count": 57,
   "metadata": {},
   "outputs": [
    {
     "data": {
      "text/plain": [
       "['Data Scientist\\nnew',\n",
       " 'MANAGER, ACCOUNT DEVELOPMENT/DATA SCIENCE\\nnew',\n",
       " 'Data Scientist\\nnew',\n",
       " 'Data Analyst - Microsoft Stack (mid-senior)\\nnew',\n",
       " 'Statistical Analyst\\nnew',\n",
       " 'Data Scientist Intern\\nnew',\n",
       " 'Machine Learning/Artificial Intelligence Software Developer\\nnew',\n",
       " 'Software Engineer/Data Scientist\\nnew',\n",
       " 'Lead Financial Analyst - Artificial Intelligence Strategic G...\\nnew',\n",
       " 'BI Architect/Data Scientist',\n",
       " 'Asst Research Professional - Research Data Scientist',\n",
       " '2021-18 Software Engineers for BMDS Data Analysis Suite',\n",
       " 'Cyber Artificial Intelligence (AI) SME',\n",
       " '2021-02 Artificial Intelligence Designer',\n",
       " 'Deep Learning Engineer']"
      ]
     },
     "execution_count": 57,
     "metadata": {},
     "output_type": "execute_result"
    }
   ],
   "source": [
    "titles = job_titles_indeed(job_cards)\n",
    "titles"
   ]
  },
  {
   "cell_type": "code",
   "execution_count": 19,
   "metadata": {},
   "outputs": [],
   "source": [
    "# Define a function to pull the company names from a set of job cards\n",
    "\n",
    "def company_names_indeed(job_cards):\n",
    "    '''\n",
    "    This function extracts the company names from a set of job cards.\n",
    "    '''\n",
    "    # Create a list to hold the company names\n",
    "    names = []\n",
    "    # For loop through the job cards to pull the company names\n",
    "    for job in job_cards:\n",
    "        name = job.find('span', class_='company')\n",
    "        name = name.text.strip()\n",
    "        names.append(name)\n",
    "    return names"
   ]
  },
  {
   "cell_type": "code",
   "execution_count": 58,
   "metadata": {},
   "outputs": [
    {
     "data": {
      "text/plain": [
       "['Quiq Inc',\n",
       " 'B.A.S.S., LLC',\n",
       " 'Vision',\n",
       " 'Vaco',\n",
       " 'The Personnel Board of Jefferson County',\n",
       " 'LOCKHEED MARTIN CORPORATION',\n",
       " 'IERUS Technologies, Inc.',\n",
       " 'Torch Technologies, Inc.',\n",
       " 'Deloitte',\n",
       " 'Doozer Software',\n",
       " 'The University of Alabama',\n",
       " '1st Edge',\n",
       " 'Quantum Research International, Inc.',\n",
       " '1st Edge',\n",
       " 'Numerator']"
      ]
     },
     "execution_count": 58,
     "metadata": {},
     "output_type": "execute_result"
    }
   ],
   "source": [
    "# Test the function: comany_names_indeed\n",
    "\n",
    "company_names = company_names_indeed(job_cards)\n",
    "company_names"
   ]
  },
  {
   "cell_type": "code",
   "execution_count": 21,
   "metadata": {},
   "outputs": [],
   "source": [
    "# Define a function to pull the post ages from a set of job cards\n",
    "\n",
    "def post_ages_indeed(job_cards):\n",
    "    '''\n",
    "    This function pulls the post ages from a set of job cards.\n",
    "    '''\n",
    "    # Create a list to hold the post ages\n",
    "    ages = []\n",
    "    # For loop through the job cards to pull the post ages\n",
    "    for job in job_cards:\n",
    "        age = job.find('span', class_='date')\n",
    "        age = age.text.strip()\n",
    "        ages.append(age)\n",
    "    return ages"
   ]
  },
  {
   "cell_type": "code",
   "execution_count": 59,
   "metadata": {},
   "outputs": [
    {
     "data": {
      "text/plain": [
       "['Today',\n",
       " 'Today',\n",
       " 'Today',\n",
       " 'Today',\n",
       " '2 days ago',\n",
       " '4 days ago',\n",
       " '5 days ago',\n",
       " '6 days ago',\n",
       " '6 days ago',\n",
       " '11 days ago',\n",
       " '11 days ago',\n",
       " '12 days ago',\n",
       " '22 days ago',\n",
       " '21 days ago',\n",
       " '28 days ago']"
      ]
     },
     "execution_count": 59,
     "metadata": {},
     "output_type": "execute_result"
    }
   ],
   "source": [
    "# Test the function: post_ages_indeed\n",
    "ages = post_ages_indeed(job_cards)\n",
    "ages"
   ]
  },
  {
   "cell_type": "code",
   "execution_count": 23,
   "metadata": {},
   "outputs": [],
   "source": [
    "# Define a function to pull the location from a set of job cards\n",
    "\n",
    "def job_locations_indeed(job_cards):\n",
    "    '''\n",
    "    This function pulls the job locations from a set of job cards.\n",
    "    '''\n",
    "    # Create a list to hold the locations\n",
    "    locations = []\n",
    "    # For loop through the job cards to pull the locations\n",
    "    for job in job_cards:\n",
    "        location = job.find('div', class_='location accessible-contrast-color-location')\n",
    "        if location == None:\n",
    "            location = job.find('span', class_='location accessible-contrast-color-location')\n",
    "        location = location.text.strip()\n",
    "        locations.append(location)\n",
    "    return locations"
   ]
  },
  {
   "cell_type": "code",
   "execution_count": 60,
   "metadata": {},
   "outputs": [
    {
     "data": {
      "text/plain": [
       "['United States',\n",
       " 'Birmingham, AL 35243',\n",
       " 'Huntsville, AL',\n",
       " 'Hartselle, AL',\n",
       " 'Jefferson County, AL',\n",
       " 'Huntsville, AL 35806',\n",
       " 'Huntsville, AL 35805',\n",
       " 'Huntsville, AL 35802',\n",
       " 'Birmingham, AL 35203 (Central City area)',\n",
       " 'Birmingham, AL 35216',\n",
       " 'Tuscaloosa, AL',\n",
       " 'Huntsville, AL',\n",
       " 'Huntsville, AL 35806',\n",
       " 'Huntsville, AL',\n",
       " 'Alabama']"
      ]
     },
     "execution_count": 60,
     "metadata": {},
     "output_type": "execute_result"
    }
   ],
   "source": [
    "locations = job_locations_indeed(job_cards)\n",
    "locations"
   ]
  },
  {
   "cell_type": "code",
   "execution_count": 25,
   "metadata": {},
   "outputs": [],
   "source": [
    "# Define a function to pull the company ratings from a set of job cards\n",
    "\n",
    "def company_rating_indeed(job_cards):\n",
    "    '''\n",
    "    This function pulls the company rating from a set of job cards.\n",
    "    If the rating is unavailable, it will be marked as 'missing'.\n",
    "    '''\n",
    "    # Create a list to hold the locations\n",
    "    ratings = []\n",
    "    # For loop through the job cards to pull the locations\n",
    "    for job in job_cards:\n",
    "        rating = job.find('span', class_='ratingsContent')\n",
    "        if rating == None:\n",
    "            ratings.append('missing')\n",
    "            continue\n",
    "        rating = rating.text.strip()\n",
    "        ratings.append(rating)\n",
    "    return ratings"
   ]
  },
  {
   "cell_type": "code",
   "execution_count": 61,
   "metadata": {},
   "outputs": [
    {
     "data": {
      "text/plain": [
       "['missing',\n",
       " 'missing',\n",
       " 'missing',\n",
       " '3.7',\n",
       " 'missing',\n",
       " '4.0',\n",
       " '4.7',\n",
       " 'missing',\n",
       " '4.0',\n",
       " '4.8',\n",
       " '4.4',\n",
       " 'missing',\n",
       " '4.0',\n",
       " 'missing',\n",
       " '3.6']"
      ]
     },
     "execution_count": 61,
     "metadata": {},
     "output_type": "execute_result"
    }
   ],
   "source": [
    "ratings = company_rating_indeed(job_cards)\n",
    "ratings"
   ]
  },
  {
   "cell_type": "code",
   "execution_count": 27,
   "metadata": {},
   "outputs": [],
   "source": [
    "def acuqire_indeed_job_description(url):\n",
    "    '''\n",
    "    This function accepts the URL of a job posting and pull its description.\n",
    "    '''\n",
    "    # Make the HTTP request\n",
    "    request = requests.get(url)\n",
    "    print(\"Status Code: \", request.status_code)\n",
    "    # Take a break\n",
    "    time.sleep(5)\n",
    "    # Make a soup variable holding the response content\n",
    "    soup = BeautifulSoup(request.content, \"html.parser\")\n",
    "    if soup == None:\n",
    "        description = 'error'\n",
    "    else:\n",
    "        # Print the page's title\n",
    "        print(soup.title.string)\n",
    "        # Find the section that contains job description\n",
    "        description = soup.find('div', id=\"jobDescriptionText\")\n",
    "        if description == None:\n",
    "            description = 'error'\n",
    "        else:\n",
    "            description = description.text\n",
    "    return description\n",
    "\n",
    "def job_links_and_contents_indeed(job_cards):\n",
    "    '''\n",
    "    This function pulls the job links and descriptions from a set of job cards.\n",
    "    '''\n",
    "    # Create a list to hold the links and descriptions\n",
    "    links = []\n",
    "    descriptions = []\n",
    "    # For loop through the job cards to pull the links and descriptions\n",
    "    for job in job_cards:\n",
    "        link = job.find('a')['href']\n",
    "        link = 'https://www.indeed.com' + link\n",
    "        link = link.replace(';', '&')\n",
    "        description = acuqire_indeed_job_description(link)\n",
    "        links.append(link)\n",
    "        descriptions.append(description)\n",
    "    return links, descriptions"
   ]
  },
  {
   "cell_type": "code",
   "execution_count": 62,
   "metadata": {},
   "outputs": [
    {
     "name": "stdout",
     "output_type": "stream",
     "text": [
      "Status Code:  200\n",
      "Data Scientist - United States - Indeed.com\n",
      "Status Code:  200\n",
      "MANAGER, ACCOUNT DEVELOPMENT/DATA SCIENCE - Birmingham, AL 35243 - Indeed.com\n",
      "Status Code:  200\n",
      "Data Scientist - Huntsville, AL - Indeed.com\n",
      "Status Code:  200\n",
      "Vaco Careers and Employment | Indeed.com\n",
      "Status Code:  200\n",
      "Statistical Analyst - Jefferson County, AL - Indeed.com\n",
      "Status Code:  200\n",
      "Data Scientist Intern - Huntsville, AL 35806 - Indeed.com\n",
      "Status Code:  200\n",
      "Machine Learning/Artificial Intelligence Software Developer - Huntsville, AL 35805 - Indeed.com\n",
      "Status Code:  200\n",
      "Software Engineer/Data Scientist - Huntsville, AL 35802 - Indeed.com\n",
      "Status Code:  200\n",
      "Lead Financial Analyst - Artificial Intelligence Strategic Growth Offering (AI SGO) Finance & Investment - Birmingham, AL 35203 - Indeed.com\n",
      "Status Code:  200\n",
      "BI Architect/Data Scientist - Birmingham, AL 35216 - Indeed.com\n",
      "Status Code:  200\n",
      "Asst Research Professional - Research Data Scientist - Tuscaloosa, AL - Indeed.com\n",
      "Status Code:  200\n",
      "2021-18 Software Engineers for BMDS Data Analysis Suite - Huntsville, AL - Indeed.com\n",
      "Status Code:  200\n",
      "Cyber Artificial Intelligence (AI) SME - Huntsville, AL 35806 - Indeed.com\n",
      "Status Code:  200\n",
      "2021-02 Artificial Intelligence Designer - Huntsville, AL - Indeed.com\n",
      "Status Code:  200\n",
      "Deep Learning Engineer - Alabama - Indeed.com\n"
     ]
    }
   ],
   "source": [
    "# Test the function: job_links_and_contents_indeed\n",
    "links, descriptions = job_links_and_contents_indeed(job_cards)"
   ]
  },
  {
   "cell_type": "code",
   "execution_count": 63,
   "metadata": {},
   "outputs": [
    {
     "data": {
      "text/plain": [
       "['https://www.indeed.com/pagead/clk?mo=r&ad=-6NYlbfkN0B9JzWmK0GDxRzYzuZf9xSyXN8pQP8ihv6GH-rkAji3LyaR-hLXYB_NfHRnutLWTuqKBdImdeUix5pYB3Uv4mWnHLZlzd5py00o1lMFznkqSTkX2n8aY8mwnVhJALIJXce_3bj6Yi5-UDH-VhWVn3o6zeb2Pm8VmBf7XYjX1VtegcSkVtTpQAVHk_cSXYlbbb9ppduWw_Qf5XW46x30WeNoo3_22bLgKZLzhJEV_E3Ixv1DiqZPYzqp0IMYZ0Djwgv954h1Bqmz53jK2UmTAk6lmmvbIoTkfhAW5z9S56qUXHWlwvic9MvReVXyrEpYz_zaY4XbmDDXr3uIHFCGuQKnKzNsLz5vp9EkzV1o5kbpCj6qti0RZ7NseG1iXFMZ2GODxurbs811H733Ly8Iz-Y8CM0wqrwTs_8vPgE0g-b_Tx-QYca5xn1D&p=0&fvj=1&vjs=3',\n",
       " 'https://www.indeed.com/pagead/clk?mo=r&ad=-6NYlbfkN0DVr7NBsl4cHSE4aBurKzaRDI_6xQvAm7MDK25NP7GKwrPFBHjnIhnnMkAKtOTcAVcwvdJYQ1iX_OUlRkCcJ9lYHn6yw2Xoq1V-R4Wdf5ZtG2pRL3zKYjPaUIJ7FfKiCmO7nZu9zD3akcI0SzfFz7oRw23qh6o47s6hI0zsqL0wfiKJ4EFcwcqvgr2zn3ygOEqvyjn_BqruYjouMp_OPBKXN1sJf_xD6jAidmRKsWVQCbimyT8pNek2EIcd1SHGimJOFbqnE5QnWqRtOwd1Em2mVe_WF7eRHtG2Ad9d5Btcaz-YQLMoJ5pB8XdgfSqvtHMJyTpI5ilFsZgBFjZL1WHSJK1XUvqlXQd2hYnYwqyUbescsJP9n5A1Qu-e6G6MmRKAdUa65Lq5aeDjyXXxYGCtPmDVqGApWN3X_1kyn3niS0FsFkisS-TqIHrgcqACtp53LRStWAkQHvLDNOEbDBoG85R5SM88IGM=&p=1&fvj=1&vjs=3',\n",
       " 'https://www.indeed.com/company/Vision/jobs/Data-Scientist-fba1d08fac204b1e?fccid=c803b4b45f85b24e&vjs=3',\n",
       " 'https://www.indeed.com/cmp/Vaco',\n",
       " 'https://www.indeed.com/rc/clk?jk=8683b7b606b65f53&fccid=c2261154d654a05c&vjs=3',\n",
       " 'https://www.indeed.com/rc/clk?jk=72f0e3a5889212e2&fccid=aeb15e43a6800b9d&vjs=3',\n",
       " 'https://www.indeed.com/rc/clk?jk=a2b967b5af35f5fb&fccid=a77d7dcdb8364a0d&vjs=3',\n",
       " 'https://www.indeed.com/rc/clk?jk=940f9552f9a578bd&fccid=7c60e205aab51bb4&vjs=3',\n",
       " 'https://www.indeed.com/rc/clk?jk=990a5622086ad064&fccid=9e215d88a6b33622&vjs=3',\n",
       " 'https://www.indeed.com/pagead/clk?mo=r&ad=-6NYlbfkN0Bg38Of9YQ3kJV2XUPt6TrE35Uahq87aC81g7ntBBDzDhh9sNp912SJuAIBkeK0tIPlvb2lGmk4LLU1_3LImWqMu2BpkEfirYkRlOQ4el7Aky5UyWJWjnU2F6PBftWt7XQmjZDJfhkAzc-T1pV54hKsCOQ14J-zCjjavpzak7riWBwNAj6Zli3uM0sJ6HdIY8IqBCPYjqRCYlVJij8j1obcJC8lMMdsRk9aX7_fTDP3fU8c53qhJBFbnNBuwfD_0eUpQ65TKoXTwzKo7zogfl9uNo-_VJUt1yk7Vn5_mSp_Np61_pLZZFgE8plYbvsh2a5Eoy7lzo2OHm9HnSgSSzmteMWDD7kCpPWzEOHKkGltrlXgAHscj1_i94T9jzKBmh-MwjYkkQDylnNI8CysrZgKensxf3QQq2JSYudmLyXuun9R85HO3TzLd820dZwSuv4z-6-ZQR7jwA==&p=9&fvj=1&vjs=3',\n",
       " 'https://www.indeed.com/rc/clk?jk=61255d1a6d7bf14e&fccid=27eae9b240b82ce9&vjs=3',\n",
       " 'https://www.indeed.com/rc/clk?jk=eac4c105f3603b61&fccid=dfb8e595fdb20cc9&vjs=3',\n",
       " 'https://www.indeed.com/rc/clk?jk=0381dbf194dce49c&fccid=27fb76bb2bf6e29a&vjs=3',\n",
       " 'https://www.indeed.com/rc/clk?jk=af3858978980b39e&fccid=dfb8e595fdb20cc9&vjs=3',\n",
       " 'https://www.indeed.com/pagead/clk?mo=r&ad=-6NYlbfkN0AwhvtDhhMuSGvOgpEtJTRru83A1sJLDjPPZCOp3agw_eha-HkQeWKZ6JEK8-AmpIyxXGH0Wl1DcvhdPKOGMCddrq-7oJ4yYBJ0gxqNEYIhcOXJV0afngaoVVOipD3ZgbGu__TWStXnzX1DrWfsJB92aR4XpsrP5KmQT-6kH4_Me8x-Fze1bT49XiMuWr0wlT7iXpIUpF1eDAojh4ZvUzsOmFDxr46-U3qOl5a2LlEt6yVlXHd6cqG0tbZOOYxxql8J16EDaoKL35mD_3qBs5wfg3v0eAT0C78VG0CAY6rPFUP-DQbuwdBVJNlhw68WARGAAENV-E0DFf5gN_27X2cEUWBtLPoL6py9hSSCJdh4Yd9tAicG1A6xrWgEQaA8JSuZpeuUbgkYmkGdf_hJ9yi9m4_YJNruPnPYNLb0gf4juxzcZ0QmC-YqrxPgrO8mLsi-gT-BnGILSNRJi3KtkBgQcKcPwBx1QfxSJeAagHrSRSY_tx-pldsgYgYnfG4mH9c=&p=14&fvj=0&vjs=3']"
      ]
     },
     "execution_count": 63,
     "metadata": {},
     "output_type": "execute_result"
    }
   ],
   "source": [
    "links"
   ]
  },
  {
   "cell_type": "code",
   "execution_count": 64,
   "metadata": {},
   "outputs": [
    {
     "data": {
      "text/plain": [
       "\"MANAGER, ACCOUNT DEVELOPMENT/DATA SCIENCEBasic Duties & Responsibilities: Query and report on dataBuild and maintain analytical tools, metrics & models across the following channels: membership, sales, marketing and tournaments.Create compelling data visualizations and stories across internal LOB’sResearch internal data in order to build out analytics for both sales and marketing benefitsOwnership of data flow management between our internal systems and 3rd party systems such as PCD, Dovetail, Salesforce, US Sweeps and morePresent information to organizational stakeholders and executivesQualifications: Bachelor’s Degree in mathematics, engineering, computer science, data science, or other relevant fieldStrong written & verbal communication as well as visualization skillsProficiency in analytical/statistical methods and technologies (e.g. SQL, R, Python, Tableau, Microsoft BI, etc)Familiarity with concepts such as predictive modelling, cloud computing, machine learning, artificial intelligence, & Bayesian analysisAn open-minded creative approach to work and life with a desire to work in a diverse, learning cultureFamiliarity with the following is preferred: Circulation modellingP/L analytics for multiple source channelsAAM Audit processingMonth end accounting reportsDaily production reportingPromotion Set up and TrackingPromotional Data and List selectsDigital conversion trackingJob Type: Full-timeBenefits:401(k)401(k) matchingDental insuranceHealth insuranceLife insurancePaid time offVision insuranceSchedule:Monday to FridayCompany's website:bassmaster.comWork Remotely:No\""
      ]
     },
     "execution_count": 64,
     "metadata": {},
     "output_type": "execute_result"
    }
   ],
   "source": [
    "descriptions[1]"
   ]
  },
  {
   "cell_type": "code",
   "execution_count": 35,
   "metadata": {},
   "outputs": [],
   "source": [
    "# Define a function to create a Soup object based on a job search url\n",
    "\n",
    "def page_soup_indeed(url):\n",
    "    '''\n",
    "    This function returns a BeautifulSoup object to hold the content \n",
    "    of a page for a job searching results at Indeed.com\n",
    "    '''\n",
    "    # Make the HTTP request\n",
    "    response = requests.get(url)\n",
    "    # Print the status code of the request\n",
    "    print(\"Status code of the request: \", response.status_code)\n",
    "    # Sanity check to make sure the document type is HTML\n",
    "    print(\"Document type: \", response.text[:15])\n",
    "    # Take a break\n",
    "    time.sleep(5)\n",
    "    # Make a soup to hold the response content\n",
    "    soup = BeautifulSoup(response.content, \"html.parser\")\n",
    "    # Print out the title of the content\n",
    "    print(\"Title of the response: \", soup.title.string)\n",
    "    return soup"
   ]
  },
  {
   "cell_type": "code",
   "execution_count": 84,
   "metadata": {},
   "outputs": [
    {
     "name": "stdout",
     "output_type": "stream",
     "text": [
      "Status code of the request:  200\n",
      "Document type:  <!DOCTYPE html>\n",
      "Title of the response:  Data Scientist Jobs, Employment in Alabama | Indeed.com\n"
     ]
    },
    {
     "data": {
      "text/plain": [
       "bs4.BeautifulSoup"
      ]
     },
     "execution_count": 84,
     "metadata": {},
     "output_type": "execute_result"
    }
   ],
   "source": [
    "# Test the function: page_soup_indeed\n",
    "\n",
    "url = 'https://www.indeed.com/jobs?q=data+scientist&l=al&sort=date'\n",
    "soup = page_soup_indeed(url)\n",
    "type(soup)"
   ]
  },
  {
   "cell_type": "code",
   "execution_count": 86,
   "metadata": {},
   "outputs": [
    {
     "data": {
      "text/plain": [
       "1"
      ]
     },
     "execution_count": 86,
     "metadata": {},
     "output_type": "execute_result"
    }
   ],
   "source": [
    "# Find out the page number\n",
    "int(page_num_indeed(soup))"
   ]
  },
  {
   "cell_type": "code",
   "execution_count": 38,
   "metadata": {},
   "outputs": [
    {
     "data": {
      "text/plain": [
       "bs4.element.ResultSet"
      ]
     },
     "execution_count": 38,
     "metadata": {},
     "output_type": "execute_result"
    }
   ],
   "source": [
    "# Pull the job cards from the soup\n",
    "type(job_cards_indeed(soup))"
   ]
  },
  {
   "cell_type": "code",
   "execution_count": 99,
   "metadata": {},
   "outputs": [],
   "source": [
    "# Define a function to pull job information from a job search URL\n",
    "\n",
    "def acquire_page_indeed(url):\n",
    "    '''\n",
    "    This function accepts a job search URL and returns the page number and\n",
    "    a pandas dataframe containing job title, location, company, company rating, \n",
    "    post age and description. \n",
    "    '''\n",
    "    # Create a Soup object based on the url\n",
    "    soup = page_soup_indeed(url)\n",
    "    # Pull the page number\n",
    "    page_num = page_num_indeed(soup)\n",
    "    # Pull the job cards\n",
    "    job_cards = job_cards_indeed(soup)\n",
    "    # Pull the job titles\n",
    "    titles = job_titles_indeed(job_cards)   \n",
    "    # Pull the names of the companies\n",
    "    companies = company_names_indeed(job_cards)\n",
    "    # Pull the post ages\n",
    "    ages = post_ages_indeed(job_cards)\n",
    "    # Pull the job locations\n",
    "    locations = job_locations_indeed(job_cards)\n",
    "    # Pull the company ratings\n",
    "    ratings = company_rating_indeed(job_cards)\n",
    "    # Pull the hyperlinks and job description\n",
    "    links, descriptions = job_links_and_contents_indeed(job_cards)    \n",
    "    # Create a dataframe\n",
    "    d = {'title': titles,\n",
    "         'locations': locations,\n",
    "         'company': companies, \n",
    "         'company_rating': ratings,\n",
    "         'post_age': ages, \n",
    "         'job_link': links, \n",
    "         'job_description': descriptions}\n",
    "    df = pd.DataFrame(d)\n",
    "    return page_num, df"
   ]
  },
  {
   "cell_type": "code",
   "execution_count": 72,
   "metadata": {},
   "outputs": [
    {
     "name": "stdout",
     "output_type": "stream",
     "text": [
      "Status code of the request:  200\n",
      "Document type:  <!DOCTYPE html>\n",
      "Title of the response:  Data Scientist Jobs, Employment in Alabama | Indeed.com\n",
      "Status Code:  200\n",
      "Data Scientist - Huntsville, AL 35806 - Indeed.com\n",
      "Status Code:  200\n",
      "Data Scientist - United States - Indeed.com\n",
      "Status Code:  200\n",
      "Vaco Careers and Employment | Indeed.com\n",
      "Status Code:  200\n",
      "Data Scientist - Huntsville, AL - Indeed.com\n",
      "Status Code:  200\n",
      "MANAGER, ACCOUNT DEVELOPMENT/DATA SCIENCE - Birmingham, AL 35243 - Indeed.com\n",
      "Status Code:  200\n",
      "Statistical Analyst - Jefferson County, AL - Indeed.com\n",
      "Status Code:  200\n",
      "Data Scientist Intern - Huntsville, AL 35806 - Indeed.com\n",
      "Status Code:  200\n",
      "Machine Learning/Artificial Intelligence Software Developer - Huntsville, AL 35805 - Indeed.com\n",
      "Status Code:  200\n",
      "Software Engineer/Data Scientist - Huntsville, AL 35802 - Indeed.com\n",
      "Status Code:  200\n",
      "Lead Financial Analyst - Artificial Intelligence Strategic Growth Offering (AI SGO) Finance & Investment - Birmingham, AL 35203 - Indeed.com\n",
      "Status Code:  200\n",
      "BI Architect/Data Scientist - Birmingham, AL 35216 - Indeed.com\n",
      "Status Code:  200\n",
      "Asst Research Professional - Research Data Scientist - Tuscaloosa, AL - Indeed.com\n",
      "Status Code:  200\n",
      "2021-18 Software Engineers for BMDS Data Analysis Suite - Huntsville, AL - Indeed.com\n",
      "Status Code:  200\n",
      "Cyber Artificial Intelligence (AI) SME - Huntsville, AL 35806 - Indeed.com\n",
      "Status Code:  200\n",
      "2021-02 Artificial Intelligence Designer - Huntsville, AL - Indeed.com\n"
     ]
    }
   ],
   "source": [
    "# Test function acquire_page_indeed\n",
    "page_num, df = acquire_page_indeed(url)"
   ]
  },
  {
   "cell_type": "code",
   "execution_count": 73,
   "metadata": {},
   "outputs": [
    {
     "data": {
      "text/plain": [
       "'1'"
      ]
     },
     "execution_count": 73,
     "metadata": {},
     "output_type": "execute_result"
    }
   ],
   "source": [
    "# Print the page number\n",
    "page_num"
   ]
  },
  {
   "cell_type": "code",
   "execution_count": 79,
   "metadata": {},
   "outputs": [
    {
     "data": {
      "text/plain": [
       "Index(['title', 'locations', 'company', 'company_rating', 'post_age',\n",
       "       'job_link', 'job_description'],\n",
       "      dtype='object')"
      ]
     },
     "execution_count": 79,
     "metadata": {},
     "output_type": "execute_result"
    }
   ],
   "source": [
    "df.columns"
   ]
  },
  {
   "cell_type": "code",
   "execution_count": 76,
   "metadata": {
    "scrolled": false
   },
   "outputs": [
    {
     "data": {
      "text/plain": [
       "\"MTA, Inc. is a Woman Owned Small Business with headquarters in Huntsville, AL. We are a diversified company recognized for excellence in Engineering, Integrated Logistics, and Quality Assurance. MTA provides services to U.S. defense agencies, NASA, and the U.S. Corp of Engineers.\\nMTA, Inc. has an immediate opening for the position of Data Scientist.\\nJob Description:\\nTo provide support to the System Readiness Directorate's Reliability, Availability, Maintainability and System Assessment (RAM-SA) Division in support of developing and implementing machine learning algorithms and tools in SQL and Python. The objective of this project is to develop, implement and support data science work in the RAM division in support of tool development research and the Predictive Maintenance National Mission Initiative (PMx NMI).\\nDuties and responsibilities:\\nPerforming detailed and complex calculations necessary to assess advanced systems concepts\\nTransferring data into a new format to make it more appropriate for analysis\\nCreating new, experimental frameworks to analyze data\\nBuilding tools to automate data collection\\nSearching through large data sets for usable information\\nCreating reports and presentations\\nCorrelating similar data to find actionable results\\nSkills and Qualifications:\\nExperience with machine learning and AI\\nKnowledge of programming languages like SQL, and Python\\nFamiliarity with business intelligence tools (e.g., Tableau)\\nStrong mathematics skills (e.g., statistics, linear algebra)\\nKnowledge of popular Algorithms (e.g., Linear Regression, Random Forests, Nave Bayes, KNN, & kMeans)\\nKnowledge of Libraries (e.g., TensorFlow, scikit-learn, Keras, matplotlib, h2o, matplotlib, pyodbc)\\nExperience with big data technologies\\nWorking knowledge of statistics\\nExceptional technical writing skills\\nAnalytical and problem-solving skills\\nAbility to work independently and with team members from different background\\nExcellent attention to detail\\nEducation:\\nPHD plus 8 years of experience\\nMS plus 10 years of experience\\nBS/BA plus 12 years of experience\\nRequirements:\\nSecret Security Clearance required\\nMust be a U. S. citizen.\\nMTA, Inc. is an Equal Opportunity Employer. All qualified applicants will receive consideration for employment without regard to race, color, religion, sex, sexual orientation, gender identity, age, national origin, disability, veteran status, or any other characteristic protected by law.\\nMTA uses E-Verify to confirm employment eligibility of employees.\\nThis job posting is not a guarantee of employment.\""
      ]
     },
     "execution_count": 76,
     "metadata": {},
     "output_type": "execute_result"
    }
   ],
   "source": [
    "df.job_description[0]"
   ]
  },
  {
   "cell_type": "code",
   "execution_count": 100,
   "metadata": {},
   "outputs": [],
   "source": [
    "def jobs_indeed(job_title, location):\n",
    "    '''\n",
    "    '''\n",
    "    # Generate the urls based on job title and location (state)\n",
    "    urls = urls_indeed(job_title, location)\n",
    "    # Set up an counter\n",
    "    counter = 0\n",
    "    # Create an empty dataframe to hold the job information\n",
    "    df_jobs = pd.DataFrame(columns = ['title', 'locations', 'company', 'company_rating', \n",
    "                                      'post_age','job_link', 'job_description'])\n",
    "    # For loop through the urls to pull job information\n",
    "    for url in urls:\n",
    "        counter = counter+1\n",
    "        page_num, df = acquire_page_indeed(url)\n",
    "        print(\"--------------------------------\")\n",
    "        print(\"Page: \", counter)\n",
    "        print(\"--------------------------------\")\n",
    "        time.sleep(180)\n",
    "        if int(page_num) == counter:\n",
    "            df_jobs = df_jobs.append(df, ignore_index=True)\n",
    "            continue\n",
    "        if int(page_num) < counter:\n",
    "            break\n",
    "    # Print the total number of jobs\n",
    "    print(f\"Total number of {job_title} positions in {location}: \", df_jobs.shape[0])\n",
    "    return df_jobs"
   ]
  },
  {
   "cell_type": "code",
   "execution_count": 101,
   "metadata": {
    "scrolled": false
   },
   "outputs": [
    {
     "name": "stdout",
     "output_type": "stream",
     "text": [
      "Status code of the request:  200\n",
      "Document type:  <!DOCTYPE html>\n",
      "Title of the response:  Data Scientist Jobs, Employment in Alabama | Indeed.com\n",
      "Status code of the request:  200\n",
      "Document type:  <!DOCTYPE html>\n",
      "Title of the response:  Data Scientist Jobs, Employment in Alabama | Indeed.com\n",
      "Status Code:  200\n",
      "Data Scientist - Huntsville, AL 35806 - Indeed.com\n",
      "Status Code:  200\n",
      "Data Scientist - United States - Indeed.com\n",
      "Status Code:  200\n",
      "Vaco Careers and Employment | Indeed.com\n",
      "Status Code:  200\n",
      "MANAGER, ACCOUNT DEVELOPMENT/DATA SCIENCE - Birmingham, AL 35243 - Indeed.com\n",
      "Status Code:  200\n",
      "Data Scientist - Huntsville, AL - Indeed.com\n",
      "Status Code:  200\n",
      "Statistical Analyst - Jefferson County, AL - Indeed.com\n",
      "Status Code:  200\n",
      "Data Scientist Intern - Huntsville, AL 35806 - Indeed.com\n",
      "Status Code:  200\n",
      "Machine Learning/Artificial Intelligence Software Developer - Huntsville, AL 35805 - Indeed.com\n",
      "Status Code:  200\n",
      "Software Engineer/Data Scientist - Huntsville, AL 35802 - Indeed.com\n",
      "Status Code:  200\n",
      "Lead Financial Analyst - Artificial Intelligence Strategic Growth Offering (AI SGO) Finance & Investment - Birmingham, AL 35203 - Indeed.com\n",
      "Status Code:  200\n",
      "BI Architect/Data Scientist - Birmingham, AL 35216 - Indeed.com\n",
      "Status Code:  200\n",
      "Asst Research Professional - Research Data Scientist - Tuscaloosa, AL - Indeed.com\n",
      "Status Code:  200\n",
      "2021-18 Software Engineers for BMDS Data Analysis Suite - Huntsville, AL - Indeed.com\n",
      "Status Code:  200\n",
      "Cyber Artificial Intelligence (AI) SME - Huntsville, AL 35806 - Indeed.com\n",
      "Status Code:  200\n",
      "2021-02 Artificial Intelligence Designer - Huntsville, AL - Indeed.com\n",
      "--------------------------------\n",
      "Page:  1\n",
      "--------------------------------\n",
      "Status code of the request:  200\n",
      "Document type:  <!DOCTYPE html>\n",
      "Title of the response:  Data Scientist Jobs, Employment in Alabama | Indeed.com\n",
      "Status Code:  200\n",
      "Deep Learning Engineer - Alabama - Indeed.com\n",
      "Status Code:  200\n",
      "Machine Learning Engineer - Huntsville, AL 35806 - Indeed.com\n",
      "Status Code:  200\n",
      "Member of Technical Staff- Technical Support - Ai/Cloud - Huntsville, AL - Indeed.com\n",
      "Status Code:  200\n",
      "Marketing Data Analyst (Remote) - Birmingham, AL 35209 - Indeed.com\n",
      "Status Code:  200\n",
      "HudsonAlpha - Clinical Data Scientist/Bioinformatician I- CSL - Huntsville, AL 35806 - Indeed.com\n",
      "Status Code:  200\n",
      "Data Scientist - Birmingham, AL 35209 - Indeed.com\n",
      "Status Code:  200\n",
      "Data Scientist - Birmingham, AL 35242 - Indeed.com\n",
      "Status Code:  200\n",
      "STATISTICIAN - Montgomery, AL 36130 - Indeed.com\n",
      "Status Code:  200\n",
      "Federal - Data Scientist - Huntsville, AL - Indeed.com\n",
      "Status Code:  200\n",
      "Artificial Intelligence Scientist - Huntsville, AL 35801 - Indeed.com\n",
      "Status Code:  200\n",
      "Digital Data Engineer - Birmingham, AL 35242 - Indeed.com\n",
      "Status Code:  200\n",
      "Artificial Intelligence (AI) Business Development Manager - Huntsville, AL - Indeed.com\n",
      "Status Code:  200\n",
      "Data Scientist - Huntsville, AL - Indeed.com\n",
      "Status Code:  200\n",
      "MANAGER - RC DATA SCIENCE - ENT - Birmingham, AL 35294 - Indeed.com\n",
      "Status Code:  200\n",
      "Boeing Graduate Researcher – Artificial Intelligence Technologist - Huntsville, AL - Indeed.com\n",
      "--------------------------------\n",
      "Page:  2\n",
      "--------------------------------\n",
      "Status code of the request:  200\n",
      "Document type:  <!DOCTYPE html>\n",
      "Title of the response:  Data Scientist Jobs, Employment in Alabama | Indeed.com\n",
      "Status Code:  200\n",
      "AI/ML Software Engineer - Huntsville, AL - Indeed.com\n",
      "Status Code:  200\n",
      "STATISTICIAN I - Birmingham, AL 35294 - Indeed.com\n",
      "Status Code:  200\n",
      "Mathematical Modeler/Software Developer* - Huntsville, AL - Indeed.com\n",
      "Status Code:  200\n",
      "Data Architect/Scientist - Huntsville, AL - Indeed.com\n",
      "Status Code:  200\n",
      "Lead Data Warehouse Developer - Huntsville, AL - Indeed.com\n",
      "Status Code:  200\n",
      "Data Scientist / Process Engineer - Mobile, AL - Indeed.com\n",
      "Status Code:  200\n",
      "Junior AI Engineer - Tuscaloosa, AL - Indeed.com\n",
      "Status Code:  200\n",
      "Senior AI Engineer - Tuscaloosa, AL - Indeed.com\n",
      "Status Code:  200\n",
      "IBKC - Quantitative Analyst - International Park - Birmingham, AL - Indeed.com\n",
      "Status Code:  200\n",
      "Statistician (Data Scientist) *12 month Roster* *Direct Hire* - Birmingham, AL - Indeed.com\n",
      "Status Code:  200\n",
      "Statistician - Huntsville, AL 35816 - Indeed.com\n",
      "Status Code:  200\n",
      "DATA SCIENCE CONSULTANT BIRMINGHAM - Birmingham, AL 35203 - Indeed.com\n",
      "--------------------------------\n",
      "Page:  3\n",
      "--------------------------------\n",
      "Total number of data scientist positions in al:  42\n"
     ]
    }
   ],
   "source": [
    "# Test function jobs_in_state_indeed\n",
    "df = jobs_indeed('data scientist', 'al')"
   ]
  },
  {
   "cell_type": "code",
   "execution_count": 114,
   "metadata": {
    "scrolled": false
   },
   "outputs": [
    {
     "name": "stdout",
     "output_type": "stream",
     "text": [
      "<class 'pandas.core.frame.DataFrame'>\n",
      "RangeIndex: 42 entries, 0 to 41\n",
      "Data columns (total 7 columns):\n",
      " #   Column           Non-Null Count  Dtype \n",
      "---  ------           --------------  ----- \n",
      " 0   title            42 non-null     object\n",
      " 1   locations        42 non-null     object\n",
      " 2   company          42 non-null     object\n",
      " 3   company_rating   42 non-null     object\n",
      " 4   post_age         42 non-null     object\n",
      " 5   job_link         42 non-null     object\n",
      " 6   job_description  42 non-null     object\n",
      "dtypes: object(7)\n",
      "memory usage: 2.4+ KB\n"
     ]
    }
   ],
   "source": [
    "# Print a concise summary of the df\n",
    "df.info()"
   ]
  },
  {
   "cell_type": "code",
   "execution_count": 115,
   "metadata": {},
   "outputs": [
    {
     "data": {
      "text/html": [
       "<div>\n",
       "<style scoped>\n",
       "    .dataframe tbody tr th:only-of-type {\n",
       "        vertical-align: middle;\n",
       "    }\n",
       "\n",
       "    .dataframe tbody tr th {\n",
       "        vertical-align: top;\n",
       "    }\n",
       "\n",
       "    .dataframe thead th {\n",
       "        text-align: right;\n",
       "    }\n",
       "</style>\n",
       "<table border=\"1\" class=\"dataframe\">\n",
       "  <thead>\n",
       "    <tr style=\"text-align: right;\">\n",
       "      <th></th>\n",
       "      <th>title</th>\n",
       "      <th>locations</th>\n",
       "      <th>company</th>\n",
       "      <th>company_rating</th>\n",
       "      <th>post_age</th>\n",
       "      <th>job_link</th>\n",
       "      <th>job_description</th>\n",
       "    </tr>\n",
       "  </thead>\n",
       "  <tbody>\n",
       "    <tr>\n",
       "      <th>17</th>\n",
       "      <td>Member of Technical Staff- Technical Support -...</td>\n",
       "      <td>Huntsville, AL</td>\n",
       "      <td>Wind River</td>\n",
       "      <td>3.7</td>\n",
       "      <td>30+ days ago</td>\n",
       "      <td>https://www.indeed.com/rc/clk?jk=c768446d7ff0b...</td>\n",
       "      <td>Member of Technical Staff - Technical Support ...</td>\n",
       "    </tr>\n",
       "    <tr>\n",
       "      <th>16</th>\n",
       "      <td>Machine Learning Engineer</td>\n",
       "      <td>Huntsville, AL 35806</td>\n",
       "      <td>CFD Research Corporation</td>\n",
       "      <td>4.2</td>\n",
       "      <td>28 days ago</td>\n",
       "      <td>https://www.indeed.com/rc/clk?jk=189d948471f4a...</td>\n",
       "      <td>This position will join an R&amp;D team focused on...</td>\n",
       "    </tr>\n",
       "    <tr>\n",
       "      <th>3</th>\n",
       "      <td>MANAGER, ACCOUNT DEVELOPMENT/DATA SCIENCE\\nnew</td>\n",
       "      <td>Birmingham, AL 35243</td>\n",
       "      <td>B.A.S.S., LLC</td>\n",
       "      <td>missing</td>\n",
       "      <td>Today</td>\n",
       "      <td>https://www.indeed.com/company/B.A.S.S.,-LLC/j...</td>\n",
       "      <td>MANAGER, ACCOUNT DEVELOPMENT/DATA SCIENCEBasic...</td>\n",
       "    </tr>\n",
       "    <tr>\n",
       "      <th>30</th>\n",
       "      <td>AI/ML Software Engineer</td>\n",
       "      <td>Huntsville, AL</td>\n",
       "      <td>COLSA</td>\n",
       "      <td>3.9</td>\n",
       "      <td>30+ days ago</td>\n",
       "      <td>https://www.indeed.com/rc/clk?jk=fad792fe1641a...</td>\n",
       "      <td>General Summary\\n\\n\\nDesigns, develops, troubl...</td>\n",
       "    </tr>\n",
       "    <tr>\n",
       "      <th>41</th>\n",
       "      <td>DATA SCIENCE CONSULTANT BIRMINGHAM</td>\n",
       "      <td>Birmingham, AL 35203 (Central City area)</td>\n",
       "      <td>managementsolutions</td>\n",
       "      <td>3.8</td>\n",
       "      <td>30+ days ago</td>\n",
       "      <td>https://www.indeed.com/rc/clk?jk=aa00dcc168e47...</td>\n",
       "      <td>United States\\n\\nDATA SCIENCE CONSULTANT BIRMI...</td>\n",
       "    </tr>\n",
       "  </tbody>\n",
       "</table>\n",
       "</div>"
      ],
      "text/plain": [
       "                                                title  \\\n",
       "17  Member of Technical Staff- Technical Support -...   \n",
       "16                          Machine Learning Engineer   \n",
       "3      MANAGER, ACCOUNT DEVELOPMENT/DATA SCIENCE\\nnew   \n",
       "30                            AI/ML Software Engineer   \n",
       "41                 DATA SCIENCE CONSULTANT BIRMINGHAM   \n",
       "\n",
       "                                   locations                   company  \\\n",
       "17                            Huntsville, AL                Wind River   \n",
       "16                      Huntsville, AL 35806  CFD Research Corporation   \n",
       "3                       Birmingham, AL 35243             B.A.S.S., LLC   \n",
       "30                            Huntsville, AL                     COLSA   \n",
       "41  Birmingham, AL 35203 (Central City area)       managementsolutions   \n",
       "\n",
       "   company_rating      post_age  \\\n",
       "17            3.7  30+ days ago   \n",
       "16            4.2   28 days ago   \n",
       "3         missing         Today   \n",
       "30            3.9  30+ days ago   \n",
       "41            3.8  30+ days ago   \n",
       "\n",
       "                                             job_link  \\\n",
       "17  https://www.indeed.com/rc/clk?jk=c768446d7ff0b...   \n",
       "16  https://www.indeed.com/rc/clk?jk=189d948471f4a...   \n",
       "3   https://www.indeed.com/company/B.A.S.S.,-LLC/j...   \n",
       "30  https://www.indeed.com/rc/clk?jk=fad792fe1641a...   \n",
       "41  https://www.indeed.com/rc/clk?jk=aa00dcc168e47...   \n",
       "\n",
       "                                      job_description  \n",
       "17  Member of Technical Staff - Technical Support ...  \n",
       "16  This position will join an R&D team focused on...  \n",
       "3   MANAGER, ACCOUNT DEVELOPMENT/DATA SCIENCEBasic...  \n",
       "30  General Summary\\n\\n\\nDesigns, develops, troubl...  \n",
       "41  United States\\n\\nDATA SCIENCE CONSULTANT BIRMI...  "
      ]
     },
     "execution_count": 115,
     "metadata": {},
     "output_type": "execute_result"
    }
   ],
   "source": [
    "df.sample(5)"
   ]
  },
  {
   "cell_type": "code",
   "execution_count": 112,
   "metadata": {},
   "outputs": [
    {
     "data": {
      "text/plain": [
       "'https://www.indeed.com/rc/clk?jk=aa00dcc168e475b5&fccid=f3eca80b6759548b&vjs=3'"
      ]
     },
     "execution_count": 112,
     "metadata": {},
     "output_type": "execute_result"
    }
   ],
   "source": [
    "df.job_link[41]"
   ]
  },
  {
   "cell_type": "code",
   "execution_count": 113,
   "metadata": {},
   "outputs": [
    {
     "data": {
      "text/plain": [
       "'United States\\n\\nDATA SCIENCE CONSULTANT BIRMINGHAM\\n\\nBirmingham / Internship / Number of vacancies: 2\\n\\n\\n\\n\\nYou will be working in key projects for leading organizations in data mining & knowledge Discovery, predictive modeling, trend modeling, Simulation models (Monte Carlo), Review of credit rating and scoring models and quant support to the business and R&D projects.\\n\\nRequirements\\n\\nRecent graduates or final year students from disciplines relating to Mathematics, Physics, Statistics, Econometrics or other Quantitative fields.\\nPostgraduate studies and/or specialised courses are an asset, especially in Data Science, Quantitative Finance or similar.\\nShould desirably have knowledge of modeling techniques (logit, GLM, time series, decision trees, random forests, clustering), statistical programming languages (SAS, R, Python, Matlab) and big data tools and platforms (Hadoop, Hive, etc.).\\nSolid academic record.\\nStrong computer skills.\\nKnowledge of other languages is desirable.\\nGet-up-and-go attitude, maturity, responsibility and strong work ethic.\\nStrong ability to learn quickly.\\nAble to integrate easily into multidisciplinary teams.\\n\\n\\nWe Offer\\n\\nThe best environment to develop talent\\n\\nWe offer you the possibility to join a firm that provides all you need to develop your talent to the fullest:\\nWorking in the highest-profile consulting projects in the industry,\\nfor the largest companies, leaders of their respective markets,\\nalongside top industry management as they face challenges at the national and global level,\\nas part of an extraordinary team of professionals whose values and corporate culture are a benchmark for the industry\\n\\nOngoing training plan, with approximately 10% of business turnover spent in training\\n\\nSpecialist knowledge courses, external expert courses, professional skills courses, and language courses.\\n\\nLast year our staff as a whole received over 250,000 hours of training, spanning more than 575 courses.\\n\\nClearly defined career plan\\n\\nInternal promotion based solely on merit.\\n\\nPartnership-based management model offers all professionals the opportunity to become part of the Firm’s group of partners.\\n\\nComplementary experiencies\\n\\nUniversity: we maintain a close relationship with the world’s most prestigious universities.\\n\\nSocial Action: we organize more than 30 community support activities.\\n\\nSports Club: internal and external tournaments.\\n\\n\\n\\nMore on Management Solutions\\n\\nManagement Solutions is an international consulting firm whose core mission is to deliver business, risk, financial, organisational and process-related advisory services, targeting both functional aspects and the implementation of related technologies.\\n\\nDiscover our Birmingham office\\n\\n\\n420 20th Street North\\n\\nAl 35203 Birmingham\\n\\nUnited States\\n\\n33-1056152\\n\\nLocation\\n\\nShare this job\\n\\n\\nFollow us\\n\\nlinkedin/management-solutions\\n \\nfacebook/MngmtSolutions\\n \\nyoutube/management-solutions\\n \\ninstagram/management.solutions\\n \\nMngmt_Solutions\\n\\nAre you a student?\\n\\nIf you are in the final years of your degree, we would also like to hear from you. Management Solutions has agreements with the most prestigious universities to offer students their first experience with the business world. The Firm offers paid work experience and flexible hours with the possibility of students becoming part of the Firm upon graduation.\\n\\nOther open positions in Birmingham\\n\\nBUSINESS CONSULTANT BIRMINGHAM\\n\\nDATA SCIENCE CONSULTANT BIRMINGHAM\\n\\nNEW TECHNOLOGIES AND DIGITAL TRANSFORMATION CONSULTANT BIRMINGHAM\\n\\nNEW TECHNOLOGIES AND DIGITAL TRANSFORMATION CONSULTANT BIRMINGHAM\\n\\nDATA SCIENCE CONSULTANT BIRMINGHAM'"
      ]
     },
     "execution_count": 113,
     "metadata": {},
     "output_type": "execute_result"
    }
   ],
   "source": [
    "df.job_description[41]"
   ]
  },
  {
   "cell_type": "code",
   "execution_count": 116,
   "metadata": {},
   "outputs": [],
   "source": [
    "df.to_csv(\"data_scientist_al_indeed_012021.csv\")"
   ]
  }
 ],
 "metadata": {
  "kernelspec": {
   "display_name": "Python 3",
   "language": "python",
   "name": "python3"
  },
  "language_info": {
   "codemirror_mode": {
    "name": "ipython",
    "version": 3
   },
   "file_extension": ".py",
   "mimetype": "text/x-python",
   "name": "python",
   "nbconvert_exporter": "python",
   "pygments_lexer": "ipython3",
   "version": "3.7.6"
  }
 },
 "nbformat": 4,
 "nbformat_minor": 4
}
