{
 "cells": [
  {
   "cell_type": "code",
   "execution_count": 1,
   "metadata": {},
   "outputs": [],
   "source": [
    "# General Libraries\n",
    "import numpy as np\n",
    "import pandas as pd\n",
    "import matplotlib.pyplot as plt\n",
    "import seaborn as sns\n",
    "\n",
    "# Web Scraping Libraries\n",
    "import urllib\n",
    "import requests\n",
    "from bs4 import BeautifulSoup\n",
    "\n",
    "# Regex Library\n",
    "import re\n",
    "\n",
    "# Time-related Libraries\n",
    "import time\n",
    "import datetime\n",
    "\n",
    "# NLP Libraries\n",
    "import unicodedata\n",
    "import nltk\n",
    "from nltk.tokenize.toktok import ToktokTokenizer\n",
    "from nltk.corpus import stopwords\n",
    "from wordcloud import WordCloud\n",
    "\n",
    "# AWS\n",
    "import logging\n",
    "import boto3\n",
    "from botocore.exceptions import ClientError\n",
    "\n",
    "# Geospatial Libraries\n",
    "import geopandas as gpd\n",
    "import geopy\n",
    "from geopy.geocoders import Nominatim\n",
    "from geopy.extra.rate_limiter import RateLimiter\n",
    "import folium\n",
    "\n",
    "\n",
    "# Helper functions\n",
    "import MVP_Bojado, MVP_Shi, MVP_Ortiz\n",
    "\n",
    "# Environment file\n",
    "import env, env_Shi\n",
    "\n",
    "import json\n",
    "from sqlalchemy import create_engine\n",
    "\n",
    "import warnings\n",
    "warnings.filterwarnings(\"ignore\")"
   ]
  },
  {
   "cell_type": "code",
   "execution_count": 39,
   "metadata": {},
   "outputs": [],
   "source": [
    "# Set up universal variables\n",
    "database = env_Shi.database\n",
    "\n",
    "# Set a class named color\n",
    "class color:\n",
    "    PURPLE = '\\033[95m'\n",
    "    CYAN = '\\033[96m'\n",
    "    DARKCYAN = '\\033[36m'\n",
    "    BLUE = '\\033[94m'\n",
    "    GREEN = '\\033[92m'\n",
    "    YELLOW = '\\033[93m'\n",
    "    RED = '\\033[91m'\n",
    "    BOLD = '\\033[1m'\n",
    "    UNDERLINE = '\\033[4m'\n",
    "    END = '\\033[0m'"
   ]
  },
  {
   "cell_type": "markdown",
   "metadata": {},
   "source": [
    "## Data Acquisition"
   ]
  },
  {
   "cell_type": "markdown",
   "metadata": {},
   "source": [
    "<div class=\"alert alert-block alert-success\"><b>All the functions in the Data Acquisitioin section have been tested out and inorporated into the MVP_acquire_ds.py and MVP_acquire_wd.py files. To save space, no extra test is carried out in this notebook.</b></div>"
   ]
  },
  {
   "cell_type": "markdown",
   "metadata": {},
   "source": [
    "### URL Format of Indeed.com\n",
    "1. Search chemist in TX<br>\n",
    "https://www.indeed.com/jobs?q=chemist&l=TX\n",
    "2. Search chemist in San Antonio, TX<br>\n",
    "https://www.indeed.com/jobs?q=chemist&l=San+Antonio%2C+TX\n",
    "3. Search data scientist in San Antonio, TX<br>\n",
    "https://www.indeed.com/jobs?q=data+scientist&l=San+Antonio%2C+TX\n",
    "4. Search data scientist intern in San Anotnio, TX<br>\n",
    "https://www.indeed.com/jobs?q=data+scientist+intern&l=San+Antonio%2C+TX\n",
    "5. Sort the data scientist jobs posting by date<br>\n",
    "https://www.indeed.com/jobs?q=data+scientist&l=San+Antonio%2C+TX&sort=date"
   ]
  },
  {
   "cell_type": "markdown",
   "metadata": {},
   "source": [
    "**Takeaways**\n",
    "1. q = job title\n",
    "2. l = location"
   ]
  },
  {
   "cell_type": "markdown",
   "metadata": {},
   "source": [
    "### URL Format of Monster.com\n",
    "https://www.monster.com/jobs/search/?q=data-scientist&where=San-Antonio__2C-TX"
   ]
  },
  {
   "cell_type": "markdown",
   "metadata": {},
   "source": [
    "### Generate the URL of a Job Search at Indeed.com"
   ]
  },
  {
   "cell_type": "code",
   "execution_count": null,
   "metadata": {},
   "outputs": [],
   "source": [
    "def first_page_url_indeed(job_title, location):\n",
    "    '''\n",
    "    This function returns a URL of the 1st page of a job search at Indeed.com \n",
    "    based on the job title and the location.\n",
    "    '''\n",
    "    # Create the base URL for a job serch at Indeed.com\n",
    "    base_url = 'https://www.indeed.com/jobs?'\n",
    "    # Create a dictionary to map the keys to the input parameters\n",
    "    dic = {'q': job_title, 'l': location, 'sort': 'date'}\n",
    "    # Convert the dictionary to a query string\n",
    "    relative_url = urllib.parse.urlencode(dic)\n",
    "    # Generate the full URL of the first page\n",
    "    url = base_url + relative_url\n",
    "    return url"
   ]
  },
  {
   "cell_type": "markdown",
   "metadata": {},
   "source": [
    "### Make the HTTP Request"
   ]
  },
  {
   "cell_type": "code",
   "execution_count": null,
   "metadata": {},
   "outputs": [],
   "source": [
    "def first_page_soup_indeed(job_title, location):\n",
    "    '''\n",
    "    This function returns a BeautifulSoup object to hold the content \n",
    "    of the first page of a request for job searching at Indeed.com\n",
    "    '''\n",
    "    # Generate the URL of the job search based on title and location\n",
    "    url = first_page_url_indeed(job_title, location)\n",
    "    # Make the HTTP request\n",
    "    response = requests.get(url)\n",
    "    # Print the status code of the request\n",
    "    print(\"Status code of the request: \", response.status_code)\n",
    "    # Sanity check to make sure the document type is HTML\n",
    "    print(\"Document type: \", response.text[:15])\n",
    "    # Take a break\n",
    "    time.sleep(5)\n",
    "    # Make a soup to hold the response content\n",
    "    soup = BeautifulSoup(response.content, \"html.parser\")\n",
    "    # Print out the title of the content\n",
    "    print(\"Title of the response: \", soup.title.string)\n",
    "    return soup"
   ]
  },
  {
   "cell_type": "code",
   "execution_count": null,
   "metadata": {},
   "outputs": [],
   "source": [
    "# first_page_soup = first_page_soup_indeed(\"data scientist\", 'al')\n",
    "# type(first_page_soup)\n",
    "\n",
    "# # Find out the tag that contains the number of the jobs by seaching\n",
    "\n",
    "# num_jobs = first_page_soup.find('div', id='searchCountPages')\n",
    "# print(\"Data Type: \", type(num_jobs))\n",
    "# print(\"Name of the Tag: \", num_jobs.name)\n",
    "# print(\"Attributes of the Tag: \", num_jobs.attrs)\n",
    "# print(\"Text within the Tag: \")\n",
    "# num_jobs.text\n",
    "\n",
    "# # Find the number of the jobs in the text\n",
    "# match = re.findall(r'(\\d+)', num_jobs.text)\n",
    "# match[1]"
   ]
  },
  {
   "cell_type": "code",
   "execution_count": null,
   "metadata": {},
   "outputs": [],
   "source": [
    "def num_jobs_indeed(first_page_soup):\n",
    "    '''\n",
    "    This function returns the total number of the jobs in the searching result.\n",
    "    '''\n",
    "    # Find out the section contains total number of jobs  \n",
    "    div = first_page_soup.find('div', id='searchCountPages')\n",
    "    # Extract the number\n",
    "    num_jobs = re.findall(r'(\\d+)', div.text)[1]\n",
    "    return num_jobs"
   ]
  },
  {
   "cell_type": "code",
   "execution_count": null,
   "metadata": {},
   "outputs": [],
   "source": [
    "def page_num_indeed(url):\n",
    "    '''\n",
    "    This function returns the page number of job searching results. \n",
    "    '''\n",
    "    # Create a Soup object based on the url\n",
    "    soup = page_soup_indeed(url)\n",
    "    # Find out the section contains total number of jobs  \n",
    "    div = soup.find('div', id='searchCountPages')\n",
    "    # Extract the number\n",
    "    page_num = re.findall(r'(\\d+)', div.text)[0]\n",
    "    return page_num"
   ]
  },
  {
   "cell_type": "code",
   "execution_count": null,
   "metadata": {},
   "outputs": [],
   "source": [
    "# Define a function to extract all job cards in a Indeed page\n",
    "\n",
    "def job_cards_indeed(soup):\n",
    "    '''\n",
    "    This function accepts the Soup object of a Indeed page \n",
    "    return an iterator containing the all the job cards in this page.\n",
    "    '''\n",
    "    # Find the appropriate tag that contains all of the job listings in this page\n",
    "    tag = soup.find('td', id=\"resultsCol\")\n",
    "    # Extract all job cards\n",
    "    job_cards = tag.find_all('div', class_='jobsearch-SerpJobCard')\n",
    "    return job_cards"
   ]
  },
  {
   "cell_type": "code",
   "execution_count": null,
   "metadata": {},
   "outputs": [],
   "source": [
    "# # Test the function job_cards_indeed\n",
    "# job_cards = job_cards_indeed(first_page_soup)\n",
    "\n",
    "# # Print the data type of job_cards\n",
    "# type(job_cards)\n",
    "\n",
    "# # How many jobs listed in the 1st page? \n",
    "# len(job_cards)"
   ]
  },
  {
   "cell_type": "code",
   "execution_count": null,
   "metadata": {},
   "outputs": [],
   "source": [
    "def job_titles_indeed(job_cards):\n",
    "    '''\n",
    "    This function extract the job titles from a job_cards set. \n",
    "    '''\n",
    "    # Create a list to hold the job titles\n",
    "    titles = []\n",
    "    # For Loop throught the job cards to extract the titles\n",
    "    for job in job_cards:\n",
    "        title = job.find('h2', class_='title')\n",
    "        title = title.text.strip()\n",
    "        titles.append(title)\n",
    "    return titles"
   ]
  },
  {
   "cell_type": "code",
   "execution_count": null,
   "metadata": {},
   "outputs": [],
   "source": [
    "# Define a function to pull the company names from a set of job cards\n",
    "\n",
    "def company_names_indeed(job_cards):\n",
    "    '''\n",
    "    This function extracts the company names from a set of job cards.\n",
    "    '''\n",
    "    # Create a list to hold the company names\n",
    "    names = []\n",
    "    # For loop through the job cards to pull the company names\n",
    "    for job in job_cards:\n",
    "        name = job.find('span', class_='company')\n",
    "        name = name.text.strip()\n",
    "        names.append(name)\n",
    "    return names"
   ]
  },
  {
   "cell_type": "code",
   "execution_count": null,
   "metadata": {},
   "outputs": [],
   "source": [
    "# Define a function to pull the post ages from a set of job cards\n",
    "\n",
    "def post_ages_indeed(job_cards):\n",
    "    '''\n",
    "    This function pulls the post ages from a set of job cards.\n",
    "    '''\n",
    "    # Create a list to hold the post ages\n",
    "    ages = []\n",
    "    # For loop through the job cards to pull the post ages\n",
    "    for job in job_cards:\n",
    "        age = job.find('span', class_='date')\n",
    "        age = age.text.strip()\n",
    "        ages.append(age)\n",
    "    return ages"
   ]
  },
  {
   "cell_type": "code",
   "execution_count": null,
   "metadata": {},
   "outputs": [],
   "source": [
    "# Define a function to pull the location from a set of job cards\n",
    "\n",
    "def job_locations_indeed(job_cards):\n",
    "    '''\n",
    "    This function pulls the job locations from a set of job cards.\n",
    "    '''\n",
    "    # Create a list to hold the locations\n",
    "    locations = []\n",
    "    # For loop through the job cards to pull the locations\n",
    "    for job in job_cards:\n",
    "        location = job.find('div', class_='location accessible-contrast-color-location')\n",
    "        if location == None:\n",
    "            location = job.find('span', class_='location accessible-contrast-color-location')\n",
    "        location = location.text.strip()\n",
    "        locations.append(location)\n",
    "    return locations"
   ]
  },
  {
   "cell_type": "code",
   "execution_count": null,
   "metadata": {},
   "outputs": [],
   "source": [
    "# Define a function to pull the company ratings from a set of job cards\n",
    "\n",
    "def company_rating_indeed(job_cards):\n",
    "    '''\n",
    "    This function pulls the company rating from a set of job cards.\n",
    "    If the rating is unavailable, it will be marked as 'missing'.\n",
    "    '''\n",
    "    # Create a list to hold the locations\n",
    "    ratings = []\n",
    "    # For loop through the job cards to pull the locations\n",
    "    for job in job_cards:\n",
    "        rating = job.find('span', class_='ratingsContent')\n",
    "        if rating == None:\n",
    "            ratings.append('missing')\n",
    "            continue\n",
    "        rating = rating.text.strip()\n",
    "        ratings.append(rating)\n",
    "    return ratings"
   ]
  },
  {
   "cell_type": "code",
   "execution_count": null,
   "metadata": {},
   "outputs": [],
   "source": [
    "def acuqire_indeed_job_description(url):\n",
    "    '''\n",
    "    This function accepts the URL of a job posting and pull its description.\n",
    "    '''\n",
    "    # Make the HTTP request\n",
    "    request = requests.get(url)\n",
    "    print(\"Status Code: \", request.status_code)\n",
    "    # Take a break\n",
    "    time.sleep(5)\n",
    "    # Make a soup variable holding the response content\n",
    "    soup = BeautifulSoup(request.content, \"html.parser\")\n",
    "    if soup == None:\n",
    "        description = 'error'\n",
    "    else:\n",
    "        # Print the page's title\n",
    "        print(soup.title.string)\n",
    "        # Find the section that contains job description\n",
    "        description = soup.find('div', id=\"jobDescriptionText\")\n",
    "        if description == None:\n",
    "            description = 'error'\n",
    "        else:\n",
    "            description = description.text\n",
    "    return description\n",
    "\n",
    "def job_links_and_contents_indeed(job_cards):\n",
    "    '''\n",
    "    This function pulls the job links and descriptions from a set of job cards.\n",
    "    '''\n",
    "    # Create a list to hold the links and descriptions\n",
    "    links = []\n",
    "    descriptions = []\n",
    "    # For loop through the job cards to pull the links and descriptions\n",
    "    for job in job_cards:\n",
    "        link = job.find('a')['href']\n",
    "        link = 'https://www.indeed.com' + link\n",
    "        link = link.replace(';', '&')\n",
    "        description = acuqire_indeed_job_description(link)\n",
    "        links.append(link)\n",
    "        descriptions.append(description)\n",
    "    return links, descriptions"
   ]
  },
  {
   "cell_type": "code",
   "execution_count": null,
   "metadata": {},
   "outputs": [],
   "source": [
    "# Define a function to create a Soup object based on a job search url\n",
    "\n",
    "def page_soup_indeed(url):\n",
    "    '''\n",
    "    This function returns a BeautifulSoup object to hold the content \n",
    "    of a page for a job searching results at Indeed.com\n",
    "    '''\n",
    "    # Make the HTTP request\n",
    "    response = requests.get(url)\n",
    "    # Print the status code of the request\n",
    "    print(\"Status code of the request: \", response.status_code)\n",
    "    # Sanity check to make sure the document type is HTML\n",
    "    print(\"Document type: \", response.text[:15])\n",
    "    # Take a break\n",
    "    time.sleep(5)\n",
    "    # Make a soup to hold the response content\n",
    "    soup = BeautifulSoup(response.content, \"html.parser\")\n",
    "    # Print out the title of the content\n",
    "    print(\"Title of the response: \", soup.title.string)\n",
    "    return soup"
   ]
  },
  {
   "cell_type": "code",
   "execution_count": null,
   "metadata": {},
   "outputs": [],
   "source": [
    "# # Test the function: page_soup_indeed\n",
    "\n",
    "# url = 'https://www.indeed.com/jobs?q=data+scientist&l=al&sort=date'\n",
    "# soup = page_soup_indeed(url)\n",
    "# type(soup)\n",
    "\n",
    "# # Find out the page number\n",
    "# int(page_num_indeed(url))\n",
    "\n",
    "# # Pull the job cards from the soup\n",
    "# type(job_cards_indeed(soup))"
   ]
  },
  {
   "cell_type": "code",
   "execution_count": null,
   "metadata": {},
   "outputs": [],
   "source": [
    "# Define a function to pull job information from a job search URL\n",
    "\n",
    "def acquire_page_indeed(url):\n",
    "    '''\n",
    "    This function accepts a job search URL and returns a pandas dataframe \n",
    "    containing job title, location, company, company rating, post age and description. \n",
    "    '''\n",
    "    # Create a Soup object based on the url\n",
    "    soup = page_soup_indeed(url)\n",
    "    # Pull the job cards\n",
    "    job_cards = job_cards_indeed(soup)\n",
    "    # Pull the job titles\n",
    "    titles = job_titles_indeed(job_cards)   \n",
    "    # Pull the names of the companies\n",
    "    companies = company_names_indeed(job_cards)\n",
    "    # Pull the post ages\n",
    "    ages = post_ages_indeed(job_cards)\n",
    "    # Pull the job locations\n",
    "    locations = job_locations_indeed(job_cards)\n",
    "    # Pull the company ratings\n",
    "    ratings = company_rating_indeed(job_cards)\n",
    "    # Pull the hyperlinks and job description\n",
    "    links, descriptions = job_links_and_contents_indeed(job_cards)    \n",
    "    # Create a dataframe\n",
    "    d = {'title': titles,\n",
    "         'location': locations,\n",
    "         'company': companies, \n",
    "         'company_rating': ratings,\n",
    "         'post_age': ages, \n",
    "         'job_link': links, \n",
    "         'job_description': descriptions}\n",
    "    df = pd.DataFrame(d)\n",
    "    return df"
   ]
  },
  {
   "cell_type": "code",
   "execution_count": null,
   "metadata": {},
   "outputs": [],
   "source": [
    "def jobs_indeed(job_title, location, max_page=35):\n",
    "    '''\n",
    "    This function accepts the job title and location and return the job information (35 pages by default) \n",
    "    pulled from Indeed.com.\n",
    "    '''\n",
    "    # Generate the urls based on job title and location (state)\n",
    "    url = first_page_url = first_page_url_indeed(job_title, location)\n",
    "    # Set up an counter\n",
    "    counter = 1\n",
    "    # Create an empty dataframe to hold the job information\n",
    "    df_jobs = pd.DataFrame(columns = ['title', 'location', 'company', 'company_rating', \n",
    "                                      'post_age','job_link', 'job_description'])\n",
    "    # Pull the page number\n",
    "    page_num = int(page_num_indeed(url))\n",
    "    # Set up an checker\n",
    "    keep_going = (counter == page_num)   \n",
    "    # For loop through the urls to pull job information\n",
    "    while keep_going and page_num <= max_page:\n",
    "        df = acquire_page_indeed(url)\n",
    "        print(\"--------------------------------\")\n",
    "        print(\"Page: \", page_num)\n",
    "        print(\"--------------------------------\")\n",
    "        df_jobs = df_jobs.append(df, ignore_index=True)\n",
    "        df_jobs.to_csv(\"df_jobs_backup.csv\")\n",
    "        time.sleep(180)\n",
    "        dic = {'start': page_num*10}\n",
    "        relative_url = urllib.parse.urlencode(dic)\n",
    "        url = first_page_url + '&' + relative_url\n",
    "        counter = counter + 1\n",
    "        page_num = int(page_num_indeed(url))\n",
    "        keep_going = (counter == page_num)\n",
    "    # Print the total number of jobs\n",
    "    print(f\"Total number of {job_title} positions in {location}: \", df_jobs.shape[0])\n",
    "    return df_jobs"
   ]
  },
  {
   "cell_type": "markdown",
   "metadata": {},
   "source": [
    "## Data Preparation"
   ]
  },
  {
   "cell_type": "markdown",
   "metadata": {},
   "source": [
    "### Preparation for Daily Update"
   ]
  },
  {
   "cell_type": "markdown",
   "metadata": {},
   "source": [
    "<div class=\"alert alert-block alert-info\"><b>The functions defined in this section are used to:</b>\n",
    "    <ul>\n",
    "        <li>Compute the date when a job is posted</li>\n",
    "        <li>Remove the duplicated job postings</li>\n",
    "        <li>Clean the job titles</li>\n",
    "        <li>Add new job positings</li>\n",
    "        <li>Clean the text in the job description</li>\n",
    "        <li>Delete the redudant columns</li>\n",
    "        <li>Adjust the data type</li>\n",
    "        <li>Save as a JSON file for the front end development</li>\n",
    "     </ul>\n",
    "</div>"
   ]
  },
  {
   "cell_type": "code",
   "execution_count": 3,
   "metadata": {},
   "outputs": [],
   "source": [
    "# Define a function to compute the date when the jobs are posted\n",
    "\n",
    "def compute_post_date(df):\n",
    "    '''\n",
    "    This function computes the date of a job posting based on its post age\n",
    "    and set the date as the index of the dataframe.\n",
    "    '''\n",
    "    # Create an empty list to hold the post date\n",
    "    post_date = []\n",
    "    # For loop the column post_age and convert the values to date\n",
    "    for age in df.post_age:\n",
    "        if age == 'Just posted' or age == 'Today':\n",
    "            date = datetime.date.today()\n",
    "            post_date.append(date)\n",
    "        else:\n",
    "            # Extract the number\n",
    "            num = re.findall(r'(\\d+)', age)[0]\n",
    "            # Cast the string number to integer\n",
    "            num = int(num)\n",
    "            # Convert the integer to timedelta object\n",
    "            num = datetime.timedelta(days=num)\n",
    "            # Compute post date        \n",
    "            date = datetime.date.today()\n",
    "            date = date - num\n",
    "            post_date.append(date)\n",
    "    # Add post date as new column\n",
    "    df['date'] = post_date\n",
    "    # Set the column post_date as the index and sort the values\n",
    "    df = df.set_index('date').sort_index(ascending=False)\n",
    "    return df"
   ]
  },
  {
   "cell_type": "code",
   "execution_count": null,
   "metadata": {},
   "outputs": [],
   "source": [
    "# Define a function to transform old job posts files\n",
    "\n",
    "def transform_old_file(df, date_string):\n",
    "    '''\n",
    "    This function accepts old daily job posts and convert the post age to post date. \n",
    "    '''\n",
    "    # Create an empty list to hold the post date\n",
    "    post_date = []\n",
    "    # For loop the column post_age and convert the values to date\n",
    "    for age in df.post_age:\n",
    "        if age == 'Just posted' or age == 'Today':\n",
    "            date = datetime.date.fromisoformat(date_string)\n",
    "            post_date.append(date)\n",
    "        else:\n",
    "            # Extract the number\n",
    "            num = re.findall(r'(\\d+)', age)[0]\n",
    "            # Cast the string number to integer\n",
    "            num = int(num)\n",
    "            # Convert the integer to timedelta object\n",
    "            num = datetime.timedelta(days=num)\n",
    "            # Compute post date        \n",
    "            date = datetime.date.fromisoformat(date_string)\n",
    "            date = date - num\n",
    "            post_date.append(date)\n",
    "    # Add post date as new column\n",
    "    df['date'] = post_date\n",
    "    # Set the column post_date as the index and sort the values\n",
    "    df = df.set_index('date').sort_index(ascending=False)\n",
    "    return df"
   ]
  },
  {
   "cell_type": "code",
   "execution_count": 4,
   "metadata": {},
   "outputs": [],
   "source": [
    "# Define a function to remove the duplicated job postings\n",
    "\n",
    "def remove_duplicates(df):\n",
    "    '''\n",
    "    This function removes the duplicates in the dataframe based on title, location, \n",
    "    company, job_link, and job_description\n",
    "    '''\n",
    "    # Define the columns for identifying duplicates\n",
    "    columns = ['title', 'location', 'company', 'job_link', 'job_description']\n",
    "    # Drop the duplicates except for the last occurrence\n",
    "    df.drop_duplicates(subset=columns, inplace=True, keep='last')\n",
    "    return df"
   ]
  },
  {
   "cell_type": "code",
   "execution_count": 5,
   "metadata": {},
   "outputs": [],
   "source": [
    "# Define a function to clean the job titles for analysis\n",
    "\n",
    "def clean_job_title(title):\n",
    "    '''\n",
    "    This function removes the \"\\nnew\" and \"...\" in the job title.\n",
    "    '''\n",
    "    title = title.split(sep=\"\\nnew\")[0]\n",
    "#     title = title.split(sep=' -')[0]\n",
    "#     title = title.split(sep=' (')[0]\n",
    "#     title = title.split(sep=',')[0]\n",
    "    title = title.split(sep='...')[0]\n",
    "    return title"
   ]
  },
  {
   "cell_type": "code",
   "execution_count": 19,
   "metadata": {},
   "outputs": [],
   "source": [
    "# Read the raw job postings data\n",
    "\n",
    "database = env_Shi.database\n",
    "df_ds_raw = pd.read_csv(f\"{database}df_ds_tx_backup.csv\")"
   ]
  },
  {
   "cell_type": "code",
   "execution_count": 20,
   "metadata": {
    "scrolled": true
   },
   "outputs": [
    {
     "data": {
      "text/plain": [
       "missing    0.194986\n",
       "3.9        0.127736\n",
       "4.0        0.125348\n",
       "3.8        0.115798\n",
       "3.5        0.056904\n",
       "Name: company_rating, dtype: float64"
      ]
     },
     "execution_count": 20,
     "metadata": {},
     "output_type": "execute_result"
    }
   ],
   "source": [
    "# How many companies have no rating? \n",
    "df_ds_raw.company_rating.value_counts(normalize=True).head()"
   ]
  },
  {
   "cell_type": "code",
   "execution_count": 21,
   "metadata": {
    "scrolled": false
   },
   "outputs": [
    {
     "data": {
      "text/plain": [
       "error    0.033824\n",
       "Name: job_description, dtype: float64"
      ]
     },
     "execution_count": 21,
     "metadata": {},
     "output_type": "execute_result"
    }
   ],
   "source": [
    "# How many jobs have no description?\n",
    "df_ds_raw.job_description.value_counts(normalize=True).head(1)"
   ]
  },
  {
   "cell_type": "markdown",
   "metadata": {},
   "source": [
    "<div class=\"alert alert-block alert-info\"><b>Notes</b>\n",
    "    <p>1. The locations further break down to city, state, and zipcode in the daily update. According to observations, if the values in the city and zipcode columns are missing, the jobs are in remote.</p>\n",
    "    <p>2. Nearly 20% company do not have ratings. The missing values are replaced with the mean of the company rating.</p>\n",
    "    <p>3. 3.3% of the job postings has no description.</p>\n",
    "    </div>"
   ]
  },
  {
   "cell_type": "code",
   "execution_count": 9,
   "metadata": {},
   "outputs": [],
   "source": [
    "# Define a function to add the new job new postings\n",
    "\n",
    "def daily_update(df_new):\n",
    "    '''\n",
    "    This function updates and prepares the job posts by adding daily new job postings \n",
    "    and save as JSON file. \n",
    "    '''\n",
    "    # Load the job posts based on the inputted job title\n",
    "    database = env_Shi.database\n",
    "    print(\"Enter the INITIALS of the job title:\")\n",
    "    initials = input()\n",
    "    df = pd.read_csv(f\"{database}df_{initials}_tx_backup.csv\")\n",
    "    num_jobs = df.shape[0]\n",
    "    # Convert the date column to datetime type\n",
    "    df.date = pd.to_datetime(df.date)\n",
    "    # Set the date column as the index and sort the index\n",
    "    df = df.set_index('date').sort_index(ascending=False)\n",
    "    \n",
    "    # Add the new job postings\n",
    "    df_new = compute_post_date(df_new)\n",
    "    df = pd.concat([df, df_new]).sort_index(ascending=False)\n",
    "    \n",
    "    # Remove the duplicates\n",
    "    df = remove_duplicates(df)\n",
    "    \n",
    "    # Back up the jop postings as a csv file before data cleaning phase I\n",
    "    df.to_csv(f\"{database}df_{initials}_tx_backup.csv\")\n",
    "    num_new_jobs = df.shape[0] - num_jobs\n",
    "    print(\"New Jobs of Posted Today: \", num_new_jobs)\n",
    "    \n",
    "    # Re-Load the dataset\n",
    "    df = pd.read_csv(f\"{database}df_{initials}_tx_backup.csv\")\n",
    "    \n",
    "    # Clean the location data: break the location to city, state, and zipcode\n",
    "    location = df.location.str.split(', ', expand=True)\n",
    "    location.columns = ['city', 'zipcode']\n",
    "    # Imputation\n",
    "    location.city = location.city.apply(lambda i: 'Remote' if i == 'United States' else i)\n",
    "    location.city = location.city.apply(lambda i: 'Remote' if i == 'Texas' else i)\n",
    "    location.zipcode = location.zipcode.apply(lambda i: 0 if re.findall(r\"(\\d+)\", str(i)) == [] \n",
    "                                              else re.findall(r\"(\\d+)\", str(i))[0])\n",
    "    df['city'] = location.city\n",
    "    df['state'] = 'TX'\n",
    "    df['zipcode'] = location.zipcode\n",
    "    \n",
    "    # Replace the missing values in the company rating with the mean\n",
    "    df.company_rating = df.company_rating.replace('missing', np.NaN).astype(float)\n",
    "    mean_rating = df.company_rating.mean()\n",
    "    df.company_rating.fillna(mean_rating, inplace=True)\n",
    "    \n",
    "    # Clean the text in the job description\n",
    "    df = MVP_Bojado.prep_job_description_data(df, 'job_description')\n",
    "    \n",
    "    # Clean the job title\n",
    "    df.title = df.title.apply(clean_job_title)\n",
    "    \n",
    "    # Drop the redundant columns post_age and location\n",
    "    redundant_cols = ['post_age', 'location', 'tokenized', 'stemmed', 'lemmatized']\n",
    "    df = df.drop(columns=redundant_cols)\n",
    "    \n",
    "    # Alther the data type of zipcode\n",
    "    df.zipcode = df.zipcode.apply(lambda i: int(i))\n",
    "    \n",
    "    # Save a JSON version of the prepared data\n",
    "    df.to_json(f\"{database}df_{initials}_tx_prepared_backup.json\", orient='records')\n",
    "    return df"
   ]
  },
  {
   "cell_type": "markdown",
   "metadata": {},
   "source": [
    "<div class=\"alert alert-block alert-info\"><b>Notes:</b>\n",
    "    <p>1. When a dataframe with datetime index is saved as a csv file by default and then loaded again in the notebook, the datetime index is converted to a column and its data type is object. Then the new dataframe is saved as json file and then loading the json in the notebook, the datatype of the date is converted back to datime64.<p>\n",
    "    <p>2. When a datetime object column is saved as in json, the datetime will be represented a series of number.</p>\n",
    "    <p>3. Detailed physical address can't be found on the Indeed website. It has to be obtained through other approaches.</p> \n",
    "    </div>"
   ]
  },
  {
   "cell_type": "code",
   "execution_count": null,
   "metadata": {},
   "outputs": [],
   "source": [
    "# # Load job posts of web developer in TX on Feb.12 2021\n",
    "\n",
    "# # Import the file path\n",
    "# database = env_Shi.database\n",
    "\n",
    "# # Read the daily data scientist jobs in TX\n",
    "# df_wd_old = pd.read_csv(f\"{database}web_developer_tx_indeed_021221.csv\", index_col=0)\n",
    "\n",
    "# # Print the first 2 rows\n",
    "# df_wd_old.head(2)\n",
    "\n",
    "# # Transform old file\n",
    "# df_wd_old = transform_old_file(df_wd_old, '2021-02-12')\n",
    "# df_wd_old.head(2)"
   ]
  },
  {
   "cell_type": "markdown",
   "metadata": {},
   "source": [
    "### Daily Update of Job Postings of Data Scientist and Web Developer Positions in TX"
   ]
  },
  {
   "cell_type": "code",
   "execution_count": 22,
   "metadata": {},
   "outputs": [
    {
     "name": "stdout",
     "output_type": "stream",
     "text": [
      "Enter FULL NAME of the job title: \n",
      "web developer\n",
      "Enter the date in the format mmddyy\n",
      "030321\n",
      "(300, 7)\n"
     ]
    },
    {
     "data": {
      "text/html": [
       "<div>\n",
       "<style scoped>\n",
       "    .dataframe tbody tr th:only-of-type {\n",
       "        vertical-align: middle;\n",
       "    }\n",
       "\n",
       "    .dataframe tbody tr th {\n",
       "        vertical-align: top;\n",
       "    }\n",
       "\n",
       "    .dataframe thead th {\n",
       "        text-align: right;\n",
       "    }\n",
       "</style>\n",
       "<table border=\"1\" class=\"dataframe\">\n",
       "  <thead>\n",
       "    <tr style=\"text-align: right;\">\n",
       "      <th></th>\n",
       "      <th>title</th>\n",
       "      <th>location</th>\n",
       "      <th>company</th>\n",
       "      <th>company_rating</th>\n",
       "      <th>post_age</th>\n",
       "      <th>job_link</th>\n",
       "      <th>job_description</th>\n",
       "    </tr>\n",
       "  </thead>\n",
       "  <tbody>\n",
       "    <tr>\n",
       "      <th>0</th>\n",
       "      <td>Senior Developer - Front End\\nnew</td>\n",
       "      <td>Plano, TX 75024</td>\n",
       "      <td>Katapult Group, Inc.</td>\n",
       "      <td>missing</td>\n",
       "      <td>Just posted</td>\n",
       "      <td>https://www.indeed.com/rc/clk?jk=85947c73b0c89...</td>\n",
       "      <td>About Katapult\\n\\nKatapult is a FinTech compan...</td>\n",
       "    </tr>\n",
       "    <tr>\n",
       "      <th>1</th>\n",
       "      <td>Sr. DevOps Engineer\\nnew</td>\n",
       "      <td>Plano, TX 75024</td>\n",
       "      <td>Katapult Group, Inc.</td>\n",
       "      <td>missing</td>\n",
       "      <td>Just posted</td>\n",
       "      <td>https://www.indeed.com/rc/clk?jk=89eb52d042b8e...</td>\n",
       "      <td>About Katapult\\n\\nKatapult is a FinTech compan...</td>\n",
       "    </tr>\n",
       "    <tr>\n",
       "      <th>2</th>\n",
       "      <td>Web Developer - Work From Home (Dallas, TX Bas...</td>\n",
       "      <td>Dallas, TX 75237</td>\n",
       "      <td>BT Furnishings</td>\n",
       "      <td>3.8</td>\n",
       "      <td>Today</td>\n",
       "      <td>https://www.indeed.com/rc/clk?jk=b074b4d1f35b6...</td>\n",
       "      <td>About BT Furnishings:\\n\\nBT Furnishings is a f...</td>\n",
       "    </tr>\n",
       "    <tr>\n",
       "      <th>3</th>\n",
       "      <td>Graphic Designer - Web Content Specialist (FT)...</td>\n",
       "      <td>San Antonio, TX 78211 (Quintana Community area)</td>\n",
       "      <td>Steves and Sons Doors</td>\n",
       "      <td>missing</td>\n",
       "      <td>Today</td>\n",
       "      <td>https://www.indeed.com/rc/clk?jk=5eee329c0fc85...</td>\n",
       "      <td>GRAPHIC DESIGNER / WEB CONTENT SPECIALIST\\nRep...</td>\n",
       "    </tr>\n",
       "    <tr>\n",
       "      <th>4</th>\n",
       "      <td>Angular Developer-Fulltime -Irving,TX\\nnew</td>\n",
       "      <td>Houston, TX</td>\n",
       "      <td>Arthur Grand Technologies Inc</td>\n",
       "      <td>missing</td>\n",
       "      <td>Today</td>\n",
       "      <td>https://www.indeed.com/rc/clk?jk=758755e8a20f0...</td>\n",
       "      <td>Company Description\\nPosition: Angular Develop...</td>\n",
       "    </tr>\n",
       "  </tbody>\n",
       "</table>\n",
       "</div>"
      ],
      "text/plain": [
       "                                               title  \\\n",
       "0                  Senior Developer - Front End\\nnew   \n",
       "1                           Sr. DevOps Engineer\\nnew   \n",
       "2  Web Developer - Work From Home (Dallas, TX Bas...   \n",
       "3  Graphic Designer - Web Content Specialist (FT)...   \n",
       "4         Angular Developer-Fulltime -Irving,TX\\nnew   \n",
       "\n",
       "                                          location  \\\n",
       "0                                  Plano, TX 75024   \n",
       "1                                  Plano, TX 75024   \n",
       "2                                 Dallas, TX 75237   \n",
       "3  San Antonio, TX 78211 (Quintana Community area)   \n",
       "4                                      Houston, TX   \n",
       "\n",
       "                         company company_rating     post_age  \\\n",
       "0           Katapult Group, Inc.        missing  Just posted   \n",
       "1           Katapult Group, Inc.        missing  Just posted   \n",
       "2                 BT Furnishings            3.8        Today   \n",
       "3          Steves and Sons Doors        missing        Today   \n",
       "4  Arthur Grand Technologies Inc        missing        Today   \n",
       "\n",
       "                                            job_link  \\\n",
       "0  https://www.indeed.com/rc/clk?jk=85947c73b0c89...   \n",
       "1  https://www.indeed.com/rc/clk?jk=89eb52d042b8e...   \n",
       "2  https://www.indeed.com/rc/clk?jk=b074b4d1f35b6...   \n",
       "3  https://www.indeed.com/rc/clk?jk=5eee329c0fc85...   \n",
       "4  https://www.indeed.com/rc/clk?jk=758755e8a20f0...   \n",
       "\n",
       "                                     job_description  \n",
       "0  About Katapult\\n\\nKatapult is a FinTech compan...  \n",
       "1  About Katapult\\n\\nKatapult is a FinTech compan...  \n",
       "2  About BT Furnishings:\\n\\nBT Furnishings is a f...  \n",
       "3  GRAPHIC DESIGNER / WEB CONTENT SPECIALIST\\nRep...  \n",
       "4  Company Description\\nPosition: Angular Develop...  "
      ]
     },
     "execution_count": 22,
     "metadata": {},
     "output_type": "execute_result"
    }
   ],
   "source": [
    "# Load the job postings in TX on March 03 2021\n",
    "\n",
    "# Read the daily job postings\n",
    "print(\"Enter FULL NAME of the job title: \")\n",
    "job_title = input()\n",
    "print(\"Enter the date in the format mmddyy\")\n",
    "date = input()\n",
    "job_title = job_title.split()\n",
    "df_new = pd.read_csv(f\"{database}{job_title[0]}_{job_title[1]}_tx_indeed_{date}.csv\", index_col=0)\n",
    "\n",
    "# Print the dimentionality\n",
    "print(df_new.shape)\n",
    "\n",
    "# Print the first 5 rows\n",
    "df_new.head(5)"
   ]
  },
  {
   "cell_type": "code",
   "execution_count": 23,
   "metadata": {},
   "outputs": [
    {
     "name": "stdout",
     "output_type": "stream",
     "text": [
      "Enter the INITIALS of the job title:\n",
      "wd\n",
      "New Jobs of Posted Today:  90\n",
      "CPU times: user 57.9 s, sys: 419 ms, total: 58.3 s\n",
      "Wall time: 1min\n"
     ]
    },
    {
     "data": {
      "text/html": [
       "<div>\n",
       "<style scoped>\n",
       "    .dataframe tbody tr th:only-of-type {\n",
       "        vertical-align: middle;\n",
       "    }\n",
       "\n",
       "    .dataframe tbody tr th {\n",
       "        vertical-align: top;\n",
       "    }\n",
       "\n",
       "    .dataframe thead th {\n",
       "        text-align: right;\n",
       "    }\n",
       "</style>\n",
       "<table border=\"1\" class=\"dataframe\">\n",
       "  <thead>\n",
       "    <tr style=\"text-align: right;\">\n",
       "      <th></th>\n",
       "      <th>date</th>\n",
       "      <th>title</th>\n",
       "      <th>company</th>\n",
       "      <th>company_rating</th>\n",
       "      <th>job_link</th>\n",
       "      <th>job_description</th>\n",
       "      <th>city</th>\n",
       "      <th>state</th>\n",
       "      <th>zipcode</th>\n",
       "      <th>clean</th>\n",
       "    </tr>\n",
       "  </thead>\n",
       "  <tbody>\n",
       "    <tr>\n",
       "      <th>0</th>\n",
       "      <td>2021-03-03</td>\n",
       "      <td>Senior Developer - Front End</td>\n",
       "      <td>Katapult Group, Inc.</td>\n",
       "      <td>3.70383</td>\n",
       "      <td>https://www.indeed.com/rc/clk?jk=85947c73b0c89...</td>\n",
       "      <td>About Katapult\\n\\nKatapult is a FinTech compan...</td>\n",
       "      <td>Plano</td>\n",
       "      <td>TX</td>\n",
       "      <td>75024</td>\n",
       "      <td>katapult katapult fintech company based new yo...</td>\n",
       "    </tr>\n",
       "    <tr>\n",
       "      <th>1</th>\n",
       "      <td>2021-03-03</td>\n",
       "      <td>Software Engineer II - Full Stack - Agency</td>\n",
       "      <td>The Zebra</td>\n",
       "      <td>3.80000</td>\n",
       "      <td>https://www.indeed.com/rc/clk?jk=9d6ad4d3dfc26...</td>\n",
       "      <td>INTRODUCTION\\nThe Zebra is expanding our engin...</td>\n",
       "      <td>Austin</td>\n",
       "      <td>TX</td>\n",
       "      <td>78758</td>\n",
       "      <td>introduction zebra expanding engineering team ...</td>\n",
       "    </tr>\n",
       "    <tr>\n",
       "      <th>2</th>\n",
       "      <td>2021-03-03</td>\n",
       "      <td>Web Developer - Work From Home (Dallas, TX Based)</td>\n",
       "      <td>BT Furnishings</td>\n",
       "      <td>3.80000</td>\n",
       "      <td>https://www.indeed.com/rc/clk?jk=b074b4d1f35b6...</td>\n",
       "      <td>About BT Furnishings:\\n\\nBT Furnishings is a f...</td>\n",
       "      <td>Dallas</td>\n",
       "      <td>TX</td>\n",
       "      <td>75237</td>\n",
       "      <td>bt furnishing bt furnishing family owned opera...</td>\n",
       "    </tr>\n",
       "    <tr>\n",
       "      <th>3</th>\n",
       "      <td>2021-03-03</td>\n",
       "      <td>Lead Automated Test Engineer</td>\n",
       "      <td>Tri-Starr Technology</td>\n",
       "      <td>3.70383</td>\n",
       "      <td>https://www.indeed.com/company/Tri--Starr-Tech...</td>\n",
       "      <td>The Lead Automated Test Engineer will work clo...</td>\n",
       "      <td>Live Oak</td>\n",
       "      <td>TX</td>\n",
       "      <td>78233</td>\n",
       "      <td>lead automated test engineer work closely endu...</td>\n",
       "    </tr>\n",
       "    <tr>\n",
       "      <th>4</th>\n",
       "      <td>2021-03-03</td>\n",
       "      <td>Angular Developer-Fulltime -Irving,TX</td>\n",
       "      <td>Arthur Grand Technologies Inc</td>\n",
       "      <td>3.70383</td>\n",
       "      <td>https://www.indeed.com/rc/clk?jk=758755e8a20f0...</td>\n",
       "      <td>Company Description\\nPosition: Angular Develop...</td>\n",
       "      <td>Houston</td>\n",
       "      <td>TX</td>\n",
       "      <td>0</td>\n",
       "      <td>company description position angular developer...</td>\n",
       "    </tr>\n",
       "  </tbody>\n",
       "</table>\n",
       "</div>"
      ],
      "text/plain": [
       "         date                                              title  \\\n",
       "0  2021-03-03                       Senior Developer - Front End   \n",
       "1  2021-03-03         Software Engineer II - Full Stack - Agency   \n",
       "2  2021-03-03  Web Developer - Work From Home (Dallas, TX Based)   \n",
       "3  2021-03-03                       Lead Automated Test Engineer   \n",
       "4  2021-03-03              Angular Developer-Fulltime -Irving,TX   \n",
       "\n",
       "                         company  company_rating  \\\n",
       "0           Katapult Group, Inc.         3.70383   \n",
       "1                      The Zebra         3.80000   \n",
       "2                 BT Furnishings         3.80000   \n",
       "3           Tri-Starr Technology         3.70383   \n",
       "4  Arthur Grand Technologies Inc         3.70383   \n",
       "\n",
       "                                            job_link  \\\n",
       "0  https://www.indeed.com/rc/clk?jk=85947c73b0c89...   \n",
       "1  https://www.indeed.com/rc/clk?jk=9d6ad4d3dfc26...   \n",
       "2  https://www.indeed.com/rc/clk?jk=b074b4d1f35b6...   \n",
       "3  https://www.indeed.com/company/Tri--Starr-Tech...   \n",
       "4  https://www.indeed.com/rc/clk?jk=758755e8a20f0...   \n",
       "\n",
       "                                     job_description      city state  zipcode  \\\n",
       "0  About Katapult\\n\\nKatapult is a FinTech compan...     Plano    TX    75024   \n",
       "1  INTRODUCTION\\nThe Zebra is expanding our engin...    Austin    TX    78758   \n",
       "2  About BT Furnishings:\\n\\nBT Furnishings is a f...    Dallas    TX    75237   \n",
       "3  The Lead Automated Test Engineer will work clo...  Live Oak    TX    78233   \n",
       "4  Company Description\\nPosition: Angular Develop...   Houston    TX        0   \n",
       "\n",
       "                                               clean  \n",
       "0  katapult katapult fintech company based new yo...  \n",
       "1  introduction zebra expanding engineering team ...  \n",
       "2  bt furnishing bt furnishing family owned opera...  \n",
       "3  lead automated test engineer work closely endu...  \n",
       "4  company description position angular developer...  "
      ]
     },
     "execution_count": 23,
     "metadata": {},
     "output_type": "execute_result"
    }
   ],
   "source": [
    "%%time\n",
    "# Perform the daily updates\n",
    "\n",
    "df_current = daily_update(df_new)\n",
    "df_current.head(5)"
   ]
  },
  {
   "cell_type": "code",
   "execution_count": 24,
   "metadata": {
    "scrolled": true
   },
   "outputs": [
    {
     "name": "stdout",
     "output_type": "stream",
     "text": [
      "<class 'pandas.core.frame.DataFrame'>\n",
      "RangeIndex: 4902 entries, 0 to 4901\n",
      "Data columns (total 10 columns):\n",
      " #   Column           Non-Null Count  Dtype  \n",
      "---  ------           --------------  -----  \n",
      " 0   date             4902 non-null   object \n",
      " 1   title            4902 non-null   object \n",
      " 2   company          4902 non-null   object \n",
      " 3   company_rating   4902 non-null   float64\n",
      " 4   job_link         4902 non-null   object \n",
      " 5   job_description  4902 non-null   object \n",
      " 6   city             4902 non-null   object \n",
      " 7   state            4902 non-null   object \n",
      " 8   zipcode          4902 non-null   int64  \n",
      " 9   clean            4902 non-null   object \n",
      "dtypes: float64(1), int64(1), object(8)\n",
      "memory usage: 383.1+ KB\n"
     ]
    }
   ],
   "source": [
    "# Print the information of the dataframe\n",
    "df_current.info()"
   ]
  },
  {
   "cell_type": "code",
   "execution_count": null,
   "metadata": {},
   "outputs": [],
   "source": [
    "# # Adjust the data types\n",
    "\n",
    "# dtypes = {'company_rating': 'float16', \n",
    "#           'zipcode': 'int16'}\n",
    "# df_test.astype(dtypes).dtypes"
   ]
  },
  {
   "cell_type": "markdown",
   "metadata": {},
   "source": [
    "<div class=\"alert alert-block alert-info\"><b>Takeaways:</b>\n",
    "There are two ways to change the datatype: \n",
    "</div>"
   ]
  },
  {
   "cell_type": "code",
   "execution_count": 25,
   "metadata": {},
   "outputs": [
    {
     "data": {
      "text/plain": [
       "698"
      ]
     },
     "execution_count": 25,
     "metadata": {},
     "output_type": "execute_result"
    }
   ],
   "source": [
    "# Define the columns for identifying duplicates\n",
    "columns = ['date', 'title', 'company', 'job_link', 'job_description', 'city', 'state', 'zipcode']\n",
    "   \n",
    "# Check for duplicates\n",
    "duplicates = df_current.duplicated(subset=columns,keep='last')\n",
    "duplicates.sum()"
   ]
  },
  {
   "cell_type": "markdown",
   "metadata": {},
   "source": [
    "<div class=\"alert alert-block alert-info\"><b>Takeaways:</b>\n",
    "After the job titles are cleaned, the duplicates of job postings starts to appear. It suggests that when the same job is re-posted, the job title changes. \n",
    "</div>"
   ]
  },
  {
   "cell_type": "code",
   "execution_count": null,
   "metadata": {
    "scrolled": false
   },
   "outputs": [],
   "source": [
    "# # Read the json file\n",
    "\n",
    "# result = open(f\"{database}df_wd_tx_prepared_backup.json\")\n",
    "# parsed = json.load(result)\n",
    "# parsed[1]"
   ]
  },
  {
   "cell_type": "markdown",
   "metadata": {},
   "source": [
    "### Upload Prepared JSON Files to AWS S3 Bucket"
   ]
  },
  {
   "cell_type": "code",
   "execution_count": 26,
   "metadata": {},
   "outputs": [
    {
     "name": "stdout",
     "output_type": "stream",
     "text": [
      "Enter the INITIALS of the job title:\n",
      "wd\n",
      "CPU times: user 1.08 s, sys: 823 ms, total: 1.9 s\n",
      "Wall time: 39.3 s\n"
     ]
    }
   ],
   "source": [
    "%%time\n",
    "# Upload the json file to AWS\n",
    "\n",
    "# Create the s3 resource object\n",
    "s3 = boto3.resource('s3')\n",
    "\n",
    "# Create the job title initials\n",
    "print(\"Enter the INITIALS of the job title:\")\n",
    "initials = input()\n",
    "\n",
    "# Upload df_ds_tx_backup.csv file\n",
    "s3.Bucket(f'{initials}rawjobpostings').upload_file(f\"{database}df_{initials}_tx_backup.csv\", \n",
    "                                                   f\"df_{initials}_tx_backup.csv\")\n",
    "\n",
    "# Upload df_ds_tx_prepared_backup.json file\n",
    "s3.Bucket(f'{initials}preparedjobpostings').upload_file(f\"{database}df_{initials}_tx_prepared_backup.json\", \n",
    "                                                        f\"df_{initials}_tx_prepared_backup.json\")"
   ]
  },
  {
   "cell_type": "markdown",
   "metadata": {},
   "source": [
    "## Data Exploration"
   ]
  },
  {
   "cell_type": "markdown",
   "metadata": {},
   "source": [
    "<div class=\"alert alert-block alert-info\"><b>In this section, the data in the job postings are further explored in the following areas.</b>\n",
    "    <ul>\n",
    "        <li>Geospacial analysis</li>\n",
    "        <li>Text analysis</li>\n",
    "        <li>Time aeries analysis</li>\n",
    "        <li>More...</li>\n",
    "    </ul>\n",
    "    </div>"
   ]
  },
  {
   "cell_type": "markdown",
   "metadata": {},
   "source": [
    "### Acquire the Prepared Dataset From AWS S3"
   ]
  },
  {
   "cell_type": "markdown",
   "metadata": {},
   "source": [
    "#### List All Buckets in S3"
   ]
  },
  {
   "cell_type": "code",
   "execution_count": 41,
   "metadata": {},
   "outputs": [
    {
     "name": "stdout",
     "output_type": "stream",
     "text": [
      "\u001b[4m\u001b[1mList of Buckets in S3:\u001b[0m\n",
      "additionaljobinfo\n",
      "amplify-jobdashboardfront-dev-180611-deployment\n",
      "dspreparedjobpostings\n",
      "dsrawjobpostings\n",
      "wdpreparedjobpostings\n",
      "wdrawjobpostings\n"
     ]
    }
   ],
   "source": [
    "# Create the s3 resource object\n",
    "s3 = boto3.resource('s3')   # Notes: the datatype of s3 is s3.ServiceResource\n",
    "\n",
    "# Print the bucket names\n",
    "print(color.UNDERLINE + color.BOLD + \"List of Buckets in S3:\" + color.END)\n",
    "for bucket in s3.buckets.all():\n",
    "    print(bucket.name)"
   ]
  },
  {
   "cell_type": "markdown",
   "metadata": {},
   "source": [
    "#### List All the Files in a Bucket"
   ]
  },
  {
   "cell_type": "code",
   "execution_count": 47,
   "metadata": {
    "scrolled": true
   },
   "outputs": [
    {
     "name": "stdout",
     "output_type": "stream",
     "text": [
      "additionaljobinfo\n",
      "\u001b[4m\u001b[1mList of Files in Bucket additionaljobinfo:\u001b[0m\n",
      "ds_top5_general_skills.json\n",
      "ds_top5_soft_skills.json\n",
      "ds_top5_tech_skills.json\n",
      "geospatial_data.json\n",
      "soft_skills_cleaned\n",
      "wd_top5_general_skills.json\n",
      "wd_top5_soft_skills.json\n",
      "wd_top5_tech_skills.json\n"
     ]
    }
   ],
   "source": [
    "# Input the name of the bucket\n",
    "bucket_name = input()\n",
    "\n",
    "# Create the bucket object\n",
    "bucket = s3.Bucket(bucket_name) # Note: the data type of the bucket is s3.Bucket\n",
    "\n",
    "# List all the files inside the bucket\n",
    "\n",
    "print(color.UNDERLINE + color.BOLD + f\"List of Files in Bucket {bucket_name}:\" + color.END)\n",
    "for page in bucket.objects.pages():\n",
    "    for obj in page:\n",
    "        print(obj.key)"
   ]
  },
  {
   "cell_type": "markdown",
   "metadata": {},
   "source": [
    "#### Check the Last Modified Datetime for the Prepared JSON Files"
   ]
  },
  {
   "cell_type": "code",
   "execution_count": 27,
   "metadata": {},
   "outputs": [
    {
     "name": "stdout",
     "output_type": "stream",
     "text": [
      "Last modified time of JSON for data scientist position:  2021-03-03 17:22:30+00:00\n"
     ]
    }
   ],
   "source": [
    "# Print the time when the prepared json file is last modified\n",
    "\n",
    "s3 = boto3.resource(\"s3\")\n",
    "prepared_json = s3.Object('dspreparedjobpostings', 'df_ds_tx_prepared_backup.json')\n",
    "print(\"Last modified time of JSON for data scientist position: \", prepared_json.last_modified)"
   ]
  },
  {
   "cell_type": "code",
   "execution_count": 28,
   "metadata": {},
   "outputs": [
    {
     "name": "stdout",
     "output_type": "stream",
     "text": [
      "Last modified time of JSON for web developer position:  2021-03-03 17:25:07+00:00\n"
     ]
    }
   ],
   "source": [
    "# When is the df_wd_tx_prepared.json last modified?\n",
    "\n",
    "s3 = boto3.resource('s3')\n",
    "prepared_json = s3.Object('wdpreparedjobpostings', 'df_wd_tx_prepared_backup.json')\n",
    "print(\"Last modified time of JSON for web developer position: \", prepared_json.last_modified)"
   ]
  },
  {
   "cell_type": "markdown",
   "metadata": {},
   "source": [
    "#### Down Load JSON Files from AWS"
   ]
  },
  {
   "cell_type": "code",
   "execution_count": 5,
   "metadata": {},
   "outputs": [],
   "source": [
    "# # Download JSON file from AWS \n",
    "# database = env_Shi.database\n",
    "# s3.Bucket('dsrawjobpostings').download_file('df_ds_tx_backup.csv', \n",
    "#                                             f\"{database}df_ds_tx_aws.csv\")"
   ]
  },
  {
   "cell_type": "markdown",
   "metadata": {},
   "source": [
    "### Acquire the Prepared Job Postings of Data Science Positions from the Local Database"
   ]
  },
  {
   "cell_type": "code",
   "execution_count": 32,
   "metadata": {},
   "outputs": [],
   "source": [
    "# Define a function to load JSON file of job postings\n",
    "\n",
    "def read_job_postings_json():\n",
    "    '''\n",
    "    This function reads the JSON file of prepared job postings into a pandas dataframe \n",
    "    based on a job title and set the date as the index.\n",
    "    '''\n",
    "    # Load the file path of the local database\n",
    "    database = env_Shi.database\n",
    "    # Create the file name\n",
    "    print(\"Enter the INITIALS of the job title:\")\n",
    "    initials = input()\n",
    "    file_name = 'df_' + initials + '_tx_prepared_backup.json'\n",
    "    \n",
    "    # Read the JSON file into a pandas dataframe\n",
    "    df = pd.read_json(f'{database}{file_name}')\n",
    "    # Print the numbr of job posts\n",
    "    print(\"Number of Job Postings To Date: \", df.shape[0])\n",
    "    \n",
    "    # Ask: do you need to set the date as the index? \n",
    "    print(\"Do you want to set the date as the index? (Y/N)\")\n",
    "    answer = input()\n",
    "    if answer == 'Y' or answer == 'y':\n",
    "        # Convert the string date to datetime\n",
    "        df.date = pd.to_datetime(df.date)\n",
    "        # Set the date as the index and sort the dataframe\n",
    "        df = df.set_index('date').sort_index(ascending=False)\n",
    "    elif answer == 'N' or answer == 'n':\n",
    "            print(\"You can manually set it up later or re-run this function.\")\n",
    "    return df"
   ]
  },
  {
   "cell_type": "code",
   "execution_count": 33,
   "metadata": {},
   "outputs": [
    {
     "name": "stdout",
     "output_type": "stream",
     "text": [
      "Enter the INITIALS of the job title:\n",
      "ds\n",
      "Number of Job Postings:  2513\n",
      "Do you want to set the date as the index? (Y/N)\n",
      "n\n",
      "You can manually set it up later or re-run this function\n"
     ]
    },
    {
     "data": {
      "text/html": [
       "<div>\n",
       "<style scoped>\n",
       "    .dataframe tbody tr th:only-of-type {\n",
       "        vertical-align: middle;\n",
       "    }\n",
       "\n",
       "    .dataframe tbody tr th {\n",
       "        vertical-align: top;\n",
       "    }\n",
       "\n",
       "    .dataframe thead th {\n",
       "        text-align: right;\n",
       "    }\n",
       "</style>\n",
       "<table border=\"1\" class=\"dataframe\">\n",
       "  <thead>\n",
       "    <tr style=\"text-align: right;\">\n",
       "      <th></th>\n",
       "      <th>date</th>\n",
       "      <th>title</th>\n",
       "      <th>company</th>\n",
       "      <th>company_rating</th>\n",
       "      <th>job_link</th>\n",
       "      <th>job_description</th>\n",
       "      <th>city</th>\n",
       "      <th>state</th>\n",
       "      <th>zipcode</th>\n",
       "      <th>clean</th>\n",
       "    </tr>\n",
       "  </thead>\n",
       "  <tbody>\n",
       "    <tr>\n",
       "      <th>0</th>\n",
       "      <td>2021-03-03</td>\n",
       "      <td>Master Data Management, Consultant - Analytics...</td>\n",
       "      <td>Deloitte</td>\n",
       "      <td>4.000000</td>\n",
       "      <td>https://www.indeed.com/rc/clk?jk=c9eba1536579c...</td>\n",
       "      <td>Master Data Management, Consultant - (Informat...</td>\n",
       "      <td>Austin</td>\n",
       "      <td>TX</td>\n",
       "      <td>0</td>\n",
       "      <td>master data management consultant informatica ...</td>\n",
       "    </tr>\n",
       "    <tr>\n",
       "      <th>1</th>\n",
       "      <td>2021-03-03</td>\n",
       "      <td>Software Engineer - Corporate Technology | Mac...</td>\n",
       "      <td>JPMorgan Chase Bank, N.A.</td>\n",
       "      <td>3.900000</td>\n",
       "      <td>https://www.indeed.com/rc/clk?jk=12eefa4b4fc44...</td>\n",
       "      <td>As a member of our Software Engineering Group,...</td>\n",
       "      <td>Lewisville</td>\n",
       "      <td>TX</td>\n",
       "      <td>0</td>\n",
       "      <td>member software engineering group look first f...</td>\n",
       "    </tr>\n",
       "    <tr>\n",
       "      <th>2</th>\n",
       "      <td>2021-03-03</td>\n",
       "      <td>CCB -Home Lending - Data Scientist - Marketing...</td>\n",
       "      <td>JPMorgan Chase Bank, N.A.</td>\n",
       "      <td>3.900000</td>\n",
       "      <td>https://www.indeed.com/rc/clk?jk=c9f0b67af9768...</td>\n",
       "      <td>Are you excited when a marketing offer finds y...</td>\n",
       "      <td>Plano</td>\n",
       "      <td>TX</td>\n",
       "      <td>0</td>\n",
       "      <td>excited marketing offer find right time marvel...</td>\n",
       "    </tr>\n",
       "    <tr>\n",
       "      <th>3</th>\n",
       "      <td>2021-03-03</td>\n",
       "      <td>Data Scientist - Utility Analytics</td>\n",
       "      <td>Koch Engineered Solutions</td>\n",
       "      <td>3.600000</td>\n",
       "      <td>https://www.indeed.com/rc/clk?jk=1d416a69e675d...</td>\n",
       "      <td>Description\\nSentient Energy - a Koch Engineer...</td>\n",
       "      <td>Frisco</td>\n",
       "      <td>TX</td>\n",
       "      <td>75035</td>\n",
       "      <td>description sentient energy koch engineered so...</td>\n",
       "    </tr>\n",
       "    <tr>\n",
       "      <th>4</th>\n",
       "      <td>2021-03-03</td>\n",
       "      <td>Data Scientist</td>\n",
       "      <td>Guardian Premier Solutions LLC</td>\n",
       "      <td>3.772121</td>\n",
       "      <td>https://www.indeed.com/rc/clk?jk=356b5fe5114d7...</td>\n",
       "      <td>Job Summary:\\n\\nThe Data Scientist will apply ...</td>\n",
       "      <td>San Antonio</td>\n",
       "      <td>TX</td>\n",
       "      <td>78253</td>\n",
       "      <td>job summary data scientist apply statistical t...</td>\n",
       "    </tr>\n",
       "  </tbody>\n",
       "</table>\n",
       "</div>"
      ],
      "text/plain": [
       "        date                                              title  \\\n",
       "0 2021-03-03  Master Data Management, Consultant - Analytics...   \n",
       "1 2021-03-03  Software Engineer - Corporate Technology | Mac...   \n",
       "2 2021-03-03  CCB -Home Lending - Data Scientist - Marketing...   \n",
       "3 2021-03-03                 Data Scientist - Utility Analytics   \n",
       "4 2021-03-03                                     Data Scientist   \n",
       "\n",
       "                          company  company_rating  \\\n",
       "0                        Deloitte        4.000000   \n",
       "1       JPMorgan Chase Bank, N.A.        3.900000   \n",
       "2       JPMorgan Chase Bank, N.A.        3.900000   \n",
       "3       Koch Engineered Solutions        3.600000   \n",
       "4  Guardian Premier Solutions LLC        3.772121   \n",
       "\n",
       "                                            job_link  \\\n",
       "0  https://www.indeed.com/rc/clk?jk=c9eba1536579c...   \n",
       "1  https://www.indeed.com/rc/clk?jk=12eefa4b4fc44...   \n",
       "2  https://www.indeed.com/rc/clk?jk=c9f0b67af9768...   \n",
       "3  https://www.indeed.com/rc/clk?jk=1d416a69e675d...   \n",
       "4  https://www.indeed.com/rc/clk?jk=356b5fe5114d7...   \n",
       "\n",
       "                                     job_description         city state  \\\n",
       "0  Master Data Management, Consultant - (Informat...       Austin    TX   \n",
       "1  As a member of our Software Engineering Group,...   Lewisville    TX   \n",
       "2  Are you excited when a marketing offer finds y...        Plano    TX   \n",
       "3  Description\\nSentient Energy - a Koch Engineer...       Frisco    TX   \n",
       "4  Job Summary:\\n\\nThe Data Scientist will apply ...  San Antonio    TX   \n",
       "\n",
       "   zipcode                                              clean  \n",
       "0        0  master data management consultant informatica ...  \n",
       "1        0  member software engineering group look first f...  \n",
       "2        0  excited marketing offer find right time marvel...  \n",
       "3    75035  description sentient energy koch engineered so...  \n",
       "4    78253  job summary data scientist apply statistical t...  "
      ]
     },
     "execution_count": 33,
     "metadata": {},
     "output_type": "execute_result"
    }
   ],
   "source": [
    "# Load the dataset\n",
    "df_ds_tx = read_job_postings_json()\n",
    "\n",
    "# Print the first 5 rows of the dataframe\n",
    "df_ds_tx.head()"
   ]
  },
  {
   "cell_type": "markdown",
   "metadata": {},
   "source": [
    "### Breif Summary"
   ]
  },
  {
   "cell_type": "code",
   "execution_count": 34,
   "metadata": {},
   "outputs": [
    {
     "data": {
      "image/png": "[encoded data removed]",
      "text/plain": [
       "<Figure size 936x432 with 2 Axes>"
      ]
     },
     "metadata": {
      "needs_background": "light"
     },
     "output_type": "display_data"
    }
   ],
   "source": [
    "# Barplot the top 10 companies and top 5 cities by the number of the job posts\n",
    "\n",
    "plt.figure(figsize=(13,6))\n",
    "\n",
    "plt.subplot(121)\n",
    "top_companies = df_ds_tx.company.value_counts().head(10)\n",
    "top_companies.sort_values().plot(kind='barh')\n",
    "plt.title(\"Which Companies Need Data Scientist?\", fontweight='bold')\n",
    "\n",
    "plt.subplot(122)\n",
    "top_cities = df_ds_tx.city.value_counts().head(5)\n",
    "top_cities.sort_values().plot(kind='barh')\n",
    "plt.title(\"Which Cities Need Data Scientist?\", fontweight='bold')\n",
    "\n",
    "plt.tight_layout()\n",
    "plt.show()"
   ]
  },
  {
   "cell_type": "code",
   "execution_count": 35,
   "metadata": {},
   "outputs": [
    {
     "data": {
      "image/png": "[encoded data removed]",
      "text/plain": [
       "<Figure size 432x288 with 1 Axes>"
      ]
     },
     "metadata": {
      "needs_background": "light"
     },
     "output_type": "display_data"
    }
   ],
   "source": [
    "# Barplot the popular titles of the job postings\n",
    "\n",
    "top_title = df_ds_tx.title.value_counts().head(5)\n",
    "top_title.sort_values().plot(kind='barh')\n",
    "plt.title(\"What Are the Popular Titles?\", fontweight='bold')\n",
    "\n",
    "plt.show()"
   ]
  },
  {
   "cell_type": "markdown",
   "metadata": {},
   "source": [
    "### Geospacial Analysis"
   ]
  },
  {
   "cell_type": "code",
   "execution_count": 36,
   "metadata": {
    "scrolled": true
   },
   "outputs": [
    {
     "name": "stdout",
     "output_type": "stream",
     "text": [
      "<class 'pandas.core.frame.DataFrame'>\n",
      "RangeIndex: 2513 entries, 0 to 2512\n",
      "Data columns (total 10 columns):\n",
      " #   Column           Non-Null Count  Dtype         \n",
      "---  ------           --------------  -----         \n",
      " 0   date             2513 non-null   datetime64[ns]\n",
      " 1   title            2513 non-null   object        \n",
      " 2   company          2513 non-null   object        \n",
      " 3   company_rating   2513 non-null   float64       \n",
      " 4   job_link         2513 non-null   object        \n",
      " 5   job_description  2513 non-null   object        \n",
      " 6   city             2513 non-null   object        \n",
      " 7   state            2513 non-null   object        \n",
      " 8   zipcode          2513 non-null   int64         \n",
      " 9   clean            2513 non-null   object        \n",
      "dtypes: datetime64[ns](1), float64(1), int64(1), object(7)\n",
      "memory usage: 196.5+ KB\n"
     ]
    }
   ],
   "source": [
    "# Check the data types of the df_ds_tx\n",
    "df_ds_tx.info()"
   ]
  },
  {
   "cell_type": "code",
   "execution_count": 37,
   "metadata": {},
   "outputs": [
    {
     "name": "stdout",
     "output_type": "stream",
     "text": [
      "<class 'pandas.core.frame.DataFrame'>\n",
      "RangeIndex: 2513 entries, 0 to 2512\n",
      "Data columns (total 11 columns):\n",
      " #   Column           Non-Null Count  Dtype         \n",
      "---  ------           --------------  -----         \n",
      " 0   date             2513 non-null   datetime64[ns]\n",
      " 1   title            2513 non-null   object        \n",
      " 2   company          2513 non-null   object        \n",
      " 3   company_rating   2513 non-null   float64       \n",
      " 4   job_link         2513 non-null   object        \n",
      " 5   job_description  2513 non-null   object        \n",
      " 6   city             2513 non-null   object        \n",
      " 7   state            2513 non-null   object        \n",
      " 8   zipcode          2513 non-null   int64         \n",
      " 9   clean            2513 non-null   object        \n",
      " 10  city_state       2513 non-null   object        \n",
      "dtypes: datetime64[ns](1), float64(1), int64(1), object(8)\n",
      "memory usage: 216.1+ KB\n"
     ]
    }
   ],
   "source": [
    "# Generate a copy and add city_state columns\n",
    "\n",
    "df_ds_tx_copy = df_ds_tx.copy()\n",
    "df_ds_tx_copy = df_ds_tx_copy.assign(city_state = \n",
    "                                     df_ds_tx_copy['city'].astype('str') + ', ' + df_ds_tx_copy['state'])\n",
    "\n",
    "df_ds_tx_copy.info()"
   ]
  },
  {
   "cell_type": "code",
   "execution_count": 38,
   "metadata": {},
   "outputs": [
    {
     "name": "stdout",
     "output_type": "stream",
     "text": [
      "Number of cities:  56\n",
      "CPU times: user 185 ms, sys: 20.5 ms, total: 206 ms\n",
      "Wall time: 27.9 s\n"
     ]
    },
    {
     "data": {
      "text/html": [
       "<div>\n",
       "<style scoped>\n",
       "    .dataframe tbody tr th:only-of-type {\n",
       "        vertical-align: middle;\n",
       "    }\n",
       "\n",
       "    .dataframe tbody tr th {\n",
       "        vertical-align: top;\n",
       "    }\n",
       "\n",
       "    .dataframe thead th {\n",
       "        text-align: right;\n",
       "    }\n",
       "</style>\n",
       "<table border=\"1\" class=\"dataframe\">\n",
       "  <thead>\n",
       "    <tr style=\"text-align: right;\">\n",
       "      <th></th>\n",
       "      <th>city_state</th>\n",
       "      <th>latitude</th>\n",
       "      <th>longitude</th>\n",
       "    </tr>\n",
       "  </thead>\n",
       "  <tbody>\n",
       "    <tr>\n",
       "      <th>0</th>\n",
       "      <td>Austin, TX</td>\n",
       "      <td>30.271129</td>\n",
       "      <td>-97.743700</td>\n",
       "    </tr>\n",
       "    <tr>\n",
       "      <th>1</th>\n",
       "      <td>Lewisville, TX</td>\n",
       "      <td>33.046233</td>\n",
       "      <td>-96.994174</td>\n",
       "    </tr>\n",
       "    <tr>\n",
       "      <th>2</th>\n",
       "      <td>Plano, TX</td>\n",
       "      <td>33.013676</td>\n",
       "      <td>-96.692510</td>\n",
       "    </tr>\n",
       "    <tr>\n",
       "      <th>3</th>\n",
       "      <td>Frisco, TX</td>\n",
       "      <td>33.150674</td>\n",
       "      <td>-96.823612</td>\n",
       "    </tr>\n",
       "    <tr>\n",
       "      <th>4</th>\n",
       "      <td>San Antonio, TX</td>\n",
       "      <td>29.424600</td>\n",
       "      <td>-98.495141</td>\n",
       "    </tr>\n",
       "  </tbody>\n",
       "</table>\n",
       "</div>"
      ],
      "text/plain": [
       "        city_state   latitude  longitude\n",
       "0       Austin, TX  30.271129 -97.743700\n",
       "1   Lewisville, TX  33.046233 -96.994174\n",
       "2        Plano, TX  33.013676 -96.692510\n",
       "3       Frisco, TX  33.150674 -96.823612\n",
       "4  San Antonio, TX  29.424600 -98.495141"
      ]
     },
     "execution_count": 38,
     "metadata": {},
     "output_type": "execute_result"
    }
   ],
   "source": [
    "%%time\n",
    "# Generate coordinates for all the citys in the df_ds_tx\n",
    "\n",
    "df_coordinates = MVP_Ortiz.get_geodata(df_ds_tx_copy)\n",
    "print(\"Number of cities: \", df_coordinates.shape[0])\n",
    "df_coordinates.head()"
   ]
  },
  {
   "cell_type": "code",
   "execution_count": 45,
   "metadata": {},
   "outputs": [],
   "source": [
    "# Save as the json and upload to AWS s3 bucket\n",
    "\n",
    "file_name = \"geospatial_data.json\"\n",
    "df_coordinates.to_json(f\"{database}{file_name}\", orient=\"records\")\n",
    "\n",
    "# Upload to AWS S3 bucket\n",
    "s3 = boto3.resource('s3')\n",
    "s3.Bucket(\"additionaljobinfo\").upload_file(f\"{database}{file_name}\", file_name)"
   ]
  },
  {
   "cell_type": "code",
   "execution_count": 50,
   "metadata": {},
   "outputs": [
    {
     "name": "stdout",
     "output_type": "stream",
     "text": [
      "<class 'pandas.core.frame.DataFrame'>\n",
      "Int64Index: 2513 entries, 0 to 2512\n",
      "Data columns (total 13 columns):\n",
      " #   Column           Non-Null Count  Dtype         \n",
      "---  ------           --------------  -----         \n",
      " 0   date             2513 non-null   datetime64[ns]\n",
      " 1   title            2513 non-null   object        \n",
      " 2   company          2513 non-null   object        \n",
      " 3   company_rating   2513 non-null   float64       \n",
      " 4   job_link         2513 non-null   object        \n",
      " 5   job_description  2513 non-null   object        \n",
      " 6   city             2513 non-null   object        \n",
      " 7   state            2513 non-null   object        \n",
      " 8   zipcode          2513 non-null   int64         \n",
      " 9   clean            2513 non-null   object        \n",
      " 10  city_state       2513 non-null   object        \n",
      " 11  latitude         2513 non-null   float64       \n",
      " 12  longitude        2513 non-null   float64       \n",
      "dtypes: datetime64[ns](1), float64(3), int64(1), object(8)\n",
      "memory usage: 274.9+ KB\n"
     ]
    }
   ],
   "source": [
    "# Add coordinates to the original dataframe\n",
    "df_ds_tx_copy = df_ds_tx_copy.merge(df_coordinates, how='left', on='city_state')\n",
    "df_ds_tx_copy.info()"
   ]
  },
  {
   "cell_type": "markdown",
   "metadata": {},
   "source": [
    "<div class=\"alert alert-block alert-info\"><b>Notes:</b><br>\n",
    "    The rows may be re-sorted according to key order when two dataframes are merged, depending on what type of merge is performed.<br>\n",
    "    If joining columns on column, the dataframe indexes will be ignored.\n",
    "    </div>"
   ]
  },
  {
   "cell_type": "code",
   "execution_count": 57,
   "metadata": {},
   "outputs": [],
   "source": [
    "# Convert the date to string date\n",
    "df_ds_tx_copy.date = df_ds_tx_copy.date.apply(lambda i: i.strftime(\"%Y-%m-%d\"))"
   ]
  },
  {
   "cell_type": "code",
   "execution_count": 64,
   "metadata": {},
   "outputs": [
    {
     "name": "stdout",
     "output_type": "stream",
     "text": [
      "<class 'pandas.core.frame.DataFrame'>\n",
      "Int64Index: 2513 entries, 0 to 2512\n",
      "Data columns (total 13 columns):\n",
      " #   Column           Non-Null Count  Dtype  \n",
      "---  ------           --------------  -----  \n",
      " 0   date             2513 non-null   object \n",
      " 1   title            2513 non-null   object \n",
      " 2   company          2513 non-null   object \n",
      " 3   company_rating   2513 non-null   float64\n",
      " 4   job_link         2513 non-null   object \n",
      " 5   job_description  2513 non-null   object \n",
      " 6   city             2513 non-null   object \n",
      " 7   state            2513 non-null   object \n",
      " 8   zipcode          2513 non-null   int64  \n",
      " 9   clean            2513 non-null   object \n",
      " 10  city_state       2513 non-null   object \n",
      " 11  latitude         2513 non-null   float64\n",
      " 12  longitude        2513 non-null   float64\n",
      "dtypes: float64(3), int64(1), object(9)\n",
      "memory usage: 339.4+ KB\n"
     ]
    }
   ],
   "source": [
    "df_ds_tx_copy.info()"
   ]
  },
  {
   "cell_type": "code",
   "execution_count": 63,
   "metadata": {
    "scrolled": false
   },
   "outputs": [],
   "source": [
    "# Save as the JSON file for data visualization and analysis in Tableau\n",
    "df_ds_tx_copy.to_json(f\"{database}df_ds_tx_tableau.json\", orient=\"records\")"
   ]
  },
  {
   "cell_type": "markdown",
   "metadata": {},
   "source": [
    "### Frequency Analysis"
   ]
  },
  {
   "cell_type": "code",
   "execution_count": 119,
   "metadata": {},
   "outputs": [],
   "source": [
    "# Define the function to create the words that appear in the job descriptions\n",
    "\n",
    "def words_variables_v1(df):\n",
    "    '''\n",
    "    This function accepts the dataframe with cleaned job description \n",
    "    and return a dictionary in which the values are the words that \n",
    "    appear in the job description. \n",
    "    '''\n",
    "    # Create the words that appear all the job descritipons\n",
    "    all_words = ' '.join(df.clean)\n",
    "    # Create a dictionary to hold the variable all_words\n",
    "    d_words = {'frequency': all_words}\n",
    "    return d_words"
   ]
  },
  {
   "cell_type": "code",
   "execution_count": null,
   "metadata": {},
   "outputs": [],
   "source": [
    "# Upgrade the function `words_variables_v1`\n",
    "\n",
    "def words_variables_v2(df, companies):\n",
    "    '''\n",
    "    This function accepts the dataframe containing cleaned job description and \n",
    "    a list of company names and return a dictionary in which the values are the words \n",
    "    that appear in the job description. \n",
    "    '''\n",
    "    # Create the words that appear all the job descritipons\n",
    "    all_words = ' '.join(df.clean)\n",
    "    # Create a dictionary to hold the variable all_words\n",
    "    d_words = {'all': all_words}\n",
    "    # For loop the companies and create the words that appear in their job descriptions\n",
    "    for company in companies:\n",
    "        mask = (df.company == company)\n",
    "        s_company = df[mask].clean\n",
    "        words = ' '.join(s_company)\n",
    "        d_words[company] = words\n",
    "    return d_words"
   ]
  },
  {
   "cell_type": "code",
   "execution_count": 122,
   "metadata": {
    "scrolled": false
   },
   "outputs": [
    {
     "data": {
      "text/plain": [
       "'m computer science machine learning operational research statistic related quantitative field 3 year'"
      ]
     },
     "execution_count": 122,
     "metadata": {},
     "output_type": "execute_result"
    }
   ],
   "source": [
    "# Create the words variable\n",
    "d_words = words_variables_v1(df_ds_tx)\n",
    "\n",
    "# Print the first characters in the words variable\n",
    "d_words['frequency'][:100]"
   ]
  },
  {
   "cell_type": "code",
   "execution_count": 124,
   "metadata": {},
   "outputs": [],
   "source": [
    "# Define a function to compute the frequence of the mono-, bi-, and tri-grams of the job description\n",
    "\n",
    "def everygram_frequency_v1(d_words, max_len=3):\n",
    "    '''\n",
    "    This function accetps the dictionary produced by the function `words_variables_v1` and \n",
    "    return mono-, bi-, and tri-grams along with their frequency. \n",
    "    '''\n",
    "    # Generate mono-, bi-, and tri-grams\n",
    "    grams = nltk.everygrams(d_words['frequency'].split(), max_len=max_len) # dtype of grams: <class 'genertor'>\n",
    "    # Convert to a list of tuples\n",
    "    grams = list(grams)\n",
    "    # Create an empty list to hold mono-, bi-, and tri-grams\n",
    "    everygram = []\n",
    "    # For loop the list of tuples and convert the grams to strings\n",
    "    for gram in grams:\n",
    "        str_gram = gram[0]\n",
    "        for i in gram[1:]:\n",
    "            str_gram = str_gram + ' ' + i\n",
    "        everygram.append(str_gram)\n",
    "    # Compute the frequency of the everygrams\n",
    "    everygram = pd.Series(everygram).value_counts()\n",
    "    return everygram"
   ]
  },
  {
   "cell_type": "code",
   "execution_count": 130,
   "metadata": {},
   "outputs": [
    {
     "data": {
      "text/plain": [
       "data          23606\n",
       "experience    13248\n",
       "business       8391\n",
       "team           7480\n",
       "work           6656\n",
       "dtype: int64"
      ]
     },
     "execution_count": 130,
     "metadata": {},
     "output_type": "execute_result"
    }
   ],
   "source": [
    "# Compute the frequency of mono-, bi-, and tri-grams\n",
    "gram_frequency = everygram_frequency_v1(d_words)\n",
    "\n",
    "# Print the top 5 most frequent word(s)\n",
    "gram_frequency.head()"
   ]
  },
  {
   "cell_type": "code",
   "execution_count": 127,
   "metadata": {},
   "outputs": [],
   "source": [
    "# # Upload the frequency table to AWS s3 bucket\n",
    "\n",
    "# # Create the s3 resource object\n",
    "# s3 = boto3.resource('s3')\n",
    "\n",
    "# # Read the location of the database\n",
    "# database = env_Shi.database\n",
    "\n",
    "# # Upload df_ds_tx_backup.csv file\n",
    "# s3.Bucket('additionaljobinfo').upload_file(f\"{database}ds_grams.json\", \"ds_grams.json\")"
   ]
  },
  {
   "cell_type": "markdown",
   "metadata": {},
   "source": [
    "### Compute Top 5 Skills in a Predifined Library"
   ]
  },
  {
   "cell_type": "code",
   "execution_count": 131,
   "metadata": {},
   "outputs": [],
   "source": [
    "# Define a function to pick up the top k skills from a skill library\n",
    "\n",
    "def top_skills_v1(df, k, library, library_type):\n",
    "    '''\n",
    "    This function accepts a positive integer k and a skillset library and \n",
    "    returns a dataframe containing the top k skills needed for data scientist positions.\n",
    "    '''\n",
    "    # Create a string of all words that appear in the job description\n",
    "    dic = words_variables_v1(df)\n",
    "    # Compute the words frequency\n",
    "    everygram_frequency = everygram_frequency_v1(dic)\n",
    "    # Create a empty dataframe to hold the rank of the skills\n",
    "    df_skills = pd.DataFrame()\n",
    "    # For loop through the library to find out the frequency of the skills mentioned in the job description\n",
    "    for skill in library:\n",
    "        mask = (everygram_frequency.index == skill)\n",
    "        df =  everygram_frequency[mask]\n",
    "        df_skills = pd.concat([df_skills, df])\n",
    "    df_skills.columns = dic.keys()\n",
    "    df_skills.sort_values(by='frequency', ascending=False, inplace=True)\n",
    "    # Reset the index\n",
    "    df_skills.reset_index(inplace=True)\n",
    "    # Rename the column name\n",
    "    df_skills.rename(columns={'index': f'top{k}_{library_type}_skills'}, inplace=True)\n",
    "    return df_skills.head(k)"
   ]
  },
  {
   "cell_type": "code",
   "execution_count": 140,
   "metadata": {},
   "outputs": [
    {
     "name": "stdout",
     "output_type": "stream",
     "text": [
      "Number of skills in tech skill library:  71\n"
     ]
    },
    {
     "data": {
      "text/html": [
       "<div>\n",
       "<style scoped>\n",
       "    .dataframe tbody tr th:only-of-type {\n",
       "        vertical-align: middle;\n",
       "    }\n",
       "\n",
       "    .dataframe tbody tr th {\n",
       "        vertical-align: top;\n",
       "    }\n",
       "\n",
       "    .dataframe thead th {\n",
       "        text-align: right;\n",
       "    }\n",
       "</style>\n",
       "<table border=\"1\" class=\"dataframe\">\n",
       "  <thead>\n",
       "    <tr style=\"text-align: right;\">\n",
       "      <th></th>\n",
       "      <th>top5_tech_skills</th>\n",
       "      <th>frequency</th>\n",
       "    </tr>\n",
       "  </thead>\n",
       "  <tbody>\n",
       "    <tr>\n",
       "      <th>0</th>\n",
       "      <td>machine learning</td>\n",
       "      <td>3501.0</td>\n",
       "    </tr>\n",
       "    <tr>\n",
       "      <th>1</th>\n",
       "      <td>python</td>\n",
       "      <td>1844.0</td>\n",
       "    </tr>\n",
       "    <tr>\n",
       "      <th>2</th>\n",
       "      <td>sql</td>\n",
       "      <td>1412.0</td>\n",
       "    </tr>\n",
       "    <tr>\n",
       "      <th>3</th>\n",
       "      <td>aws</td>\n",
       "      <td>1074.0</td>\n",
       "    </tr>\n",
       "    <tr>\n",
       "      <th>4</th>\n",
       "      <td>r</td>\n",
       "      <td>1019.0</td>\n",
       "    </tr>\n",
       "  </tbody>\n",
       "</table>\n",
       "</div>"
      ],
      "text/plain": [
       "   top5_tech_skills  frequency\n",
       "0  machine learning     3501.0\n",
       "1            python     1844.0\n",
       "2               sql     1412.0\n",
       "3               aws     1074.0\n",
       "4                 r     1019.0"
      ]
     },
     "execution_count": 140,
     "metadata": {},
     "output_type": "execute_result"
    }
   ],
   "source": [
    "# Create a tech library\n",
    "ds_tech_library = ['python','sql','pandas','numpy','matplotlib','scikit learn','scikitlearn','spark','hadoop',\n",
    "                   'aws','amazon web services','azure','microsoft word', 'microsoft excel','excel','tableau',\n",
    "                   'tensor flow','pytorch','hive','impala','matlab','etl','statistics','exploration',\n",
    "                   'extraction','data wrangling','math','machine learning','data visualization','java','js',\n",
    "                   'javascript','scala','r','c','c++','power bi','dashboard','linear algebra','calculus',\n",
    "                   'neural networks','eda','big data','frameworks','database management','testing hypotheses',\n",
    "                   'probability','data mining','perl','nosql','saas','git','github',\n",
    "                   'natural language processing','nlp', 'deep learning','agile','kanban','project management',\n",
    "                   'julia','devops','google cloud','pytorch','computer vision', 'deep neural networks',\n",
    "                   'neural networks','amazon web services','natural language processing',\n",
    "                   'extract,transform,load','mysql','structured query language']\n",
    "# Print the number of skills in the library\n",
    "print(\"Number of skills in tech skill library: \", len(ds_tech_library))\n",
    "\n",
    "# Compute top 10 technical skills for data scientist position in TX\n",
    "df_ds_top_tech = top_skills_v1(df_ds_tx, 5, ds_tech_library, 'tech')\n",
    "df_ds_top_tech"
   ]
  },
  {
   "cell_type": "code",
   "execution_count": 141,
   "metadata": {},
   "outputs": [
    {
     "name": "stdout",
     "output_type": "stream",
     "text": [
      "Number of skills in soft skill library:  20\n"
     ]
    },
    {
     "data": {
      "text/html": [
       "<div>\n",
       "<style scoped>\n",
       "    .dataframe tbody tr th:only-of-type {\n",
       "        vertical-align: middle;\n",
       "    }\n",
       "\n",
       "    .dataframe tbody tr th {\n",
       "        vertical-align: top;\n",
       "    }\n",
       "\n",
       "    .dataframe thead th {\n",
       "        text-align: right;\n",
       "    }\n",
       "</style>\n",
       "<table border=\"1\" class=\"dataframe\">\n",
       "  <thead>\n",
       "    <tr style=\"text-align: right;\">\n",
       "      <th></th>\n",
       "      <th>top5_soft_skills</th>\n",
       "      <th>frequency</th>\n",
       "    </tr>\n",
       "  </thead>\n",
       "  <tbody>\n",
       "    <tr>\n",
       "      <th>0</th>\n",
       "      <td>communication</td>\n",
       "      <td>1579.0</td>\n",
       "    </tr>\n",
       "    <tr>\n",
       "      <th>1</th>\n",
       "      <td>leadership</td>\n",
       "      <td>975.0</td>\n",
       "    </tr>\n",
       "    <tr>\n",
       "      <th>2</th>\n",
       "      <td>collaboration</td>\n",
       "      <td>475.0</td>\n",
       "    </tr>\n",
       "    <tr>\n",
       "      <th>3</th>\n",
       "      <td>problem solving</td>\n",
       "      <td>351.0</td>\n",
       "    </tr>\n",
       "    <tr>\n",
       "      <th>4</th>\n",
       "      <td>written communication</td>\n",
       "      <td>262.0</td>\n",
       "    </tr>\n",
       "  </tbody>\n",
       "</table>\n",
       "</div>"
      ],
      "text/plain": [
       "        top5_soft_skills  frequency\n",
       "0          communication     1579.0\n",
       "1             leadership      975.0\n",
       "2          collaboration      475.0\n",
       "3        problem solving      351.0\n",
       "4  written communication      262.0"
      ]
     },
     "execution_count": 141,
     "metadata": {},
     "output_type": "execute_result"
    }
   ],
   "source": [
    "# Pick up the top 20 soft skills\n",
    "ds_soft_library = ['critical thinking','communication','problem solving','teamwork','ethics',\n",
    "                   'business acumen','interpersonal skills','curiosity','storytelling','adaptability',\n",
    "                   'team player','collaboration','time management','leadership','domain knowledge',\n",
    "                   'creativity','decision making','verbal communication','written communication','teamwork']\n",
    "# Print the number of skills in the library\n",
    "print(\"Number of skills in soft skill library: \", len(ds_soft_library))\n",
    "\n",
    "df_ds_top_soft = top_skills_v1(df_ds_tx, 5, ds_soft_library, 'soft')\n",
    "df_ds_top_soft"
   ]
  },
  {
   "cell_type": "markdown",
   "metadata": {},
   "source": [
    "### Time Series Analysis\n",
    "- Centered on Skills"
   ]
  },
  {
   "cell_type": "code",
   "execution_count": 161,
   "metadata": {},
   "outputs": [],
   "source": [
    "# Define a function to add the frequencies of the skills in each observation\n",
    "\n",
    "def add_skill_frequency(df, df_top):\n",
    "    '''\n",
    "    This function accepts the dataframe of prepared job postings and the dataframe of the top k skills\n",
    "    and adds the frequencies of the skills in each observation.\n",
    "    '''\n",
    "    # Reset the index of the df\n",
    "    df_copy = df.reset_index()\n",
    "    # Create a list of the top skills\n",
    "    skill_list = df_top.iloc[:, 0].to_list()\n",
    "    # Create an empty dictionary to hold the frequency of the skill in each observation\n",
    "    dic_frequency = {}\n",
    "    # Loop through the list of skills to compute its frequency in each observation\n",
    "    for skill in skill_list:\n",
    "        list_frequency = []\n",
    "        for string in df_copy.clean.values:\n",
    "            matches = re.findall(f\" {skill} \", string)\n",
    "            frequency = len(matches)\n",
    "            list_frequency.append(frequency)\n",
    "        dic_frequency[skill]=list_frequency    \n",
    "    # Convert the dictionary into the dataframe\n",
    "    df_frequency = pd.DataFrame(dic_frequency)\n",
    "    # Add the frequencies of the top skills to the original dataframe\n",
    "    df_copy = pd.concat([df_copy, df_frequency], axis=1)\n",
    "    # Reset the date as the index\n",
    "    df_copy = df_copy.set_index('date')\n",
    "    return df_copy"
   ]
  },
  {
   "cell_type": "code",
   "execution_count": 165,
   "metadata": {},
   "outputs": [
    {
     "data": {
      "text/html": [
       "<div>\n",
       "<style scoped>\n",
       "    .dataframe tbody tr th:only-of-type {\n",
       "        vertical-align: middle;\n",
       "    }\n",
       "\n",
       "    .dataframe tbody tr th {\n",
       "        vertical-align: top;\n",
       "    }\n",
       "\n",
       "    .dataframe thead th {\n",
       "        text-align: right;\n",
       "    }\n",
       "</style>\n",
       "<table border=\"1\" class=\"dataframe\">\n",
       "  <thead>\n",
       "    <tr style=\"text-align: right;\">\n",
       "      <th></th>\n",
       "      <th>title</th>\n",
       "      <th>company</th>\n",
       "      <th>company_rating</th>\n",
       "      <th>job_link</th>\n",
       "      <th>job_description</th>\n",
       "      <th>city</th>\n",
       "      <th>state</th>\n",
       "      <th>zipcode</th>\n",
       "      <th>clean</th>\n",
       "      <th>machine learning</th>\n",
       "      <th>python</th>\n",
       "      <th>sql</th>\n",
       "      <th>aws</th>\n",
       "      <th>r</th>\n",
       "    </tr>\n",
       "    <tr>\n",
       "      <th>date</th>\n",
       "      <th></th>\n",
       "      <th></th>\n",
       "      <th></th>\n",
       "      <th></th>\n",
       "      <th></th>\n",
       "      <th></th>\n",
       "      <th></th>\n",
       "      <th></th>\n",
       "      <th></th>\n",
       "      <th></th>\n",
       "      <th></th>\n",
       "      <th></th>\n",
       "      <th></th>\n",
       "      <th></th>\n",
       "    </tr>\n",
       "  </thead>\n",
       "  <tbody>\n",
       "    <tr>\n",
       "      <th>2021-02-25</th>\n",
       "      <td>Applied Scientist</td>\n",
       "      <td>Amazon.com Services LLC</td>\n",
       "      <td>3.6</td>\n",
       "      <td>https://www.indeed.com/rc/clk?jk=a9dbd4e1ed934...</td>\n",
       "      <td>\\nM.S. in Computer Science, Machine Learning, ...</td>\n",
       "      <td>Austin</td>\n",
       "      <td>TX</td>\n",
       "      <td>0</td>\n",
       "      <td>m computer science machine learning operationa...</td>\n",
       "      <td>7</td>\n",
       "      <td>1</td>\n",
       "      <td>0</td>\n",
       "      <td>0</td>\n",
       "      <td>0</td>\n",
       "    </tr>\n",
       "    <tr>\n",
       "      <th>2021-02-25</th>\n",
       "      <td>Applied Data Science Manager</td>\n",
       "      <td>dunnhumby</td>\n",
       "      <td>3.8</td>\n",
       "      <td>https://www.indeed.com/rc/clk?jk=2323bfe22c6e5...</td>\n",
       "      <td>Austin\\n\\nMost companies try to meet expectati...</td>\n",
       "      <td>Austin</td>\n",
       "      <td>TX</td>\n",
       "      <td>0</td>\n",
       "      <td>austin company try meet expectation dunnhumby ...</td>\n",
       "      <td>1</td>\n",
       "      <td>1</td>\n",
       "      <td>1</td>\n",
       "      <td>0</td>\n",
       "      <td>0</td>\n",
       "    </tr>\n",
       "    <tr>\n",
       "      <th>2021-02-25</th>\n",
       "      <td>Distinguished Data Scientist</td>\n",
       "      <td>Verizon</td>\n",
       "      <td>3.9</td>\n",
       "      <td>https://www.indeed.com/rc/clk?jk=c1a0bcd827fc1...</td>\n",
       "      <td>When you join Verizon\\nVerizon is a leading pr...</td>\n",
       "      <td>Irving</td>\n",
       "      <td>TX</td>\n",
       "      <td>75038</td>\n",
       "      <td>join verizon verizon leading provider technolo...</td>\n",
       "      <td>1</td>\n",
       "      <td>1</td>\n",
       "      <td>0</td>\n",
       "      <td>1</td>\n",
       "      <td>1</td>\n",
       "    </tr>\n",
       "    <tr>\n",
       "      <th>2021-02-25</th>\n",
       "      <td>Data Engineer</td>\n",
       "      <td>Verizon</td>\n",
       "      <td>3.9</td>\n",
       "      <td>https://www.indeed.com/rc/clk?jk=18f2be848788e...</td>\n",
       "      <td>When you join Verizon\\nYou’ll have the power t...</td>\n",
       "      <td>Irving</td>\n",
       "      <td>TX</td>\n",
       "      <td>75038</td>\n",
       "      <td>join verizon youll power go beyond work thats ...</td>\n",
       "      <td>1</td>\n",
       "      <td>2</td>\n",
       "      <td>2</td>\n",
       "      <td>0</td>\n",
       "      <td>1</td>\n",
       "    </tr>\n",
       "    <tr>\n",
       "      <th>2021-02-25</th>\n",
       "      <td>Developer - Mathematical Optimization</td>\n",
       "      <td>Six Flags Entertainment</td>\n",
       "      <td>3.7</td>\n",
       "      <td>https://www.indeed.com/rc/clk?jk=0d70e0a00cd3a...</td>\n",
       "      <td>Job Duties:\\nGather business requirements and ...</td>\n",
       "      <td>Arlington</td>\n",
       "      <td>TX</td>\n",
       "      <td>0</td>\n",
       "      <td>job duty gather business requirement translate...</td>\n",
       "      <td>1</td>\n",
       "      <td>1</td>\n",
       "      <td>0</td>\n",
       "      <td>0</td>\n",
       "      <td>1</td>\n",
       "    </tr>\n",
       "  </tbody>\n",
       "</table>\n",
       "</div>"
      ],
      "text/plain": [
       "                                            title                  company  \\\n",
       "date                                                                         \n",
       "2021-02-25                      Applied Scientist  Amazon.com Services LLC   \n",
       "2021-02-25           Applied Data Science Manager                dunnhumby   \n",
       "2021-02-25           Distinguished Data Scientist                  Verizon   \n",
       "2021-02-25                          Data Engineer                  Verizon   \n",
       "2021-02-25  Developer - Mathematical Optimization  Six Flags Entertainment   \n",
       "\n",
       "            company_rating                                           job_link  \\\n",
       "date                                                                            \n",
       "2021-02-25             3.6  https://www.indeed.com/rc/clk?jk=a9dbd4e1ed934...   \n",
       "2021-02-25             3.8  https://www.indeed.com/rc/clk?jk=2323bfe22c6e5...   \n",
       "2021-02-25             3.9  https://www.indeed.com/rc/clk?jk=c1a0bcd827fc1...   \n",
       "2021-02-25             3.9  https://www.indeed.com/rc/clk?jk=18f2be848788e...   \n",
       "2021-02-25             3.7  https://www.indeed.com/rc/clk?jk=0d70e0a00cd3a...   \n",
       "\n",
       "                                              job_description       city  \\\n",
       "date                                                                       \n",
       "2021-02-25  \\nM.S. in Computer Science, Machine Learning, ...     Austin   \n",
       "2021-02-25  Austin\\n\\nMost companies try to meet expectati...     Austin   \n",
       "2021-02-25  When you join Verizon\\nVerizon is a leading pr...     Irving   \n",
       "2021-02-25  When you join Verizon\\nYou’ll have the power t...     Irving   \n",
       "2021-02-25  Job Duties:\\nGather business requirements and ...  Arlington   \n",
       "\n",
       "           state  zipcode                                              clean  \\\n",
       "date                                                                           \n",
       "2021-02-25    TX        0  m computer science machine learning operationa...   \n",
       "2021-02-25    TX        0  austin company try meet expectation dunnhumby ...   \n",
       "2021-02-25    TX    75038  join verizon verizon leading provider technolo...   \n",
       "2021-02-25    TX    75038  join verizon youll power go beyond work thats ...   \n",
       "2021-02-25    TX        0  job duty gather business requirement translate...   \n",
       "\n",
       "            machine learning  python  sql  aws  r  \n",
       "date                                               \n",
       "2021-02-25                 7       1    0    0  0  \n",
       "2021-02-25                 1       1    1    0  0  \n",
       "2021-02-25                 1       1    0    1  1  \n",
       "2021-02-25                 1       2    2    0  1  \n",
       "2021-02-25                 1       1    0    0  1  "
      ]
     },
     "execution_count": 165,
     "metadata": {},
     "output_type": "execute_result"
    }
   ],
   "source": [
    "# Count the frequencies of the skills in each obervation\n",
    "\n",
    "df_ds_tx = add_skill_frequency(df_ds_tx, df_ds_top_tech)\n",
    "df_ds_tx.head()"
   ]
  },
  {
   "cell_type": "code",
   "execution_count": 199,
   "metadata": {},
   "outputs": [],
   "source": [
    "def plot_top_skill_ts(df, df_top):\n",
    "    '''\n",
    "    This function accetps the dataframe of preapred job postings with the frequencies of the skills\n",
    "    and plot how popular each skill changes over time. \n",
    "    '''\n",
    "    # Set up the size of the plot\n",
    "    plt.figure(figsize=(11, 8))\n",
    "    # Create a list of the top skills\n",
    "    skill_list = df_top.iloc[:, 0].to_list()\n",
    "    # Resample the dataset by week and plot the mean of the frequency of each skill per job posting\n",
    "    for skill in skill_list:\n",
    "        df.resample('W')[skill].mean().plot(label=f'{skill} Weekly')\n",
    "    \n",
    "    # Name the plot\n",
    "    plt.title(\"How Popular the Top 5 Skills Are Over Time\", fontweight='bold')\n",
    "    # Position the legend\n",
    "    plt.legend(bbox_to_anchor=(1, 1))"
   ]
  },
  {
   "cell_type": "code",
   "execution_count": 200,
   "metadata": {},
   "outputs": [
    {
     "data": {
      "image/png": "[encoded data removed]",
      "text/plain": [
       "<Figure size 792x576 with 1 Axes>"
      ]
     },
     "metadata": {
      "needs_background": "light"
     },
     "output_type": "display_data"
    }
   ],
   "source": [
    "plot_top_skill_ts(df_ds_tx, df_ds_top_tech)"
   ]
  },
  {
   "cell_type": "markdown",
   "metadata": {},
   "source": [
    "### Skills Match Job Search"
   ]
  },
  {
   "cell_type": "code",
   "execution_count": 29,
   "metadata": {},
   "outputs": [],
   "source": [
    "# Define a function to find the job position that match the skills of a applicant\n",
    "\n",
    "def skills_match_search(skills):\n",
    "    '''\n",
    "    '''  \n",
    "    # Create the initials of the job_title\n",
    "    print(\"Enter the INITIALS of the job title:\")\n",
    "    initials = input()\n",
    "    # Load the file path\n",
    "    database = env_Shi.database\n",
    "    # Create the file name\n",
    "    file_name = 'df_' + initials + '_tx_prepared_backup.json'\n",
    "    # Load the job postings file\n",
    "    df = pd.read_json(f'{database}{file_name}')\n",
    "    # Create a list variable to hold the boolean values\n",
    "    mask = []\n",
    "    # For loop \n",
    "    for clean in df.clean:\n",
    "        if all(skill in clean for skill in skills):\n",
    "            mask.append(True)\n",
    "        else:\n",
    "            mask.append(False)\n",
    "    df_match = df[mask]\n",
    "    cols = ['job_description', 'clean']\n",
    "    df_match.drop(columns=cols, inplace=True)\n",
    "    print(\"Number of the Matched Companies: \", df_match.shape[0])\n",
    "    return df_match"
   ]
  },
  {
   "cell_type": "code",
   "execution_count": 30,
   "metadata": {},
   "outputs": [
    {
     "name": "stdout",
     "output_type": "stream",
     "text": [
      "ds\n",
      "Number of the Matched Companies:  318\n"
     ]
    },
    {
     "data": {
      "text/plain": [
       "(318, 8)"
      ]
     },
     "execution_count": 30,
     "metadata": {},
     "output_type": "execute_result"
    }
   ],
   "source": [
    "skills = ['python', 'sql', 'tableau']\n",
    "\n",
    "df = skills_match_search(skills)\n",
    "df.shape"
   ]
  },
  {
   "cell_type": "code",
   "execution_count": 46,
   "metadata": {},
   "outputs": [
    {
     "name": "stdout",
     "output_type": "stream",
     "text": [
      "https://www.indeed.com/rc/clk?jk=01874af4f7ec3de1&fccid=2259246cd8a35c6c&vjs=3\n"
     ]
    },
    {
     "data": {
      "text/plain": [
       "date                                            2021-02-25 00:00:00\n",
       "title                    Data Scientist I - School of Public Health\n",
       "company           The University of Texas Health Science Center ...\n",
       "company_rating                                                  4.0\n",
       "job_link          https://www.indeed.com/rc/clk?jk=01874af4f7ec3...\n",
       "city                                                        Houston\n",
       "state                                                            TX\n",
       "zipcode                                                           0\n",
       "Name: 73, dtype: object"
      ]
     },
     "execution_count": 46,
     "metadata": {},
     "output_type": "execute_result"
    }
   ],
   "source": [
    "i = 11\n",
    "\n",
    "print(df.job_link.iloc[i])\n",
    "\n",
    "df.iloc[i]"
   ]
  },
  {
   "cell_type": "code",
   "execution_count": 41,
   "metadata": {},
   "outputs": [],
   "source": [
    "# Create the masks for different skills\n",
    "\n",
    "mask_python = df_ds_tx.clean.str.contains('python')\n",
    "mask_sql = df_ds_tx.clean.str.contains('sql')\n",
    "mask_ml = df_ds_tx.clean.str.contains('machine learning')\n",
    "mask_tableau = df_ds_tx.clean.str.contains('tableau')\n",
    "mask_aws = df_ds_tx.clean.str.contains('aws')\n",
    "\n",
    "mask = mask_python & mask_sql & mask_tableau & mask_aws"
   ]
  },
  {
   "cell_type": "code",
   "execution_count": 42,
   "metadata": {},
   "outputs": [
    {
     "data": {
      "text/plain": [
       "72"
      ]
     },
     "execution_count": 42,
     "metadata": {},
     "output_type": "execute_result"
    }
   ],
   "source": [
    "# How many companies need all three skills: python, sql and tableau\n",
    "mask.sum()"
   ]
  },
  {
   "cell_type": "code",
   "execution_count": 19,
   "metadata": {},
   "outputs": [
    {
     "data": {
      "text/html": [
       "<div>\n",
       "<style scoped>\n",
       "    .dataframe tbody tr th:only-of-type {\n",
       "        vertical-align: middle;\n",
       "    }\n",
       "\n",
       "    .dataframe tbody tr th {\n",
       "        vertical-align: top;\n",
       "    }\n",
       "\n",
       "    .dataframe thead th {\n",
       "        text-align: right;\n",
       "    }\n",
       "</style>\n",
       "<table border=\"1\" class=\"dataframe\">\n",
       "  <thead>\n",
       "    <tr style=\"text-align: right;\">\n",
       "      <th></th>\n",
       "      <th>title</th>\n",
       "      <th>company</th>\n",
       "      <th>company_rating</th>\n",
       "      <th>job_link</th>\n",
       "      <th>job_description</th>\n",
       "      <th>city</th>\n",
       "      <th>state</th>\n",
       "      <th>zipcode</th>\n",
       "      <th>clean</th>\n",
       "      <th>tokenized</th>\n",
       "      <th>stemmed</th>\n",
       "      <th>lemmatized</th>\n",
       "    </tr>\n",
       "    <tr>\n",
       "      <th>date</th>\n",
       "      <th></th>\n",
       "      <th></th>\n",
       "      <th></th>\n",
       "      <th></th>\n",
       "      <th></th>\n",
       "      <th></th>\n",
       "      <th></th>\n",
       "      <th></th>\n",
       "      <th></th>\n",
       "      <th></th>\n",
       "      <th></th>\n",
       "      <th></th>\n",
       "    </tr>\n",
       "  </thead>\n",
       "  <tbody>\n",
       "    <tr>\n",
       "      <th>2021-02-19</th>\n",
       "      <td>Analyst, Data Science - Product Analytics</td>\n",
       "      <td>Expedia Group</td>\n",
       "      <td>3.9</td>\n",
       "      <td>https://www.indeed.com/rc/clk?jk=e447fed7ec145...</td>\n",
       "      <td>This is a great opportunity to join Vrbo’s glo...</td>\n",
       "      <td>Austin</td>\n",
       "      <td>TX</td>\n",
       "      <td>78758</td>\n",
       "      <td>great opportunity join vrbos global analytics ...</td>\n",
       "      <td>this is a great opportunity to join vrbos glob...</td>\n",
       "      <td>thi is a great opportun to join vrbo global an...</td>\n",
       "      <td>this is a great opportunity to join vrbos glob...</td>\n",
       "    </tr>\n",
       "  </tbody>\n",
       "</table>\n",
       "</div>"
      ],
      "text/plain": [
       "                                                title        company  \\\n",
       "date                                                                   \n",
       "2021-02-19  Analyst, Data Science - Product Analytics  Expedia Group   \n",
       "\n",
       "            company_rating                                           job_link  \\\n",
       "date                                                                            \n",
       "2021-02-19             3.9  https://www.indeed.com/rc/clk?jk=e447fed7ec145...   \n",
       "\n",
       "                                              job_description    city state  \\\n",
       "date                                                                          \n",
       "2021-02-19  This is a great opportunity to join Vrbo’s glo...  Austin    TX   \n",
       "\n",
       "            zipcode                                              clean  \\\n",
       "date                                                                     \n",
       "2021-02-19    78758  great opportunity join vrbos global analytics ...   \n",
       "\n",
       "                                                    tokenized  \\\n",
       "date                                                            \n",
       "2021-02-19  this is a great opportunity to join vrbos glob...   \n",
       "\n",
       "                                                      stemmed  \\\n",
       "date                                                            \n",
       "2021-02-19  thi is a great opportun to join vrbo global an...   \n",
       "\n",
       "                                                   lemmatized  \n",
       "date                                                           \n",
       "2021-02-19  this is a great opportunity to join vrbos glob...  "
      ]
     },
     "execution_count": 19,
     "metadata": {},
     "output_type": "execute_result"
    }
   ],
   "source": [
    "df_ds_tx[mask].head(1)"
   ]
  },
  {
   "cell_type": "code",
   "execution_count": null,
   "metadata": {},
   "outputs": [],
   "source": [
    "df_ds_tx.clean[0][:100]"
   ]
  }
 ],
 "metadata": {
  "kernelspec": {
   "display_name": "Python 3",
   "language": "python",
   "name": "python3"
  },
  "language_info": {
   "codemirror_mode": {
    "name": "ipython",
    "version": 3
   },
   "file_extension": ".py",
   "mimetype": "text/x-python",
   "name": "python",
   "nbconvert_exporter": "python",
   "pygments_lexer": "ipython3",
   "version": "3.7.6"
  }
 },
 "nbformat": 4,
 "nbformat_minor": 4
}
