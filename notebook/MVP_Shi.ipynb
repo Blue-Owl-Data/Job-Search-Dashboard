{
 "cells": [
  {
   "cell_type": "code",
   "execution_count": 87,
   "metadata": {},
   "outputs": [],
   "source": [
    "# General Libraries\n",
    "import numpy as np\n",
    "import pandas as pd\n",
    "\n",
    "# Web Scraping Libraries\n",
    "import urllib\n",
    "import requests\n",
    "from bs4 import BeautifulSoup\n",
    "\n",
    "# Regex Library\n",
    "import re\n",
    "\n",
    "from tqdm.notebook import tqdm"
   ]
  },
  {
   "cell_type": "markdown",
   "metadata": {},
   "source": [
    "### URL Format of Indeed.com\n",
    "1. Search chemist in TX<br>\n",
    "https://www.indeed.com/jobs?q=chemist&l=TX\n",
    "2. Search chemist in San Antonio, TX<br>\n",
    "https://www.indeed.com/jobs?q=chemist&l=San+Antonio%2C+TX\n",
    "3. Search data scientist in San Antonio, TX<br>\n",
    "https://www.indeed.com/jobs?q=data+scientist&l=San+Antonio%2C+TX\n",
    "4. Search data scientist intern in San Anotnio, TX<br>\n",
    "https://www.indeed.com/jobs?q=data+scientist+intern&l=San+Antonio%2C+TX\n",
    "5. Sort the data scientist jobs posting by date<br>\n",
    "https://www.indeed.com/jobs?q=data+scientist&l=San+Antonio%2C+TX&sort=date"
   ]
  },
  {
   "cell_type": "markdown",
   "metadata": {},
   "source": [
    "**Takeaways**\n",
    "1. q = job title\n",
    "2. l = location"
   ]
  },
  {
   "cell_type": "markdown",
   "metadata": {},
   "source": [
    "### URL Format of Monster.com\n",
    "https://www.monster.com/jobs/search/?q=data-scientist&where=San-Antonio__2C-TX"
   ]
  },
  {
   "cell_type": "markdown",
   "metadata": {},
   "source": [
    "### Generate the URL of a Job Search at Indeed.com"
   ]
  },
  {
   "cell_type": "code",
   "execution_count": 5,
   "metadata": {},
   "outputs": [],
   "source": [
    "def url_indeed(job_title, location):\n",
    "    '''\n",
    "    This function returns a URL of a job search at Indeed.com \n",
    "    based on the job title and the location.\n",
    "    '''\n",
    "    # Create the base URL for a job serch at Indeed.com\n",
    "    base_url = 'https://www.indeed.com/jobs?'\n",
    "    # Create a dictionary to map keys to the input parameters\n",
    "    dic = {'q': job_title, 'l': location, 'sort': 'date'}\n",
    "    # Convert the dictionary to a query string\n",
    "    relative_url = urllib.parse.urlencode(dic)\n",
    "    # Generate the full URL\n",
    "    url = base_url + relative_url\n",
    "    return url"
   ]
  },
  {
   "cell_type": "code",
   "execution_count": 72,
   "metadata": {},
   "outputs": [
    {
     "data": {
      "text/plain": [
       "'https://www.indeed.com/jobs?q=data+scientist&l=tx&sort=date'"
      ]
     },
     "execution_count": 72,
     "metadata": {},
     "output_type": "execute_result"
    }
   ],
   "source": [
    "# Test the function\n",
    "url = url_indeed('data scientist', 'tx')\n",
    "url"
   ]
  },
  {
   "cell_type": "markdown",
   "metadata": {},
   "source": [
    "### Make the HTTP Request"
   ]
  },
  {
   "cell_type": "code",
   "execution_count": 73,
   "metadata": {
    "scrolled": true
   },
   "outputs": [
    {
     "name": "stdout",
     "output_type": "stream",
     "text": [
      "Status Code:  200\n",
      "<!DOCTYPE html>\n",
      "<html lang=\"en\" dir=\"ltr\">\n",
      "<head>\n",
      "<meta http-equiv=\"content-type\" content=\"text/html\n"
     ]
    }
   ],
   "source": [
    "# Make the HTTP request\n",
    "response = requests.get(url)\n",
    "\n",
    "# Print the status code\n",
    "print(\"Status Code: \", response.status_code)\n",
    "    \n",
    "# Sanity check to make sure the document type is HTML\n",
    "print(response.text[:100])"
   ]
  },
  {
   "cell_type": "code",
   "execution_count": 74,
   "metadata": {
    "scrolled": false
   },
   "outputs": [
    {
     "name": "stdout",
     "output_type": "stream",
     "text": [
      "<class 'bs4.BeautifulSoup'>\n",
      "Soup Title:  Data Scientist Jobs, Employment in Texas | Indeed.com\n"
     ]
    }
   ],
   "source": [
    "# Make a soup variable holding the response content\n",
    "soup = BeautifulSoup(response.content, \"html.parser\")\n",
    "print(type(soup))\n",
    "print(\"Soup Title: \",soup.title.string)"
   ]
  },
  {
   "cell_type": "code",
   "execution_count": 86,
   "metadata": {},
   "outputs": [
    {
     "name": "stdout",
     "output_type": "stream",
     "text": [
      "Data Type:  <class 'bs4.element.Tag'>\n",
      "Name of the Tag:  div\n",
      "Attributes of the Tag:  {'id': 'searchCountPages'}\n",
      "Text within the Tag: \n"
     ]
    },
    {
     "data": {
      "text/plain": [
       "'\\n                    Page 1 of 578 jobs'"
      ]
     },
     "execution_count": 86,
     "metadata": {},
     "output_type": "execute_result"
    }
   ],
   "source": [
    "# Find out the tag that contains the number of the jobs by seaching\n",
    "\n",
    "num_jobs = soup.find('div', id='searchCountPages')\n",
    "print(\"Data Type: \", type(num_jobs))\n",
    "print(\"Name of the Tag: \", num_jobs.name)\n",
    "print(\"Attributes of the Tag: \", num_jobs.attrs)\n",
    "print(\"Text within the Tag: \")\n",
    "num_jobs.text"
   ]
  },
  {
   "cell_type": "code",
   "execution_count": 113,
   "metadata": {},
   "outputs": [
    {
     "data": {
      "text/plain": [
       "'578'"
      ]
     },
     "execution_count": 113,
     "metadata": {},
     "output_type": "execute_result"
    }
   ],
   "source": [
    "# Find the number of the jobs in the text\n",
    "match = re.findall(r'(\\d+)', num_jobs.text)\n",
    "match[1]"
   ]
  },
  {
   "cell_type": "code",
   "execution_count": null,
   "metadata": {},
   "outputs": [],
   "source": []
  },
  {
   "cell_type": "code",
   "execution_count": 76,
   "metadata": {
    "scrolled": false
   },
   "outputs": [
    {
     "name": "stdout",
     "output_type": "stream",
     "text": [
      "2\n",
      "3\n",
      "4\n",
      "5\n",
      "None\n"
     ]
    }
   ],
   "source": [
    "# Find out the number of HTML pages\n",
    "num_pages = soup.find_all('span', class_='pn')\n",
    "\n",
    "for num in num_pages:\n",
    "    print(num.string)"
   ]
  },
  {
   "cell_type": "code",
   "execution_count": 16,
   "metadata": {
    "scrolled": false
   },
   "outputs": [
    {
     "data": {
      "text/plain": [
       "bs4.element.Tag"
      ]
     },
     "execution_count": 16,
     "metadata": {},
     "output_type": "execute_result"
    }
   ],
   "source": [
    "# Find the appropriate <div> that contains all of the job listings in the 1st page\n",
    "soup_jobs = soup.find(id=\"resultsCol\")\n",
    "\n",
    "# Print the data type of soup_jobs\n",
    "type(soup_jobs)"
   ]
  },
  {
   "cell_type": "code",
   "execution_count": 17,
   "metadata": {
    "scrolled": false
   },
   "outputs": [
    {
     "data": {
      "text/plain": [
       "bs4.element.ResultSet"
      ]
     },
     "execution_count": 17,
     "metadata": {},
     "output_type": "execute_result"
    }
   ],
   "source": [
    "# Find all job listing\n",
    "job_cards = soup_jobs.find_all('div', class_='jobsearch-SerpJobCard')\n",
    "\n",
    "# Print the data type of job_cards\n",
    "type(job_cards)"
   ]
  },
  {
   "cell_type": "markdown",
   "metadata": {},
   "source": [
    "**Quick Note**: job_cards is an iterator"
   ]
  },
  {
   "cell_type": "code",
   "execution_count": 18,
   "metadata": {},
   "outputs": [
    {
     "data": {
      "text/plain": [
       "13"
      ]
     },
     "execution_count": 18,
     "metadata": {},
     "output_type": "execute_result"
    }
   ],
   "source": [
    "# How many jobs listed in the 1st page? \n",
    "len(job_cards)"
   ]
  },
  {
   "cell_type": "code",
   "execution_count": 19,
   "metadata": {},
   "outputs": [
    {
     "data": {
      "text/plain": [
       "['Data Scientist',\n",
       " 'Data Scientist',\n",
       " 'Senior Statistical Programmer',\n",
       " 'Data Scientist\\nnew',\n",
       " 'Sports Statistician\\nnew',\n",
       " 'Data Scientist\\nnew',\n",
       " 'Data Scientist - 100% Remote Available\\nnew',\n",
       " 'Sr Data Scientist (Big Data)\\nnew',\n",
       " 'Data Scientist',\n",
       " 'Data Scientist - Nationwide Opportunities',\n",
       " 'Decision Science Analyst I\\nnew',\n",
       " 'Data Scientist',\n",
       " 'Senior Data Analyst']"
      ]
     },
     "execution_count": 19,
     "metadata": {},
     "output_type": "execute_result"
    }
   ],
   "source": [
    "# Print the job titles\n",
    "\n",
    "titles = []\n",
    "\n",
    "for job in job_cards:\n",
    "    title = job.find('h2', class_='title')\n",
    "    title = title.text.strip()\n",
    "    titles.append(title)\n",
    "\n",
    "titles"
   ]
  },
  {
   "cell_type": "code",
   "execution_count": 20,
   "metadata": {},
   "outputs": [
    {
     "data": {
      "text/plain": [
       "['Sourceability',\n",
       " 'Alaka`ina Foundation Family of Companies',\n",
       " 'Translational Drug Development (TD2)',\n",
       " 'Pinnacle Inc',\n",
       " 'Life Time',\n",
       " 'Teledyne Brown Engineering',\n",
       " 'USAA',\n",
       " 'Deloitte',\n",
       " 'iHeartMedia, Inc.',\n",
       " 'Amazon Web Services, Inc.',\n",
       " 'USAA',\n",
       " 'Huntington Ingalls Industries Inc.',\n",
       " 'Insight Global']"
      ]
     },
     "execution_count": 20,
     "metadata": {},
     "output_type": "execute_result"
    }
   ],
   "source": [
    "# Print companies that post the jobs\n",
    "\n",
    "companies = []\n",
    "\n",
    "for job in job_cards:\n",
    "    company = job.find('span', class_='company')\n",
    "    company = company.text.strip()\n",
    "    companies.append(company)\n",
    "\n",
    "companies"
   ]
  },
  {
   "cell_type": "code",
   "execution_count": 21,
   "metadata": {
    "scrolled": true
   },
   "outputs": [
    {
     "data": {
      "text/plain": [
       "['30+ days ago',\n",
       " '30+ days ago',\n",
       " '30+ days ago',\n",
       " 'Today',\n",
       " 'Today',\n",
       " '3 days ago',\n",
       " '1 day ago',\n",
       " '3 days ago',\n",
       " '30+ days ago',\n",
       " '30+ days ago',\n",
       " '1 day ago',\n",
       " '30+ days ago',\n",
       " '30+ days ago']"
      ]
     },
     "execution_count": 21,
     "metadata": {},
     "output_type": "execute_result"
    }
   ],
   "source": [
    "# Print out the dates for each job post\n",
    "\n",
    "dates = []\n",
    "\n",
    "for job in job_cards:\n",
    "    date = job.find('span', class_='date')\n",
    "    date = date.text.strip()\n",
    "    dates.append(date)\n",
    "\n",
    "dates"
   ]
  },
  {
   "cell_type": "code",
   "execution_count": 36,
   "metadata": {
    "scrolled": false
   },
   "outputs": [
    {
     "data": {
      "text/plain": [
       "['https://www.indeed.com/pagead/clk?mo=r&ad=-6NYlbfkN0ADvRi4Fhzo6Lhixq24Efpt7RwpjKDyUQihLKB9436vvhUCqFEm-nkW0la8YnoGNEFh8i3JW6ZTXhE4DkVrso5T3Vz8yXJdq2dJLsgTANS_yKbR-JYOMuO2e5aBVxks2k6rMMP9qB20LAKyRlZvk7-84WO46AyQ2moZGjxCJmldcEsitmXLLHDrDCiKyI_Um6C17Av3wxj40vj0_JVHEhvHuJp0dbnwSNg__29E9tPghf-Y_5IW9e9AJd0-mhzFvPzcDkeMl3ZM9Ja9xyEFsihlpjS3wDqtCEECp334F-mXB43RLl86zjD3QAQWOi3CJYz3noGbL3ru8v75zxKElhvk7N8U46U5eVFd6A7sC9Eod2K-_28f9C3En0J83SiY-b16xrQf1gTQaeq8ket5b_DIWDvbp3M1F3gvWslN509rFgJzpWNkOwoygydZt5s4T6ElCnHtCsoX9ZA-DE0Z9Ue1RBprcyjr2nQ=&p=0&fvj=1&vjs=3',\n",
       " 'https://www.indeed.com/pagead/clk?mo=r&ad=-6NYlbfkN0ChVmeEeaXfnw-D8ZhSBdgPTvIDVQB7yRHpNgp4If4E6BPeUXihMwd6UnesnvFhRawTBE6lMAHmma4yWjnBU0_rsltaaHuLFeKWQ_Pt3WebnFJnjdnPIvTKvYOZRuHGkGRcT9n4y2Vywlao5_EUq4WuPRcpiP881XlBl2gEZX2clHScriIuHec2fGorjjYUT5-hhf4060StLbFG1OmWmVNtUz2MnNaJynUlAwjDvqScYjDCq_wnkWpM6VBKKLwKATo5SVvy7xScrUSKTjmyzg_uz0SUA3bR24iwro_z3wDKQ0JhOroTeB8RIajzH__V1vh1pM5gjRhxlbx6SDe0CNwrea8AFEoco1JbxsHdiBDaWBC14BA7mCDCclPU3V6UeJ6YRncCaSe5OyGN0N8VVkgfhd7uXI-Et3N2EzkCugicCuG-dPZFJoig1VydgDVtB1inqj2W2vXRtCdO7ic9QFLZ&p=1&fvj=1&vjs=3',\n",
       " 'https://www.indeed.com/pagead/clk?mo=r&ad=-6NYlbfkN0DVsnpbmbPWUZNiYhtAWYz_xeqmG4awNNH52XW5baI6saz2OvDw8IcAKXuAw_PFWbZoVpg0yxDBLyKTKNh2xaImnrEXeG2jt7hted70_zz_sVS2YwJa1akOILc1pSMTOYs1XYsZFdH310ROoiAc2hOG9syf8KQLju6LUCT2Z9JkmIoX2vEYf9ZWK1yJmQxqmsofVSsMLXtS7xXuRPm9HgMZ83frNIX5wrCoVTadgYdsuz0b4Calqol6x8vK8JDQ7GJbBJUWu4s4wDb_USGThjdis1E10TzfncfkYRqlnHg5BjFJS79jA2HqxQThf1fGJrcTlKPSZDZ5H9ZJlblYS_ofhxvhV5IWyXPeTwl_Cf5nXb6SaLJNTPkMqrxCxTAkzggGXLTgEKumoj7x9lVKY8XGpFiw06lvvKkFNfyakIxJKjnEz9Ej890-MpQgoqa5uIE1YekS9AgiYjorXtXI2bGO&p=2&fvj=1&vjs=3',\n",
       " 'https://www.indeed.com/company/PINNACLE-INC/jobs/Data-Scientist-bebdc92b14d2a19a?fccid=8619c9c3e5c7c61f&vjs=3',\n",
       " 'https://www.indeed.com/rc/clk?jk=3a224d3d3228b96b&fccid=60eb11476904a56f&vjs=3',\n",
       " 'https://www.indeed.com/rc/clk?jk=343ae61243772c0e&fccid=56fc1ffc1942e614&vjs=3',\n",
       " 'https://www.indeed.com/rc/clk?jk=48c1334e45d90aa6&fccid=3a1edc2d763c4288&vjs=3',\n",
       " 'https://www.indeed.com/rc/clk?jk=c0242b7eb4e12b4d&fccid=9e215d88a6b33622&vjs=3',\n",
       " 'https://www.indeed.com/rc/clk?jk=01fe0b6d933f3c5f&fccid=5b2f9eaa91cb3370&vjs=3',\n",
       " 'https://www.indeed.com/rc/clk?jk=80461afcbb190ed3&fccid=fe2d21eef233e94a&vjs=3',\n",
       " 'https://www.indeed.com/rc/clk?jk=f5777dc3d48996c3&fccid=3a1edc2d763c4288&vjs=3',\n",
       " 'https://www.indeed.com/rc/clk?jk=93efc3d26f4f9a0a&fccid=9f2bb83bd9bfe2fc&vjs=3',\n",
       " 'https://www.indeed.com/cmp/Insight-Global']"
      ]
     },
     "execution_count": 36,
     "metadata": {},
     "output_type": "execute_result"
    }
   ],
   "source": [
    "# Print out the relative links for each job post\n",
    "\n",
    "links = []\n",
    "\n",
    "for job in job_cards:\n",
    "    link = job.find('a')['href']\n",
    "    link = 'https://www.indeed.com' + link\n",
    "    link = link.replace(';', '&')\n",
    "    links.append(link)\n",
    "\n",
    "links"
   ]
  },
  {
   "cell_type": "code",
   "execution_count": 45,
   "metadata": {},
   "outputs": [
    {
     "data": {
      "text/plain": [
       "200"
      ]
     },
     "execution_count": 45,
     "metadata": {},
     "output_type": "execute_result"
    }
   ],
   "source": [
    "# Acqurire the data from USAA job post\n",
    "\n",
    "# Assign the url to a new variable\n",
    "url_usaa = links[6]\n",
    "\n",
    "# Make the HTTP request\n",
    "page_usaa = requests.get(url_usaa)\n",
    "\n",
    "# Check the status of the request\n",
    "page_usaa.status_code"
   ]
  },
  {
   "cell_type": "code",
   "execution_count": 47,
   "metadata": {},
   "outputs": [
    {
     "data": {
      "text/plain": [
       "'Data Scientist - 100% Remote Available - San Antonio, TX 78288 - Indeed.com'"
      ]
     },
     "execution_count": 47,
     "metadata": {},
     "output_type": "execute_result"
    }
   ],
   "source": [
    "# Make a soup variable holding the response content\n",
    "soup_usaa = BeautifulSoup(page_usaa.content, \"html.parser\")\n",
    "\n",
    "# Get the page's title\n",
    "soup_usaa.title.string"
   ]
  },
  {
   "cell_type": "code",
   "execution_count": 56,
   "metadata": {},
   "outputs": [
    {
     "data": {
      "text/plain": [
       "bs4.element.Tag"
      ]
     },
     "execution_count": 56,
     "metadata": {},
     "output_type": "execute_result"
    }
   ],
   "source": [
    "# Find the section that contains job description\n",
    "\n",
    "job_description = soup_usaa.find('div', id=\"jobDescriptionText\")\n",
    "type(job_description)"
   ]
  },
  {
   "cell_type": "code",
   "execution_count": 66,
   "metadata": {},
   "outputs": [
    {
     "data": {
      "text/plain": [
       "'div'"
      ]
     },
     "execution_count": 66,
     "metadata": {},
     "output_type": "execute_result"
    }
   ],
   "source": [
    "# Print the name of the tag\n",
    "job_description.name"
   ]
  },
  {
   "cell_type": "code",
   "execution_count": 67,
   "metadata": {},
   "outputs": [
    {
     "data": {
      "text/plain": [
       "{'id': 'jobDescriptionText', 'class': ['jobsearch-jobDescriptionText']}"
      ]
     },
     "execution_count": 67,
     "metadata": {},
     "output_type": "execute_result"
    }
   ],
   "source": [
    "# Print the attibutes of the tag\n",
    "job_description.attrs"
   ]
  },
  {
   "cell_type": "code",
   "execution_count": 82,
   "metadata": {},
   "outputs": [
    {
     "name": "stdout",
     "output_type": "stream",
     "text": [
      "Its data type is:  <class 'list'>\n"
     ]
    },
    {
     "data": {
      "text/plain": [
       "[<div><h2 class=\"jobSectionHeader\"><b>Purpose of Job</b></h2>\n",
       " We are currently seeking a talented Data Scientist - 100% Remote Available for the San Antonio Home Office I.<br/>\n",
       " <br/>\n",
       " Uses advanced techniques that integrate traditional and non-traditional datasets and method to enable analytical solutions; Applies predictive analytics, machine learning, simulation, and optimization techniques to generate management insights and enable customer-facing applications; participates in building analytical solutions leveraging internal and external applications to deliver value and create competitive advantage; Translates complex analytical and technical concepts to non-technical employees<p></p><h2 class=\"jobSectionHeader\"><b>\n",
       " Job Requirements</b></h2><p><b>\n",
       " About USAA</b></p><p>\n",
       " USAA knows what it means to serve. We facilitate the financial security of millions of U.S. military members and their families. This singular mission requires a dedication to innovative thinking at every level.</p><p></p><p>\n",
       " In each of the past five years, we've been a top-40 Fortune 100 Best Companies to Work For®, and we've ranked among Victory Media's Top 10 Military Friendly® Employers 13 years straight. We embrace a robust veteran workforce and encourage veterans and veteran spouses to apply.</p><p></p><p>\n",
       " USAA Careers - Award Winning Workplace (17 seconds)</p><p>\n",
       " USAA Careers – World Class Benefits (31 seconds)</p><p></p><p><b>\n",
       " Tasks:</b></p><ul><li>\n",
       " Partners with other analysts across the organization to fully define business problems and research questions; Supports SME's on cross functional matrixed teams to solve highly complex work critical to the organization.</li><li>\n",
       " Integrates and extracts relevant information from large amounts of both structured and unstructured data (internal and external) to enable analytical solutions.</li><li>\n",
       " Conducts advanced analytics leveraging predictive modeling, machine learning, simulation, optimization and other techniques to deliver insights or develop analytical solutions to achieve business objectives.</li><li>\n",
       " Supports Subject Matter Experts (SME's) on efforts to develop scalable, efficient, automated solutions for large scale data analyses, model development, model validation and model implementation.</li><li>\n",
       " Works with IT to research architecture for new products, services, and features.</li><li>\n",
       " Develops algorithms and supporting code such that research efforts are based on the highest quality data.</li><li>\n",
       " Translates complex analytical and technical concepts to non-technical employees to enable understanding and drive informed business decisions.</li></ul><p></p><p><b>\n",
       " Minimum Education:</b></p><ul><li>\n",
       " Master's degree in Computer Science, Applied Mathematics, Quantitative Economics, Statistics, or related field.</li><li>\n",
       " 6 additional years of related experience beyond the minimum required may be substituted in lieu of a degree.</li></ul><p></p><p><b>\n",
       " Minimum Experience:</b></p><ul><li>\n",
       " 4 or more years of related experience and accountability for complex tasks and/or projects required.</li><li>\n",
       " Proficient knowledge of the function/discipline and demonstrated application of knowledge, skills and abilities towards work products required.</li><li>\n",
       " Proficient level of business acumen in the areas of the business operations, industry practices and emerging trends required.</li></ul><p></p><p><b>\n",
       " Preferred</b></p><ul><li>\n",
       " Hands-on experience developing products that utilize advanced machine learning techniques like deep learning in areas such as computer vision, Natural Language Processing (NLP), sensor data from the Internet of Things (IoT), and recommender systems; along with transitioning those solutions from the development environment into the production environment for full-time use.</li><li>\n",
       " Fluent in deep learning frameworks and libraries (TensorFlow, Keras, PyTorch, etc).</li><li>\n",
       " Highly skilled in handling Big Data (Hadoop, Hive, Spark, Kafka, etc).</li><li>\n",
       " Highly competent at data wrangling and data engineering in SQL and SAS as well as advanced machine learning (ML) techniques using Python; comfortable in cloud computing environments (Azure, GCP, AWS).</li></ul><p></p><p>\n",
       " *Qualifications may warrant placement in a different job level*</p><p><b>\n",
       " Compensation:</b></p><p>\n",
       "  USAA has an effective process for assessing market data and establishing ranges to ensure we remain competitive. You are paid within the salary range based on your experience and market position. The salary range for this position is: $88,200 - $158,900 *(this does not include geographic differential it may be applied based on your work location)</p><p>\n",
       " Employees may be eligible for pay incentives based on overall corporate and individual performance or at the discretion of the USAA Board of Directors.\n",
       " </p><p></p><ul><li><b>Geographical Differential</b>: Geographic pay differential is additional pay provided to eligible employees working in locations where market pay levels are above the national average.\n",
       " </li></ul><p></p><p><b>Shift premium</b> will be addressed on an individual-basis for applicable roles that are consistently scheduled for non-core hours.</p><p></p><p><b>\n",
       " Benefits:</b></p><p>\n",
       "  At USAA our employees enjoy best-in-class benefits to support their physical, financial, and emotional wellness. These benefits include comprehensive medical, dental and vision plans, 401(k), pension, life insurance, parental benefits, adoption assistance, paid time off program with paid holidays plus 16 paid volunteer hours, and various wellness programs. Additionally, our career path planning and continuing education assists employees with their professional goals.\n",
       " </p><p></p><p>Please click on the link below for more details.</p><p><b>\n",
       " USAA Total Rewards</b></p><p></p><p>\n",
       " The above description reflects the details considered necessary to describe the principal functions of the job and should not be construed as a detailed description of all the work requirements that may be performed in the job.</p><p></p><p>\n",
       " At USAA our employees enjoy one of the best benefits packages in the business, including a flexible business casual or casual dress environment, comprehensive medical, dental and vision plans, along with wellness and wealth building programs. Additionally, our career path planning and continuing education will assist you with your professional goals.</p><p></p><p>\n",
       " USAA also offers a variety of on-site services and conveniences to help you manage your work and personal life, including seven cafeterias, two company stores and three fitness centers.</p><p></p><p><b>\n",
       " Relocation</b> assistance is <b>available</b> for this position.</p></div>,\n",
       " <p></p>]"
      ]
     },
     "execution_count": 82,
     "metadata": {},
     "output_type": "execute_result"
    }
   ],
   "source": [
    "# Print the contents of the tag\n",
    "\n",
    "print(\"Its data type is: \", type(job_description.contents))\n",
    "job_description.contents"
   ]
  },
  {
   "cell_type": "code",
   "execution_count": 83,
   "metadata": {
    "scrolled": false
   },
   "outputs": [
    {
     "name": "stdout",
     "output_type": "stream",
     "text": [
      "Its data type is:  <class 'str'>\n"
     ]
    },
    {
     "data": {
      "text/plain": [
       "\"Purpose of Job\\nWe are currently seeking a talented Data Scientist - 100% Remote Available for the San Antonio Home Office I.\\n\\nUses advanced techniques that integrate traditional and non-traditional datasets and method to enable analytical solutions; Applies predictive analytics, machine learning, simulation, and optimization techniques to generate management insights and enable customer-facing applications; participates in building analytical solutions leveraging internal and external applications to deliver value and create competitive advantage; Translates complex analytical and technical concepts to non-technical employees\\nJob Requirements\\nAbout USAA\\nUSAA knows what it means to serve. We facilitate the financial security of millions of U.S. military members and their families. This singular mission requires a dedication to innovative thinking at every level.\\nIn each of the past five years, we've been a top-40 Fortune 100 Best Companies to Work For®, and we've ranked among Victory Media's Top 10 Military Friendly® Employers 13 years straight. We embrace a robust veteran workforce and encourage veterans and veteran spouses to apply.\\nUSAA Careers - Award Winning Workplace (17 seconds)\\nUSAA Careers – World Class Benefits (31 seconds)\\nTasks:\\nPartners with other analysts across the organization to fully define business problems and research questions; Supports SME's on cross functional matrixed teams to solve highly complex work critical to the organization.\\nIntegrates and extracts relevant information from large amounts of both structured and unstructured data (internal and external) to enable analytical solutions.\\nConducts advanced analytics leveraging predictive modeling, machine learning, simulation, optimization and other techniques to deliver insights or develop analytical solutions to achieve business objectives.\\nSupports Subject Matter Experts (SME's) on efforts to develop scalable, efficient, automated solutions for large scale data analyses, model development, model validation and model implementation.\\nWorks with IT to research architecture for new products, services, and features.\\nDevelops algorithms and supporting code such that research efforts are based on the highest quality data.\\nTranslates complex analytical and technical concepts to non-technical employees to enable understanding and drive informed business decisions.\\nMinimum Education:\\nMaster's degree in Computer Science, Applied Mathematics, Quantitative Economics, Statistics, or related field.\\n6 additional years of related experience beyond the minimum required may be substituted in lieu of a degree.\\nMinimum Experience:\\n4 or more years of related experience and accountability for complex tasks and/or projects required.\\nProficient knowledge of the function/discipline and demonstrated application of knowledge, skills and abilities towards work products required.\\nProficient level of business acumen in the areas of the business operations, industry practices and emerging trends required.\\nPreferred\\nHands-on experience developing products that utilize advanced machine learning techniques like deep learning in areas such as computer vision, Natural Language Processing (NLP), sensor data from the Internet of Things (IoT), and recommender systems; along with transitioning those solutions from the development environment into the production environment for full-time use.\\nFluent in deep learning frameworks and libraries (TensorFlow, Keras, PyTorch, etc).\\nHighly skilled in handling Big Data (Hadoop, Hive, Spark, Kafka, etc).\\nHighly competent at data wrangling and data engineering in SQL and SAS as well as advanced machine learning (ML) techniques using Python; comfortable in cloud computing environments (Azure, GCP, AWS).\\n*Qualifications may warrant placement in a different job level*\\nCompensation:\\n USAA has an effective process for assessing market data and establishing ranges to ensure we remain competitive. You are paid within the salary range based on your experience and market position. The salary range for this position is: $88,200 - $158,900 *(this does not include geographic differential it may be applied based on your work location)\\nEmployees may be eligible for pay incentives based on overall corporate and individual performance or at the discretion of the USAA Board of Directors.\\nGeographical Differential: Geographic pay differential is additional pay provided to eligible employees working in locations where market pay levels are above the national average.\\nShift premium will be addressed on an individual-basis for applicable roles that are consistently scheduled for non-core hours.\\nBenefits:\\n At USAA our employees enjoy best-in-class benefits to support their physical, financial, and emotional wellness. These benefits include comprehensive medical, dental and vision plans, 401(k), pension, life insurance, parental benefits, adoption assistance, paid time off program with paid holidays plus 16 paid volunteer hours, and various wellness programs. Additionally, our career path planning and continuing education assists employees with their professional goals.\\nPlease click on the link below for more details.\\nUSAA Total Rewards\\nThe above description reflects the details considered necessary to describe the principal functions of the job and should not be construed as a detailed description of all the work requirements that may be performed in the job.\\nAt USAA our employees enjoy one of the best benefits packages in the business, including a flexible business casual or casual dress environment, comprehensive medical, dental and vision plans, along with wellness and wealth building programs. Additionally, our career path planning and continuing education will assist you with your professional goals.\\nUSAA also offers a variety of on-site services and conveniences to help you manage your work and personal life, including seven cafeterias, two company stores and three fitness centers.\\nRelocation assistance is available for this position.\""
      ]
     },
     "execution_count": 83,
     "metadata": {},
     "output_type": "execute_result"
    }
   ],
   "source": [
    "# Print the contents of the tag in one string\n",
    "\n",
    "print(\"Its data type is: \", type(job_description.text))\n",
    "job_description.text"
   ]
  },
  {
   "cell_type": "markdown",
   "metadata": {},
   "source": [
    "### Build Helper Function To Acquire Job Posting Information From Indeed.com"
   ]
  },
  {
   "cell_type": "code",
   "execution_count": 74,
   "metadata": {},
   "outputs": [],
   "source": [
    "def acuqire_indeed_job_description(url):\n",
    "    \n",
    "    # Make the HTTP request\n",
    "    request = requests.get(url)\n",
    "    print(\"Status Code: \", request.status_code)\n",
    "    \n",
    "    # Make a soup variable holding the response content\n",
    "    soup = BeautifulSoup(request.content, \"html.parser\")\n",
    "    \n",
    "    # Print the page's title\n",
    "    print(soup.title.string)\n",
    "    \n",
    "    # Find the section that contains job description\n",
    "    description = soup.find('div', id=\"jobDescriptionText\")\n",
    "    \n",
    "    return description.text"
   ]
  },
  {
   "cell_type": "code",
   "execution_count": 75,
   "metadata": {},
   "outputs": [
    {
     "name": "stdout",
     "output_type": "stream",
     "text": [
      "Status Code:  200\n",
      "Data Scientist - San Antonio, TX - Indeed.com\n"
     ]
    },
    {
     "data": {
      "text/plain": [
       "'Job Title:  Data ScientistLocation:  San Antonio, TXDuration:  FulltimeRole DescriptionCoordinate with different functional teams to implement models and monitor outcomes.Develop processes and tools to monitor and analyze model performance and data accuracy.Coding knowledge and experience with several languages: Python or any OO languageKnowledge and experience in statistical and data mining techniques: GLM/Regression, Random Forest, Boosting, Trees, text mining, social network analysis, etc.Experience querying databases SQL, etc.Experience creating and using advanced machine learning algorithms and statistics along with NLP: regression, simulation, scenario analysis, modeling, clustering, decision trees, neural networks, etc.Experience with distributed data/computing tools: Map/Reduce, Hadoop, Hive, Spark, Gurobi, MySQL, etc.Knowledge on model risk managementSupport documentation - model development, model testingJob Type: Full-timeWork Remotely:Temporarily due to COVID-19'"
      ]
     },
     "execution_count": 75,
     "metadata": {},
     "output_type": "execute_result"
    }
   ],
   "source": [
    "# Test function acuqire_indeed_job_description\n",
    "\n",
    "url = 'https://www.indeed.com/company/PINNACLE-INC/jobs/Data-Scientist-bebdc92b14d2a19a?fccid=8619c9c3e5c7c61f&vjs=3'\n",
    "acuqire_indeed_job_description(url)"
   ]
  },
  {
   "cell_type": "code",
   "execution_count": 83,
   "metadata": {},
   "outputs": [],
   "source": [
    "def acquire_indeed(job_title, location, sort_by):\n",
    "    \n",
    "    # Create base url\n",
    "    base_url = \"https://www.indeed.com/jobs?\"\n",
    "    \n",
    "    # Create the relative url based on job title and location\n",
    "    search_info = {'q': job_title, 'l': location, 'sort': sort_by}\n",
    "    relative_url = urllib.parse.urlencode(search_info)\n",
    "    \n",
    "    # Create the full url\n",
    "    url = base_url + relative_url\n",
    "    \n",
    "    # Make the HTTP request\n",
    "    first_page = requests.get(url)\n",
    "    \n",
    "    # Print the status code\n",
    "    print(\"Status Code: \", first_page.status_code)\n",
    "    \n",
    "    # Make a soup variable holding the response content\n",
    "    soup = BeautifulSoup(first_page.content, \"html.parser\")\n",
    "    \n",
    "    # Print the page's title\n",
    "    print(\"Page's Title: \", soup.title.string)\n",
    "    \n",
    "    # Find the appropriate <div> that contains all of the job listings in 1st page\n",
    "    job_results = soup.find('td', id=\"resultsCol\")\n",
    "    \n",
    "    # Find all job listings\n",
    "    job_cards = job_results.find_all('div', class_='jobsearch-SerpJobCard')\n",
    "    \n",
    "    # Print the number of jobs listed in 1st page\n",
    "    print(\"Number of jobs in this page: \", len(job_cards))\n",
    "    \n",
    "    # Pull the job titles\n",
    "    titles = []\n",
    "    for job in job_cards:\n",
    "        title = job.find('h2', class_='title')\n",
    "        title = title.text.strip()\n",
    "        titles.append(title)\n",
    "        \n",
    "    # Pull the companies\n",
    "    companies = []\n",
    "    for job in job_cards:\n",
    "        company = job.find('span', class_='company')\n",
    "        company = company.text.strip()\n",
    "        companies.append(company)\n",
    "    \n",
    "    # Pull the dates\n",
    "    dates = []\n",
    "    for job in job_cards:\n",
    "        date = job.find('span', class_='date')\n",
    "        date = date.text.strip()\n",
    "        dates.append(date)\n",
    "        \n",
    "    # Pull the hyperlinks and job description\n",
    "    links = []\n",
    "    descriptions = []\n",
    "    for job in tqdm(job_cards):\n",
    "        link = job.find('a')['href']\n",
    "        link = 'https://www.indeed.com' + link\n",
    "        link = link.replace(';', '&')\n",
    "        description = acuqire_indeed_job_description(link)\n",
    "        links.append(link)\n",
    "        descriptions.append(description)\n",
    "        \n",
    "    # Create a dataframe\n",
    "    d = {'title': titles,\n",
    "         'location': location,\n",
    "         'company': companies, \n",
    "         'dates': dates, \n",
    "         'link': links, \n",
    "         'description': descriptions}\n",
    "    df = pd.DataFrame(d)\n",
    "    \n",
    "    return df"
   ]
  },
  {
   "cell_type": "code",
   "execution_count": 84,
   "metadata": {},
   "outputs": [
    {
     "name": "stdout",
     "output_type": "stream",
     "text": [
      "Status Code:  200\n",
      "Page's Title:  Data Scientist Jobs, Employment in San Antonio, TX | Indeed.com\n",
      "Number of jobs in this page:  15\n"
     ]
    },
    {
     "data": {
      "application/vnd.jupyter.widget-view+json": {
       "model_id": "930afc72b435410b85ecd7268645b526",
       "version_major": 2,
       "version_minor": 0
      },
      "text/plain": [
       "HBox(children=(FloatProgress(value=0.0, max=15.0), HTML(value='')))"
      ]
     },
     "metadata": {},
     "output_type": "display_data"
    },
    {
     "name": "stdout",
     "output_type": "stream",
     "text": [
      "Status Code:  200\n",
      "Cloud Data Services Associate - San Antonio, TX 78206 - Indeed.com\n",
      "Status Code:  200\n",
      "Machine Learning and Artificial Intelligence Developer - San Antonio, TX 78232 - Indeed.com\n",
      "Status Code:  200\n",
      "Machine Learning Engineer - United States - Indeed.com\n",
      "Status Code:  200\n",
      "Data Scientist - San Antonio, TX - Indeed.com\n",
      "Status Code:  200\n",
      "Sports Statistician - San Antonio, TX - Indeed.com\n",
      "Status Code:  200\n",
      "Machine Learning Engineer - San Antonio, TX - Indeed.com\n",
      "Status Code:  200\n",
      "Data Scientist - 100% Remote Available - San Antonio, TX 78288 - Indeed.com\n",
      "Status Code:  200\n",
      "Decision Science Analyst I - San Antonio, TX 78288 - Indeed.com\n",
      "Status Code:  200\n",
      "Decision Science Analyst Senior (Remote Work Location Available) - San Antonio, TX 78288 - Indeed.com\n",
      "Status Code:  200\n",
      "Lead Financial Analyst - Artificial Intelligence Strategic Growth Offering (AI SGO) Finance & Investment - San Antonio, TX 78232 - Indeed.com\n",
      "Status Code:  200\n",
      "Data Scientist - San Antonio, TX - Indeed.com\n",
      "Status Code:  200\n",
      "Sr Data Scientist (Big Data) - San Antonio, TX 78232 - Indeed.com\n",
      "Status Code:  200\n",
      "Data Science Engineer - San Antonio, TX 78234 - Indeed.com\n",
      "Status Code:  200\n",
      "Senior Machine Learning Engineer (US Remote) - San Antonio, TX - Indeed.com\n",
      "Status Code:  200\n",
      "Decision Science Analyst Lead - Personal Lines (100% Remote Available) - San Antonio, TX 78288 - Indeed.com\n",
      "\n"
     ]
    }
   ],
   "source": [
    "# Test function acquire_indeed\n",
    "return_ = acquire_indeed(\"data scientist\", 'San Antonio, TX', 'date')"
   ]
  },
  {
   "cell_type": "code",
   "execution_count": 79,
   "metadata": {},
   "outputs": [
    {
     "data": {
      "text/html": [
       "<div>\n",
       "<style scoped>\n",
       "    .dataframe tbody tr th:only-of-type {\n",
       "        vertical-align: middle;\n",
       "    }\n",
       "\n",
       "    .dataframe tbody tr th {\n",
       "        vertical-align: top;\n",
       "    }\n",
       "\n",
       "    .dataframe thead th {\n",
       "        text-align: right;\n",
       "    }\n",
       "</style>\n",
       "<table border=\"1\" class=\"dataframe\">\n",
       "  <thead>\n",
       "    <tr style=\"text-align: right;\">\n",
       "      <th></th>\n",
       "      <th>title</th>\n",
       "      <th>location</th>\n",
       "      <th>company</th>\n",
       "      <th>dates</th>\n",
       "      <th>link</th>\n",
       "      <th>description</th>\n",
       "    </tr>\n",
       "  </thead>\n",
       "  <tbody>\n",
       "    <tr>\n",
       "      <th>0</th>\n",
       "      <td>Cloud Data Services Associate\\nnew</td>\n",
       "      <td>San Antonio, TX</td>\n",
       "      <td>PwC</td>\n",
       "      <td>Today</td>\n",
       "      <td>https://www.indeed.com/pagead/clk?mo=r&amp;ad=-6NY...</td>\n",
       "      <td>A career in our Digital and Applications Desig...</td>\n",
       "    </tr>\n",
       "    <tr>\n",
       "      <th>1</th>\n",
       "      <td>Machine Learning and Artificial Intelligence D...</td>\n",
       "      <td>San Antonio, TX</td>\n",
       "      <td>Deloitte</td>\n",
       "      <td>Today</td>\n",
       "      <td>https://www.indeed.com/rc/clk?jk=de18c1f025cc4...</td>\n",
       "      <td>Are you an analytical, data-driven professiona...</td>\n",
       "    </tr>\n",
       "    <tr>\n",
       "      <th>2</th>\n",
       "      <td>Machine Learning Engineer\\nnew</td>\n",
       "      <td>San Antonio, TX</td>\n",
       "      <td>Shrimpy</td>\n",
       "      <td>1 day ago</td>\n",
       "      <td>https://www.indeed.com/pagead/clk?mo=r&amp;ad=-6NY...</td>\n",
       "      <td>About UsShrimpy is the first crypto portfolio ...</td>\n",
       "    </tr>\n",
       "    <tr>\n",
       "      <th>3</th>\n",
       "      <td>Data Scientist\\nnew</td>\n",
       "      <td>San Antonio, TX</td>\n",
       "      <td>Pinnacle Inc</td>\n",
       "      <td>1 day ago</td>\n",
       "      <td>https://www.indeed.com/company/PINNACLE-INC/jo...</td>\n",
       "      <td>Job Title:  Data ScientistLocation:  San Anton...</td>\n",
       "    </tr>\n",
       "    <tr>\n",
       "      <th>4</th>\n",
       "      <td>Sports Statistician\\nnew</td>\n",
       "      <td>San Antonio, TX</td>\n",
       "      <td>Life Time</td>\n",
       "      <td>1 day ago</td>\n",
       "      <td>https://www.indeed.com/rc/clk?jk=3a224d3d3228b...</td>\n",
       "      <td>Position Summary\\nThe Statistician assists in ...</td>\n",
       "    </tr>\n",
       "    <tr>\n",
       "      <th>5</th>\n",
       "      <td>Machine Learning Engineer\\nnew</td>\n",
       "      <td>San Antonio, TX</td>\n",
       "      <td>Pinnacle Inc</td>\n",
       "      <td>1 day ago</td>\n",
       "      <td>https://www.indeed.com/company/PINNACLE-INC/jo...</td>\n",
       "      <td>Job Title:  Machine Learning EngineerLocation:...</td>\n",
       "    </tr>\n",
       "    <tr>\n",
       "      <th>6</th>\n",
       "      <td>Data Scientist - 100% Remote Available\\nnew</td>\n",
       "      <td>San Antonio, TX</td>\n",
       "      <td>USAA</td>\n",
       "      <td>2 days ago</td>\n",
       "      <td>https://www.indeed.com/rc/clk?jk=48c1334e45d90...</td>\n",
       "      <td>Purpose of Job\\nWe are currently seeking a tal...</td>\n",
       "    </tr>\n",
       "    <tr>\n",
       "      <th>7</th>\n",
       "      <td>Decision Science Analyst I\\nnew</td>\n",
       "      <td>San Antonio, TX</td>\n",
       "      <td>USAA</td>\n",
       "      <td>2 days ago</td>\n",
       "      <td>https://www.indeed.com/rc/clk?jk=f5777dc3d4899...</td>\n",
       "      <td>Purpose of Job\\nWe are currently seeking a tal...</td>\n",
       "    </tr>\n",
       "    <tr>\n",
       "      <th>8</th>\n",
       "      <td>Decision Science Analyst Senior (Remote Work L...</td>\n",
       "      <td>San Antonio, TX</td>\n",
       "      <td>USAA</td>\n",
       "      <td>2 days ago</td>\n",
       "      <td>https://www.indeed.com/rc/clk?jk=63636e1b28331...</td>\n",
       "      <td>Purpose of Job\\nWe are currently seeking a tal...</td>\n",
       "    </tr>\n",
       "    <tr>\n",
       "      <th>9</th>\n",
       "      <td>Lead Financial Analyst - Artificial Intelligen...</td>\n",
       "      <td>San Antonio, TX</td>\n",
       "      <td>Deloitte</td>\n",
       "      <td>2 days ago</td>\n",
       "      <td>https://www.indeed.com/rc/clk?jk=dd0f7e4f169a7...</td>\n",
       "      <td>Lead Financial Analyst-Artificial Intelligence...</td>\n",
       "    </tr>\n",
       "    <tr>\n",
       "      <th>10</th>\n",
       "      <td>Data Scientist\\nnew</td>\n",
       "      <td>San Antonio, TX</td>\n",
       "      <td>Teledyne Brown Engineering</td>\n",
       "      <td>4 days ago</td>\n",
       "      <td>https://www.indeed.com/rc/clk?jk=343ae61243772...</td>\n",
       "      <td>Company Overview\\nTeledyne Brown Engineering, ...</td>\n",
       "    </tr>\n",
       "    <tr>\n",
       "      <th>11</th>\n",
       "      <td>Sr Data Scientist (Big Data)\\nnew</td>\n",
       "      <td>San Antonio, TX</td>\n",
       "      <td>Deloitte</td>\n",
       "      <td>4 days ago</td>\n",
       "      <td>https://www.indeed.com/rc/clk?jk=c0242b7eb4e12...</td>\n",
       "      <td>Are you passionate about cyber and security ch...</td>\n",
       "    </tr>\n",
       "    <tr>\n",
       "      <th>12</th>\n",
       "      <td>Data Science Engineer\\nnew</td>\n",
       "      <td>San Antonio, TX</td>\n",
       "      <td>Sekon</td>\n",
       "      <td>4 days ago</td>\n",
       "      <td>https://www.indeed.com/rc/clk?jk=5e90433be0109...</td>\n",
       "      <td>SeKON is looking for a Data Science Engineer t...</td>\n",
       "    </tr>\n",
       "    <tr>\n",
       "      <th>13</th>\n",
       "      <td>Senior Machine Learning Engineer (US Remote)</td>\n",
       "      <td>San Antonio, TX</td>\n",
       "      <td>Plum Lending</td>\n",
       "      <td>15 days ago</td>\n",
       "      <td>https://www.indeed.com/rc/clk?jk=1eb12cdb1afaf...</td>\n",
       "      <td>Senior Machine Learning Engineer\\n\\nJOB SUMMAR...</td>\n",
       "    </tr>\n",
       "    <tr>\n",
       "      <th>14</th>\n",
       "      <td>Decision Science Analyst Lead - Personal Lines...</td>\n",
       "      <td>San Antonio, TX</td>\n",
       "      <td>USAA</td>\n",
       "      <td>27 days ago</td>\n",
       "      <td>https://www.indeed.com/rc/clk?jk=7bfa074dd32dc...</td>\n",
       "      <td>Purpose of Job\\nProvide decision support for b...</td>\n",
       "    </tr>\n",
       "  </tbody>\n",
       "</table>\n",
       "</div>"
      ],
      "text/plain": [
       "                                                title         location  \\\n",
       "0                  Cloud Data Services Associate\\nnew  San Antonio, TX   \n",
       "1   Machine Learning and Artificial Intelligence D...  San Antonio, TX   \n",
       "2                      Machine Learning Engineer\\nnew  San Antonio, TX   \n",
       "3                                 Data Scientist\\nnew  San Antonio, TX   \n",
       "4                            Sports Statistician\\nnew  San Antonio, TX   \n",
       "5                      Machine Learning Engineer\\nnew  San Antonio, TX   \n",
       "6         Data Scientist - 100% Remote Available\\nnew  San Antonio, TX   \n",
       "7                     Decision Science Analyst I\\nnew  San Antonio, TX   \n",
       "8   Decision Science Analyst Senior (Remote Work L...  San Antonio, TX   \n",
       "9   Lead Financial Analyst - Artificial Intelligen...  San Antonio, TX   \n",
       "10                                Data Scientist\\nnew  San Antonio, TX   \n",
       "11                  Sr Data Scientist (Big Data)\\nnew  San Antonio, TX   \n",
       "12                         Data Science Engineer\\nnew  San Antonio, TX   \n",
       "13       Senior Machine Learning Engineer (US Remote)  San Antonio, TX   \n",
       "14  Decision Science Analyst Lead - Personal Lines...  San Antonio, TX   \n",
       "\n",
       "                       company        dates  \\\n",
       "0                          PwC        Today   \n",
       "1                     Deloitte        Today   \n",
       "2                      Shrimpy    1 day ago   \n",
       "3                 Pinnacle Inc    1 day ago   \n",
       "4                    Life Time    1 day ago   \n",
       "5                 Pinnacle Inc    1 day ago   \n",
       "6                         USAA   2 days ago   \n",
       "7                         USAA   2 days ago   \n",
       "8                         USAA   2 days ago   \n",
       "9                     Deloitte   2 days ago   \n",
       "10  Teledyne Brown Engineering   4 days ago   \n",
       "11                    Deloitte   4 days ago   \n",
       "12                       Sekon   4 days ago   \n",
       "13                Plum Lending  15 days ago   \n",
       "14                        USAA  27 days ago   \n",
       "\n",
       "                                                 link  \\\n",
       "0   https://www.indeed.com/pagead/clk?mo=r&ad=-6NY...   \n",
       "1   https://www.indeed.com/rc/clk?jk=de18c1f025cc4...   \n",
       "2   https://www.indeed.com/pagead/clk?mo=r&ad=-6NY...   \n",
       "3   https://www.indeed.com/company/PINNACLE-INC/jo...   \n",
       "4   https://www.indeed.com/rc/clk?jk=3a224d3d3228b...   \n",
       "5   https://www.indeed.com/company/PINNACLE-INC/jo...   \n",
       "6   https://www.indeed.com/rc/clk?jk=48c1334e45d90...   \n",
       "7   https://www.indeed.com/rc/clk?jk=f5777dc3d4899...   \n",
       "8   https://www.indeed.com/rc/clk?jk=63636e1b28331...   \n",
       "9   https://www.indeed.com/rc/clk?jk=dd0f7e4f169a7...   \n",
       "10  https://www.indeed.com/rc/clk?jk=343ae61243772...   \n",
       "11  https://www.indeed.com/rc/clk?jk=c0242b7eb4e12...   \n",
       "12  https://www.indeed.com/rc/clk?jk=5e90433be0109...   \n",
       "13  https://www.indeed.com/rc/clk?jk=1eb12cdb1afaf...   \n",
       "14  https://www.indeed.com/rc/clk?jk=7bfa074dd32dc...   \n",
       "\n",
       "                                          description  \n",
       "0   A career in our Digital and Applications Desig...  \n",
       "1   Are you an analytical, data-driven professiona...  \n",
       "2   About UsShrimpy is the first crypto portfolio ...  \n",
       "3   Job Title:  Data ScientistLocation:  San Anton...  \n",
       "4   Position Summary\\nThe Statistician assists in ...  \n",
       "5   Job Title:  Machine Learning EngineerLocation:...  \n",
       "6   Purpose of Job\\nWe are currently seeking a tal...  \n",
       "7   Purpose of Job\\nWe are currently seeking a tal...  \n",
       "8   Purpose of Job\\nWe are currently seeking a tal...  \n",
       "9   Lead Financial Analyst-Artificial Intelligence...  \n",
       "10  Company Overview\\nTeledyne Brown Engineering, ...  \n",
       "11  Are you passionate about cyber and security ch...  \n",
       "12  SeKON is looking for a Data Science Engineer t...  \n",
       "13  Senior Machine Learning Engineer\\n\\nJOB SUMMAR...  \n",
       "14  Purpose of Job\\nProvide decision support for b...  "
      ]
     },
     "execution_count": 79,
     "metadata": {},
     "output_type": "execute_result"
    }
   ],
   "source": [
    "return_"
   ]
  },
  {
   "cell_type": "code",
   "execution_count": 88,
   "metadata": {},
   "outputs": [
    {
     "data": {
      "text/plain": [
       "\"Purpose of Job\\nWe are currently seeking a talented Decision Science Analyst I for one of the following locations: San Antonio Home Office I, Colorado Springs Campus, Phoenix Campus, Tampa Crosstown, Tampa Campus, Chesapeake or possibly Remote.\\n\\nDecision Science Analyst I\\n\\nCommunity: Data & Analytics\\n\\nJobs that are part of a community have unique requirements established to maintain consistent application, usage and reporting structure. Please reach out to your HR Business Partner for additional information on specific requirements prior to posting and/or employee placement into this job.\\n\\nProvide decision support for business areas across the enterprise. Staff in this area will be responsible for applying mathematical and statistical techniques and/or innovative /quantitative analytical approaches to draw conclusions and make 'insight to action' recommendations to answer business objectives and drive change. The essence of work performed by the Decision Science Analyst involves gathering, manipulating and synthesizing data (e.g., attributes, transactions, behaviors, etc.), models and other relevant information to draw conclusions and make recommendations resulting in implementable strategies.\\nJob Requirements\\nAbout USAA\\nUSAA knows what it means to serve. We facilitate the financial security of millions of U.S. military members and their families. This singular mission requires a dedication to innovative thinking at every level.\\nIn each of the past five years, we've been a top-40 Fortune 100 Best Companies to Work For®, and we've ranked among Victory Media's Top 10 Military Friendly® Employers 13 years straight. We embrace a robust veteran workforce and encourage veterans and veteran spouses to apply.\\nUSAA Careers - Award Winning Workplace (17 seconds)\\nUSAA Careers – World Class Benefits (31 seconds)\\nJob Duties\\nLeverages business/analytical knowledge to participate in discussions with cross functional teams to understand and collaborate on business objectives and influence solution strategies.\\nThe business problems analyzed are typically medium to large scale with impact to current and/or future business strategy.\\nApplies innovative and scientific/quantitative analytical approaches to draw conclusions and make 'insight to action' recommendations to answer the business objective and drive the appropriate change.\\nTranslates recommendation into communication materials to effectively present to colleagues for peer review and mid-to-upper level management.\\nIncorporates visualization techniques to support the relevant points of the analysis and ease the understanding for less technical audiences.\\nIdentifies and gathers the relevant and quality data sources required to fully answer and address the problem for the recommended strategy through testing or exploratory data analysis (EDA).\\nIntegrates/transforms disparate data sources and determines the appropriate data hygiene techniques to apply.\\nThoroughly documents assumptions, methodology, validation and testing to facilitate peer reviews.\\nSubsequent analysts should be able to rely on documentation to replicate and continue work.\\nUnderstands and adopts emerging technology that can affect the application of scientific methodologies and/or quantitative analytical approaches to problem resolutions.\\nDelivers analysis/findings in a manner that conveys understanding, influences mid to upper level management, garners support for recommendations, drives business decisions, and influences business strategy.\\nRecommendations typically have an impact on business results.\\nMinimum Experience\\nBachelor's degree in Economics, Finance, Statistics, Mathematics, Actuarial Sciences or other quantitative discipline or 4 additional years (8 Total) of work experience in statistics, mathematics or quantitative analytics or related experience can be substituted in lieu of a degree in addition to the minimum years of work experience required OR a Master's Degree in quantitative analytics or a related field OR a PhD in quantitative analytics or a related field.\\nIf Bachelor's degree, 4 or more years’ experience in a decision support analytic function OR If Master's Degree, 2 or more years’ experience in a decision support analytic function, OR If PhD, 1 or more years’ experience in a decision support analytic function - Demonstrates competency in mathematical and statistical techniques and approaches used to drive fact-based decision-making.\\nSuccessful completion of a job-related assessment may be required.\\n*Qualifications may warrant placement in a different job level*\\nWhen you apply for this position, you will be required to answer some initial questions. This will take approximately 5 minutes. Once you begin the questions you will not be able to finish them at a later time and you will not be able to change your responses.\\nPreferred Experience\\nAbility to multi-task efficiently at a high level in a fast-paced environment (Extremely important).\\nPrior digital marketing analytical experience in Insurance or Banking; knowledge of marketing analytical process and measurement framework.\\nAbility to work on multiple projects in a fast-paced environment with limited supervision.\\nStrong relationship management and negotiation skills; ability to influence senior leadership and drive business results.\\nExperience implementing emerging technology and techniques for analytical purposes.\\nTesting experience – designing, leading, executing, and analyzing results.\\nCompensation:\\n USAA has an effective process for assessing market data and establishing ranges to ensure we remain competitive. You are paid within the salary range based on your experience and market position. The salary range for this position is: $66,300 - $119,500 *(this does not include geographic differential it may be applied based on your work location)\\nEmployees may be eligible for pay incentives based on overall corporate and individual performance or at the discretion of the USAA Board of Directors.\\nGeographical Differential: Geographic pay differential is additional pay provided to eligible employees working in locations where market pay levels are above the national average.\\nShift premium will be addressed on an individual-basis for applicable roles that are consistently scheduled for non-core hours.\\nBenefits:\\n At USAA our employees enjoy best-in-class benefits to support their physical, financial, and emotional wellness. These benefits include comprehensive medical, dental and vision plans, 401(k), pension, life insurance, parental benefits, adoption assistance, paid time off program with paid holidays plus 16 paid volunteer hours, and various wellness programs. Additionally, our career path planning and continuing education assists employees with their professional goals.\\nPlease click on the link below for more details.\\nUSAA Total Rewards\\nThe above description reflects the details considered necessary to describe the principal functions of the job and should not be construed as a detailed description of all the work requirements that may be performed in the job.\\nAt USAA our employees enjoy one of the best benefits packages in the business, including a flexible business casual or casual dress environment, comprehensive medical, dental and vision plans, along with wellness and wealth building programs. Additionally, our career path planning and continuing education will assist you with your professional goals.\\nRelocation assistance is not available for this position.\\nFor Internal Candidates:\\nMust complete 12 months in current position (from date of hire or date of placement) or must have manager’s approval prior to posting.\\nLast day for internal candidates to apply to the opening is 1/17/21 by 11:59 pm CST time.\""
      ]
     },
     "execution_count": 88,
     "metadata": {},
     "output_type": "execute_result"
    }
   ],
   "source": [
    "return_.description[7]"
   ]
  },
  {
   "cell_type": "code",
   "execution_count": 87,
   "metadata": {},
   "outputs": [
    {
     "data": {
      "text/plain": [
       "'https://www.indeed.com/company/PINNACLE-INC/jobs/Data-Scientist-bebdc92b14d2a19a?fccid=8619c9c3e5c7c61f&vjs=3'"
      ]
     },
     "execution_count": 87,
     "metadata": {},
     "output_type": "execute_result"
    }
   ],
   "source": [
    "return_.link[3]"
   ]
  },
  {
   "cell_type": "code",
   "execution_count": null,
   "metadata": {},
   "outputs": [],
   "source": []
  }
 ],
 "metadata": {
  "kernelspec": {
   "display_name": "Python 3",
   "language": "python",
   "name": "python3"
  },
  "language_info": {
   "codemirror_mode": {
    "name": "ipython",
    "version": 3
   },
   "file_extension": ".py",
   "mimetype": "text/x-python",
   "name": "python",
   "nbconvert_exporter": "python",
   "pygments_lexer": "ipython3",
   "version": "3.7.6"
  }
 },
 "nbformat": 4,
 "nbformat_minor": 4
}
