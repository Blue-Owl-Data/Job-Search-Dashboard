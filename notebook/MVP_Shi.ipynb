{
 "cells": [
  {
   "cell_type": "code",
   "execution_count": 7,
   "metadata": {},
   "outputs": [],
   "source": [
    "# General Libraries\n",
    "import numpy as np\n",
    "import pandas as pd\n",
    "import matplotlib.pyplot as plt\n",
    "import seaborn as sns\n",
    "\n",
    "# Web Scraping Libraries\n",
    "import urllib\n",
    "import requests\n",
    "from bs4 import BeautifulSoup\n",
    "\n",
    "# Regex Library\n",
    "import re\n",
    "\n",
    "# Time-related Libraries\n",
    "import time\n",
    "\n",
    "# NLP Libraries\n",
    "import unicodedata\n",
    "import nltk\n",
    "from nltk.tokenize.toktok import ToktokTokenizer\n",
    "from nltk.corpus import stopwords\n",
    "from wordcloud import WordCloud\n",
    "\n",
    "# Helper functions\n",
    "import MVP_Bojado, MVP_Shi\n",
    "\n",
    "# Environment file\n",
    "import env, env_Shi\n",
    "\n",
    "import warnings\n",
    "warnings.filterwarnings(\"ignore\")"
   ]
  },
  {
   "cell_type": "markdown",
   "metadata": {},
   "source": [
    "## Data Acquisition"
   ]
  },
  {
   "cell_type": "markdown",
   "metadata": {},
   "source": [
    "### URL Format of Indeed.com\n",
    "1. Search chemist in TX<br>\n",
    "https://www.indeed.com/jobs?q=chemist&l=TX\n",
    "2. Search chemist in San Antonio, TX<br>\n",
    "https://www.indeed.com/jobs?q=chemist&l=San+Antonio%2C+TX\n",
    "3. Search data scientist in San Antonio, TX<br>\n",
    "https://www.indeed.com/jobs?q=data+scientist&l=San+Antonio%2C+TX\n",
    "4. Search data scientist intern in San Anotnio, TX<br>\n",
    "https://www.indeed.com/jobs?q=data+scientist+intern&l=San+Antonio%2C+TX\n",
    "5. Sort the data scientist jobs posting by date<br>\n",
    "https://www.indeed.com/jobs?q=data+scientist&l=San+Antonio%2C+TX&sort=date"
   ]
  },
  {
   "cell_type": "markdown",
   "metadata": {},
   "source": [
    "**Takeaways**\n",
    "1. q = job title\n",
    "2. l = location"
   ]
  },
  {
   "cell_type": "markdown",
   "metadata": {},
   "source": [
    "### URL Format of Monster.com\n",
    "https://www.monster.com/jobs/search/?q=data-scientist&where=San-Antonio__2C-TX"
   ]
  },
  {
   "cell_type": "markdown",
   "metadata": {},
   "source": [
    "### Generate the URL of a Job Search at Indeed.com"
   ]
  },
  {
   "cell_type": "code",
   "execution_count": 2,
   "metadata": {},
   "outputs": [],
   "source": [
    "def first_page_url_indeed(job_title, location):\n",
    "    '''\n",
    "    This function returns a URL of the 1st page of a job search at Indeed.com \n",
    "    based on the job title and the location.\n",
    "    '''\n",
    "    # Create the base URL for a job serch at Indeed.com\n",
    "    base_url = 'https://www.indeed.com/jobs?'\n",
    "    # Create a dictionary to map the keys to the input parameters\n",
    "    dic = {'q': job_title, 'l': location, 'sort': 'date'}\n",
    "    # Convert the dictionary to a query string\n",
    "    relative_url = urllib.parse.urlencode(dic)\n",
    "    # Generate the full URL of the first page\n",
    "    url = base_url + relative_url\n",
    "    return url"
   ]
  },
  {
   "cell_type": "code",
   "execution_count": 42,
   "metadata": {},
   "outputs": [
    {
     "data": {
      "text/plain": [
       "'https://www.indeed.com/jobs?q=data+scientist&l=al&sort=date'"
      ]
     },
     "execution_count": 42,
     "metadata": {},
     "output_type": "execute_result"
    }
   ],
   "source": [
    "# Test the function\n",
    "url = first_page_url_indeed('data scientist', 'al')\n",
    "url"
   ]
  },
  {
   "cell_type": "markdown",
   "metadata": {},
   "source": [
    "### Make the HTTP Request"
   ]
  },
  {
   "cell_type": "code",
   "execution_count": 49,
   "metadata": {},
   "outputs": [],
   "source": [
    "def first_page_soup_indeed(job_title, location):\n",
    "    '''\n",
    "    This function returns a BeautifulSoup object to hold the content \n",
    "    of the first page of a request for job searching at Indeed.com\n",
    "    '''\n",
    "    # Generate the URL of the job search based on title and location\n",
    "    url = first_page_url_indeed(job_title, location)\n",
    "    # Make the HTTP request\n",
    "    response = requests.get(url)\n",
    "    # Print the status code of the request\n",
    "    print(\"Status code of the request: \", response.status_code)\n",
    "    # Sanity check to make sure the document type is HTML\n",
    "    print(\"Document type: \", response.text[:15])\n",
    "    # Take a break\n",
    "    time.sleep(5)\n",
    "    # Make a soup to hold the response content\n",
    "    soup = BeautifulSoup(response.content, \"html.parser\")\n",
    "    # Print out the title of the content\n",
    "    print(\"Title of the response: \", soup.title.string)\n",
    "    return soup"
   ]
  },
  {
   "cell_type": "code",
   "execution_count": 52,
   "metadata": {},
   "outputs": [
    {
     "name": "stdout",
     "output_type": "stream",
     "text": [
      "Status code of the request:  200\n",
      "Document type:  <!DOCTYPE html>\n",
      "Title of the response:  Data Scientist Jobs, Employment in Alabama | Indeed.com\n"
     ]
    },
    {
     "data": {
      "text/plain": [
       "bs4.BeautifulSoup"
      ]
     },
     "execution_count": 52,
     "metadata": {},
     "output_type": "execute_result"
    }
   ],
   "source": [
    "first_page_soup = first_page_soup_indeed(\"data scientist\", 'al')\n",
    "type(first_page_soup)"
   ]
  },
  {
   "cell_type": "code",
   "execution_count": 12,
   "metadata": {},
   "outputs": [
    {
     "name": "stdout",
     "output_type": "stream",
     "text": [
      "Data Type:  <class 'bs4.element.Tag'>\n",
      "Name of the Tag:  div\n",
      "Attributes of the Tag:  {'id': 'searchCountPages'}\n",
      "Text within the Tag: \n"
     ]
    },
    {
     "data": {
      "text/plain": [
       "'\\n                    Page 1 of 560 jobs'"
      ]
     },
     "execution_count": 12,
     "metadata": {},
     "output_type": "execute_result"
    }
   ],
   "source": [
    "# Find out the tag that contains the number of the jobs by seaching\n",
    "\n",
    "num_jobs = first_page_soup.find('div', id='searchCountPages')\n",
    "print(\"Data Type: \", type(num_jobs))\n",
    "print(\"Name of the Tag: \", num_jobs.name)\n",
    "print(\"Attributes of the Tag: \", num_jobs.attrs)\n",
    "print(\"Text within the Tag: \")\n",
    "num_jobs.text"
   ]
  },
  {
   "cell_type": "code",
   "execution_count": 13,
   "metadata": {},
   "outputs": [
    {
     "data": {
      "text/plain": [
       "'560'"
      ]
     },
     "execution_count": 13,
     "metadata": {},
     "output_type": "execute_result"
    }
   ],
   "source": [
    "# Find the number of the jobs in the text\n",
    "match = re.findall(r'(\\d+)', num_jobs.text)\n",
    "match[1]"
   ]
  },
  {
   "cell_type": "code",
   "execution_count": 9,
   "metadata": {},
   "outputs": [],
   "source": [
    "def num_jobs_indeed(first_page_soup):\n",
    "    '''\n",
    "    This function returns the total number of the jobs in the searching result.\n",
    "    '''\n",
    "    # Find out the section contains total number of jobs  \n",
    "    div = first_page_soup.find('div', id='searchCountPages')\n",
    "    # Extract the number\n",
    "    num_jobs = re.findall(r'(\\d+)', div.text)[1]\n",
    "    return num_jobs"
   ]
  },
  {
   "cell_type": "code",
   "execution_count": 53,
   "metadata": {},
   "outputs": [
    {
     "data": {
      "text/plain": [
       "'40'"
      ]
     },
     "execution_count": 53,
     "metadata": {},
     "output_type": "execute_result"
    }
   ],
   "source": [
    "# Test the function num_jobs_indeed\n",
    "num_jobs_indeed(first_page_soup)"
   ]
  },
  {
   "cell_type": "code",
   "execution_count": 12,
   "metadata": {},
   "outputs": [],
   "source": [
    "def page_num_indeed(url):\n",
    "    '''\n",
    "    This function returns the page number of job searching results. \n",
    "    '''\n",
    "    # Create a Soup object based on the url\n",
    "    soup = page_soup_indeed(url)\n",
    "    # Find out the section contains total number of jobs  \n",
    "    div = soup.find('div', id='searchCountPages')\n",
    "    # Extract the number\n",
    "    page_num = re.findall(r'(\\d+)', div.text)[0]\n",
    "    return page_num"
   ]
  },
  {
   "cell_type": "code",
   "execution_count": 54,
   "metadata": {},
   "outputs": [
    {
     "data": {
      "text/plain": [
       "'1'"
      ]
     },
     "execution_count": 54,
     "metadata": {},
     "output_type": "execute_result"
    }
   ],
   "source": [
    "# Test the function num_jobs_indeed\n",
    "page_num_indeed(first_page_soup)"
   ]
  },
  {
   "cell_type": "code",
   "execution_count": 14,
   "metadata": {},
   "outputs": [],
   "source": [
    "# Define a function to extract all job cards in a Indeed page\n",
    "\n",
    "def job_cards_indeed(soup):\n",
    "    '''\n",
    "    This function accepts the Soup object of a Indeed page \n",
    "    return an iterator containing the all the job cards in this page.\n",
    "    '''\n",
    "    # Find the appropriate tag that contains all of the job listings in this page\n",
    "    tag = soup.find('td', id=\"resultsCol\")\n",
    "    # Extract all job cards\n",
    "    job_cards = tag.find_all('div', class_='jobsearch-SerpJobCard')\n",
    "    return job_cards"
   ]
  },
  {
   "cell_type": "code",
   "execution_count": 55,
   "metadata": {},
   "outputs": [
    {
     "data": {
      "text/plain": [
       "bs4.element.ResultSet"
      ]
     },
     "execution_count": 55,
     "metadata": {},
     "output_type": "execute_result"
    }
   ],
   "source": [
    "# Test the function job_cards_indeed\n",
    "job_cards = job_cards_indeed(first_page_soup)\n",
    "\n",
    "# Print the data type of job_cards\n",
    "type(job_cards)"
   ]
  },
  {
   "cell_type": "markdown",
   "metadata": {},
   "source": [
    "**Quick Note**: job_cards is an iterator"
   ]
  },
  {
   "cell_type": "code",
   "execution_count": 56,
   "metadata": {},
   "outputs": [
    {
     "data": {
      "text/plain": [
       "15"
      ]
     },
     "execution_count": 56,
     "metadata": {},
     "output_type": "execute_result"
    }
   ],
   "source": [
    "# How many jobs listed in the 1st page? \n",
    "len(job_cards)"
   ]
  },
  {
   "cell_type": "code",
   "execution_count": 17,
   "metadata": {},
   "outputs": [],
   "source": [
    "def job_titles_indeed(job_cards):\n",
    "    '''\n",
    "    This function extract the job titles from a job_cards set. \n",
    "    '''\n",
    "    # Create a list to hold the job titles\n",
    "    titles = []\n",
    "    # For Loop throught the job cards to extract the titles\n",
    "    for job in job_cards:\n",
    "        title = job.find('h2', class_='title')\n",
    "        title = title.text.strip()\n",
    "        titles.append(title)\n",
    "    return titles"
   ]
  },
  {
   "cell_type": "code",
   "execution_count": 57,
   "metadata": {},
   "outputs": [
    {
     "data": {
      "text/plain": [
       "['Data Scientist\\nnew',\n",
       " 'MANAGER, ACCOUNT DEVELOPMENT/DATA SCIENCE\\nnew',\n",
       " 'Data Scientist\\nnew',\n",
       " 'Data Analyst - Microsoft Stack (mid-senior)\\nnew',\n",
       " 'Statistical Analyst\\nnew',\n",
       " 'Data Scientist Intern\\nnew',\n",
       " 'Machine Learning/Artificial Intelligence Software Developer\\nnew',\n",
       " 'Software Engineer/Data Scientist\\nnew',\n",
       " 'Lead Financial Analyst - Artificial Intelligence Strategic G...\\nnew',\n",
       " 'BI Architect/Data Scientist',\n",
       " 'Asst Research Professional - Research Data Scientist',\n",
       " '2021-18 Software Engineers for BMDS Data Analysis Suite',\n",
       " 'Cyber Artificial Intelligence (AI) SME',\n",
       " '2021-02 Artificial Intelligence Designer',\n",
       " 'Deep Learning Engineer']"
      ]
     },
     "execution_count": 57,
     "metadata": {},
     "output_type": "execute_result"
    }
   ],
   "source": [
    "titles = job_titles_indeed(job_cards)\n",
    "titles"
   ]
  },
  {
   "cell_type": "code",
   "execution_count": 19,
   "metadata": {},
   "outputs": [],
   "source": [
    "# Define a function to pull the company names from a set of job cards\n",
    "\n",
    "def company_names_indeed(job_cards):\n",
    "    '''\n",
    "    This function extracts the company names from a set of job cards.\n",
    "    '''\n",
    "    # Create a list to hold the company names\n",
    "    names = []\n",
    "    # For loop through the job cards to pull the company names\n",
    "    for job in job_cards:\n",
    "        name = job.find('span', class_='company')\n",
    "        name = name.text.strip()\n",
    "        names.append(name)\n",
    "    return names"
   ]
  },
  {
   "cell_type": "code",
   "execution_count": 58,
   "metadata": {},
   "outputs": [
    {
     "data": {
      "text/plain": [
       "['Quiq Inc',\n",
       " 'B.A.S.S., LLC',\n",
       " 'Vision',\n",
       " 'Vaco',\n",
       " 'The Personnel Board of Jefferson County',\n",
       " 'LOCKHEED MARTIN CORPORATION',\n",
       " 'IERUS Technologies, Inc.',\n",
       " 'Torch Technologies, Inc.',\n",
       " 'Deloitte',\n",
       " 'Doozer Software',\n",
       " 'The University of Alabama',\n",
       " '1st Edge',\n",
       " 'Quantum Research International, Inc.',\n",
       " '1st Edge',\n",
       " 'Numerator']"
      ]
     },
     "execution_count": 58,
     "metadata": {},
     "output_type": "execute_result"
    }
   ],
   "source": [
    "# Test the function: comany_names_indeed\n",
    "\n",
    "company_names = company_names_indeed(job_cards)\n",
    "company_names"
   ]
  },
  {
   "cell_type": "code",
   "execution_count": 21,
   "metadata": {},
   "outputs": [],
   "source": [
    "# Define a function to pull the post ages from a set of job cards\n",
    "\n",
    "def post_ages_indeed(job_cards):\n",
    "    '''\n",
    "    This function pulls the post ages from a set of job cards.\n",
    "    '''\n",
    "    # Create a list to hold the post ages\n",
    "    ages = []\n",
    "    # For loop through the job cards to pull the post ages\n",
    "    for job in job_cards:\n",
    "        age = job.find('span', class_='date')\n",
    "        age = age.text.strip()\n",
    "        ages.append(age)\n",
    "    return ages"
   ]
  },
  {
   "cell_type": "code",
   "execution_count": 59,
   "metadata": {},
   "outputs": [
    {
     "data": {
      "text/plain": [
       "['Today',\n",
       " 'Today',\n",
       " 'Today',\n",
       " 'Today',\n",
       " '2 days ago',\n",
       " '4 days ago',\n",
       " '5 days ago',\n",
       " '6 days ago',\n",
       " '6 days ago',\n",
       " '11 days ago',\n",
       " '11 days ago',\n",
       " '12 days ago',\n",
       " '22 days ago',\n",
       " '21 days ago',\n",
       " '28 days ago']"
      ]
     },
     "execution_count": 59,
     "metadata": {},
     "output_type": "execute_result"
    }
   ],
   "source": [
    "# Test the function: post_ages_indeed\n",
    "ages = post_ages_indeed(job_cards)\n",
    "ages"
   ]
  },
  {
   "cell_type": "code",
   "execution_count": 23,
   "metadata": {},
   "outputs": [],
   "source": [
    "# Define a function to pull the location from a set of job cards\n",
    "\n",
    "def job_locations_indeed(job_cards):\n",
    "    '''\n",
    "    This function pulls the job locations from a set of job cards.\n",
    "    '''\n",
    "    # Create a list to hold the locations\n",
    "    locations = []\n",
    "    # For loop through the job cards to pull the locations\n",
    "    for job in job_cards:\n",
    "        location = job.find('div', class_='location accessible-contrast-color-location')\n",
    "        if location == None:\n",
    "            location = job.find('span', class_='location accessible-contrast-color-location')\n",
    "        location = location.text.strip()\n",
    "        locations.append(location)\n",
    "    return locations"
   ]
  },
  {
   "cell_type": "code",
   "execution_count": 60,
   "metadata": {},
   "outputs": [
    {
     "data": {
      "text/plain": [
       "['United States',\n",
       " 'Birmingham, AL 35243',\n",
       " 'Huntsville, AL',\n",
       " 'Hartselle, AL',\n",
       " 'Jefferson County, AL',\n",
       " 'Huntsville, AL 35806',\n",
       " 'Huntsville, AL 35805',\n",
       " 'Huntsville, AL 35802',\n",
       " 'Birmingham, AL 35203 (Central City area)',\n",
       " 'Birmingham, AL 35216',\n",
       " 'Tuscaloosa, AL',\n",
       " 'Huntsville, AL',\n",
       " 'Huntsville, AL 35806',\n",
       " 'Huntsville, AL',\n",
       " 'Alabama']"
      ]
     },
     "execution_count": 60,
     "metadata": {},
     "output_type": "execute_result"
    }
   ],
   "source": [
    "locations = job_locations_indeed(job_cards)\n",
    "locations"
   ]
  },
  {
   "cell_type": "code",
   "execution_count": 25,
   "metadata": {},
   "outputs": [],
   "source": [
    "# Define a function to pull the company ratings from a set of job cards\n",
    "\n",
    "def company_rating_indeed(job_cards):\n",
    "    '''\n",
    "    This function pulls the company rating from a set of job cards.\n",
    "    If the rating is unavailable, it will be marked as 'missing'.\n",
    "    '''\n",
    "    # Create a list to hold the locations\n",
    "    ratings = []\n",
    "    # For loop through the job cards to pull the locations\n",
    "    for job in job_cards:\n",
    "        rating = job.find('span', class_='ratingsContent')\n",
    "        if rating == None:\n",
    "            ratings.append('missing')\n",
    "            continue\n",
    "        rating = rating.text.strip()\n",
    "        ratings.append(rating)\n",
    "    return ratings"
   ]
  },
  {
   "cell_type": "code",
   "execution_count": 61,
   "metadata": {},
   "outputs": [
    {
     "data": {
      "text/plain": [
       "['missing',\n",
       " 'missing',\n",
       " 'missing',\n",
       " '3.7',\n",
       " 'missing',\n",
       " '4.0',\n",
       " '4.7',\n",
       " 'missing',\n",
       " '4.0',\n",
       " '4.8',\n",
       " '4.4',\n",
       " 'missing',\n",
       " '4.0',\n",
       " 'missing',\n",
       " '3.6']"
      ]
     },
     "execution_count": 61,
     "metadata": {},
     "output_type": "execute_result"
    }
   ],
   "source": [
    "ratings = company_rating_indeed(job_cards)\n",
    "ratings"
   ]
  },
  {
   "cell_type": "code",
   "execution_count": 27,
   "metadata": {},
   "outputs": [],
   "source": [
    "def acuqire_indeed_job_description(url):\n",
    "    '''\n",
    "    This function accepts the URL of a job posting and pull its description.\n",
    "    '''\n",
    "    # Make the HTTP request\n",
    "    request = requests.get(url)\n",
    "    print(\"Status Code: \", request.status_code)\n",
    "    # Take a break\n",
    "    time.sleep(5)\n",
    "    # Make a soup variable holding the response content\n",
    "    soup = BeautifulSoup(request.content, \"html.parser\")\n",
    "    if soup == None:\n",
    "        description = 'error'\n",
    "    else:\n",
    "        # Print the page's title\n",
    "        print(soup.title.string)\n",
    "        # Find the section that contains job description\n",
    "        description = soup.find('div', id=\"jobDescriptionText\")\n",
    "        if description == None:\n",
    "            description = 'error'\n",
    "        else:\n",
    "            description = description.text\n",
    "    return description\n",
    "\n",
    "def job_links_and_contents_indeed(job_cards):\n",
    "    '''\n",
    "    This function pulls the job links and descriptions from a set of job cards.\n",
    "    '''\n",
    "    # Create a list to hold the links and descriptions\n",
    "    links = []\n",
    "    descriptions = []\n",
    "    # For loop through the job cards to pull the links and descriptions\n",
    "    for job in job_cards:\n",
    "        link = job.find('a')['href']\n",
    "        link = 'https://www.indeed.com' + link\n",
    "        link = link.replace(';', '&')\n",
    "        description = acuqire_indeed_job_description(link)\n",
    "        links.append(link)\n",
    "        descriptions.append(description)\n",
    "    return links, descriptions"
   ]
  },
  {
   "cell_type": "code",
   "execution_count": 62,
   "metadata": {},
   "outputs": [
    {
     "name": "stdout",
     "output_type": "stream",
     "text": [
      "Status Code:  200\n",
      "Data Scientist - United States - Indeed.com\n",
      "Status Code:  200\n",
      "MANAGER, ACCOUNT DEVELOPMENT/DATA SCIENCE - Birmingham, AL 35243 - Indeed.com\n",
      "Status Code:  200\n",
      "Data Scientist - Huntsville, AL - Indeed.com\n",
      "Status Code:  200\n",
      "Vaco Careers and Employment | Indeed.com\n",
      "Status Code:  200\n",
      "Statistical Analyst - Jefferson County, AL - Indeed.com\n",
      "Status Code:  200\n",
      "Data Scientist Intern - Huntsville, AL 35806 - Indeed.com\n",
      "Status Code:  200\n",
      "Machine Learning/Artificial Intelligence Software Developer - Huntsville, AL 35805 - Indeed.com\n",
      "Status Code:  200\n",
      "Software Engineer/Data Scientist - Huntsville, AL 35802 - Indeed.com\n",
      "Status Code:  200\n",
      "Lead Financial Analyst - Artificial Intelligence Strategic Growth Offering (AI SGO) Finance & Investment - Birmingham, AL 35203 - Indeed.com\n",
      "Status Code:  200\n",
      "BI Architect/Data Scientist - Birmingham, AL 35216 - Indeed.com\n",
      "Status Code:  200\n",
      "Asst Research Professional - Research Data Scientist - Tuscaloosa, AL - Indeed.com\n",
      "Status Code:  200\n",
      "2021-18 Software Engineers for BMDS Data Analysis Suite - Huntsville, AL - Indeed.com\n",
      "Status Code:  200\n",
      "Cyber Artificial Intelligence (AI) SME - Huntsville, AL 35806 - Indeed.com\n",
      "Status Code:  200\n",
      "2021-02 Artificial Intelligence Designer - Huntsville, AL - Indeed.com\n",
      "Status Code:  200\n",
      "Deep Learning Engineer - Alabama - Indeed.com\n"
     ]
    }
   ],
   "source": [
    "# Test the function: job_links_and_contents_indeed\n",
    "links, descriptions = job_links_and_contents_indeed(job_cards)"
   ]
  },
  {
   "cell_type": "code",
   "execution_count": 63,
   "metadata": {},
   "outputs": [
    {
     "data": {
      "text/plain": [
       "['https://www.indeed.com/pagead/clk?mo=r&ad=-6NYlbfkN0B9JzWmK0GDxRzYzuZf9xSyXN8pQP8ihv6GH-rkAji3LyaR-hLXYB_NfHRnutLWTuqKBdImdeUix5pYB3Uv4mWnHLZlzd5py00o1lMFznkqSTkX2n8aY8mwnVhJALIJXce_3bj6Yi5-UDH-VhWVn3o6zeb2Pm8VmBf7XYjX1VtegcSkVtTpQAVHk_cSXYlbbb9ppduWw_Qf5XW46x30WeNoo3_22bLgKZLzhJEV_E3Ixv1DiqZPYzqp0IMYZ0Djwgv954h1Bqmz53jK2UmTAk6lmmvbIoTkfhAW5z9S56qUXHWlwvic9MvReVXyrEpYz_zaY4XbmDDXr3uIHFCGuQKnKzNsLz5vp9EkzV1o5kbpCj6qti0RZ7NseG1iXFMZ2GODxurbs811H733Ly8Iz-Y8CM0wqrwTs_8vPgE0g-b_Tx-QYca5xn1D&p=0&fvj=1&vjs=3',\n",
       " 'https://www.indeed.com/pagead/clk?mo=r&ad=-6NYlbfkN0DVr7NBsl4cHSE4aBurKzaRDI_6xQvAm7MDK25NP7GKwrPFBHjnIhnnMkAKtOTcAVcwvdJYQ1iX_OUlRkCcJ9lYHn6yw2Xoq1V-R4Wdf5ZtG2pRL3zKYjPaUIJ7FfKiCmO7nZu9zD3akcI0SzfFz7oRw23qh6o47s6hI0zsqL0wfiKJ4EFcwcqvgr2zn3ygOEqvyjn_BqruYjouMp_OPBKXN1sJf_xD6jAidmRKsWVQCbimyT8pNek2EIcd1SHGimJOFbqnE5QnWqRtOwd1Em2mVe_WF7eRHtG2Ad9d5Btcaz-YQLMoJ5pB8XdgfSqvtHMJyTpI5ilFsZgBFjZL1WHSJK1XUvqlXQd2hYnYwqyUbescsJP9n5A1Qu-e6G6MmRKAdUa65Lq5aeDjyXXxYGCtPmDVqGApWN3X_1kyn3niS0FsFkisS-TqIHrgcqACtp53LRStWAkQHvLDNOEbDBoG85R5SM88IGM=&p=1&fvj=1&vjs=3',\n",
       " 'https://www.indeed.com/company/Vision/jobs/Data-Scientist-fba1d08fac204b1e?fccid=c803b4b45f85b24e&vjs=3',\n",
       " 'https://www.indeed.com/cmp/Vaco',\n",
       " 'https://www.indeed.com/rc/clk?jk=8683b7b606b65f53&fccid=c2261154d654a05c&vjs=3',\n",
       " 'https://www.indeed.com/rc/clk?jk=72f0e3a5889212e2&fccid=aeb15e43a6800b9d&vjs=3',\n",
       " 'https://www.indeed.com/rc/clk?jk=a2b967b5af35f5fb&fccid=a77d7dcdb8364a0d&vjs=3',\n",
       " 'https://www.indeed.com/rc/clk?jk=940f9552f9a578bd&fccid=7c60e205aab51bb4&vjs=3',\n",
       " 'https://www.indeed.com/rc/clk?jk=990a5622086ad064&fccid=9e215d88a6b33622&vjs=3',\n",
       " 'https://www.indeed.com/pagead/clk?mo=r&ad=-6NYlbfkN0Bg38Of9YQ3kJV2XUPt6TrE35Uahq87aC81g7ntBBDzDhh9sNp912SJuAIBkeK0tIPlvb2lGmk4LLU1_3LImWqMu2BpkEfirYkRlOQ4el7Aky5UyWJWjnU2F6PBftWt7XQmjZDJfhkAzc-T1pV54hKsCOQ14J-zCjjavpzak7riWBwNAj6Zli3uM0sJ6HdIY8IqBCPYjqRCYlVJij8j1obcJC8lMMdsRk9aX7_fTDP3fU8c53qhJBFbnNBuwfD_0eUpQ65TKoXTwzKo7zogfl9uNo-_VJUt1yk7Vn5_mSp_Np61_pLZZFgE8plYbvsh2a5Eoy7lzo2OHm9HnSgSSzmteMWDD7kCpPWzEOHKkGltrlXgAHscj1_i94T9jzKBmh-MwjYkkQDylnNI8CysrZgKensxf3QQq2JSYudmLyXuun9R85HO3TzLd820dZwSuv4z-6-ZQR7jwA==&p=9&fvj=1&vjs=3',\n",
       " 'https://www.indeed.com/rc/clk?jk=61255d1a6d7bf14e&fccid=27eae9b240b82ce9&vjs=3',\n",
       " 'https://www.indeed.com/rc/clk?jk=eac4c105f3603b61&fccid=dfb8e595fdb20cc9&vjs=3',\n",
       " 'https://www.indeed.com/rc/clk?jk=0381dbf194dce49c&fccid=27fb76bb2bf6e29a&vjs=3',\n",
       " 'https://www.indeed.com/rc/clk?jk=af3858978980b39e&fccid=dfb8e595fdb20cc9&vjs=3',\n",
       " 'https://www.indeed.com/pagead/clk?mo=r&ad=-6NYlbfkN0AwhvtDhhMuSGvOgpEtJTRru83A1sJLDjPPZCOp3agw_eha-HkQeWKZ6JEK8-AmpIyxXGH0Wl1DcvhdPKOGMCddrq-7oJ4yYBJ0gxqNEYIhcOXJV0afngaoVVOipD3ZgbGu__TWStXnzX1DrWfsJB92aR4XpsrP5KmQT-6kH4_Me8x-Fze1bT49XiMuWr0wlT7iXpIUpF1eDAojh4ZvUzsOmFDxr46-U3qOl5a2LlEt6yVlXHd6cqG0tbZOOYxxql8J16EDaoKL35mD_3qBs5wfg3v0eAT0C78VG0CAY6rPFUP-DQbuwdBVJNlhw68WARGAAENV-E0DFf5gN_27X2cEUWBtLPoL6py9hSSCJdh4Yd9tAicG1A6xrWgEQaA8JSuZpeuUbgkYmkGdf_hJ9yi9m4_YJNruPnPYNLb0gf4juxzcZ0QmC-YqrxPgrO8mLsi-gT-BnGILSNRJi3KtkBgQcKcPwBx1QfxSJeAagHrSRSY_tx-pldsgYgYnfG4mH9c=&p=14&fvj=0&vjs=3']"
      ]
     },
     "execution_count": 63,
     "metadata": {},
     "output_type": "execute_result"
    }
   ],
   "source": [
    "links"
   ]
  },
  {
   "cell_type": "code",
   "execution_count": 64,
   "metadata": {},
   "outputs": [
    {
     "data": {
      "text/plain": [
       "\"MANAGER, ACCOUNT DEVELOPMENT/DATA SCIENCEBasic Duties & Responsibilities: Query and report on dataBuild and maintain analytical tools, metrics & models across the following channels: membership, sales, marketing and tournaments.Create compelling data visualizations and stories across internal LOB’sResearch internal data in order to build out analytics for both sales and marketing benefitsOwnership of data flow management between our internal systems and 3rd party systems such as PCD, Dovetail, Salesforce, US Sweeps and morePresent information to organizational stakeholders and executivesQualifications: Bachelor’s Degree in mathematics, engineering, computer science, data science, or other relevant fieldStrong written & verbal communication as well as visualization skillsProficiency in analytical/statistical methods and technologies (e.g. SQL, R, Python, Tableau, Microsoft BI, etc)Familiarity with concepts such as predictive modelling, cloud computing, machine learning, artificial intelligence, & Bayesian analysisAn open-minded creative approach to work and life with a desire to work in a diverse, learning cultureFamiliarity with the following is preferred: Circulation modellingP/L analytics for multiple source channelsAAM Audit processingMonth end accounting reportsDaily production reportingPromotion Set up and TrackingPromotional Data and List selectsDigital conversion trackingJob Type: Full-timeBenefits:401(k)401(k) matchingDental insuranceHealth insuranceLife insurancePaid time offVision insuranceSchedule:Monday to FridayCompany's website:bassmaster.comWork Remotely:No\""
      ]
     },
     "execution_count": 64,
     "metadata": {},
     "output_type": "execute_result"
    }
   ],
   "source": [
    "descriptions[1]"
   ]
  },
  {
   "cell_type": "code",
   "execution_count": 35,
   "metadata": {},
   "outputs": [],
   "source": [
    "# Define a function to create a Soup object based on a job search url\n",
    "\n",
    "def page_soup_indeed(url):\n",
    "    '''\n",
    "    This function returns a BeautifulSoup object to hold the content \n",
    "    of a page for a job searching results at Indeed.com\n",
    "    '''\n",
    "    # Make the HTTP request\n",
    "    response = requests.get(url)\n",
    "    # Print the status code of the request\n",
    "    print(\"Status code of the request: \", response.status_code)\n",
    "    # Sanity check to make sure the document type is HTML\n",
    "    print(\"Document type: \", response.text[:15])\n",
    "    # Take a break\n",
    "    time.sleep(5)\n",
    "    # Make a soup to hold the response content\n",
    "    soup = BeautifulSoup(response.content, \"html.parser\")\n",
    "    # Print out the title of the content\n",
    "    print(\"Title of the response: \", soup.title.string)\n",
    "    return soup"
   ]
  },
  {
   "cell_type": "code",
   "execution_count": 84,
   "metadata": {},
   "outputs": [
    {
     "name": "stdout",
     "output_type": "stream",
     "text": [
      "Status code of the request:  200\n",
      "Document type:  <!DOCTYPE html>\n",
      "Title of the response:  Data Scientist Jobs, Employment in Alabama | Indeed.com\n"
     ]
    },
    {
     "data": {
      "text/plain": [
       "bs4.BeautifulSoup"
      ]
     },
     "execution_count": 84,
     "metadata": {},
     "output_type": "execute_result"
    }
   ],
   "source": [
    "# Test the function: page_soup_indeed\n",
    "\n",
    "url = 'https://www.indeed.com/jobs?q=data+scientist&l=al&sort=date'\n",
    "soup = page_soup_indeed(url)\n",
    "type(soup)"
   ]
  },
  {
   "cell_type": "code",
   "execution_count": 86,
   "metadata": {},
   "outputs": [
    {
     "data": {
      "text/plain": [
       "1"
      ]
     },
     "execution_count": 86,
     "metadata": {},
     "output_type": "execute_result"
    }
   ],
   "source": [
    "# Find out the page number\n",
    "int(page_num_indeed(soup))"
   ]
  },
  {
   "cell_type": "code",
   "execution_count": 38,
   "metadata": {},
   "outputs": [
    {
     "data": {
      "text/plain": [
       "bs4.element.ResultSet"
      ]
     },
     "execution_count": 38,
     "metadata": {},
     "output_type": "execute_result"
    }
   ],
   "source": [
    "# Pull the job cards from the soup\n",
    "type(job_cards_indeed(soup))"
   ]
  },
  {
   "cell_type": "code",
   "execution_count": 99,
   "metadata": {},
   "outputs": [],
   "source": [
    "# Define a function to pull job information from a job search URL\n",
    "\n",
    "def acquire_page_indeed(url):\n",
    "    '''\n",
    "    This function accepts a job search URL and returns a pandas dataframe \n",
    "    containing job title, location, company, company rating, post age and description. \n",
    "    '''\n",
    "    # Create a Soup object based on the url\n",
    "    soup = page_soup_indeed(url)\n",
    "    # Pull the job cards\n",
    "    job_cards = job_cards_indeed(soup)\n",
    "    # Pull the job titles\n",
    "    titles = job_titles_indeed(job_cards)   \n",
    "    # Pull the names of the companies\n",
    "    companies = company_names_indeed(job_cards)\n",
    "    # Pull the post ages\n",
    "    ages = post_ages_indeed(job_cards)\n",
    "    # Pull the job locations\n",
    "    locations = job_locations_indeed(job_cards)\n",
    "    # Pull the company ratings\n",
    "    ratings = company_rating_indeed(job_cards)\n",
    "    # Pull the hyperlinks and job description\n",
    "    links, descriptions = job_links_and_contents_indeed(job_cards)    \n",
    "    # Create a dataframe\n",
    "    d = {'title': titles,\n",
    "         'locations': locations,\n",
    "         'company': companies, \n",
    "         'company_rating': ratings,\n",
    "         'post_age': ages, \n",
    "         'job_link': links, \n",
    "         'job_description': descriptions}\n",
    "    df = pd.DataFrame(d)\n",
    "    return df"
   ]
  },
  {
   "cell_type": "code",
   "execution_count": 72,
   "metadata": {},
   "outputs": [
    {
     "name": "stdout",
     "output_type": "stream",
     "text": [
      "Status code of the request:  200\n",
      "Document type:  <!DOCTYPE html>\n",
      "Title of the response:  Data Scientist Jobs, Employment in Alabama | Indeed.com\n",
      "Status Code:  200\n",
      "Data Scientist - Huntsville, AL 35806 - Indeed.com\n",
      "Status Code:  200\n",
      "Data Scientist - United States - Indeed.com\n",
      "Status Code:  200\n",
      "Vaco Careers and Employment | Indeed.com\n",
      "Status Code:  200\n",
      "Data Scientist - Huntsville, AL - Indeed.com\n",
      "Status Code:  200\n",
      "MANAGER, ACCOUNT DEVELOPMENT/DATA SCIENCE - Birmingham, AL 35243 - Indeed.com\n",
      "Status Code:  200\n",
      "Statistical Analyst - Jefferson County, AL - Indeed.com\n",
      "Status Code:  200\n",
      "Data Scientist Intern - Huntsville, AL 35806 - Indeed.com\n",
      "Status Code:  200\n",
      "Machine Learning/Artificial Intelligence Software Developer - Huntsville, AL 35805 - Indeed.com\n",
      "Status Code:  200\n",
      "Software Engineer/Data Scientist - Huntsville, AL 35802 - Indeed.com\n",
      "Status Code:  200\n",
      "Lead Financial Analyst - Artificial Intelligence Strategic Growth Offering (AI SGO) Finance & Investment - Birmingham, AL 35203 - Indeed.com\n",
      "Status Code:  200\n",
      "BI Architect/Data Scientist - Birmingham, AL 35216 - Indeed.com\n",
      "Status Code:  200\n",
      "Asst Research Professional - Research Data Scientist - Tuscaloosa, AL - Indeed.com\n",
      "Status Code:  200\n",
      "2021-18 Software Engineers for BMDS Data Analysis Suite - Huntsville, AL - Indeed.com\n",
      "Status Code:  200\n",
      "Cyber Artificial Intelligence (AI) SME - Huntsville, AL 35806 - Indeed.com\n",
      "Status Code:  200\n",
      "2021-02 Artificial Intelligence Designer - Huntsville, AL - Indeed.com\n"
     ]
    }
   ],
   "source": [
    "# Test function acquire_page_indeed\n",
    "page_num, df = acquire_page_indeed(url)"
   ]
  },
  {
   "cell_type": "code",
   "execution_count": 73,
   "metadata": {},
   "outputs": [
    {
     "data": {
      "text/plain": [
       "'1'"
      ]
     },
     "execution_count": 73,
     "metadata": {},
     "output_type": "execute_result"
    }
   ],
   "source": [
    "# Print the page number\n",
    "page_num"
   ]
  },
  {
   "cell_type": "code",
   "execution_count": 79,
   "metadata": {},
   "outputs": [
    {
     "data": {
      "text/plain": [
       "Index(['title', 'locations', 'company', 'company_rating', 'post_age',\n",
       "       'job_link', 'job_description'],\n",
       "      dtype='object')"
      ]
     },
     "execution_count": 79,
     "metadata": {},
     "output_type": "execute_result"
    }
   ],
   "source": [
    "df.columns"
   ]
  },
  {
   "cell_type": "code",
   "execution_count": 76,
   "metadata": {
    "scrolled": false
   },
   "outputs": [
    {
     "data": {
      "text/plain": [
       "\"MTA, Inc. is a Woman Owned Small Business with headquarters in Huntsville, AL. We are a diversified company recognized for excellence in Engineering, Integrated Logistics, and Quality Assurance. MTA provides services to U.S. defense agencies, NASA, and the U.S. Corp of Engineers.\\nMTA, Inc. has an immediate opening for the position of Data Scientist.\\nJob Description:\\nTo provide support to the System Readiness Directorate's Reliability, Availability, Maintainability and System Assessment (RAM-SA) Division in support of developing and implementing machine learning algorithms and tools in SQL and Python. The objective of this project is to develop, implement and support data science work in the RAM division in support of tool development research and the Predictive Maintenance National Mission Initiative (PMx NMI).\\nDuties and responsibilities:\\nPerforming detailed and complex calculations necessary to assess advanced systems concepts\\nTransferring data into a new format to make it more appropriate for analysis\\nCreating new, experimental frameworks to analyze data\\nBuilding tools to automate data collection\\nSearching through large data sets for usable information\\nCreating reports and presentations\\nCorrelating similar data to find actionable results\\nSkills and Qualifications:\\nExperience with machine learning and AI\\nKnowledge of programming languages like SQL, and Python\\nFamiliarity with business intelligence tools (e.g., Tableau)\\nStrong mathematics skills (e.g., statistics, linear algebra)\\nKnowledge of popular Algorithms (e.g., Linear Regression, Random Forests, Nave Bayes, KNN, & kMeans)\\nKnowledge of Libraries (e.g., TensorFlow, scikit-learn, Keras, matplotlib, h2o, matplotlib, pyodbc)\\nExperience with big data technologies\\nWorking knowledge of statistics\\nExceptional technical writing skills\\nAnalytical and problem-solving skills\\nAbility to work independently and with team members from different background\\nExcellent attention to detail\\nEducation:\\nPHD plus 8 years of experience\\nMS plus 10 years of experience\\nBS/BA plus 12 years of experience\\nRequirements:\\nSecret Security Clearance required\\nMust be a U. S. citizen.\\nMTA, Inc. is an Equal Opportunity Employer. All qualified applicants will receive consideration for employment without regard to race, color, religion, sex, sexual orientation, gender identity, age, national origin, disability, veteran status, or any other characteristic protected by law.\\nMTA uses E-Verify to confirm employment eligibility of employees.\\nThis job posting is not a guarantee of employment.\""
      ]
     },
     "execution_count": 76,
     "metadata": {},
     "output_type": "execute_result"
    }
   ],
   "source": [
    "df.job_description[0]"
   ]
  },
  {
   "cell_type": "code",
   "execution_count": 100,
   "metadata": {},
   "outputs": [],
   "source": [
    "def jobs_indeed(job_title, location):\n",
    "    '''\n",
    "    This function accepts the job title and location and return \n",
    "    the job information pull from Indeed.com.\n",
    "    '''\n",
    "    # Generate the urls based on job title and location (state)\n",
    "    url = first_page_url = first_page_url_indeed(job_title, location)\n",
    "    # Set up an counter\n",
    "    counter = 1\n",
    "    # Create an empty dataframe to hold the job information\n",
    "    df_jobs = pd.DataFrame(columns = ['title', 'locations', 'company', 'company_rating', \n",
    "                                      'post_age','job_link', 'job_description'])\n",
    "    # Pull the page number\n",
    "    page_num = int(page_num_indeed(url))\n",
    "    # Set up an checker\n",
    "    keep_going = (counter == page_num)   \n",
    "    # For loop through the urls to pull job information\n",
    "    while keep_going and page_num <=40:\n",
    "        df = acquire_page_indeed(url)\n",
    "        print(\"--------------------------------\")\n",
    "        print(\"Page: \", page_num)\n",
    "        print(\"--------------------------------\")\n",
    "        df_jobs = df_jobs.append(df, ignore_index=True)\n",
    "        time.sleep(180)\n",
    "        dic = {'start': page_num*10}\n",
    "        relative_url = urllib.parse.urlencode(dic)\n",
    "        url = first_page_url + '&' + relative_url\n",
    "        counter = counter + 1\n",
    "        page_num = int(page_num_indeed(url))\n",
    "        keep_going = (counter == page_num)\n",
    "    # Print the total number of jobs\n",
    "    print(f\"Total number of {job_title} positions in {location}: \", df_jobs.shape[0])\n",
    "    return df_jobs"
   ]
  },
  {
   "cell_type": "code",
   "execution_count": 101,
   "metadata": {
    "scrolled": false
   },
   "outputs": [
    {
     "name": "stdout",
     "output_type": "stream",
     "text": [
      "Status code of the request:  200\n",
      "Document type:  <!DOCTYPE html>\n",
      "Title of the response:  Data Scientist Jobs, Employment in Alabama | Indeed.com\n",
      "Status code of the request:  200\n",
      "Document type:  <!DOCTYPE html>\n",
      "Title of the response:  Data Scientist Jobs, Employment in Alabama | Indeed.com\n",
      "Status Code:  200\n",
      "Data Scientist - Huntsville, AL 35806 - Indeed.com\n",
      "Status Code:  200\n",
      "Data Scientist - United States - Indeed.com\n",
      "Status Code:  200\n",
      "Vaco Careers and Employment | Indeed.com\n",
      "Status Code:  200\n",
      "MANAGER, ACCOUNT DEVELOPMENT/DATA SCIENCE - Birmingham, AL 35243 - Indeed.com\n",
      "Status Code:  200\n",
      "Data Scientist - Huntsville, AL - Indeed.com\n",
      "Status Code:  200\n",
      "Statistical Analyst - Jefferson County, AL - Indeed.com\n",
      "Status Code:  200\n",
      "Data Scientist Intern - Huntsville, AL 35806 - Indeed.com\n",
      "Status Code:  200\n",
      "Machine Learning/Artificial Intelligence Software Developer - Huntsville, AL 35805 - Indeed.com\n",
      "Status Code:  200\n",
      "Software Engineer/Data Scientist - Huntsville, AL 35802 - Indeed.com\n",
      "Status Code:  200\n",
      "Lead Financial Analyst - Artificial Intelligence Strategic Growth Offering (AI SGO) Finance & Investment - Birmingham, AL 35203 - Indeed.com\n",
      "Status Code:  200\n",
      "BI Architect/Data Scientist - Birmingham, AL 35216 - Indeed.com\n",
      "Status Code:  200\n",
      "Asst Research Professional - Research Data Scientist - Tuscaloosa, AL - Indeed.com\n",
      "Status Code:  200\n",
      "2021-18 Software Engineers for BMDS Data Analysis Suite - Huntsville, AL - Indeed.com\n",
      "Status Code:  200\n",
      "Cyber Artificial Intelligence (AI) SME - Huntsville, AL 35806 - Indeed.com\n",
      "Status Code:  200\n",
      "2021-02 Artificial Intelligence Designer - Huntsville, AL - Indeed.com\n",
      "--------------------------------\n",
      "Page:  1\n",
      "--------------------------------\n",
      "Status code of the request:  200\n",
      "Document type:  <!DOCTYPE html>\n",
      "Title of the response:  Data Scientist Jobs, Employment in Alabama | Indeed.com\n",
      "Status Code:  200\n",
      "Deep Learning Engineer - Alabama - Indeed.com\n",
      "Status Code:  200\n",
      "Machine Learning Engineer - Huntsville, AL 35806 - Indeed.com\n",
      "Status Code:  200\n",
      "Member of Technical Staff- Technical Support - Ai/Cloud - Huntsville, AL - Indeed.com\n",
      "Status Code:  200\n",
      "Marketing Data Analyst (Remote) - Birmingham, AL 35209 - Indeed.com\n",
      "Status Code:  200\n",
      "HudsonAlpha - Clinical Data Scientist/Bioinformatician I- CSL - Huntsville, AL 35806 - Indeed.com\n",
      "Status Code:  200\n",
      "Data Scientist - Birmingham, AL 35209 - Indeed.com\n",
      "Status Code:  200\n",
      "Data Scientist - Birmingham, AL 35242 - Indeed.com\n",
      "Status Code:  200\n",
      "STATISTICIAN - Montgomery, AL 36130 - Indeed.com\n",
      "Status Code:  200\n",
      "Federal - Data Scientist - Huntsville, AL - Indeed.com\n",
      "Status Code:  200\n",
      "Artificial Intelligence Scientist - Huntsville, AL 35801 - Indeed.com\n",
      "Status Code:  200\n",
      "Digital Data Engineer - Birmingham, AL 35242 - Indeed.com\n",
      "Status Code:  200\n",
      "Artificial Intelligence (AI) Business Development Manager - Huntsville, AL - Indeed.com\n",
      "Status Code:  200\n",
      "Data Scientist - Huntsville, AL - Indeed.com\n",
      "Status Code:  200\n",
      "MANAGER - RC DATA SCIENCE - ENT - Birmingham, AL 35294 - Indeed.com\n",
      "Status Code:  200\n",
      "Boeing Graduate Researcher – Artificial Intelligence Technologist - Huntsville, AL - Indeed.com\n",
      "--------------------------------\n",
      "Page:  2\n",
      "--------------------------------\n",
      "Status code of the request:  200\n",
      "Document type:  <!DOCTYPE html>\n",
      "Title of the response:  Data Scientist Jobs, Employment in Alabama | Indeed.com\n",
      "Status Code:  200\n",
      "AI/ML Software Engineer - Huntsville, AL - Indeed.com\n",
      "Status Code:  200\n",
      "STATISTICIAN I - Birmingham, AL 35294 - Indeed.com\n",
      "Status Code:  200\n",
      "Mathematical Modeler/Software Developer* - Huntsville, AL - Indeed.com\n",
      "Status Code:  200\n",
      "Data Architect/Scientist - Huntsville, AL - Indeed.com\n",
      "Status Code:  200\n",
      "Lead Data Warehouse Developer - Huntsville, AL - Indeed.com\n",
      "Status Code:  200\n",
      "Data Scientist / Process Engineer - Mobile, AL - Indeed.com\n",
      "Status Code:  200\n",
      "Junior AI Engineer - Tuscaloosa, AL - Indeed.com\n",
      "Status Code:  200\n",
      "Senior AI Engineer - Tuscaloosa, AL - Indeed.com\n",
      "Status Code:  200\n",
      "IBKC - Quantitative Analyst - International Park - Birmingham, AL - Indeed.com\n",
      "Status Code:  200\n",
      "Statistician (Data Scientist) *12 month Roster* *Direct Hire* - Birmingham, AL - Indeed.com\n",
      "Status Code:  200\n",
      "Statistician - Huntsville, AL 35816 - Indeed.com\n",
      "Status Code:  200\n",
      "DATA SCIENCE CONSULTANT BIRMINGHAM - Birmingham, AL 35203 - Indeed.com\n",
      "--------------------------------\n",
      "Page:  3\n",
      "--------------------------------\n",
      "Total number of data scientist positions in al:  42\n"
     ]
    }
   ],
   "source": [
    "# Test function jobs_in_state_indeed\n",
    "df = jobs_indeed('data scientist', 'al')"
   ]
  },
  {
   "cell_type": "code",
   "execution_count": 114,
   "metadata": {
    "scrolled": false
   },
   "outputs": [
    {
     "name": "stdout",
     "output_type": "stream",
     "text": [
      "<class 'pandas.core.frame.DataFrame'>\n",
      "RangeIndex: 42 entries, 0 to 41\n",
      "Data columns (total 7 columns):\n",
      " #   Column           Non-Null Count  Dtype \n",
      "---  ------           --------------  ----- \n",
      " 0   title            42 non-null     object\n",
      " 1   locations        42 non-null     object\n",
      " 2   company          42 non-null     object\n",
      " 3   company_rating   42 non-null     object\n",
      " 4   post_age         42 non-null     object\n",
      " 5   job_link         42 non-null     object\n",
      " 6   job_description  42 non-null     object\n",
      "dtypes: object(7)\n",
      "memory usage: 2.4+ KB\n"
     ]
    }
   ],
   "source": [
    "# Print a concise summary of the df\n",
    "df.info()"
   ]
  },
  {
   "cell_type": "code",
   "execution_count": 115,
   "metadata": {},
   "outputs": [
    {
     "data": {
      "text/html": [
       "<div>\n",
       "<style scoped>\n",
       "    .dataframe tbody tr th:only-of-type {\n",
       "        vertical-align: middle;\n",
       "    }\n",
       "\n",
       "    .dataframe tbody tr th {\n",
       "        vertical-align: top;\n",
       "    }\n",
       "\n",
       "    .dataframe thead th {\n",
       "        text-align: right;\n",
       "    }\n",
       "</style>\n",
       "<table border=\"1\" class=\"dataframe\">\n",
       "  <thead>\n",
       "    <tr style=\"text-align: right;\">\n",
       "      <th></th>\n",
       "      <th>title</th>\n",
       "      <th>locations</th>\n",
       "      <th>company</th>\n",
       "      <th>company_rating</th>\n",
       "      <th>post_age</th>\n",
       "      <th>job_link</th>\n",
       "      <th>job_description</th>\n",
       "    </tr>\n",
       "  </thead>\n",
       "  <tbody>\n",
       "    <tr>\n",
       "      <th>17</th>\n",
       "      <td>Member of Technical Staff- Technical Support -...</td>\n",
       "      <td>Huntsville, AL</td>\n",
       "      <td>Wind River</td>\n",
       "      <td>3.7</td>\n",
       "      <td>30+ days ago</td>\n",
       "      <td>https://www.indeed.com/rc/clk?jk=c768446d7ff0b...</td>\n",
       "      <td>Member of Technical Staff - Technical Support ...</td>\n",
       "    </tr>\n",
       "    <tr>\n",
       "      <th>16</th>\n",
       "      <td>Machine Learning Engineer</td>\n",
       "      <td>Huntsville, AL 35806</td>\n",
       "      <td>CFD Research Corporation</td>\n",
       "      <td>4.2</td>\n",
       "      <td>28 days ago</td>\n",
       "      <td>https://www.indeed.com/rc/clk?jk=189d948471f4a...</td>\n",
       "      <td>This position will join an R&amp;D team focused on...</td>\n",
       "    </tr>\n",
       "    <tr>\n",
       "      <th>3</th>\n",
       "      <td>MANAGER, ACCOUNT DEVELOPMENT/DATA SCIENCE\\nnew</td>\n",
       "      <td>Birmingham, AL 35243</td>\n",
       "      <td>B.A.S.S., LLC</td>\n",
       "      <td>missing</td>\n",
       "      <td>Today</td>\n",
       "      <td>https://www.indeed.com/company/B.A.S.S.,-LLC/j...</td>\n",
       "      <td>MANAGER, ACCOUNT DEVELOPMENT/DATA SCIENCEBasic...</td>\n",
       "    </tr>\n",
       "    <tr>\n",
       "      <th>30</th>\n",
       "      <td>AI/ML Software Engineer</td>\n",
       "      <td>Huntsville, AL</td>\n",
       "      <td>COLSA</td>\n",
       "      <td>3.9</td>\n",
       "      <td>30+ days ago</td>\n",
       "      <td>https://www.indeed.com/rc/clk?jk=fad792fe1641a...</td>\n",
       "      <td>General Summary\\n\\n\\nDesigns, develops, troubl...</td>\n",
       "    </tr>\n",
       "    <tr>\n",
       "      <th>41</th>\n",
       "      <td>DATA SCIENCE CONSULTANT BIRMINGHAM</td>\n",
       "      <td>Birmingham, AL 35203 (Central City area)</td>\n",
       "      <td>managementsolutions</td>\n",
       "      <td>3.8</td>\n",
       "      <td>30+ days ago</td>\n",
       "      <td>https://www.indeed.com/rc/clk?jk=aa00dcc168e47...</td>\n",
       "      <td>United States\\n\\nDATA SCIENCE CONSULTANT BIRMI...</td>\n",
       "    </tr>\n",
       "  </tbody>\n",
       "</table>\n",
       "</div>"
      ],
      "text/plain": [
       "                                                title  \\\n",
       "17  Member of Technical Staff- Technical Support -...   \n",
       "16                          Machine Learning Engineer   \n",
       "3      MANAGER, ACCOUNT DEVELOPMENT/DATA SCIENCE\\nnew   \n",
       "30                            AI/ML Software Engineer   \n",
       "41                 DATA SCIENCE CONSULTANT BIRMINGHAM   \n",
       "\n",
       "                                   locations                   company  \\\n",
       "17                            Huntsville, AL                Wind River   \n",
       "16                      Huntsville, AL 35806  CFD Research Corporation   \n",
       "3                       Birmingham, AL 35243             B.A.S.S., LLC   \n",
       "30                            Huntsville, AL                     COLSA   \n",
       "41  Birmingham, AL 35203 (Central City area)       managementsolutions   \n",
       "\n",
       "   company_rating      post_age  \\\n",
       "17            3.7  30+ days ago   \n",
       "16            4.2   28 days ago   \n",
       "3         missing         Today   \n",
       "30            3.9  30+ days ago   \n",
       "41            3.8  30+ days ago   \n",
       "\n",
       "                                             job_link  \\\n",
       "17  https://www.indeed.com/rc/clk?jk=c768446d7ff0b...   \n",
       "16  https://www.indeed.com/rc/clk?jk=189d948471f4a...   \n",
       "3   https://www.indeed.com/company/B.A.S.S.,-LLC/j...   \n",
       "30  https://www.indeed.com/rc/clk?jk=fad792fe1641a...   \n",
       "41  https://www.indeed.com/rc/clk?jk=aa00dcc168e47...   \n",
       "\n",
       "                                      job_description  \n",
       "17  Member of Technical Staff - Technical Support ...  \n",
       "16  This position will join an R&D team focused on...  \n",
       "3   MANAGER, ACCOUNT DEVELOPMENT/DATA SCIENCEBasic...  \n",
       "30  General Summary\\n\\n\\nDesigns, develops, troubl...  \n",
       "41  United States\\n\\nDATA SCIENCE CONSULTANT BIRMI...  "
      ]
     },
     "execution_count": 115,
     "metadata": {},
     "output_type": "execute_result"
    }
   ],
   "source": [
    "df.sample(5)"
   ]
  },
  {
   "cell_type": "code",
   "execution_count": 112,
   "metadata": {},
   "outputs": [
    {
     "data": {
      "text/plain": [
       "'https://www.indeed.com/rc/clk?jk=aa00dcc168e475b5&fccid=f3eca80b6759548b&vjs=3'"
      ]
     },
     "execution_count": 112,
     "metadata": {},
     "output_type": "execute_result"
    }
   ],
   "source": [
    "df.job_link[41]"
   ]
  },
  {
   "cell_type": "code",
   "execution_count": 113,
   "metadata": {},
   "outputs": [
    {
     "data": {
      "text/plain": [
       "'United States\\n\\nDATA SCIENCE CONSULTANT BIRMINGHAM\\n\\nBirmingham / Internship / Number of vacancies: 2\\n\\n\\n\\n\\nYou will be working in key projects for leading organizations in data mining & knowledge Discovery, predictive modeling, trend modeling, Simulation models (Monte Carlo), Review of credit rating and scoring models and quant support to the business and R&D projects.\\n\\nRequirements\\n\\nRecent graduates or final year students from disciplines relating to Mathematics, Physics, Statistics, Econometrics or other Quantitative fields.\\nPostgraduate studies and/or specialised courses are an asset, especially in Data Science, Quantitative Finance or similar.\\nShould desirably have knowledge of modeling techniques (logit, GLM, time series, decision trees, random forests, clustering), statistical programming languages (SAS, R, Python, Matlab) and big data tools and platforms (Hadoop, Hive, etc.).\\nSolid academic record.\\nStrong computer skills.\\nKnowledge of other languages is desirable.\\nGet-up-and-go attitude, maturity, responsibility and strong work ethic.\\nStrong ability to learn quickly.\\nAble to integrate easily into multidisciplinary teams.\\n\\n\\nWe Offer\\n\\nThe best environment to develop talent\\n\\nWe offer you the possibility to join a firm that provides all you need to develop your talent to the fullest:\\nWorking in the highest-profile consulting projects in the industry,\\nfor the largest companies, leaders of their respective markets,\\nalongside top industry management as they face challenges at the national and global level,\\nas part of an extraordinary team of professionals whose values and corporate culture are a benchmark for the industry\\n\\nOngoing training plan, with approximately 10% of business turnover spent in training\\n\\nSpecialist knowledge courses, external expert courses, professional skills courses, and language courses.\\n\\nLast year our staff as a whole received over 250,000 hours of training, spanning more than 575 courses.\\n\\nClearly defined career plan\\n\\nInternal promotion based solely on merit.\\n\\nPartnership-based management model offers all professionals the opportunity to become part of the Firm’s group of partners.\\n\\nComplementary experiencies\\n\\nUniversity: we maintain a close relationship with the world’s most prestigious universities.\\n\\nSocial Action: we organize more than 30 community support activities.\\n\\nSports Club: internal and external tournaments.\\n\\n\\n\\nMore on Management Solutions\\n\\nManagement Solutions is an international consulting firm whose core mission is to deliver business, risk, financial, organisational and process-related advisory services, targeting both functional aspects and the implementation of related technologies.\\n\\nDiscover our Birmingham office\\n\\n\\n420 20th Street North\\n\\nAl 35203 Birmingham\\n\\nUnited States\\n\\n33-1056152\\n\\nLocation\\n\\nShare this job\\n\\n\\nFollow us\\n\\nlinkedin/management-solutions\\n \\nfacebook/MngmtSolutions\\n \\nyoutube/management-solutions\\n \\ninstagram/management.solutions\\n \\nMngmt_Solutions\\n\\nAre you a student?\\n\\nIf you are in the final years of your degree, we would also like to hear from you. Management Solutions has agreements with the most prestigious universities to offer students their first experience with the business world. The Firm offers paid work experience and flexible hours with the possibility of students becoming part of the Firm upon graduation.\\n\\nOther open positions in Birmingham\\n\\nBUSINESS CONSULTANT BIRMINGHAM\\n\\nDATA SCIENCE CONSULTANT BIRMINGHAM\\n\\nNEW TECHNOLOGIES AND DIGITAL TRANSFORMATION CONSULTANT BIRMINGHAM\\n\\nNEW TECHNOLOGIES AND DIGITAL TRANSFORMATION CONSULTANT BIRMINGHAM\\n\\nDATA SCIENCE CONSULTANT BIRMINGHAM'"
      ]
     },
     "execution_count": 113,
     "metadata": {},
     "output_type": "execute_result"
    }
   ],
   "source": [
    "df.job_description[41]"
   ]
  },
  {
   "cell_type": "markdown",
   "metadata": {},
   "source": [
    "### Combine Job Search Results"
   ]
  },
  {
   "cell_type": "code",
   "execution_count": 126,
   "metadata": {},
   "outputs": [],
   "source": [
    "# Load data scientist job posts in TX\n",
    "\n",
    "# Import the file path\n",
    "database = env_Shi.database\n",
    "\n",
    "# Read the data scientist jobs in TX\n",
    "df_ds_tx1 = pd.read_csv(f\"{database}data_scientist_tx_indeed_012121.csv\", index_col=0)\n",
    "df_ds_tx2 = pd.read_csv(f\"{database}data_scientist_tx_indeed_012221.csv\", index_col=0)"
   ]
  },
  {
   "cell_type": "code",
   "execution_count": 127,
   "metadata": {},
   "outputs": [
    {
     "name": "stdout",
     "output_type": "stream",
     "text": [
      "<class 'pandas.core.frame.DataFrame'>\n",
      "Int64Index: 482 entries, 0 to 481\n",
      "Data columns (total 7 columns):\n",
      " #   Column           Non-Null Count  Dtype \n",
      "---  ------           --------------  ----- \n",
      " 0   title            482 non-null    object\n",
      " 1   locations        482 non-null    object\n",
      " 2   company          482 non-null    object\n",
      " 3   company_rating   482 non-null    object\n",
      " 4   post_age         482 non-null    object\n",
      " 5   job_link         482 non-null    object\n",
      " 6   job_description  482 non-null    object\n",
      "dtypes: object(7)\n",
      "memory usage: 30.1+ KB\n"
     ]
    }
   ],
   "source": [
    "# Print out the information\n",
    "df_ds_tx1.info()"
   ]
  },
  {
   "cell_type": "code",
   "execution_count": 128,
   "metadata": {},
   "outputs": [
    {
     "name": "stdout",
     "output_type": "stream",
     "text": [
      "<class 'pandas.core.frame.DataFrame'>\n",
      "Int64Index: 510 entries, 0 to 509\n",
      "Data columns (total 7 columns):\n",
      " #   Column           Non-Null Count  Dtype \n",
      "---  ------           --------------  ----- \n",
      " 0   title            510 non-null    object\n",
      " 1   locations        510 non-null    object\n",
      " 2   company          510 non-null    object\n",
      " 3   company_rating   510 non-null    object\n",
      " 4   post_age         510 non-null    object\n",
      " 5   job_link         510 non-null    object\n",
      " 6   job_description  510 non-null    object\n",
      "dtypes: object(7)\n",
      "memory usage: 31.9+ KB\n"
     ]
    }
   ],
   "source": [
    "# Print out the information\n",
    "df_ds_tx2.info()"
   ]
  },
  {
   "cell_type": "code",
   "execution_count": 129,
   "metadata": {},
   "outputs": [
    {
     "name": "stdout",
     "output_type": "stream",
     "text": [
      "<class 'pandas.core.frame.DataFrame'>\n",
      "RangeIndex: 992 entries, 0 to 991\n",
      "Data columns (total 7 columns):\n",
      " #   Column           Non-Null Count  Dtype \n",
      "---  ------           --------------  ----- \n",
      " 0   title            992 non-null    object\n",
      " 1   locations        992 non-null    object\n",
      " 2   company          992 non-null    object\n",
      " 3   company_rating   992 non-null    object\n",
      " 4   post_age         992 non-null    object\n",
      " 5   job_link         992 non-null    object\n",
      " 6   job_description  992 non-null    object\n",
      "dtypes: object(7)\n",
      "memory usage: 54.4+ KB\n"
     ]
    }
   ],
   "source": [
    "df_ds_tx = pd.concat([df_ds_tx1, df_ds_tx2], ignore_index=True)\n",
    "df_ds_tx.info()"
   ]
  },
  {
   "cell_type": "code",
   "execution_count": 130,
   "metadata": {},
   "outputs": [
    {
     "data": {
      "text/html": [
       "<div>\n",
       "<style scoped>\n",
       "    .dataframe tbody tr th:only-of-type {\n",
       "        vertical-align: middle;\n",
       "    }\n",
       "\n",
       "    .dataframe tbody tr th {\n",
       "        vertical-align: top;\n",
       "    }\n",
       "\n",
       "    .dataframe thead th {\n",
       "        text-align: right;\n",
       "    }\n",
       "</style>\n",
       "<table border=\"1\" class=\"dataframe\">\n",
       "  <thead>\n",
       "    <tr style=\"text-align: right;\">\n",
       "      <th></th>\n",
       "      <th>title</th>\n",
       "      <th>locations</th>\n",
       "      <th>company</th>\n",
       "      <th>company_rating</th>\n",
       "      <th>post_age</th>\n",
       "      <th>job_link</th>\n",
       "      <th>job_description</th>\n",
       "    </tr>\n",
       "  </thead>\n",
       "  <tbody>\n",
       "    <tr>\n",
       "      <th>0</th>\n",
       "      <td>Data Scientist Associate Sr\\nnew</td>\n",
       "      <td>Plano, TX</td>\n",
       "      <td>JPMorgan Chase Bank, N.A.</td>\n",
       "      <td>3.9</td>\n",
       "      <td>Just posted</td>\n",
       "      <td>https://www.indeed.com/rc/clk?jk=fdb25f52f6062...</td>\n",
       "      <td>J.P. Morgan's Corporate &amp; Investment Bank (CIB...</td>\n",
       "    </tr>\n",
       "    <tr>\n",
       "      <th>1</th>\n",
       "      <td>Senior Data Scientist\\nnew</td>\n",
       "      <td>Austin, TX 78701 (Downtown area)</td>\n",
       "      <td>Sam's Club</td>\n",
       "      <td>3.5</td>\n",
       "      <td>Just posted</td>\n",
       "      <td>https://www.indeed.com/rc/clk?jk=3d235cc44e5cc...</td>\n",
       "      <td>What you'll do...\\nPosition: Senior Data Scien...</td>\n",
       "    </tr>\n",
       "  </tbody>\n",
       "</table>\n",
       "</div>"
      ],
      "text/plain": [
       "                              title                         locations  \\\n",
       "0  Data Scientist Associate Sr\\nnew                         Plano, TX   \n",
       "1        Senior Data Scientist\\nnew  Austin, TX 78701 (Downtown area)   \n",
       "\n",
       "                     company company_rating     post_age  \\\n",
       "0  JPMorgan Chase Bank, N.A.            3.9  Just posted   \n",
       "1                 Sam's Club            3.5  Just posted   \n",
       "\n",
       "                                            job_link  \\\n",
       "0  https://www.indeed.com/rc/clk?jk=fdb25f52f6062...   \n",
       "1  https://www.indeed.com/rc/clk?jk=3d235cc44e5cc...   \n",
       "\n",
       "                                     job_description  \n",
       "0  J.P. Morgan's Corporate & Investment Bank (CIB...  \n",
       "1  What you'll do...\\nPosition: Senior Data Scien...  "
      ]
     },
     "execution_count": 130,
     "metadata": {},
     "output_type": "execute_result"
    }
   ],
   "source": [
    "df_ds_tx.head(2)"
   ]
  },
  {
   "cell_type": "code",
   "execution_count": 131,
   "metadata": {},
   "outputs": [
    {
     "data": {
      "text/plain": [
       "436"
      ]
     },
     "execution_count": 131,
     "metadata": {},
     "output_type": "execute_result"
    }
   ],
   "source": [
    "# Compute the number of duplicate rows \n",
    "# using columns: title, locations, company, job links and job description\n",
    "\n",
    "df_ds_tx.duplicated(subset=['title', 'locations', 'company', 'job_link', 'job_description']).sum()"
   ]
  },
  {
   "cell_type": "code",
   "execution_count": 132,
   "metadata": {},
   "outputs": [
    {
     "data": {
      "text/plain": [
       "237"
      ]
     },
     "execution_count": 132,
     "metadata": {},
     "output_type": "execute_result"
    }
   ],
   "source": [
    "# Compute the number of new jobs posted\n",
    "\n",
    "num_duplicateds = df_ds_tx.duplicated(subset=['title', 'locations', 'company', \n",
    "                                              'job_link', 'job_description'], keep=False).sum()\n",
    "num_new_jobs = df_ds_tx.shape[0] - num_duplicateds\n",
    "num_new_jobs"
   ]
  },
  {
   "cell_type": "markdown",
   "metadata": {},
   "source": [
    "## Data Preparation"
   ]
  },
  {
   "cell_type": "code",
   "execution_count": 133,
   "metadata": {},
   "outputs": [],
   "source": [
    "# Define a function to remove the duplicates\n",
    "\n",
    "def remove_duplicates(df):\n",
    "    '''\n",
    "    This function removes the duplicates in the dataframe\n",
    "    '''\n",
    "    # Define the columns for identifying duplicates\n",
    "    columns = ['title', 'locations', 'company', 'job_link', 'job_description']\n",
    "    # Drop the duplicates except for the last occurrence\n",
    "    df.drop_duplicates(subset=columns, keep='last', inplace=True, ignore_index=True)\n",
    "    return df"
   ]
  },
  {
   "cell_type": "code",
   "execution_count": 134,
   "metadata": {},
   "outputs": [
    {
     "name": "stdout",
     "output_type": "stream",
     "text": [
      "<class 'pandas.core.frame.DataFrame'>\n",
      "RangeIndex: 556 entries, 0 to 555\n",
      "Data columns (total 7 columns):\n",
      " #   Column           Non-Null Count  Dtype \n",
      "---  ------           --------------  ----- \n",
      " 0   title            556 non-null    object\n",
      " 1   locations        556 non-null    object\n",
      " 2   company          556 non-null    object\n",
      " 3   company_rating   556 non-null    object\n",
      " 4   post_age         556 non-null    object\n",
      " 5   job_link         556 non-null    object\n",
      " 6   job_description  556 non-null    object\n",
      "dtypes: object(7)\n",
      "memory usage: 30.5+ KB\n"
     ]
    }
   ],
   "source": [
    "# Test the function\n",
    "\n",
    "df_ds_tx = remove_duplicates(df_ds_tx)\n",
    "df_ds_tx.info()"
   ]
  },
  {
   "cell_type": "code",
   "execution_count": 135,
   "metadata": {},
   "outputs": [
    {
     "data": {
      "text/plain": [
       "Deloitte                          21\n",
       "Apple                             15\n",
       "Cognizant Technology Solutions    12\n",
       "USAA                              11\n",
       "Dell Technologies                  8\n",
       "                                  ..\n",
       "ePlus inc.                         1\n",
       "Syncroness                         1\n",
       "Plasma Computing Group             1\n",
       "Aramco Services Company            1\n",
       "CFoundations                       1\n",
       "Name: company, Length: 332, dtype: int64"
      ]
     },
     "execution_count": 135,
     "metadata": {},
     "output_type": "execute_result"
    }
   ],
   "source": [
    "# Rank the companies based on the number of posts\n",
    "df_ds_tx.company.value_counts()"
   ]
  },
  {
   "cell_type": "code",
   "execution_count": 136,
   "metadata": {},
   "outputs": [
    {
     "data": {
      "text/html": [
       "<div>\n",
       "<style scoped>\n",
       "    .dataframe tbody tr th:only-of-type {\n",
       "        vertical-align: middle;\n",
       "    }\n",
       "\n",
       "    .dataframe tbody tr th {\n",
       "        vertical-align: top;\n",
       "    }\n",
       "\n",
       "    .dataframe thead th {\n",
       "        text-align: right;\n",
       "    }\n",
       "</style>\n",
       "<table border=\"1\" class=\"dataframe\">\n",
       "  <thead>\n",
       "    <tr style=\"text-align: right;\">\n",
       "      <th></th>\n",
       "      <th>title</th>\n",
       "      <th>locations</th>\n",
       "      <th>company</th>\n",
       "      <th>company_rating</th>\n",
       "      <th>post_age</th>\n",
       "      <th>job_link</th>\n",
       "      <th>job_description</th>\n",
       "      <th>clean</th>\n",
       "      <th>tokenized</th>\n",
       "      <th>stemmed</th>\n",
       "      <th>lemmatized</th>\n",
       "    </tr>\n",
       "  </thead>\n",
       "  <tbody>\n",
       "    <tr>\n",
       "      <th>0</th>\n",
       "      <td>Data Scientist Associate Sr\\nnew</td>\n",
       "      <td>Plano, TX</td>\n",
       "      <td>JPMorgan Chase Bank, N.A.</td>\n",
       "      <td>3.9</td>\n",
       "      <td>Just posted</td>\n",
       "      <td>https://www.indeed.com/rc/clk?jk=fdb25f52f6062...</td>\n",
       "      <td>J.P. Morgan's Corporate &amp; Investment Bank (CIB...</td>\n",
       "      <td>jp morgan corporate investment bank cib global...</td>\n",
       "      <td>jp morgans corporate investment bank cib is a ...</td>\n",
       "      <td>jp morgan corpor invest bank cib is a global l...</td>\n",
       "      <td>jp morgan corporate investment bank cib is a g...</td>\n",
       "    </tr>\n",
       "    <tr>\n",
       "      <th>1</th>\n",
       "      <td>Director of Data Science\\nnew</td>\n",
       "      <td>Austin, TX 78701 (Downtown area)</td>\n",
       "      <td>CyberCoders</td>\n",
       "      <td>3.3</td>\n",
       "      <td>Just posted</td>\n",
       "      <td>https://www.indeed.com/pagead/clk?mo=r&amp;ad=-6NY...</td>\n",
       "      <td>Director of Data Science\\nHumanity is sufferin...</td>\n",
       "      <td>director data science humanity suffering healt...</td>\n",
       "      <td>director of data science\\nhumanity is sufferin...</td>\n",
       "      <td>director of data scienc human is suffer from a...</td>\n",
       "      <td>director of data science humanity is suffering...</td>\n",
       "    </tr>\n",
       "  </tbody>\n",
       "</table>\n",
       "</div>"
      ],
      "text/plain": [
       "                              title                         locations  \\\n",
       "0  Data Scientist Associate Sr\\nnew                         Plano, TX   \n",
       "1     Director of Data Science\\nnew  Austin, TX 78701 (Downtown area)   \n",
       "\n",
       "                     company company_rating     post_age  \\\n",
       "0  JPMorgan Chase Bank, N.A.            3.9  Just posted   \n",
       "1                CyberCoders            3.3  Just posted   \n",
       "\n",
       "                                            job_link  \\\n",
       "0  https://www.indeed.com/rc/clk?jk=fdb25f52f6062...   \n",
       "1  https://www.indeed.com/pagead/clk?mo=r&ad=-6NY...   \n",
       "\n",
       "                                     job_description  \\\n",
       "0  J.P. Morgan's Corporate & Investment Bank (CIB...   \n",
       "1  Director of Data Science\\nHumanity is sufferin...   \n",
       "\n",
       "                                               clean  \\\n",
       "0  jp morgan corporate investment bank cib global...   \n",
       "1  director data science humanity suffering healt...   \n",
       "\n",
       "                                           tokenized  \\\n",
       "0  jp morgans corporate investment bank cib is a ...   \n",
       "1  director of data science\\nhumanity is sufferin...   \n",
       "\n",
       "                                             stemmed  \\\n",
       "0  jp morgan corpor invest bank cib is a global l...   \n",
       "1  director of data scienc human is suffer from a...   \n",
       "\n",
       "                                          lemmatized  \n",
       "0  jp morgan corporate investment bank cib is a g...  \n",
       "1  director of data science humanity is suffering...  "
      ]
     },
     "execution_count": 136,
     "metadata": {},
     "output_type": "execute_result"
    }
   ],
   "source": [
    "# Clean the text in the `job_description` column\n",
    "df_ds_tx_clean = MVP_Bojado.prep_job_description_data(df_ds_tx, 'job_description')\n",
    "df_ds_tx.head(2)"
   ]
  },
  {
   "cell_type": "code",
   "execution_count": 137,
   "metadata": {
    "scrolled": true
   },
   "outputs": [
    {
     "data": {
      "text/html": [
       "<div>\n",
       "<style scoped>\n",
       "    .dataframe tbody tr th:only-of-type {\n",
       "        vertical-align: middle;\n",
       "    }\n",
       "\n",
       "    .dataframe tbody tr th {\n",
       "        vertical-align: top;\n",
       "    }\n",
       "\n",
       "    .dataframe thead th {\n",
       "        text-align: right;\n",
       "    }\n",
       "</style>\n",
       "<table border=\"1\" class=\"dataframe\">\n",
       "  <thead>\n",
       "    <tr style=\"text-align: right;\">\n",
       "      <th></th>\n",
       "      <th>title</th>\n",
       "      <th>locations</th>\n",
       "      <th>company</th>\n",
       "      <th>company_rating</th>\n",
       "      <th>post_age</th>\n",
       "      <th>job_link</th>\n",
       "      <th>job_description</th>\n",
       "      <th>clean</th>\n",
       "      <th>tokenized</th>\n",
       "      <th>stemmed</th>\n",
       "      <th>lemmatized</th>\n",
       "      <th>words</th>\n",
       "    </tr>\n",
       "  </thead>\n",
       "  <tbody>\n",
       "    <tr>\n",
       "      <th>0</th>\n",
       "      <td>Data Scientist Associate Sr\\nnew</td>\n",
       "      <td>Plano, TX</td>\n",
       "      <td>JPMorgan Chase Bank, N.A.</td>\n",
       "      <td>3.9</td>\n",
       "      <td>Just posted</td>\n",
       "      <td>https://www.indeed.com/rc/clk?jk=fdb25f52f6062...</td>\n",
       "      <td>J.P. Morgan's Corporate &amp; Investment Bank (CIB...</td>\n",
       "      <td>jp morgan corporate investment bank cib global...</td>\n",
       "      <td>jp morgans corporate investment bank cib is a ...</td>\n",
       "      <td>jp morgan corpor invest bank cib is a global l...</td>\n",
       "      <td>jp morgan corporate investment bank cib is a g...</td>\n",
       "      <td>[jp, morgan, corporate, investment, bank, cib,...</td>\n",
       "    </tr>\n",
       "    <tr>\n",
       "      <th>1</th>\n",
       "      <td>Director of Data Science\\nnew</td>\n",
       "      <td>Austin, TX 78701 (Downtown area)</td>\n",
       "      <td>CyberCoders</td>\n",
       "      <td>3.3</td>\n",
       "      <td>Just posted</td>\n",
       "      <td>https://www.indeed.com/pagead/clk?mo=r&amp;ad=-6NY...</td>\n",
       "      <td>Director of Data Science\\nHumanity is sufferin...</td>\n",
       "      <td>director data science humanity suffering healt...</td>\n",
       "      <td>director of data science\\nhumanity is sufferin...</td>\n",
       "      <td>director of data scienc human is suffer from a...</td>\n",
       "      <td>director of data science humanity is suffering...</td>\n",
       "      <td>[director, data, science, humanity, suffering,...</td>\n",
       "    </tr>\n",
       "  </tbody>\n",
       "</table>\n",
       "</div>"
      ],
      "text/plain": [
       "                              title                         locations  \\\n",
       "0  Data Scientist Associate Sr\\nnew                         Plano, TX   \n",
       "1     Director of Data Science\\nnew  Austin, TX 78701 (Downtown area)   \n",
       "\n",
       "                     company company_rating     post_age  \\\n",
       "0  JPMorgan Chase Bank, N.A.            3.9  Just posted   \n",
       "1                CyberCoders            3.3  Just posted   \n",
       "\n",
       "                                            job_link  \\\n",
       "0  https://www.indeed.com/rc/clk?jk=fdb25f52f6062...   \n",
       "1  https://www.indeed.com/pagead/clk?mo=r&ad=-6NY...   \n",
       "\n",
       "                                     job_description  \\\n",
       "0  J.P. Morgan's Corporate & Investment Bank (CIB...   \n",
       "1  Director of Data Science\\nHumanity is sufferin...   \n",
       "\n",
       "                                               clean  \\\n",
       "0  jp morgan corporate investment bank cib global...   \n",
       "1  director data science humanity suffering healt...   \n",
       "\n",
       "                                           tokenized  \\\n",
       "0  jp morgans corporate investment bank cib is a ...   \n",
       "1  director of data science\\nhumanity is sufferin...   \n",
       "\n",
       "                                             stemmed  \\\n",
       "0  jp morgan corpor invest bank cib is a global l...   \n",
       "1  director of data scienc human is suffer from a...   \n",
       "\n",
       "                                          lemmatized  \\\n",
       "0  jp morgan corporate investment bank cib is a g...   \n",
       "1  director of data science humanity is suffering...   \n",
       "\n",
       "                                               words  \n",
       "0  [jp, morgan, corporate, investment, bank, cib,...  \n",
       "1  [director, data, science, humanity, suffering,...  "
      ]
     },
     "execution_count": 137,
     "metadata": {},
     "output_type": "execute_result"
    }
   ],
   "source": [
    "# Create 'words' variable\n",
    "words = [re.sub(r'([^a-z0-9\\s]|\\s.\\s)', '', doc).split() for doc in df_ds_tx.clean]\n",
    "\n",
    "# Add 'words' column to dataframe\n",
    "# Column will contain lists of separated words in each repo\n",
    "df_ds_tx = pd.concat([df_ds_tx, pd.DataFrame({'words': words})], axis=1)\n",
    "\n",
    "df_ds_tx.head(2)"
   ]
  },
  {
   "cell_type": "code",
   "execution_count": 14,
   "metadata": {},
   "outputs": [],
   "source": [
    "# Define the function to create the words that appear in the job descriptions\n",
    "\n",
    "def words_variables(df, companies):\n",
    "    '''\n",
    "    This function accepts the dataframe containing cleaned job description and \n",
    "    a list of company names and return a dictionary in which the values are the words \n",
    "    that appear in the job description. \n",
    "    '''\n",
    "    # Create the words that appear all the job descritipons\n",
    "    all_words = ' '.join(df.clean)\n",
    "    # Create a dictionary to hold the variable all_words\n",
    "    d_words = {'all': all_words}\n",
    "    # For loop the companies and create the words that appear in their job descriptions\n",
    "    for company in companies:\n",
    "        mask = (df.company == company)\n",
    "        s_company = df[mask].clean\n",
    "        words = ' '.join(s_company)\n",
    "        d_words[company] = words\n",
    "    return d_words"
   ]
  },
  {
   "cell_type": "code",
   "execution_count": 78,
   "metadata": {},
   "outputs": [
    {
     "data": {
      "text/plain": [
       "'purpose job currently seeking talented data scientist 100 remote available san antonio home office us advanced technique integrate traditional nontraditional datasets method enable analytical solution applies predictive analytics machine learning simulation optimization technique generate management insight enable customerfacing application participates building analytical solution leveraging inte'"
      ]
     },
     "execution_count": 78,
     "metadata": {},
     "output_type": "execute_result"
    }
   ],
   "source": [
    "# Apply the helper function: words_variables\n",
    "\n",
    "companies = ['Apple', 'Deloitte', 'USAA']\n",
    "dic = words_variables(df_ds_tx, companies)\n",
    "\n",
    "dic['USAA'][:400]"
   ]
  },
  {
   "cell_type": "code",
   "execution_count": 79,
   "metadata": {},
   "outputs": [
    {
     "data": {
      "text/plain": [
       "'summary posted jan 8 2021 weekly hour 40 role number200213058 imagine could apple new idea way becoming outstanding product service customer experience quickly bring passion dedication job there telling could accomplish apple strategic data solution sd team looking talented individual passionate crafting implementing operating analytical solution direct measurable impact apple customer sd data sci'"
      ]
     },
     "execution_count": 79,
     "metadata": {},
     "output_type": "execute_result"
    }
   ],
   "source": [
    "dic['Apple'][:400]"
   ]
  },
  {
   "cell_type": "code",
   "execution_count": 80,
   "metadata": {},
   "outputs": [
    {
     "data": {
      "text/plain": [
       "dict_keys(['all', 'Apple', 'Deloitte', 'USAA'])"
      ]
     },
     "execution_count": 80,
     "metadata": {},
     "output_type": "execute_result"
    }
   ],
   "source": [
    "# Read the keys in the dictionary\n",
    "dic.keys()"
   ]
  },
  {
   "cell_type": "code",
   "execution_count": 19,
   "metadata": {},
   "outputs": [],
   "source": [
    "# Define a function to compute the word frequency in the job description\n",
    "\n",
    "def word_frequency(d_words):\n",
    "    '''\n",
    "    This function accept the dictionary created by function words_variables\n",
    "    and return the word frequency in the job description. \n",
    "    '''\n",
    "    # Read the company names from the dictionary\n",
    "    companies = d_words.keys()\n",
    "    # Create a dataframe to hold the word frequency\n",
    "    word_counts = pd.DataFrame()\n",
    "    # For loop through the companies and generate the word frequency in their job descriptions\n",
    "    for company in companies:\n",
    "        freq = pd.Series(d_words[company].split()).value_counts()\n",
    "        word_counts = pd.concat([word_counts, freq], axis=1, sort=True)\n",
    "    word_counts.columns = companies\n",
    "    word_counts = word_counts.fillna(0).apply(lambda s: s.astype(int))\n",
    "    word_counts.sort_values(by='all', ascending=False, inplace=True)\n",
    "    return word_counts"
   ]
  },
  {
   "cell_type": "code",
   "execution_count": 81,
   "metadata": {},
   "outputs": [
    {
     "data": {
      "text/html": [
       "<div>\n",
       "<style scoped>\n",
       "    .dataframe tbody tr th:only-of-type {\n",
       "        vertical-align: middle;\n",
       "    }\n",
       "\n",
       "    .dataframe tbody tr th {\n",
       "        vertical-align: top;\n",
       "    }\n",
       "\n",
       "    .dataframe thead th {\n",
       "        text-align: right;\n",
       "    }\n",
       "</style>\n",
       "<table border=\"1\" class=\"dataframe\">\n",
       "  <thead>\n",
       "    <tr style=\"text-align: right;\">\n",
       "      <th></th>\n",
       "      <th>all</th>\n",
       "      <th>Apple</th>\n",
       "      <th>Deloitte</th>\n",
       "      <th>USAA</th>\n",
       "    </tr>\n",
       "  </thead>\n",
       "  <tbody>\n",
       "    <tr>\n",
       "      <th>data</th>\n",
       "      <td>5205</td>\n",
       "      <td>133</td>\n",
       "      <td>157</td>\n",
       "      <td>91</td>\n",
       "    </tr>\n",
       "    <tr>\n",
       "      <th>experience</th>\n",
       "      <td>3200</td>\n",
       "      <td>91</td>\n",
       "      <td>232</td>\n",
       "      <td>105</td>\n",
       "    </tr>\n",
       "    <tr>\n",
       "      <th>business</th>\n",
       "      <td>2035</td>\n",
       "      <td>66</td>\n",
       "      <td>147</td>\n",
       "      <td>125</td>\n",
       "    </tr>\n",
       "    <tr>\n",
       "      <th>team</th>\n",
       "      <td>1925</td>\n",
       "      <td>79</td>\n",
       "      <td>100</td>\n",
       "      <td>19</td>\n",
       "    </tr>\n",
       "    <tr>\n",
       "      <th>work</th>\n",
       "      <td>1592</td>\n",
       "      <td>30</td>\n",
       "      <td>106</td>\n",
       "      <td>80</td>\n",
       "    </tr>\n",
       "  </tbody>\n",
       "</table>\n",
       "</div>"
      ],
      "text/plain": [
       "             all  Apple  Deloitte  USAA\n",
       "data        5205    133       157    91\n",
       "experience  3200     91       232   105\n",
       "business    2035     66       147   125\n",
       "team        1925     79       100    19\n",
       "work        1592     30       106    80"
      ]
     },
     "execution_count": 81,
     "metadata": {},
     "output_type": "execute_result"
    }
   ],
   "source": [
    "# Test the function word_frequency\n",
    "\n",
    "df_word_frequency = word_frequency(dic)\n",
    "df_word_frequency.head(5)"
   ]
  },
  {
   "cell_type": "code",
   "execution_count": 82,
   "metadata": {
    "scrolled": true
   },
   "outputs": [
    {
     "name": "stdout",
     "output_type": "stream",
     "text": [
      "<class 'pandas.core.frame.DataFrame'>\n",
      "Index: 11932 entries, data to auditoryvisual\n",
      "Data columns (total 4 columns):\n",
      " #   Column    Non-Null Count  Dtype\n",
      "---  ------    --------------  -----\n",
      " 0   all       11932 non-null  int64\n",
      " 1   Apple     11932 non-null  int64\n",
      " 2   Deloitte  11932 non-null  int64\n",
      " 3   USAA      11932 non-null  int64\n",
      "dtypes: int64(4)\n",
      "memory usage: 466.1+ KB\n"
     ]
    }
   ],
   "source": [
    "df_word_frequency.info()"
   ]
  },
  {
   "cell_type": "code",
   "execution_count": 86,
   "metadata": {},
   "outputs": [
    {
     "data": {
      "text/html": [
       "<div>\n",
       "<style scoped>\n",
       "    .dataframe tbody tr th:only-of-type {\n",
       "        vertical-align: middle;\n",
       "    }\n",
       "\n",
       "    .dataframe tbody tr th {\n",
       "        vertical-align: top;\n",
       "    }\n",
       "\n",
       "    .dataframe thead th {\n",
       "        text-align: right;\n",
       "    }\n",
       "</style>\n",
       "<table border=\"1\" class=\"dataframe\">\n",
       "  <thead>\n",
       "    <tr style=\"text-align: right;\">\n",
       "      <th></th>\n",
       "      <th>all</th>\n",
       "      <th>Apple</th>\n",
       "      <th>Deloitte</th>\n",
       "      <th>USAA</th>\n",
       "    </tr>\n",
       "  </thead>\n",
       "  <tbody>\n",
       "    <tr>\n",
       "      <th>python</th>\n",
       "      <td>467</td>\n",
       "      <td>13</td>\n",
       "      <td>20</td>\n",
       "      <td>12</td>\n",
       "    </tr>\n",
       "  </tbody>\n",
       "</table>\n",
       "</div>"
      ],
      "text/plain": [
       "        all  Apple  Deloitte  USAA\n",
       "python  467     13        20    12"
      ]
     },
     "execution_count": 86,
     "metadata": {},
     "output_type": "execute_result"
    }
   ],
   "source": [
    "mask = (df_word_frequency.index == 'python')\n",
    "df_word_frequency[mask].sort_values(by='all', ascending=False).head(10)"
   ]
  },
  {
   "cell_type": "code",
   "execution_count": 87,
   "metadata": {},
   "outputs": [
    {
     "data": {
      "text/html": [
       "<div>\n",
       "<style scoped>\n",
       "    .dataframe tbody tr th:only-of-type {\n",
       "        vertical-align: middle;\n",
       "    }\n",
       "\n",
       "    .dataframe tbody tr th {\n",
       "        vertical-align: top;\n",
       "    }\n",
       "\n",
       "    .dataframe thead th {\n",
       "        text-align: right;\n",
       "    }\n",
       "</style>\n",
       "<table border=\"1\" class=\"dataframe\">\n",
       "  <thead>\n",
       "    <tr style=\"text-align: right;\">\n",
       "      <th></th>\n",
       "      <th>all</th>\n",
       "      <th>Apple</th>\n",
       "      <th>Deloitte</th>\n",
       "      <th>USAA</th>\n",
       "    </tr>\n",
       "  </thead>\n",
       "  <tbody>\n",
       "    <tr>\n",
       "      <th>aws</th>\n",
       "      <td>207</td>\n",
       "      <td>0</td>\n",
       "      <td>18</td>\n",
       "      <td>3</td>\n",
       "    </tr>\n",
       "  </tbody>\n",
       "</table>\n",
       "</div>"
      ],
      "text/plain": [
       "     all  Apple  Deloitte  USAA\n",
       "aws  207      0        18     3"
      ]
     },
     "execution_count": 87,
     "metadata": {},
     "output_type": "execute_result"
    }
   ],
   "source": [
    "mask = (df_word_frequency.index == 'aws')\n",
    "df_word_frequency[mask].sort_values(by='all', ascending=False).head(10)"
   ]
  },
  {
   "cell_type": "code",
   "execution_count": 88,
   "metadata": {},
   "outputs": [
    {
     "data": {
      "text/html": [
       "<div>\n",
       "<style scoped>\n",
       "    .dataframe tbody tr th:only-of-type {\n",
       "        vertical-align: middle;\n",
       "    }\n",
       "\n",
       "    .dataframe tbody tr th {\n",
       "        vertical-align: top;\n",
       "    }\n",
       "\n",
       "    .dataframe thead th {\n",
       "        text-align: right;\n",
       "    }\n",
       "</style>\n",
       "<table border=\"1\" class=\"dataframe\">\n",
       "  <thead>\n",
       "    <tr style=\"text-align: right;\">\n",
       "      <th></th>\n",
       "      <th>all</th>\n",
       "      <th>Apple</th>\n",
       "      <th>Deloitte</th>\n",
       "      <th>USAA</th>\n",
       "    </tr>\n",
       "  </thead>\n",
       "  <tbody>\n",
       "    <tr>\n",
       "      <th>sql</th>\n",
       "      <td>334</td>\n",
       "      <td>11</td>\n",
       "      <td>22</td>\n",
       "      <td>10</td>\n",
       "    </tr>\n",
       "  </tbody>\n",
       "</table>\n",
       "</div>"
      ],
      "text/plain": [
       "     all  Apple  Deloitte  USAA\n",
       "sql  334     11        22    10"
      ]
     },
     "execution_count": 88,
     "metadata": {},
     "output_type": "execute_result"
    }
   ],
   "source": [
    "mask = (df_word_frequency.index == 'sql')\n",
    "df_word_frequency[mask].sort_values(by='all', ascending=False).head(10)"
   ]
  },
  {
   "cell_type": "code",
   "execution_count": 89,
   "metadata": {},
   "outputs": [
    {
     "data": {
      "text/html": [
       "<div>\n",
       "<style scoped>\n",
       "    .dataframe tbody tr th:only-of-type {\n",
       "        vertical-align: middle;\n",
       "    }\n",
       "\n",
       "    .dataframe tbody tr th {\n",
       "        vertical-align: top;\n",
       "    }\n",
       "\n",
       "    .dataframe thead th {\n",
       "        text-align: right;\n",
       "    }\n",
       "</style>\n",
       "<table border=\"1\" class=\"dataframe\">\n",
       "  <thead>\n",
       "    <tr style=\"text-align: right;\">\n",
       "      <th></th>\n",
       "      <th>title</th>\n",
       "      <th>locations</th>\n",
       "      <th>company</th>\n",
       "      <th>company_rating</th>\n",
       "      <th>post_age</th>\n",
       "      <th>job_link</th>\n",
       "      <th>job_description</th>\n",
       "      <th>clean</th>\n",
       "      <th>tokenized</th>\n",
       "      <th>stemmed</th>\n",
       "      <th>lemmatized</th>\n",
       "      <th>words</th>\n",
       "      <th>bigrams</th>\n",
       "    </tr>\n",
       "  </thead>\n",
       "  <tbody>\n",
       "    <tr>\n",
       "      <th>0</th>\n",
       "      <td>Data Scientist Associate Sr\\nnew</td>\n",
       "      <td>Plano, TX</td>\n",
       "      <td>JPMorgan Chase Bank, N.A.</td>\n",
       "      <td>3.9</td>\n",
       "      <td>Just posted</td>\n",
       "      <td>https://www.indeed.com/rc/clk?jk=fdb25f52f6062...</td>\n",
       "      <td>J.P. Morgan's Corporate &amp; Investment Bank (CIB...</td>\n",
       "      <td>jp morgan corporate investment bank cib global...</td>\n",
       "      <td>jp morgans corporate investment bank cib is a ...</td>\n",
       "      <td>jp morgan corpor invest bank cib is a global l...</td>\n",
       "      <td>jp morgan corporate investment bank cib is a g...</td>\n",
       "      <td>[jp, morgan, corporate, investment, bank, cib,...</td>\n",
       "      <td>[(jp, morgan), (morgan, corporate), (corporate...</td>\n",
       "    </tr>\n",
       "    <tr>\n",
       "      <th>1</th>\n",
       "      <td>Director of Data Science\\nnew</td>\n",
       "      <td>Austin, TX 78701 (Downtown area)</td>\n",
       "      <td>CyberCoders</td>\n",
       "      <td>3.3</td>\n",
       "      <td>Just posted</td>\n",
       "      <td>https://www.indeed.com/pagead/clk?mo=r&amp;ad=-6NY...</td>\n",
       "      <td>Director of Data Science\\nHumanity is sufferin...</td>\n",
       "      <td>director data science humanity suffering healt...</td>\n",
       "      <td>director of data science\\nhumanity is sufferin...</td>\n",
       "      <td>director of data scienc human is suffer from a...</td>\n",
       "      <td>director of data science humanity is suffering...</td>\n",
       "      <td>[director, data, science, humanity, suffering,...</td>\n",
       "      <td>[(director, data), (data, science), (science, ...</td>\n",
       "    </tr>\n",
       "    <tr>\n",
       "      <th>2</th>\n",
       "      <td>Sr Big Data/Data Engineer\\nnew</td>\n",
       "      <td>Houston, TX 77002 (Downtown area)</td>\n",
       "      <td>CFoundations</td>\n",
       "      <td>missing</td>\n",
       "      <td>Today</td>\n",
       "      <td>https://www.indeed.com/pagead/clk?mo=r&amp;ad=-6NY...</td>\n",
       "      <td>BIG DATA ENGINEERPay Rate - $80-105 per hour C...</td>\n",
       "      <td>big data engineerpay rate 80105 per hour c2c 1...</td>\n",
       "      <td>big data engineerpay rate 80105 per hour c2c o...</td>\n",
       "      <td>big data engineerpay rate 80105 per hour c2c o...</td>\n",
       "      <td>big data engineerpay rate 80105 per hour c2c o...</td>\n",
       "      <td>[big, data, engineerpay, rate, 80105, per, hou...</td>\n",
       "      <td>[(big, data), (data, engineerpay), (engineerpa...</td>\n",
       "    </tr>\n",
       "    <tr>\n",
       "      <th>3</th>\n",
       "      <td>Sr Research Associate (Data Analyst/Statistica...</td>\n",
       "      <td>Fort Worth, TX 76107 (Arlington Heights area)</td>\n",
       "      <td>University of North Texas Health Science Center</td>\n",
       "      <td>4.1</td>\n",
       "      <td>Today</td>\n",
       "      <td>https://www.indeed.com/rc/clk?jk=55d6b96838357...</td>\n",
       "      <td>Welcome to the University of North Texas Syste...</td>\n",
       "      <td>welcome university north texas system unt worl...</td>\n",
       "      <td>welcome to the university of north texas syste...</td>\n",
       "      <td>welcom to the univers of north texa system or ...</td>\n",
       "      <td>welcome to the university of north texas syste...</td>\n",
       "      <td>[welcome, university, north, texas, system, un...</td>\n",
       "      <td>[(welcome, university), (university, north), (...</td>\n",
       "    </tr>\n",
       "    <tr>\n",
       "      <th>4</th>\n",
       "      <td>Analyst I, Statistical (226 Days)\\nnew</td>\n",
       "      <td>Dallas, TX</td>\n",
       "      <td>Dallas Independent School District</td>\n",
       "      <td>3.7</td>\n",
       "      <td>Today</td>\n",
       "      <td>https://www.indeed.com/rc/clk?jk=9ec38e7c6c285...</td>\n",
       "      <td>Analyst I, Statistical (226 Days) -(RTP2020121...</td>\n",
       "      <td>analyst statistical 226 day rtp20201216030 des...</td>\n",
       "      <td>analyst i statistical 226 days rtp20201216030\\...</td>\n",
       "      <td>analyst i statist 226 day rtp20201216030 descr...</td>\n",
       "      <td>analyst i statistical 226 day rtp20201216030 d...</td>\n",
       "      <td>[analyst, statistical, 226, day, rtp2020121603...</td>\n",
       "      <td>[(analyst, statistical), (statistical, 226), (...</td>\n",
       "    </tr>\n",
       "  </tbody>\n",
       "</table>\n",
       "</div>"
      ],
      "text/plain": [
       "                                               title  \\\n",
       "0                   Data Scientist Associate Sr\\nnew   \n",
       "1                      Director of Data Science\\nnew   \n",
       "2                     Sr Big Data/Data Engineer\\nnew   \n",
       "3  Sr Research Associate (Data Analyst/Statistica...   \n",
       "4             Analyst I, Statistical (226 Days)\\nnew   \n",
       "\n",
       "                                       locations  \\\n",
       "0                                      Plano, TX   \n",
       "1               Austin, TX 78701 (Downtown area)   \n",
       "2              Houston, TX 77002 (Downtown area)   \n",
       "3  Fort Worth, TX 76107 (Arlington Heights area)   \n",
       "4                                     Dallas, TX   \n",
       "\n",
       "                                           company company_rating  \\\n",
       "0                        JPMorgan Chase Bank, N.A.            3.9   \n",
       "1                                      CyberCoders            3.3   \n",
       "2                                     CFoundations        missing   \n",
       "3  University of North Texas Health Science Center            4.1   \n",
       "4               Dallas Independent School District            3.7   \n",
       "\n",
       "      post_age                                           job_link  \\\n",
       "0  Just posted  https://www.indeed.com/rc/clk?jk=fdb25f52f6062...   \n",
       "1  Just posted  https://www.indeed.com/pagead/clk?mo=r&ad=-6NY...   \n",
       "2        Today  https://www.indeed.com/pagead/clk?mo=r&ad=-6NY...   \n",
       "3        Today  https://www.indeed.com/rc/clk?jk=55d6b96838357...   \n",
       "4        Today  https://www.indeed.com/rc/clk?jk=9ec38e7c6c285...   \n",
       "\n",
       "                                     job_description  \\\n",
       "0  J.P. Morgan's Corporate & Investment Bank (CIB...   \n",
       "1  Director of Data Science\\nHumanity is sufferin...   \n",
       "2  BIG DATA ENGINEERPay Rate - $80-105 per hour C...   \n",
       "3  Welcome to the University of North Texas Syste...   \n",
       "4  Analyst I, Statistical (226 Days) -(RTP2020121...   \n",
       "\n",
       "                                               clean  \\\n",
       "0  jp morgan corporate investment bank cib global...   \n",
       "1  director data science humanity suffering healt...   \n",
       "2  big data engineerpay rate 80105 per hour c2c 1...   \n",
       "3  welcome university north texas system unt worl...   \n",
       "4  analyst statistical 226 day rtp20201216030 des...   \n",
       "\n",
       "                                           tokenized  \\\n",
       "0  jp morgans corporate investment bank cib is a ...   \n",
       "1  director of data science\\nhumanity is sufferin...   \n",
       "2  big data engineerpay rate 80105 per hour c2c o...   \n",
       "3  welcome to the university of north texas syste...   \n",
       "4  analyst i statistical 226 days rtp20201216030\\...   \n",
       "\n",
       "                                             stemmed  \\\n",
       "0  jp morgan corpor invest bank cib is a global l...   \n",
       "1  director of data scienc human is suffer from a...   \n",
       "2  big data engineerpay rate 80105 per hour c2c o...   \n",
       "3  welcom to the univers of north texa system or ...   \n",
       "4  analyst i statist 226 day rtp20201216030 descr...   \n",
       "\n",
       "                                          lemmatized  \\\n",
       "0  jp morgan corporate investment bank cib is a g...   \n",
       "1  director of data science humanity is suffering...   \n",
       "2  big data engineerpay rate 80105 per hour c2c o...   \n",
       "3  welcome to the university of north texas syste...   \n",
       "4  analyst i statistical 226 day rtp20201216030 d...   \n",
       "\n",
       "                                               words  \\\n",
       "0  [jp, morgan, corporate, investment, bank, cib,...   \n",
       "1  [director, data, science, humanity, suffering,...   \n",
       "2  [big, data, engineerpay, rate, 80105, per, hou...   \n",
       "3  [welcome, university, north, texas, system, un...   \n",
       "4  [analyst, statistical, 226, day, rtp2020121603...   \n",
       "\n",
       "                                             bigrams  \n",
       "0  [(jp, morgan), (morgan, corporate), (corporate...  \n",
       "1  [(director, data), (data, science), (science, ...  \n",
       "2  [(big, data), (data, engineerpay), (engineerpa...  \n",
       "3  [(welcome, university), (university, north), (...  \n",
       "4  [(analyst, statistical), (statistical, 226), (...  "
      ]
     },
     "execution_count": 89,
     "metadata": {},
     "output_type": "execute_result"
    }
   ],
   "source": [
    "# Added 'Bigram' column to dataframe\n",
    "df_ds_tx['bigrams'] = [list(nltk.ngrams(wordlist, 2)) for wordlist in df_ds_tx.words]\n",
    "df_ds_tx.head()"
   ]
  },
  {
   "cell_type": "code",
   "execution_count": 22,
   "metadata": {},
   "outputs": [],
   "source": [
    "# Define a function to compute the bigrams frequency in the job description\n",
    "\n",
    "def bigrams_frequency(d_words):\n",
    "    '''\n",
    "    This function accept the dictionary created by function words_variables\n",
    "    and return the bigrams frequency in the job description. \n",
    "    '''\n",
    "    # Read the company names from the dictionary\n",
    "    companies = d_words.keys()\n",
    "    # Create a dataframe to hold the word frequency\n",
    "    bigrams_counts = pd.DataFrame()\n",
    "    # For loop through the companies and generate the word frequency in their job descriptions\n",
    "    for company in companies:\n",
    "        freq = pd.Series(list(nltk.ngrams(d_words[company].split(), 2))).value_counts()\n",
    "        bigrams_counts = pd.concat([bigrams_counts, freq], axis=1, sort=True)\n",
    "    bigrams_counts.columns = companies\n",
    "    bigrams_counts = bigrams_counts.fillna(0).apply(lambda s: s.astype(int))\n",
    "    bigrams_counts.sort_values(by='all', ascending=False, inplace=True)\n",
    "    return bigrams_counts"
   ]
  },
  {
   "cell_type": "code",
   "execution_count": 97,
   "metadata": {
    "scrolled": false
   },
   "outputs": [
    {
     "data": {
      "text/html": [
       "<div>\n",
       "<style scoped>\n",
       "    .dataframe tbody tr th:only-of-type {\n",
       "        vertical-align: middle;\n",
       "    }\n",
       "\n",
       "    .dataframe tbody tr th {\n",
       "        vertical-align: top;\n",
       "    }\n",
       "\n",
       "    .dataframe thead th {\n",
       "        text-align: right;\n",
       "    }\n",
       "</style>\n",
       "<table border=\"1\" class=\"dataframe\">\n",
       "  <thead>\n",
       "    <tr style=\"text-align: right;\">\n",
       "      <th></th>\n",
       "      <th></th>\n",
       "      <th>all</th>\n",
       "      <th>Apple</th>\n",
       "      <th>Deloitte</th>\n",
       "      <th>USAA</th>\n",
       "    </tr>\n",
       "  </thead>\n",
       "  <tbody>\n",
       "    <tr>\n",
       "      <th>machine</th>\n",
       "      <th>learning</th>\n",
       "      <td>885</td>\n",
       "      <td>23</td>\n",
       "      <td>13</td>\n",
       "      <td>16</td>\n",
       "    </tr>\n",
       "    <tr>\n",
       "      <th>data</th>\n",
       "      <th>science</th>\n",
       "      <td>661</td>\n",
       "      <td>33</td>\n",
       "      <td>12</td>\n",
       "      <td>3</td>\n",
       "    </tr>\n",
       "    <tr>\n",
       "      <th>year</th>\n",
       "      <th>experience</th>\n",
       "      <td>443</td>\n",
       "      <td>5</td>\n",
       "      <td>28</td>\n",
       "      <td>26</td>\n",
       "    </tr>\n",
       "    <tr>\n",
       "      <th>data</th>\n",
       "      <th>scientist</th>\n",
       "      <td>416</td>\n",
       "      <td>21</td>\n",
       "      <td>5</td>\n",
       "      <td>3</td>\n",
       "    </tr>\n",
       "    <tr>\n",
       "      <th>computer</th>\n",
       "      <th>science</th>\n",
       "      <td>369</td>\n",
       "      <td>9</td>\n",
       "      <td>9</td>\n",
       "      <td>5</td>\n",
       "    </tr>\n",
       "  </tbody>\n",
       "</table>\n",
       "</div>"
      ],
      "text/plain": [
       "                     all  Apple  Deloitte  USAA\n",
       "machine  learning    885     23        13    16\n",
       "data     science     661     33        12     3\n",
       "year     experience  443      5        28    26\n",
       "data     scientist   416     21         5     3\n",
       "computer science     369      9         9     5"
      ]
     },
     "execution_count": 97,
     "metadata": {},
     "output_type": "execute_result"
    }
   ],
   "source": [
    "# Compute bigrams_frequency\n",
    "\n",
    "bigrams = bigrams_frequency(dic)\n",
    "bigrams.head()"
   ]
  },
  {
   "cell_type": "code",
   "execution_count": 26,
   "metadata": {},
   "outputs": [],
   "source": [
    "# Define a function to compute the trigrams frequency in the job description\n",
    "\n",
    "def trigrams_frequency(d_words):\n",
    "    '''\n",
    "    This function accept the dictionary created by function words_variables\n",
    "    and return the trigrams frequency in the job description. \n",
    "    '''\n",
    "    # Read the company names from the dictionary\n",
    "    companies = d_words.keys()\n",
    "    # Create a dataframe to hold the word frequency\n",
    "    trigrams_counts = pd.DataFrame()\n",
    "    # For loop through the companies and generate the word frequency in their job descriptions\n",
    "    for company in companies:\n",
    "        freq = pd.Series(list(nltk.ngrams(d_words[company].split(), 3))).value_counts()\n",
    "        trigrams_counts = pd.concat([trigrams_counts, freq], axis=1, sort=True)\n",
    "    trigrams_counts.columns = companies\n",
    "    trigrams_counts = trigrams_counts.fillna(0).apply(lambda s: s.astype(int))\n",
    "    trigrams_counts.sort_values(by='all', ascending=False, inplace=True)\n",
    "    return trigrams_counts"
   ]
  },
  {
   "cell_type": "code",
   "execution_count": 91,
   "metadata": {},
   "outputs": [
    {
     "data": {
      "text/html": [
       "<div>\n",
       "<style scoped>\n",
       "    .dataframe tbody tr th:only-of-type {\n",
       "        vertical-align: middle;\n",
       "    }\n",
       "\n",
       "    .dataframe tbody tr th {\n",
       "        vertical-align: top;\n",
       "    }\n",
       "\n",
       "    .dataframe thead th {\n",
       "        text-align: right;\n",
       "    }\n",
       "</style>\n",
       "<table border=\"1\" class=\"dataframe\">\n",
       "  <thead>\n",
       "    <tr style=\"text-align: right;\">\n",
       "      <th></th>\n",
       "      <th></th>\n",
       "      <th></th>\n",
       "      <th>all</th>\n",
       "      <th>Apple</th>\n",
       "      <th>Deloitte</th>\n",
       "      <th>USAA</th>\n",
       "    </tr>\n",
       "  </thead>\n",
       "  <tbody>\n",
       "    <tr>\n",
       "      <th>sexual</th>\n",
       "      <th>orientation</th>\n",
       "      <th>gender</th>\n",
       "      <td>151</td>\n",
       "      <td>0</td>\n",
       "      <td>0</td>\n",
       "      <td>0</td>\n",
       "    </tr>\n",
       "    <tr>\n",
       "      <th>equal</th>\n",
       "      <th>opportunity</th>\n",
       "      <th>employer</th>\n",
       "      <td>151</td>\n",
       "      <td>1</td>\n",
       "      <td>0</td>\n",
       "      <td>0</td>\n",
       "    </tr>\n",
       "    <tr>\n",
       "      <th>race</th>\n",
       "      <th>color</th>\n",
       "      <th>religion</th>\n",
       "      <td>143</td>\n",
       "      <td>0</td>\n",
       "      <td>0</td>\n",
       "      <td>0</td>\n",
       "    </tr>\n",
       "    <tr>\n",
       "      <th>orientation</th>\n",
       "      <th>gender</th>\n",
       "      <th>identity</th>\n",
       "      <td>137</td>\n",
       "      <td>0</td>\n",
       "      <td>0</td>\n",
       "      <td>0</td>\n",
       "    </tr>\n",
       "    <tr>\n",
       "      <th>without</th>\n",
       "      <th>regard</th>\n",
       "      <th>race</th>\n",
       "      <td>110</td>\n",
       "      <td>0</td>\n",
       "      <td>0</td>\n",
       "      <td>0</td>\n",
       "    </tr>\n",
       "  </tbody>\n",
       "</table>\n",
       "</div>"
      ],
      "text/plain": [
       "                                  all  Apple  Deloitte  USAA\n",
       "sexual      orientation gender    151      0         0     0\n",
       "equal       opportunity employer  151      1         0     0\n",
       "race        color       religion  143      0         0     0\n",
       "orientation gender      identity  137      0         0     0\n",
       "without     regard      race      110      0         0     0"
      ]
     },
     "execution_count": 91,
     "metadata": {},
     "output_type": "execute_result"
    }
   ],
   "source": [
    "# Compute trigrams_frequency\n",
    "\n",
    "trigrams = trigrams_frequency(dic)\n",
    "trigrams.head()"
   ]
  },
  {
   "cell_type": "code",
   "execution_count": 142,
   "metadata": {},
   "outputs": [],
   "source": [
    "# Create the masks for different skills\n",
    "\n",
    "mask_python = df_ds_tx.clean.str.contains('python')\n",
    "mask_sql = df_ds_tx.clean.str.contains('sql')\n",
    "mask_ml = df_ds_tx.clean.str.contains('machine learning')\n",
    "mask_tableau = df_ds_tx.clean.str.contains('tableau')\n",
    "mask_aws = df_ds_tx.clean.str.contains('aws')\n",
    "\n",
    "mask = mask_python & mask_sql & mask_tableau"
   ]
  },
  {
   "cell_type": "code",
   "execution_count": 143,
   "metadata": {},
   "outputs": [
    {
     "data": {
      "text/plain": [
       "67"
      ]
     },
     "execution_count": 143,
     "metadata": {},
     "output_type": "execute_result"
    }
   ],
   "source": [
    "# How many companies need all three skills: python, sql and tableau\n",
    "mask.sum()"
   ]
  },
  {
   "cell_type": "code",
   "execution_count": 149,
   "metadata": {},
   "outputs": [
    {
     "data": {
      "text/html": [
       "<div>\n",
       "<style scoped>\n",
       "    .dataframe tbody tr th:only-of-type {\n",
       "        vertical-align: middle;\n",
       "    }\n",
       "\n",
       "    .dataframe tbody tr th {\n",
       "        vertical-align: top;\n",
       "    }\n",
       "\n",
       "    .dataframe thead th {\n",
       "        text-align: right;\n",
       "    }\n",
       "</style>\n",
       "<table border=\"1\" class=\"dataframe\">\n",
       "  <thead>\n",
       "    <tr style=\"text-align: right;\">\n",
       "      <th></th>\n",
       "      <th>title</th>\n",
       "      <th>locations</th>\n",
       "      <th>company</th>\n",
       "      <th>company_rating</th>\n",
       "      <th>post_age</th>\n",
       "      <th>job_link</th>\n",
       "      <th>job_description</th>\n",
       "      <th>clean</th>\n",
       "      <th>tokenized</th>\n",
       "      <th>stemmed</th>\n",
       "      <th>lemmatized</th>\n",
       "      <th>words</th>\n",
       "    </tr>\n",
       "  </thead>\n",
       "  <tbody>\n",
       "    <tr>\n",
       "      <th>0</th>\n",
       "      <td>Data Scientist Associate Sr\\nnew</td>\n",
       "      <td>Plano, TX</td>\n",
       "      <td>JPMorgan Chase Bank, N.A.</td>\n",
       "      <td>3.9</td>\n",
       "      <td>Just posted</td>\n",
       "      <td>https://www.indeed.com/rc/clk?jk=fdb25f52f6062...</td>\n",
       "      <td>J.P. Morgan's Corporate &amp; Investment Bank (CIB...</td>\n",
       "      <td>jp morgan corporate investment bank cib global...</td>\n",
       "      <td>jp morgans corporate investment bank cib is a ...</td>\n",
       "      <td>jp morgan corpor invest bank cib is a global l...</td>\n",
       "      <td>jp morgan corporate investment bank cib is a g...</td>\n",
       "      <td>[jp, morgan, corporate, investment, bank, cib,...</td>\n",
       "    </tr>\n",
       "    <tr>\n",
       "      <th>7</th>\n",
       "      <td>Sr. Machine Learning R&amp;D Engineer\\nnew</td>\n",
       "      <td>Austin, TX 78753 (Windsor Hills area)</td>\n",
       "      <td>Ultra Global Business Services</td>\n",
       "      <td>missing</td>\n",
       "      <td>Today</td>\n",
       "      <td>https://www.indeed.com/rc/clk?jk=dd698164b1c52...</td>\n",
       "      <td>Job Description:\\nUltra Labs is seeking a tale...</td>\n",
       "      <td>job description ultra lab seeking talented hig...</td>\n",
       "      <td>job description\\nultra labs is seeking a talen...</td>\n",
       "      <td>job descript ultra lab is seek a talent highli...</td>\n",
       "      <td>job description ultra lab is seeking a talente...</td>\n",
       "      <td>[job, description, ultra, lab, seeking, talent...</td>\n",
       "    </tr>\n",
       "    <tr>\n",
       "      <th>9</th>\n",
       "      <td>Senior Data Scientist\\nnew</td>\n",
       "      <td>Austin, TX 78727</td>\n",
       "      <td>Cvent</td>\n",
       "      <td>3.6</td>\n",
       "      <td>Today</td>\n",
       "      <td>https://www.indeed.com/rc/clk?jk=0fb6ee6e19aba...</td>\n",
       "      <td>The mission of the Cvent data science team is ...</td>\n",
       "      <td>mission cvent data science team enhance cvents...</td>\n",
       "      <td>the mission of the cvent data science team is ...</td>\n",
       "      <td>the mission of the cvent data scienc team is t...</td>\n",
       "      <td>the mission of the cvent data science team is ...</td>\n",
       "      <td>[mission, cvent, data, science, team, enhance,...</td>\n",
       "    </tr>\n",
       "    <tr>\n",
       "      <th>15</th>\n",
       "      <td>Single Family - Data Science - Associate\\nnew</td>\n",
       "      <td>Plano, TX</td>\n",
       "      <td>Fannie Mae</td>\n",
       "      <td>4.0</td>\n",
       "      <td>3 days ago</td>\n",
       "      <td>https://www.indeed.com/rc/clk?jk=ab7209945854d...</td>\n",
       "      <td>: At Fannie Mae, futures are made. The inspiri...</td>\n",
       "      <td>fannie mae future made inspiring work make aff...</td>\n",
       "      <td>at fannie mae futures are made the inspiring w...</td>\n",
       "      <td>at fanni mae futur are made the inspir work we...</td>\n",
       "      <td>at fannie mae future are made the inspiring wo...</td>\n",
       "      <td>[fannie, mae, future, made, inspiring, work, m...</td>\n",
       "    </tr>\n",
       "    <tr>\n",
       "      <th>16</th>\n",
       "      <td>Commercial Banking - Senior Data Scientist - V...</td>\n",
       "      <td>Plano, TX</td>\n",
       "      <td>JPMorgan Chase Bank, N.A.</td>\n",
       "      <td>3.9</td>\n",
       "      <td>4 days ago</td>\n",
       "      <td>https://www.indeed.com/rc/clk?jk=97c7b07d683f0...</td>\n",
       "      <td>The Corporate Client Banking &amp; Specialized Ind...</td>\n",
       "      <td>corporate client banking specialized industry ...</td>\n",
       "      <td>the corporate client banking specialized indus...</td>\n",
       "      <td>the corpor client bank special industri ccbsi ...</td>\n",
       "      <td>the corporate client banking specialized indus...</td>\n",
       "      <td>[corporate, client, banking, specialized, indu...</td>\n",
       "    </tr>\n",
       "  </tbody>\n",
       "</table>\n",
       "</div>"
      ],
      "text/plain": [
       "                                                title  \\\n",
       "0                    Data Scientist Associate Sr\\nnew   \n",
       "7              Sr. Machine Learning R&D Engineer\\nnew   \n",
       "9                          Senior Data Scientist\\nnew   \n",
       "15      Single Family - Data Science - Associate\\nnew   \n",
       "16  Commercial Banking - Senior Data Scientist - V...   \n",
       "\n",
       "                                locations                         company  \\\n",
       "0                               Plano, TX       JPMorgan Chase Bank, N.A.   \n",
       "7   Austin, TX 78753 (Windsor Hills area)  Ultra Global Business Services   \n",
       "9                        Austin, TX 78727                           Cvent   \n",
       "15                              Plano, TX                      Fannie Mae   \n",
       "16                              Plano, TX       JPMorgan Chase Bank, N.A.   \n",
       "\n",
       "   company_rating     post_age  \\\n",
       "0             3.9  Just posted   \n",
       "7         missing        Today   \n",
       "9             3.6        Today   \n",
       "15            4.0   3 days ago   \n",
       "16            3.9   4 days ago   \n",
       "\n",
       "                                             job_link  \\\n",
       "0   https://www.indeed.com/rc/clk?jk=fdb25f52f6062...   \n",
       "7   https://www.indeed.com/rc/clk?jk=dd698164b1c52...   \n",
       "9   https://www.indeed.com/rc/clk?jk=0fb6ee6e19aba...   \n",
       "15  https://www.indeed.com/rc/clk?jk=ab7209945854d...   \n",
       "16  https://www.indeed.com/rc/clk?jk=97c7b07d683f0...   \n",
       "\n",
       "                                      job_description  \\\n",
       "0   J.P. Morgan's Corporate & Investment Bank (CIB...   \n",
       "7   Job Description:\\nUltra Labs is seeking a tale...   \n",
       "9   The mission of the Cvent data science team is ...   \n",
       "15  : At Fannie Mae, futures are made. The inspiri...   \n",
       "16  The Corporate Client Banking & Specialized Ind...   \n",
       "\n",
       "                                                clean  \\\n",
       "0   jp morgan corporate investment bank cib global...   \n",
       "7   job description ultra lab seeking talented hig...   \n",
       "9   mission cvent data science team enhance cvents...   \n",
       "15  fannie mae future made inspiring work make aff...   \n",
       "16  corporate client banking specialized industry ...   \n",
       "\n",
       "                                            tokenized  \\\n",
       "0   jp morgans corporate investment bank cib is a ...   \n",
       "7   job description\\nultra labs is seeking a talen...   \n",
       "9   the mission of the cvent data science team is ...   \n",
       "15  at fannie mae futures are made the inspiring w...   \n",
       "16  the corporate client banking specialized indus...   \n",
       "\n",
       "                                              stemmed  \\\n",
       "0   jp morgan corpor invest bank cib is a global l...   \n",
       "7   job descript ultra lab is seek a talent highli...   \n",
       "9   the mission of the cvent data scienc team is t...   \n",
       "15  at fanni mae futur are made the inspir work we...   \n",
       "16  the corpor client bank special industri ccbsi ...   \n",
       "\n",
       "                                           lemmatized  \\\n",
       "0   jp morgan corporate investment bank cib is a g...   \n",
       "7   job description ultra lab is seeking a talente...   \n",
       "9   the mission of the cvent data science team is ...   \n",
       "15  at fannie mae future are made the inspiring wo...   \n",
       "16  the corporate client banking specialized indus...   \n",
       "\n",
       "                                                words  \n",
       "0   [jp, morgan, corporate, investment, bank, cib,...  \n",
       "7   [job, description, ultra, lab, seeking, talent...  \n",
       "9   [mission, cvent, data, science, team, enhance,...  \n",
       "15  [fannie, mae, future, made, inspiring, work, m...  \n",
       "16  [corporate, client, banking, specialized, indu...  "
      ]
     },
     "execution_count": 149,
     "metadata": {},
     "output_type": "execute_result"
    }
   ],
   "source": [
    "df_ds_tx[mask].head(5)"
   ]
  },
  {
   "cell_type": "markdown",
   "metadata": {},
   "source": [
    "### LinkedIn API"
   ]
  },
  {
   "cell_type": "code",
   "execution_count": 21,
   "metadata": {},
   "outputs": [],
   "source": [
    "access_token = env.access_token\n",
    "url = \"https://api.linkedin.com/v2/recommendedJobs?Bearer\""
   ]
  },
  {
   "cell_type": "code",
   "execution_count": 13,
   "metadata": {},
   "outputs": [],
   "source": [
    "headers = {'Content-type': 'application/json',\n",
    "           'X-Restli-Protocol-Version': '2.0.0',\n",
    "           'Authorization': 'Bearer' + access_token}"
   ]
  },
  {
   "cell_type": "code",
   "execution_count": 14,
   "metadata": {},
   "outputs": [
    {
     "data": {
      "text/plain": [
       "False"
      ]
     },
     "execution_count": 14,
     "metadata": {},
     "output_type": "execute_result"
    }
   ],
   "source": [
    "response = requests.get(url, headers=headers)\n",
    "response.ok"
   ]
  },
  {
   "cell_type": "code",
   "execution_count": 15,
   "metadata": {},
   "outputs": [
    {
     "data": {
      "text/plain": [
       "401"
      ]
     },
     "execution_count": 15,
     "metadata": {},
     "output_type": "execute_result"
    }
   ],
   "source": [
    "response.status_code"
   ]
  },
  {
   "cell_type": "code",
   "execution_count": null,
   "metadata": {},
   "outputs": [],
   "source": []
  }
 ],
 "metadata": {
  "kernelspec": {
   "display_name": "Python 3",
   "language": "python",
   "name": "python3"
  },
  "language_info": {
   "codemirror_mode": {
    "name": "ipython",
    "version": 3
   },
   "file_extension": ".py",
   "mimetype": "text/x-python",
   "name": "python",
   "nbconvert_exporter": "python",
   "pygments_lexer": "ipython3",
   "version": "3.7.6"
  }
 },
 "nbformat": 4,
 "nbformat_minor": 4
}
