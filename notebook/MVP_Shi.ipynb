{
 "cells": [
  {
   "cell_type": "code",
   "execution_count": 44,
   "metadata": {},
   "outputs": [],
   "source": [
    "import numpy as np\n",
    "import pandas as pd\n",
    "\n",
    "import urllib\n",
    "import requests\n",
    "from bs4 import BeautifulSoup"
   ]
  },
  {
   "cell_type": "markdown",
   "metadata": {},
   "source": [
    "### URL Format of Indeed.com\n",
    "1. Search chemist in TX<br>\n",
    "https://www.indeed.com/jobs?q=chemist&l=TX\n",
    "2. Search chemist in San Antonio, TX<br>\n",
    "https://www.indeed.com/jobs?q=chemist&l=San+Antonio%2C+TX\n",
    "3. Search data scientist in San Antonio, TX<br>\n",
    "https://www.indeed.com/jobs?q=data+scientist&l=San+Antonio%2C+TX\n",
    "4. Search data scientist intern in San Anotnio, TX<br>\n",
    "https://www.indeed.com/jobs?q=data+scientist+intern&l=San+Antonio%2C+TX\n",
    "5. Sort the data scientist jobs posting by date<br>\n",
    "https://www.indeed.com/jobs?q=data+scientist&l=San+Antonio%2C+TX&sort=date"
   ]
  },
  {
   "cell_type": "markdown",
   "metadata": {},
   "source": [
    "### URL Format of Monster.com\n",
    "https://www.monster.com/jobs/search/?q=data-scientist&where=San-Antonio__2C-TX"
   ]
  },
  {
   "cell_type": "markdown",
   "metadata": {},
   "source": [
    "**Takeaways**\n",
    "1. q = job title\n",
    "2. l = location"
   ]
  },
  {
   "cell_type": "markdown",
   "metadata": {},
   "source": [
    "### Generate the "
   ]
  },
  {
   "cell_type": "code",
   "execution_count": 2,
   "metadata": {},
   "outputs": [],
   "source": [
    "# Create the base url\n",
    "base_url = 'https://www.indeed.com/jobs?'"
   ]
  },
  {
   "cell_type": "code",
   "execution_count": 3,
   "metadata": {},
   "outputs": [
    {
     "data": {
      "text/plain": [
       "'q=data+scientist&l=San+Antonio%2C+TX'"
      ]
     },
     "execution_count": 3,
     "metadata": {},
     "output_type": "execute_result"
    }
   ],
   "source": [
    "# Create the relative url for searching the data scientist jobs in San Antonio, TX\n",
    "\n",
    "ds = {'q': 'data scientist', 'l': 'San Antonio, TX'}\n",
    "ds = urllib.parse.urlencode(ds)\n",
    "ds"
   ]
  },
  {
   "cell_type": "code",
   "execution_count": 4,
   "metadata": {},
   "outputs": [
    {
     "data": {
      "text/plain": [
       "'https://www.indeed.com/jobs?q=data+scientist&l=San+Antonio%2C+TX'"
      ]
     },
     "execution_count": 4,
     "metadata": {},
     "output_type": "execute_result"
    }
   ],
   "source": [
    "# Create the full url for searching the data scientist jobs in San Antonio, TX\n",
    "url = base_url + ds\n",
    "\n",
    "# Sanity check\n",
    "url"
   ]
  },
  {
   "cell_type": "code",
   "execution_count": 13,
   "metadata": {},
   "outputs": [
    {
     "data": {
      "text/plain": [
       "'<!DOCTYPE html>\\n<html lang=\"en\" dir=\"ltr\">\\n<head>\\n<meta http-equiv=\"content-type\" content=\"text/html;charset=UTF-8\">\\n<script type=\"text/javascript\" src=\"//d3fw5vlhllyvee.cloudfront.net/s/ee8d2b7/en_US.js\"></script>\\n<link href=\"//d3fw5vlhllyvee.cloudfront.net/s/64feb87/jobsearch_all.css\" rel=\"stylesheet\" type=\"text/css\">\\n<link rel=\"alternate\" type=\"application/rss+xml\" title=\"Data Scientist Jobs, E'"
      ]
     },
     "execution_count": 13,
     "metadata": {},
     "output_type": "execute_result"
    }
   ],
   "source": [
    "# Make the HTTP request\n",
    "page = requests.get(url)\n",
    "\n",
    "# Sanity check: to make sure what we are looking at is indeed HTML data\n",
    "page.text[:400]"
   ]
  },
  {
   "cell_type": "code",
   "execution_count": 14,
   "metadata": {
    "scrolled": false
   },
   "outputs": [],
   "source": [
    "# Make a soup variable holding the response content\n",
    "soup = BeautifulSoup(page.content, \"html.parser\")"
   ]
  },
  {
   "cell_type": "code",
   "execution_count": 15,
   "metadata": {},
   "outputs": [
    {
     "data": {
      "text/plain": [
       "'Data Scientist Jobs, Employment in San Antonio, TX | Indeed.com'"
      ]
     },
     "execution_count": 15,
     "metadata": {},
     "output_type": "execute_result"
    }
   ],
   "source": [
    "# Get the page's title\n",
    "soup.title.string"
   ]
  },
  {
   "cell_type": "code",
   "execution_count": 16,
   "metadata": {
    "scrolled": false
   },
   "outputs": [
    {
     "data": {
      "text/plain": [
       "bs4.element.Tag"
      ]
     },
     "execution_count": 16,
     "metadata": {},
     "output_type": "execute_result"
    }
   ],
   "source": [
    "# Find the appropriate <div> that contains all of the job listings in the 1st page\n",
    "soup_jobs = soup.find(id=\"resultsCol\")\n",
    "\n",
    "# Print the data type of soup_jobs\n",
    "type(soup_jobs)"
   ]
  },
  {
   "cell_type": "code",
   "execution_count": 17,
   "metadata": {
    "scrolled": false
   },
   "outputs": [
    {
     "data": {
      "text/plain": [
       "bs4.element.ResultSet"
      ]
     },
     "execution_count": 17,
     "metadata": {},
     "output_type": "execute_result"
    }
   ],
   "source": [
    "# Find all job listing\n",
    "job_cards = soup_jobs.find_all('div', class_='jobsearch-SerpJobCard')\n",
    "\n",
    "# Print the data type of job_cards\n",
    "type(job_cards)"
   ]
  },
  {
   "cell_type": "markdown",
   "metadata": {},
   "source": [
    "**Quick Note**: job_cards is an iterator"
   ]
  },
  {
   "cell_type": "code",
   "execution_count": 18,
   "metadata": {},
   "outputs": [
    {
     "data": {
      "text/plain": [
       "13"
      ]
     },
     "execution_count": 18,
     "metadata": {},
     "output_type": "execute_result"
    }
   ],
   "source": [
    "# How many jobs listed in the 1st page? \n",
    "len(job_cards)"
   ]
  },
  {
   "cell_type": "code",
   "execution_count": 19,
   "metadata": {},
   "outputs": [
    {
     "data": {
      "text/plain": [
       "['Data Scientist',\n",
       " 'Data Scientist',\n",
       " 'Senior Statistical Programmer',\n",
       " 'Data Scientist\\nnew',\n",
       " 'Sports Statistician\\nnew',\n",
       " 'Data Scientist\\nnew',\n",
       " 'Data Scientist - 100% Remote Available\\nnew',\n",
       " 'Sr Data Scientist (Big Data)\\nnew',\n",
       " 'Data Scientist',\n",
       " 'Data Scientist - Nationwide Opportunities',\n",
       " 'Decision Science Analyst I\\nnew',\n",
       " 'Data Scientist',\n",
       " 'Senior Data Analyst']"
      ]
     },
     "execution_count": 19,
     "metadata": {},
     "output_type": "execute_result"
    }
   ],
   "source": [
    "# Print the job titles\n",
    "\n",
    "titles = []\n",
    "\n",
    "for job in job_cards:\n",
    "    title = job.find('h2', class_='title')\n",
    "    title = title.text.strip()\n",
    "    titles.append(title)\n",
    "\n",
    "titles"
   ]
  },
  {
   "cell_type": "code",
   "execution_count": 20,
   "metadata": {},
   "outputs": [
    {
     "data": {
      "text/plain": [
       "['Sourceability',\n",
       " 'Alaka`ina Foundation Family of Companies',\n",
       " 'Translational Drug Development (TD2)',\n",
       " 'Pinnacle Inc',\n",
       " 'Life Time',\n",
       " 'Teledyne Brown Engineering',\n",
       " 'USAA',\n",
       " 'Deloitte',\n",
       " 'iHeartMedia, Inc.',\n",
       " 'Amazon Web Services, Inc.',\n",
       " 'USAA',\n",
       " 'Huntington Ingalls Industries Inc.',\n",
       " 'Insight Global']"
      ]
     },
     "execution_count": 20,
     "metadata": {},
     "output_type": "execute_result"
    }
   ],
   "source": [
    "# Print companies that post the jobs\n",
    "\n",
    "companies = []\n",
    "\n",
    "for job in job_cards:\n",
    "    company = job.find('span', class_='company')\n",
    "    company = company.text.strip()\n",
    "    companies.append(company)\n",
    "\n",
    "companies"
   ]
  },
  {
   "cell_type": "code",
   "execution_count": 21,
   "metadata": {
    "scrolled": true
   },
   "outputs": [
    {
     "data": {
      "text/plain": [
       "['30+ days ago',\n",
       " '30+ days ago',\n",
       " '30+ days ago',\n",
       " 'Today',\n",
       " 'Today',\n",
       " '3 days ago',\n",
       " '1 day ago',\n",
       " '3 days ago',\n",
       " '30+ days ago',\n",
       " '30+ days ago',\n",
       " '1 day ago',\n",
       " '30+ days ago',\n",
       " '30+ days ago']"
      ]
     },
     "execution_count": 21,
     "metadata": {},
     "output_type": "execute_result"
    }
   ],
   "source": [
    "# Print out the dates for each job post\n",
    "\n",
    "dates = []\n",
    "\n",
    "for job in job_cards:\n",
    "    date = job.find('span', class_='date')\n",
    "    date = date.text.strip()\n",
    "    dates.append(date)\n",
    "\n",
    "dates"
   ]
  },
  {
   "cell_type": "code",
   "execution_count": 36,
   "metadata": {
    "scrolled": false
   },
   "outputs": [
    {
     "data": {
      "text/plain": [
       "['https://www.indeed.com/pagead/clk?mo=r&ad=-6NYlbfkN0ADvRi4Fhzo6Lhixq24Efpt7RwpjKDyUQihLKB9436vvhUCqFEm-nkW0la8YnoGNEFh8i3JW6ZTXhE4DkVrso5T3Vz8yXJdq2dJLsgTANS_yKbR-JYOMuO2e5aBVxks2k6rMMP9qB20LAKyRlZvk7-84WO46AyQ2moZGjxCJmldcEsitmXLLHDrDCiKyI_Um6C17Av3wxj40vj0_JVHEhvHuJp0dbnwSNg__29E9tPghf-Y_5IW9e9AJd0-mhzFvPzcDkeMl3ZM9Ja9xyEFsihlpjS3wDqtCEECp334F-mXB43RLl86zjD3QAQWOi3CJYz3noGbL3ru8v75zxKElhvk7N8U46U5eVFd6A7sC9Eod2K-_28f9C3En0J83SiY-b16xrQf1gTQaeq8ket5b_DIWDvbp3M1F3gvWslN509rFgJzpWNkOwoygydZt5s4T6ElCnHtCsoX9ZA-DE0Z9Ue1RBprcyjr2nQ=&p=0&fvj=1&vjs=3',\n",
       " 'https://www.indeed.com/pagead/clk?mo=r&ad=-6NYlbfkN0ChVmeEeaXfnw-D8ZhSBdgPTvIDVQB7yRHpNgp4If4E6BPeUXihMwd6UnesnvFhRawTBE6lMAHmma4yWjnBU0_rsltaaHuLFeKWQ_Pt3WebnFJnjdnPIvTKvYOZRuHGkGRcT9n4y2Vywlao5_EUq4WuPRcpiP881XlBl2gEZX2clHScriIuHec2fGorjjYUT5-hhf4060StLbFG1OmWmVNtUz2MnNaJynUlAwjDvqScYjDCq_wnkWpM6VBKKLwKATo5SVvy7xScrUSKTjmyzg_uz0SUA3bR24iwro_z3wDKQ0JhOroTeB8RIajzH__V1vh1pM5gjRhxlbx6SDe0CNwrea8AFEoco1JbxsHdiBDaWBC14BA7mCDCclPU3V6UeJ6YRncCaSe5OyGN0N8VVkgfhd7uXI-Et3N2EzkCugicCuG-dPZFJoig1VydgDVtB1inqj2W2vXRtCdO7ic9QFLZ&p=1&fvj=1&vjs=3',\n",
       " 'https://www.indeed.com/pagead/clk?mo=r&ad=-6NYlbfkN0DVsnpbmbPWUZNiYhtAWYz_xeqmG4awNNH52XW5baI6saz2OvDw8IcAKXuAw_PFWbZoVpg0yxDBLyKTKNh2xaImnrEXeG2jt7hted70_zz_sVS2YwJa1akOILc1pSMTOYs1XYsZFdH310ROoiAc2hOG9syf8KQLju6LUCT2Z9JkmIoX2vEYf9ZWK1yJmQxqmsofVSsMLXtS7xXuRPm9HgMZ83frNIX5wrCoVTadgYdsuz0b4Calqol6x8vK8JDQ7GJbBJUWu4s4wDb_USGThjdis1E10TzfncfkYRqlnHg5BjFJS79jA2HqxQThf1fGJrcTlKPSZDZ5H9ZJlblYS_ofhxvhV5IWyXPeTwl_Cf5nXb6SaLJNTPkMqrxCxTAkzggGXLTgEKumoj7x9lVKY8XGpFiw06lvvKkFNfyakIxJKjnEz9Ej890-MpQgoqa5uIE1YekS9AgiYjorXtXI2bGO&p=2&fvj=1&vjs=3',\n",
       " 'https://www.indeed.com/company/PINNACLE-INC/jobs/Data-Scientist-bebdc92b14d2a19a?fccid=8619c9c3e5c7c61f&vjs=3',\n",
       " 'https://www.indeed.com/rc/clk?jk=3a224d3d3228b96b&fccid=60eb11476904a56f&vjs=3',\n",
       " 'https://www.indeed.com/rc/clk?jk=343ae61243772c0e&fccid=56fc1ffc1942e614&vjs=3',\n",
       " 'https://www.indeed.com/rc/clk?jk=48c1334e45d90aa6&fccid=3a1edc2d763c4288&vjs=3',\n",
       " 'https://www.indeed.com/rc/clk?jk=c0242b7eb4e12b4d&fccid=9e215d88a6b33622&vjs=3',\n",
       " 'https://www.indeed.com/rc/clk?jk=01fe0b6d933f3c5f&fccid=5b2f9eaa91cb3370&vjs=3',\n",
       " 'https://www.indeed.com/rc/clk?jk=80461afcbb190ed3&fccid=fe2d21eef233e94a&vjs=3',\n",
       " 'https://www.indeed.com/rc/clk?jk=f5777dc3d48996c3&fccid=3a1edc2d763c4288&vjs=3',\n",
       " 'https://www.indeed.com/rc/clk?jk=93efc3d26f4f9a0a&fccid=9f2bb83bd9bfe2fc&vjs=3',\n",
       " 'https://www.indeed.com/cmp/Insight-Global']"
      ]
     },
     "execution_count": 36,
     "metadata": {},
     "output_type": "execute_result"
    }
   ],
   "source": [
    "# Print out the relative links for each job post\n",
    "\n",
    "links = []\n",
    "\n",
    "for job in job_cards:\n",
    "    link = job.find('a')['href']\n",
    "    link = 'https://www.indeed.com' + link\n",
    "    link = link.replace(';', '&')\n",
    "    links.append(link)\n",
    "\n",
    "links"
   ]
  },
  {
   "cell_type": "code",
   "execution_count": 45,
   "metadata": {},
   "outputs": [
    {
     "data": {
      "text/plain": [
       "200"
      ]
     },
     "execution_count": 45,
     "metadata": {},
     "output_type": "execute_result"
    }
   ],
   "source": [
    "# Acqurire the data from USAA job post\n",
    "\n",
    "# Assign the url to a new variable\n",
    "url_usaa = links[6]\n",
    "\n",
    "# Make the HTTP request\n",
    "page_usaa = requests.get(url_usaa)\n",
    "\n",
    "# Check the status of the request\n",
    "page_usaa.status_code"
   ]
  },
  {
   "cell_type": "code",
   "execution_count": 47,
   "metadata": {},
   "outputs": [
    {
     "data": {
      "text/plain": [
       "'Data Scientist - 100% Remote Available - San Antonio, TX 78288 - Indeed.com'"
      ]
     },
     "execution_count": 47,
     "metadata": {},
     "output_type": "execute_result"
    }
   ],
   "source": [
    "# Make a soup variable holding the response content\n",
    "soup_usaa = BeautifulSoup(page_usaa.content, \"html.parser\")\n",
    "\n",
    "# Get the page's title\n",
    "soup_usaa.title.string"
   ]
  },
  {
   "cell_type": "code",
   "execution_count": 56,
   "metadata": {},
   "outputs": [
    {
     "data": {
      "text/plain": [
       "bs4.element.Tag"
      ]
     },
     "execution_count": 56,
     "metadata": {},
     "output_type": "execute_result"
    }
   ],
   "source": [
    "# Find the section that contains job description\n",
    "\n",
    "job_description = soup_usaa.find('div', id=\"jobDescriptionText\")\n",
    "type(job_description)"
   ]
  },
  {
   "cell_type": "code",
   "execution_count": 66,
   "metadata": {},
   "outputs": [
    {
     "data": {
      "text/plain": [
       "'div'"
      ]
     },
     "execution_count": 66,
     "metadata": {},
     "output_type": "execute_result"
    }
   ],
   "source": [
    "# Print the name of the tag\n",
    "job_description.name"
   ]
  },
  {
   "cell_type": "code",
   "execution_count": 67,
   "metadata": {},
   "outputs": [
    {
     "data": {
      "text/plain": [
       "{'id': 'jobDescriptionText', 'class': ['jobsearch-jobDescriptionText']}"
      ]
     },
     "execution_count": 67,
     "metadata": {},
     "output_type": "execute_result"
    }
   ],
   "source": [
    "# Print the attibutes of the tag\n",
    "job_description.attrs"
   ]
  },
  {
   "cell_type": "code",
   "execution_count": 82,
   "metadata": {},
   "outputs": [
    {
     "name": "stdout",
     "output_type": "stream",
     "text": [
      "Its data type is:  <class 'list'>\n"
     ]
    },
    {
     "data": {
      "text/plain": [
       "[<div><h2 class=\"jobSectionHeader\"><b>Purpose of Job</b></h2>\n",
       " We are currently seeking a talented Data Scientist - 100% Remote Available for the San Antonio Home Office I.<br/>\n",
       " <br/>\n",
       " Uses advanced techniques that integrate traditional and non-traditional datasets and method to enable analytical solutions; Applies predictive analytics, machine learning, simulation, and optimization techniques to generate management insights and enable customer-facing applications; participates in building analytical solutions leveraging internal and external applications to deliver value and create competitive advantage; Translates complex analytical and technical concepts to non-technical employees<p></p><h2 class=\"jobSectionHeader\"><b>\n",
       " Job Requirements</b></h2><p><b>\n",
       " About USAA</b></p><p>\n",
       " USAA knows what it means to serve. We facilitate the financial security of millions of U.S. military members and their families. This singular mission requires a dedication to innovative thinking at every level.</p><p></p><p>\n",
       " In each of the past five years, we've been a top-40 Fortune 100 Best Companies to Work For®, and we've ranked among Victory Media's Top 10 Military Friendly® Employers 13 years straight. We embrace a robust veteran workforce and encourage veterans and veteran spouses to apply.</p><p></p><p>\n",
       " USAA Careers - Award Winning Workplace (17 seconds)</p><p>\n",
       " USAA Careers – World Class Benefits (31 seconds)</p><p></p><p><b>\n",
       " Tasks:</b></p><ul><li>\n",
       " Partners with other analysts across the organization to fully define business problems and research questions; Supports SME's on cross functional matrixed teams to solve highly complex work critical to the organization.</li><li>\n",
       " Integrates and extracts relevant information from large amounts of both structured and unstructured data (internal and external) to enable analytical solutions.</li><li>\n",
       " Conducts advanced analytics leveraging predictive modeling, machine learning, simulation, optimization and other techniques to deliver insights or develop analytical solutions to achieve business objectives.</li><li>\n",
       " Supports Subject Matter Experts (SME's) on efforts to develop scalable, efficient, automated solutions for large scale data analyses, model development, model validation and model implementation.</li><li>\n",
       " Works with IT to research architecture for new products, services, and features.</li><li>\n",
       " Develops algorithms and supporting code such that research efforts are based on the highest quality data.</li><li>\n",
       " Translates complex analytical and technical concepts to non-technical employees to enable understanding and drive informed business decisions.</li></ul><p></p><p><b>\n",
       " Minimum Education:</b></p><ul><li>\n",
       " Master's degree in Computer Science, Applied Mathematics, Quantitative Economics, Statistics, or related field.</li><li>\n",
       " 6 additional years of related experience beyond the minimum required may be substituted in lieu of a degree.</li></ul><p></p><p><b>\n",
       " Minimum Experience:</b></p><ul><li>\n",
       " 4 or more years of related experience and accountability for complex tasks and/or projects required.</li><li>\n",
       " Proficient knowledge of the function/discipline and demonstrated application of knowledge, skills and abilities towards work products required.</li><li>\n",
       " Proficient level of business acumen in the areas of the business operations, industry practices and emerging trends required.</li></ul><p></p><p><b>\n",
       " Preferred</b></p><ul><li>\n",
       " Hands-on experience developing products that utilize advanced machine learning techniques like deep learning in areas such as computer vision, Natural Language Processing (NLP), sensor data from the Internet of Things (IoT), and recommender systems; along with transitioning those solutions from the development environment into the production environment for full-time use.</li><li>\n",
       " Fluent in deep learning frameworks and libraries (TensorFlow, Keras, PyTorch, etc).</li><li>\n",
       " Highly skilled in handling Big Data (Hadoop, Hive, Spark, Kafka, etc).</li><li>\n",
       " Highly competent at data wrangling and data engineering in SQL and SAS as well as advanced machine learning (ML) techniques using Python; comfortable in cloud computing environments (Azure, GCP, AWS).</li></ul><p></p><p>\n",
       " *Qualifications may warrant placement in a different job level*</p><p><b>\n",
       " Compensation:</b></p><p>\n",
       "  USAA has an effective process for assessing market data and establishing ranges to ensure we remain competitive. You are paid within the salary range based on your experience and market position. The salary range for this position is: $88,200 - $158,900 *(this does not include geographic differential it may be applied based on your work location)</p><p>\n",
       " Employees may be eligible for pay incentives based on overall corporate and individual performance or at the discretion of the USAA Board of Directors.\n",
       " </p><p></p><ul><li><b>Geographical Differential</b>: Geographic pay differential is additional pay provided to eligible employees working in locations where market pay levels are above the national average.\n",
       " </li></ul><p></p><p><b>Shift premium</b> will be addressed on an individual-basis for applicable roles that are consistently scheduled for non-core hours.</p><p></p><p><b>\n",
       " Benefits:</b></p><p>\n",
       "  At USAA our employees enjoy best-in-class benefits to support their physical, financial, and emotional wellness. These benefits include comprehensive medical, dental and vision plans, 401(k), pension, life insurance, parental benefits, adoption assistance, paid time off program with paid holidays plus 16 paid volunteer hours, and various wellness programs. Additionally, our career path planning and continuing education assists employees with their professional goals.\n",
       " </p><p></p><p>Please click on the link below for more details.</p><p><b>\n",
       " USAA Total Rewards</b></p><p></p><p>\n",
       " The above description reflects the details considered necessary to describe the principal functions of the job and should not be construed as a detailed description of all the work requirements that may be performed in the job.</p><p></p><p>\n",
       " At USAA our employees enjoy one of the best benefits packages in the business, including a flexible business casual or casual dress environment, comprehensive medical, dental and vision plans, along with wellness and wealth building programs. Additionally, our career path planning and continuing education will assist you with your professional goals.</p><p></p><p>\n",
       " USAA also offers a variety of on-site services and conveniences to help you manage your work and personal life, including seven cafeterias, two company stores and three fitness centers.</p><p></p><p><b>\n",
       " Relocation</b> assistance is <b>available</b> for this position.</p></div>,\n",
       " <p></p>]"
      ]
     },
     "execution_count": 82,
     "metadata": {},
     "output_type": "execute_result"
    }
   ],
   "source": [
    "# Print the contents of the tag\n",
    "\n",
    "print(\"Its data type is: \", type(job_description.contents))\n",
    "job_description.contents"
   ]
  },
  {
   "cell_type": "code",
   "execution_count": 83,
   "metadata": {
    "scrolled": false
   },
   "outputs": [
    {
     "name": "stdout",
     "output_type": "stream",
     "text": [
      "Its data type is:  <class 'str'>\n"
     ]
    },
    {
     "data": {
      "text/plain": [
       "\"Purpose of Job\\nWe are currently seeking a talented Data Scientist - 100% Remote Available for the San Antonio Home Office I.\\n\\nUses advanced techniques that integrate traditional and non-traditional datasets and method to enable analytical solutions; Applies predictive analytics, machine learning, simulation, and optimization techniques to generate management insights and enable customer-facing applications; participates in building analytical solutions leveraging internal and external applications to deliver value and create competitive advantage; Translates complex analytical and technical concepts to non-technical employees\\nJob Requirements\\nAbout USAA\\nUSAA knows what it means to serve. We facilitate the financial security of millions of U.S. military members and their families. This singular mission requires a dedication to innovative thinking at every level.\\nIn each of the past five years, we've been a top-40 Fortune 100 Best Companies to Work For®, and we've ranked among Victory Media's Top 10 Military Friendly® Employers 13 years straight. We embrace a robust veteran workforce and encourage veterans and veteran spouses to apply.\\nUSAA Careers - Award Winning Workplace (17 seconds)\\nUSAA Careers – World Class Benefits (31 seconds)\\nTasks:\\nPartners with other analysts across the organization to fully define business problems and research questions; Supports SME's on cross functional matrixed teams to solve highly complex work critical to the organization.\\nIntegrates and extracts relevant information from large amounts of both structured and unstructured data (internal and external) to enable analytical solutions.\\nConducts advanced analytics leveraging predictive modeling, machine learning, simulation, optimization and other techniques to deliver insights or develop analytical solutions to achieve business objectives.\\nSupports Subject Matter Experts (SME's) on efforts to develop scalable, efficient, automated solutions for large scale data analyses, model development, model validation and model implementation.\\nWorks with IT to research architecture for new products, services, and features.\\nDevelops algorithms and supporting code such that research efforts are based on the highest quality data.\\nTranslates complex analytical and technical concepts to non-technical employees to enable understanding and drive informed business decisions.\\nMinimum Education:\\nMaster's degree in Computer Science, Applied Mathematics, Quantitative Economics, Statistics, or related field.\\n6 additional years of related experience beyond the minimum required may be substituted in lieu of a degree.\\nMinimum Experience:\\n4 or more years of related experience and accountability for complex tasks and/or projects required.\\nProficient knowledge of the function/discipline and demonstrated application of knowledge, skills and abilities towards work products required.\\nProficient level of business acumen in the areas of the business operations, industry practices and emerging trends required.\\nPreferred\\nHands-on experience developing products that utilize advanced machine learning techniques like deep learning in areas such as computer vision, Natural Language Processing (NLP), sensor data from the Internet of Things (IoT), and recommender systems; along with transitioning those solutions from the development environment into the production environment for full-time use.\\nFluent in deep learning frameworks and libraries (TensorFlow, Keras, PyTorch, etc).\\nHighly skilled in handling Big Data (Hadoop, Hive, Spark, Kafka, etc).\\nHighly competent at data wrangling and data engineering in SQL and SAS as well as advanced machine learning (ML) techniques using Python; comfortable in cloud computing environments (Azure, GCP, AWS).\\n*Qualifications may warrant placement in a different job level*\\nCompensation:\\n USAA has an effective process for assessing market data and establishing ranges to ensure we remain competitive. You are paid within the salary range based on your experience and market position. The salary range for this position is: $88,200 - $158,900 *(this does not include geographic differential it may be applied based on your work location)\\nEmployees may be eligible for pay incentives based on overall corporate and individual performance or at the discretion of the USAA Board of Directors.\\nGeographical Differential: Geographic pay differential is additional pay provided to eligible employees working in locations where market pay levels are above the national average.\\nShift premium will be addressed on an individual-basis for applicable roles that are consistently scheduled for non-core hours.\\nBenefits:\\n At USAA our employees enjoy best-in-class benefits to support their physical, financial, and emotional wellness. These benefits include comprehensive medical, dental and vision plans, 401(k), pension, life insurance, parental benefits, adoption assistance, paid time off program with paid holidays plus 16 paid volunteer hours, and various wellness programs. Additionally, our career path planning and continuing education assists employees with their professional goals.\\nPlease click on the link below for more details.\\nUSAA Total Rewards\\nThe above description reflects the details considered necessary to describe the principal functions of the job and should not be construed as a detailed description of all the work requirements that may be performed in the job.\\nAt USAA our employees enjoy one of the best benefits packages in the business, including a flexible business casual or casual dress environment, comprehensive medical, dental and vision plans, along with wellness and wealth building programs. Additionally, our career path planning and continuing education will assist you with your professional goals.\\nUSAA also offers a variety of on-site services and conveniences to help you manage your work and personal life, including seven cafeterias, two company stores and three fitness centers.\\nRelocation assistance is available for this position.\""
      ]
     },
     "execution_count": 83,
     "metadata": {},
     "output_type": "execute_result"
    }
   ],
   "source": [
    "# Print the contents of the tag in one string\n",
    "\n",
    "print(\"Its data type is: \", type(job_description.text))\n",
    "job_description.text"
   ]
  },
  {
   "cell_type": "code",
   "execution_count": null,
   "metadata": {},
   "outputs": [],
   "source": []
  }
 ],
 "metadata": {
  "kernelspec": {
   "display_name": "Python 3",
   "language": "python",
   "name": "python3"
  },
  "language_info": {
   "codemirror_mode": {
    "name": "ipython",
    "version": 3
   },
   "file_extension": ".py",
   "mimetype": "text/x-python",
   "name": "python",
   "nbconvert_exporter": "python",
   "pygments_lexer": "ipython3",
   "version": "3.7.6"
  }
 },
 "nbformat": 4,
 "nbformat_minor": 4
}
