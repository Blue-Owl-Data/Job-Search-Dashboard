{
 "cells": [
  {
   "cell_type": "code",
   "execution_count": 4,
   "metadata": {},
   "outputs": [],
   "source": [
    "import numpy as np\n",
    "import pandas as pd\n",
    "\n",
    "import urllib\n",
    "import requests\n",
    "from bs4 import BeautifulSoup"
   ]
  },
  {
   "cell_type": "markdown",
   "metadata": {},
   "source": [
    "### URL Format of Indeed.com\n",
    "1. Search chemist in TX<br>\n",
    "https://www.indeed.com/jobs?q=chemist&l=TX\n",
    "2. Search chemist in San Antonio, TX<br>\n",
    "https://www.indeed.com/jobs?q=chemist&l=San+Antonio%2C+TX\n",
    "3. Search data scientist in San Antonio, TX<br>\n",
    "https://www.indeed.com/jobs?q=data+scientist&l=San+Antonio%2C+TX\n",
    "4. Search data scientist intern in San Anotnio, TX<br>\n",
    "https://www.indeed.com/jobs?q=data+scientist+intern&l=San+Antonio%2C+TX\n",
    "5. Sort the data scientist jobs posting by date<br>\n",
    "https://www.indeed.com/jobs?q=data+scientist&l=San+Antonio%2C+TX&sort=date"
   ]
  },
  {
   "cell_type": "markdown",
   "metadata": {},
   "source": [
    "### URL Format of Monster.com\n",
    "https://www.monster.com/jobs/search/?q=data-scientist&where=San-Antonio__2C-TX"
   ]
  },
  {
   "cell_type": "markdown",
   "metadata": {},
   "source": [
    "**Takeaways**\n",
    "1. q = job title\n",
    "2. l = location"
   ]
  },
  {
   "cell_type": "code",
   "execution_count": 69,
   "metadata": {},
   "outputs": [],
   "source": [
    "# Create the base url\n",
    "base_url = 'https://www.indeed.com/jobs?'"
   ]
  },
  {
   "cell_type": "code",
   "execution_count": 70,
   "metadata": {},
   "outputs": [
    {
     "data": {
      "text/plain": [
       "'q=data+scientist&l=San+Antonio%2C+TX'"
      ]
     },
     "execution_count": 70,
     "metadata": {},
     "output_type": "execute_result"
    }
   ],
   "source": [
    "# Create the relative url for searching the data scientist jobs in San Antonio, TX\n",
    "\n",
    "ds = {'q': 'data scientist', 'l': 'San Antonio, TX'}\n",
    "ds = urllib.parse.urlencode(ds)\n",
    "ds"
   ]
  },
  {
   "cell_type": "code",
   "execution_count": 71,
   "metadata": {},
   "outputs": [
    {
     "data": {
      "text/plain": [
       "'https://www.indeed.com/jobs?q=data+scientist&l=San+Antonio%2C+TX'"
      ]
     },
     "execution_count": 71,
     "metadata": {},
     "output_type": "execute_result"
    }
   ],
   "source": [
    "# Create the full url for searching the data scientist jobs in San Antonio, TX\n",
    "url = base_url + ds\n",
    "\n",
    "# Sanity check\n",
    "url"
   ]
  },
  {
   "cell_type": "code",
   "execution_count": 95,
   "metadata": {},
   "outputs": [
    {
     "data": {
      "text/plain": [
       "'<!DOCTYPE html>\\n<html lang=\"en\" dir=\"ltr\">\\n<head>\\n<meta http-equiv=\"content-type\" content=\"text/html;charset=UTF-8\">\\n<script type=\"text/javascript\" src=\"//d3fw5vlhllyvee.cloudfront.net/s/ee8d2b7/en_US.js\"></script>\\n<link href=\"//d3fw5vlhllyvee.cloudfront.net/s/64feb87/jobsearch_all.css\" rel=\"stylesheet\" type=\"text/css\">\\n<link rel=\"alternate\" type=\"application/rss+xml\" title=\"Data Scientist Jobs, E'"
      ]
     },
     "execution_count": 95,
     "metadata": {},
     "output_type": "execute_result"
    }
   ],
   "source": [
    "# Make the request\n",
    "page = requests.get(url)\n",
    "\n",
    "# Sanity check: to make sure what we are looking at is indeed HTML data\n",
    "page.text[:400]"
   ]
  },
  {
   "cell_type": "code",
   "execution_count": 96,
   "metadata": {
    "scrolled": false
   },
   "outputs": [],
   "source": [
    "# Make a soup variable holding the response content\n",
    "soup = BeautifulSoup(page.content, \"html.parser\")"
   ]
  },
  {
   "cell_type": "code",
   "execution_count": 97,
   "metadata": {},
   "outputs": [
    {
     "data": {
      "text/plain": [
       "'Data Scientist Jobs, Employment in San Antonio, TX | Indeed.com'"
      ]
     },
     "execution_count": 97,
     "metadata": {},
     "output_type": "execute_result"
    }
   ],
   "source": [
    "# Get the page's title\n",
    "soup.title.string"
   ]
  },
  {
   "cell_type": "code",
   "execution_count": 98,
   "metadata": {
    "scrolled": false
   },
   "outputs": [
    {
     "data": {
      "text/plain": [
       "bs4.element.Tag"
      ]
     },
     "execution_count": 98,
     "metadata": {},
     "output_type": "execute_result"
    }
   ],
   "source": [
    "# Find the appropriate <div> that contains all of the job listings in the 1st page\n",
    "soup_jobs = soup.find(id=\"resultsCol\")\n",
    "\n",
    "# Print the data type of soup_jobs\n",
    "type(soup_jobs)"
   ]
  },
  {
   "cell_type": "code",
   "execution_count": 99,
   "metadata": {
    "scrolled": false
   },
   "outputs": [
    {
     "data": {
      "text/plain": [
       "bs4.element.ResultSet"
      ]
     },
     "execution_count": 99,
     "metadata": {},
     "output_type": "execute_result"
    }
   ],
   "source": [
    "# Find all job listing\n",
    "job_cards = soup_jobs.find_all('div', class_='jobsearch-SerpJobCard')\n",
    "\n",
    "# Print the data type of job_cards\n",
    "type(job_cards)"
   ]
  },
  {
   "cell_type": "markdown",
   "metadata": {},
   "source": [
    "**Quick Note**: job_cards is an iterator"
   ]
  },
  {
   "cell_type": "code",
   "execution_count": 100,
   "metadata": {},
   "outputs": [
    {
     "data": {
      "text/plain": [
       "15"
      ]
     },
     "execution_count": 100,
     "metadata": {},
     "output_type": "execute_result"
    }
   ],
   "source": [
    "# How many jobs listed in the 1st page? \n",
    "len(job_cards)"
   ]
  },
  {
   "cell_type": "code",
   "execution_count": 101,
   "metadata": {},
   "outputs": [
    {
     "data": {
      "text/plain": [
       "['Data Scientist - 100% Remote Available\\nnew',\n",
       " 'Data Scientist',\n",
       " 'Data Scientist',\n",
       " 'Data Scientist\\nnew',\n",
       " 'Sports Statistician\\nnew',\n",
       " 'Senior Data Analyst',\n",
       " 'Data Scientist\\nnew',\n",
       " 'Sr Data Scientist (Big Data)\\nnew',\n",
       " 'Data Scientist',\n",
       " 'Decision Science Analyst I\\nnew',\n",
       " 'Data Scientist - Nationwide Opportunities',\n",
       " 'Data Scientist - RWE (Ref: RM)',\n",
       " 'Data Scientist',\n",
       " 'Data Engineer',\n",
       " 'Data Architect/Scientist']"
      ]
     },
     "execution_count": 101,
     "metadata": {},
     "output_type": "execute_result"
    }
   ],
   "source": [
    "# Print the job titles\n",
    "\n",
    "titles = []\n",
    "\n",
    "for job in job_cards:\n",
    "    title = job.find('h2', class_='title')\n",
    "    title = title.text.strip()\n",
    "    titles.append(title)\n",
    "\n",
    "titles"
   ]
  },
  {
   "cell_type": "code",
   "execution_count": 102,
   "metadata": {},
   "outputs": [
    {
     "data": {
      "text/plain": [
       "['USAA',\n",
       " 'Alaka`ina Foundation Family of Companies',\n",
       " 'Sourceability',\n",
       " 'Pinnacle Inc',\n",
       " 'Life Time',\n",
       " 'Insight Global',\n",
       " 'Teledyne Brown Engineering',\n",
       " 'Deloitte',\n",
       " 'iHeartMedia, Inc.',\n",
       " 'USAA',\n",
       " 'Amazon Web Services, Inc.',\n",
       " 'PHASTAR',\n",
       " 'Huntington Ingalls Industries Inc.',\n",
       " 'Verizon',\n",
       " 'Wind River']"
      ]
     },
     "execution_count": 102,
     "metadata": {},
     "output_type": "execute_result"
    }
   ],
   "source": [
    "# Print companies that post the jobs\n",
    "\n",
    "companies = []\n",
    "\n",
    "for job in job_cards:\n",
    "    company = job.find('span', class_='company')\n",
    "    company = company.text.strip()\n",
    "    companies.append(company)\n",
    "\n",
    "companies"
   ]
  },
  {
   "cell_type": "code",
   "execution_count": 106,
   "metadata": {
    "scrolled": true
   },
   "outputs": [
    {
     "data": {
      "text/plain": [
       "['1 day ago',\n",
       " '30+ days ago',\n",
       " '30+ days ago',\n",
       " 'Today',\n",
       " 'Today',\n",
       " '30+ days ago',\n",
       " '3 days ago',\n",
       " '3 days ago',\n",
       " '30+ days ago',\n",
       " '1 day ago',\n",
       " '30+ days ago',\n",
       " '27 days ago',\n",
       " '30+ days ago',\n",
       " '28 days ago',\n",
       " '30+ days ago']"
      ]
     },
     "execution_count": 106,
     "metadata": {},
     "output_type": "execute_result"
    }
   ],
   "source": [
    "# Print out the relative links for each job post\n",
    "\n",
    "dates = []\n",
    "\n",
    "for job in job_cards:\n",
    "    date = job.find('span', class_='date')\n",
    "    date = date.text.strip()\n",
    "    dates.append(date)\n",
    "\n",
    "dates"
   ]
  }
 ],
 "metadata": {
  "kernelspec": {
   "display_name": "Python 3",
   "language": "python",
   "name": "python3"
  },
  "language_info": {
   "codemirror_mode": {
    "name": "ipython",
    "version": 3
   },
   "file_extension": ".py",
   "mimetype": "text/x-python",
   "name": "python",
   "nbconvert_exporter": "python",
   "pygments_lexer": "ipython3",
   "version": "3.7.6"
  }
 },
 "nbformat": 4,
 "nbformat_minor": 4
}
